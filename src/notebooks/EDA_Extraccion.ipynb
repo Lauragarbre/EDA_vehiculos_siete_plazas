{
 "cells": [
  {
   "cell_type": "markdown",
   "metadata": {},
   "source": [
    "# Notebook de extracción de datos de diversas páginas web"
   ]
  },
  {
   "cell_type": "code",
   "execution_count": null,
   "metadata": {},
   "outputs": [],
   "source": [
    "# Importo las librerias\n",
    "import pandas as pd\n",
    "import requests\n",
    "from bs4 import BeautifulSoup as bs"
   ]
  },
  {
   "cell_type": "code",
   "execution_count": 2,
   "metadata": {},
   "outputs": [],
   "source": [
    "# Primera url\n",
    "url_1=\"https://www.carwow.es/suvs/7-plazas?utm_source=google&utm_medium=cpc&utm_account=1067952725&utm_campaign=16616870776&utm_group=140354601048&utm_keyword=&device=c&campaignid=16616870776&adgroupid=140354601048&gad_source=1&gbraid=0AAAAADkNbBUPhyVGM4sZxbLeGiQKHZ1nw&gclid=CjwKCAjwq7fABhB2EiwAwk-YbDwojWaxN2WG0_cnvz9JYpB20AtA5WJy8TP3udES_xm-XQdCLAp3QRoCxhMQAvD_BwE\""
   ]
  },
  {
   "cell_type": "code",
   "execution_count": 3,
   "metadata": {},
   "outputs": [
    {
     "name": "stdout",
     "output_type": "stream",
     "text": [
      "200 OK\n"
     ]
    }
   ],
   "source": [
    "# Genero conexion, compruebo el estado, y creo la sopa\n",
    "conexion = requests.get(url_1)\n",
    "print(conexion.status_code, conexion.reason)\n",
    "sopa = bs(conexion.text, \"lxml\")"
   ]
  },
  {
   "cell_type": "code",
   "execution_count": 4,
   "metadata": {},
   "outputs": [],
   "source": [
    "# Genero el nombre de las listas que van a ir al DF, en función de los datos que me interesan a priori \n",
    "# con ayuda de la info de las webs\n",
    "lista_coches_DF = []\n",
    "lista_valoraciones_DF = []\n",
    "lista_autonomía_DF = []\n",
    "lista_a_favor_DF = []\n",
    "lista_en_contra_DF =[]\n",
    "lista_opinion_DF = []\n",
    "lista_precios_DF = []"
   ]
  },
  {
   "cell_type": "code",
   "execution_count": 5,
   "metadata": {},
   "outputs": [
    {
     "name": "stdout",
     "output_type": "stream",
     "text": [
      "['1. Mazda CX-80', '2. Renault Espace', '3. Hyundai Santa Fe', '4. Skoda Kodiaq', '5. Peugeot 5008', '6. Volkswagen Tayron', '7. KIA Sorento', '8. Nissan X-Trail', '9. Mercedes-Benz GLB', '10. Toyota Highlander']\n"
     ]
    }
   ],
   "source": [
    "# Obtención de la primera lista\n",
    "coches = sopa.find_all( 'h3', class_='deal-review-highlight-automated-ctas__title')\n",
    "lista_coches = []\n",
    "for indice, coche in enumerate(coches):\n",
    "    lista_coches.append(coche.text.strip())\n",
    "    indice += 1\n",
    "print(lista_coches)"
   ]
  },
  {
   "cell_type": "code",
   "execution_count": 6,
   "metadata": {},
   "outputs": [
    {
     "data": {
      "text/plain": [
       "['1. Mazda CX-80',\n",
       " '2. Renault Espace',\n",
       " '3. Hyundai Santa Fe',\n",
       " '4. Skoda Kodiaq',\n",
       " '5. Peugeot 5008',\n",
       " '6. Volkswagen Tayron',\n",
       " '7. KIA Sorento',\n",
       " '8. Nissan X-Trail',\n",
       " '9. Mercedes-Benz GLB',\n",
       " '10. Toyota Highlander']"
      ]
     },
     "execution_count": 6,
     "metadata": {},
     "output_type": "execute_result"
    }
   ],
   "source": [
    "# Agrego la lista obtenida a la del DF. Lo hago así para no tener problemas y equivocaciones. \n",
    "# Se podría añadir directamente, pero en el futuro he tenido problemas en la obtención de datos incompletos y de esta manera agrego los datos ya completos\n",
    "lista_coches_DF.extend(lista_coches)\n",
    "lista_coches_DF"
   ]
  },
  {
   "cell_type": "code",
   "execution_count": 7,
   "metadata": {},
   "outputs": [
    {
     "name": "stdout",
     "output_type": "stream",
     "text": [
      "['Autonomía homologada hasta 60 km', 'Autonomía homologada hasta 54 km', 'Autonomía homologada hasta 123 km', 'Autonomía homologada hasta 57 km']\n"
     ]
    }
   ],
   "source": [
    "# Segundos datos\n",
    "autonomía_eléctrico = sopa.find_all('div', class_='deal-review-highlight-automated-ctas__stat') \n",
    "info_adicional =[]\n",
    "for indice, autonomia in enumerate(autonomía_eléctrico):\n",
    "    info_adicional.append(autonomia.text.strip())\n",
    "    indice += 1\n",
    "print(info_adicional) # Unos tienen este dato y otros no, asi que ahora agregaré manualmente los datos nulos a la lista\n",
    "    "
   ]
  },
  {
   "cell_type": "code",
   "execution_count": 8,
   "metadata": {},
   "outputs": [],
   "source": [
    "# Como hay vehiculos que no tienen algún dato, voy a crear una función para poder añadir nulos o missing\n",
    "#  en las posiciones que correspondan en cada lista y luego ya poder añadir las listas completas a las que van a forrmar el DF\n",
    "def introducir_nulos(lista, posiciones):\n",
    "    '''\n",
    "    lista hace referencia a la lista a la que queremos añadir valores nulos\n",
    "    posiciones lo introducimos como una tupla, con 1 ó varios valores según la necesidad\n",
    "    '''\n",
    "    for indice, posicion in enumerate(posiciones):\n",
    "        lista.insert(posicion, None)\n",
    "    print(lista)\n"
   ]
  },
  {
   "cell_type": "code",
   "execution_count": 9,
   "metadata": {},
   "outputs": [],
   "source": [
    "# Función para generar listas completas de Nulos\n",
    "def crear_lista_none(n):\n",
    "  \"\"\"\n",
    "  Crea una lista de n elementos, todos con el valor None.\n",
    "  \"\"\"\n",
    "  return [None] * n"
   ]
  },
  {
   "cell_type": "code",
   "execution_count": 10,
   "metadata": {},
   "outputs": [
    {
     "name": "stdout",
     "output_type": "stream",
     "text": [
      "['Autonomía homologada hasta 60 km', None, 'Autonomía homologada hasta 54 km', None, None, 'Autonomía homologada hasta 123 km', 'Autonomía homologada hasta 57 km', None, None, None]\n"
     ]
    }
   ],
   "source": [
    "# Añadir nulos en posiciones: 2, 4, 5, 8, 9, 10, ojo estás son las reales, en Python empiezan en 0\n",
    "introducir_nulos(info_adicional, ( 1, 3, 4, 7, 8, 9))"
   ]
  },
  {
   "cell_type": "code",
   "execution_count": 11,
   "metadata": {},
   "outputs": [
    {
     "name": "stdout",
     "output_type": "stream",
     "text": [
      "['Excelente eficiencia tanto en el PHEV como en el diésel', 'Fácil acceso y amplio espacio en la segunda y tercera fila de asientos', 'Alta calidad de construcción y acabados interiores', 'Excelente eficiencia tanto en el PHEV como en el diésel', 'Fácil acceso y amplio espacio en la segunda y tercera fila de asientos', 'Alta calidad de construcción y acabados interiores', 'Consumo', 'Equipamiento disponible', 'Opción de siete plazas sin coste', 'Consumo', 'Equipamiento disponible', 'Opción de siete plazas sin coste', 'Equipamiento y tecnología propios de coches de más alta gama', 'Motor híbrido potente y tracción total', 'Es un coche cómodo de conducir en toda circunstancia', 'Equipamiento y tecnología propios de coches de más alta gama', 'Motor híbrido potente y tracción total', 'Es un coche cómodo de conducir en toda circunstancia', 'Practicidad y espacio disponible', 'Oferta mecánica amplia', 'Confort de marcha', 'Practicidad y espacio disponible', 'Oferta mecánica amplia', 'Confort de marcha', 'Amplio interior con 7 plazas de serie', 'Comodidad y refinamiento', 'Motorizaciones híbridas y eléctricas, con buena autonomía', 'Amplio interior con 7 plazas de serie', 'Comodidad y refinamiento', 'Motorizaciones híbridas y eléctricas, con buena autonomía', 'Maletero muy grande', 'Aislamiento', 'Integración de ChatGPT', 'Maletero muy grande', 'Aislamiento', 'Integración de ChatGPT', 'Variedad de motores', 'Amplio y disponible con siete plazas', 'Precio', 'Variedad de motores', 'Amplio y disponible con siete plazas', 'Precio', 'Presentación vistosa', 'Confort general', 'Uno de los pocos de su tamaño con siete plazas', 'Presentación vistosa', 'Confort general', 'Uno de los pocos de su tamaño con siete plazas', 'Versatilidad', 'Diseño', 'Variedad', 'Versatilidad', 'Diseño', 'Variedad', 'Versatilidad', 'Facilidad de conducción', 'Etiqueta Eco en toda la gama', 'Versatilidad', 'Facilidad de conducción', 'Etiqueta Eco en toda la gama']\n"
     ]
    }
   ],
   "source": [
    "# Tercera columna de informacion\n",
    "cosas_a_favor= sopa.find_all('li', class_='list-icon__item list-icon__item--positive') # da valores repetidos porque están dos veces en el html\n",
    "lista_a_favor = []\n",
    "for indice, a_favor in enumerate(cosas_a_favor):\n",
    "    lista_a_favor.append(a_favor.text.strip())\n",
    "    indice +=1\n",
    "print(lista_a_favor)"
   ]
  },
  {
   "cell_type": "code",
   "execution_count": 12,
   "metadata": {},
   "outputs": [],
   "source": [
    "# Genero una función para poder agrupar los valores ya que originalmente en la página vienen de 3 en tres\n",
    "def agrupar_de_tres(lista): \n",
    "  '''Agrupa los elementos de una lista en sublistas de tamaño 3.\n",
    "\n",
    "  Args:\n",
    "    lista: La lista original.\n",
    "\n",
    "  Returns:\n",
    "    Una nueva lista que contiene sublistas de tamaño 3.\n",
    "  '''\n",
    "  return [lista[i:i+3] for i in range(0, len(lista), 3)]"
   ]
  },
  {
   "cell_type": "code",
   "execution_count": 13,
   "metadata": {},
   "outputs": [
    {
     "data": {
      "text/plain": [
       "[['Excelente eficiencia tanto en el PHEV como en el diésel',\n",
       "  'Fácil acceso y amplio espacio en la segunda y tercera fila de asientos',\n",
       "  'Alta calidad de construcción y acabados interiores'],\n",
       " ['Excelente eficiencia tanto en el PHEV como en el diésel',\n",
       "  'Fácil acceso y amplio espacio en la segunda y tercera fila de asientos',\n",
       "  'Alta calidad de construcción y acabados interiores'],\n",
       " ['Consumo', 'Equipamiento disponible', 'Opción de siete plazas sin coste'],\n",
       " ['Consumo', 'Equipamiento disponible', 'Opción de siete plazas sin coste'],\n",
       " ['Equipamiento y tecnología propios de coches de más alta gama',\n",
       "  'Motor híbrido potente y tracción total',\n",
       "  'Es un coche cómodo de conducir en toda circunstancia'],\n",
       " ['Equipamiento y tecnología propios de coches de más alta gama',\n",
       "  'Motor híbrido potente y tracción total',\n",
       "  'Es un coche cómodo de conducir en toda circunstancia'],\n",
       " ['Practicidad y espacio disponible',\n",
       "  'Oferta mecánica amplia',\n",
       "  'Confort de marcha'],\n",
       " ['Practicidad y espacio disponible',\n",
       "  'Oferta mecánica amplia',\n",
       "  'Confort de marcha'],\n",
       " ['Amplio interior con 7 plazas de serie',\n",
       "  'Comodidad y refinamiento',\n",
       "  'Motorizaciones híbridas y eléctricas, con buena autonomía'],\n",
       " ['Amplio interior con 7 plazas de serie',\n",
       "  'Comodidad y refinamiento',\n",
       "  'Motorizaciones híbridas y eléctricas, con buena autonomía'],\n",
       " ['Maletero muy grande', 'Aislamiento', 'Integración de ChatGPT'],\n",
       " ['Maletero muy grande', 'Aislamiento', 'Integración de ChatGPT'],\n",
       " ['Variedad de motores', 'Amplio y disponible con siete plazas', 'Precio'],\n",
       " ['Variedad de motores', 'Amplio y disponible con siete plazas', 'Precio'],\n",
       " ['Presentación vistosa',\n",
       "  'Confort general',\n",
       "  'Uno de los pocos de su tamaño con siete plazas'],\n",
       " ['Presentación vistosa',\n",
       "  'Confort general',\n",
       "  'Uno de los pocos de su tamaño con siete plazas'],\n",
       " ['Versatilidad', 'Diseño', 'Variedad'],\n",
       " ['Versatilidad', 'Diseño', 'Variedad'],\n",
       " ['Versatilidad', 'Facilidad de conducción', 'Etiqueta Eco en toda la gama'],\n",
       " ['Versatilidad', 'Facilidad de conducción', 'Etiqueta Eco en toda la gama']]"
      ]
     },
     "execution_count": 13,
     "metadata": {},
     "output_type": "execute_result"
    }
   ],
   "source": [
    "lista_agrupada_a_favor = agrupar_de_tres(lista_a_favor)\n",
    "lista_agrupada_a_favor"
   ]
  },
  {
   "cell_type": "code",
   "execution_count": 14,
   "metadata": {},
   "outputs": [
    {
     "data": {
      "text/plain": [
       "[['Excelente eficiencia tanto en el PHEV como en el diésel',\n",
       "  'Fácil acceso y amplio espacio en la segunda y tercera fila de asientos',\n",
       "  'Alta calidad de construcción y acabados interiores'],\n",
       " ['Consumo', 'Equipamiento disponible', 'Opción de siete plazas sin coste'],\n",
       " ['Equipamiento y tecnología propios de coches de más alta gama',\n",
       "  'Motor híbrido potente y tracción total',\n",
       "  'Es un coche cómodo de conducir en toda circunstancia'],\n",
       " ['Practicidad y espacio disponible',\n",
       "  'Oferta mecánica amplia',\n",
       "  'Confort de marcha'],\n",
       " ['Amplio interior con 7 plazas de serie',\n",
       "  'Comodidad y refinamiento',\n",
       "  'Motorizaciones híbridas y eléctricas, con buena autonomía'],\n",
       " ['Maletero muy grande', 'Aislamiento', 'Integración de ChatGPT'],\n",
       " ['Variedad de motores', 'Amplio y disponible con siete plazas', 'Precio'],\n",
       " ['Presentación vistosa',\n",
       "  'Confort general',\n",
       "  'Uno de los pocos de su tamaño con siete plazas'],\n",
       " ['Versatilidad', 'Diseño', 'Variedad'],\n",
       " ['Versatilidad', 'Facilidad de conducción', 'Etiqueta Eco en toda la gama']]"
      ]
     },
     "execution_count": 14,
     "metadata": {},
     "output_type": "execute_result"
    }
   ],
   "source": [
    "# Para obtener sólo una copia de cada\n",
    "lista_a_favor_corregida = [lista_agrupada_a_favor[i] for i in range(1, len(lista_agrupada_a_favor), 2)]\n",
    "lista_a_favor_corregida"
   ]
  },
  {
   "cell_type": "code",
   "execution_count": 15,
   "metadata": {},
   "outputs": [
    {
     "data": {
      "text/plain": [
       "[['Excelente eficiencia tanto en el PHEV como en el diésel',\n",
       "  'Fácil acceso y amplio espacio en la segunda y tercera fila de asientos',\n",
       "  'Alta calidad de construcción y acabados interiores'],\n",
       " ['Consumo', 'Equipamiento disponible', 'Opción de siete plazas sin coste'],\n",
       " ['Equipamiento y tecnología propios de coches de más alta gama',\n",
       "  'Motor híbrido potente y tracción total',\n",
       "  'Es un coche cómodo de conducir en toda circunstancia'],\n",
       " ['Practicidad y espacio disponible',\n",
       "  'Oferta mecánica amplia',\n",
       "  'Confort de marcha'],\n",
       " ['Amplio interior con 7 plazas de serie',\n",
       "  'Comodidad y refinamiento',\n",
       "  'Motorizaciones híbridas y eléctricas, con buena autonomía'],\n",
       " ['Maletero muy grande', 'Aislamiento', 'Integración de ChatGPT'],\n",
       " ['Variedad de motores', 'Amplio y disponible con siete plazas', 'Precio'],\n",
       " ['Presentación vistosa',\n",
       "  'Confort general',\n",
       "  'Uno de los pocos de su tamaño con siete plazas'],\n",
       " ['Versatilidad', 'Diseño', 'Variedad'],\n",
       " ['Versatilidad', 'Facilidad de conducción', 'Etiqueta Eco en toda la gama']]"
      ]
     },
     "execution_count": 15,
     "metadata": {},
     "output_type": "execute_result"
    }
   ],
   "source": [
    "# La añado a la lista del DF\n",
    "lista_a_favor_DF.extend(lista_a_favor_corregida)\n",
    "lista_a_favor_DF"
   ]
  },
  {
   "cell_type": "code",
   "execution_count": 16,
   "metadata": {},
   "outputs": [
    {
     "name": "stdout",
     "output_type": "stream",
     "text": [
      "['La suspensión puede sentirse algo seca en ciertas superficies', 'Barqueo de la carrocería acusado en conducción alegre', 'Sistema multimedia algo limitado frente a algunos rivales', 'La suspensión puede sentirse algo seca en ciertas superficies', 'Barqueo de la carrocería acusado en conducción alegre', 'Sistema multimedia algo limitado frente a algunos rivales', 'Funcionamiento poco refinado en ocasiones', 'Gama reducida a una sola versión', 'Tacto del freno', 'Funcionamiento poco refinado en ocasiones', 'Gama reducida a una sola versión', 'Tacto del freno', 'Precio elevado', 'Escasa autonomía eléctrica de la versión híbrida enchufable', 'Alertas de los asistentes de conducción intrusivas y engorrosas de desconectar', 'Precio elevado', 'Escasa autonomía eléctrica de la versión híbrida enchufable', 'Alertas de los asistentes de conducción intrusivas y engorrosas de desconectar', 'Ergonomía de algunos mandos', 'Plazas de la tercera fila solo para niños', 'Motores diésel sin hibridación', 'Ergonomía de algunos mandos', 'Plazas de la tercera fila solo para niños', 'Motores diésel sin hibridación', 'La calidad del sistema multimedia podría mejorar', 'El i-Cockpit seguirá sin convencer a algunos usuarios', 'Prestaciones', 'La calidad del sistema multimedia podría mejorar', 'El i-Cockpit seguirá sin convencer a algunos usuarios', 'Prestaciones', 'PHEV solo de cinco plazas', 'La tercera fila de asientos puede quedar justa en espacio', 'Detalles de acabado', 'PHEV solo de cinco plazas', 'La tercera fila de asientos puede quedar justa en espacio', 'Detalles de acabado', 'Consumo', 'Mandos del climatizador', 'Prestaciones sólo correctas', 'Consumo', 'Mandos del climatizador', 'Prestaciones sólo correctas', 'Rumorosidad en ciertas condiciones', 'Presencia de algunos plásticos duros', 'Manejo del selector de marchas', 'Rumorosidad en ciertas condiciones', 'Presencia de algunos plásticos duros', 'Manejo del selector de marchas', 'Precio', 'Equipamiento en modelos básicos', 'Sin versiones CERO', 'Precio', 'Equipamiento en modelos básicos', 'Sin versiones CERO', 'Poca variedad mecánica', 'Tamaño', 'Manejo multimedia poco intuitivo', 'Poca variedad mecánica', 'Tamaño', 'Manejo multimedia poco intuitivo']\n"
     ]
    }
   ],
   "source": [
    "# Cuarta columna, pasa lo mismo que en el caso anterior\n",
    "cosas_en_contra= sopa.find_all('li', class_='list-icon__item list-icon__item--negative') #valores repetidos de 3 en 3 \n",
    "lista_en_contra = []\n",
    "for indice, en_contra in enumerate(cosas_en_contra):\n",
    "    lista_en_contra.append(en_contra.text.strip())\n",
    "    indice += 1\n",
    "print(lista_en_contra)"
   ]
  },
  {
   "cell_type": "code",
   "execution_count": 17,
   "metadata": {},
   "outputs": [
    {
     "data": {
      "text/plain": [
       "[['La suspensión puede sentirse algo seca en ciertas superficies',\n",
       "  'Barqueo de la carrocería acusado en conducción alegre',\n",
       "  'Sistema multimedia algo limitado frente a algunos rivales'],\n",
       " ['La suspensión puede sentirse algo seca en ciertas superficies',\n",
       "  'Barqueo de la carrocería acusado en conducción alegre',\n",
       "  'Sistema multimedia algo limitado frente a algunos rivales'],\n",
       " ['Funcionamiento poco refinado en ocasiones',\n",
       "  'Gama reducida a una sola versión',\n",
       "  'Tacto del freno'],\n",
       " ['Funcionamiento poco refinado en ocasiones',\n",
       "  'Gama reducida a una sola versión',\n",
       "  'Tacto del freno'],\n",
       " ['Precio elevado',\n",
       "  'Escasa autonomía eléctrica de la versión híbrida enchufable',\n",
       "  'Alertas de los asistentes de conducción intrusivas y engorrosas de desconectar'],\n",
       " ['Precio elevado',\n",
       "  'Escasa autonomía eléctrica de la versión híbrida enchufable',\n",
       "  'Alertas de los asistentes de conducción intrusivas y engorrosas de desconectar'],\n",
       " ['Ergonomía de algunos mandos',\n",
       "  'Plazas de la tercera fila solo para niños',\n",
       "  'Motores diésel sin hibridación'],\n",
       " ['Ergonomía de algunos mandos',\n",
       "  'Plazas de la tercera fila solo para niños',\n",
       "  'Motores diésel sin hibridación'],\n",
       " ['La calidad del sistema multimedia podría mejorar',\n",
       "  'El i-Cockpit seguirá sin convencer a algunos usuarios',\n",
       "  'Prestaciones'],\n",
       " ['La calidad del sistema multimedia podría mejorar',\n",
       "  'El i-Cockpit seguirá sin convencer a algunos usuarios',\n",
       "  'Prestaciones'],\n",
       " ['PHEV solo de cinco plazas',\n",
       "  'La tercera fila de asientos puede quedar justa en espacio',\n",
       "  'Detalles de acabado'],\n",
       " ['PHEV solo de cinco plazas',\n",
       "  'La tercera fila de asientos puede quedar justa en espacio',\n",
       "  'Detalles de acabado'],\n",
       " ['Consumo', 'Mandos del climatizador', 'Prestaciones sólo correctas'],\n",
       " ['Consumo', 'Mandos del climatizador', 'Prestaciones sólo correctas'],\n",
       " ['Rumorosidad en ciertas condiciones',\n",
       "  'Presencia de algunos plásticos duros',\n",
       "  'Manejo del selector de marchas'],\n",
       " ['Rumorosidad en ciertas condiciones',\n",
       "  'Presencia de algunos plásticos duros',\n",
       "  'Manejo del selector de marchas'],\n",
       " ['Precio', 'Equipamiento en modelos básicos', 'Sin versiones CERO'],\n",
       " ['Precio', 'Equipamiento en modelos básicos', 'Sin versiones CERO'],\n",
       " ['Poca variedad mecánica', 'Tamaño', 'Manejo multimedia poco intuitivo'],\n",
       " ['Poca variedad mecánica', 'Tamaño', 'Manejo multimedia poco intuitivo']]"
      ]
     },
     "execution_count": 17,
     "metadata": {},
     "output_type": "execute_result"
    }
   ],
   "source": [
    "# Agrupamos\n",
    "lista_agrupada_en_contra = agrupar_de_tres(lista_en_contra)\n",
    "lista_agrupada_en_contra"
   ]
  },
  {
   "cell_type": "code",
   "execution_count": 18,
   "metadata": {},
   "outputs": [
    {
     "name": "stdout",
     "output_type": "stream",
     "text": [
      "[['La suspensión puede sentirse algo seca en ciertas superficies', 'Barqueo de la carrocería acusado en conducción alegre', 'Sistema multimedia algo limitado frente a algunos rivales'], ['Funcionamiento poco refinado en ocasiones', 'Gama reducida a una sola versión', 'Tacto del freno'], ['Precio elevado', 'Escasa autonomía eléctrica de la versión híbrida enchufable', 'Alertas de los asistentes de conducción intrusivas y engorrosas de desconectar'], ['Ergonomía de algunos mandos', 'Plazas de la tercera fila solo para niños', 'Motores diésel sin hibridación'], ['La calidad del sistema multimedia podría mejorar', 'El i-Cockpit seguirá sin convencer a algunos usuarios', 'Prestaciones'], ['PHEV solo de cinco plazas', 'La tercera fila de asientos puede quedar justa en espacio', 'Detalles de acabado'], ['Consumo', 'Mandos del climatizador', 'Prestaciones sólo correctas'], ['Rumorosidad en ciertas condiciones', 'Presencia de algunos plásticos duros', 'Manejo del selector de marchas'], ['Precio', 'Equipamiento en modelos básicos', 'Sin versiones CERO'], ['Poca variedad mecánica', 'Tamaño', 'Manejo multimedia poco intuitivo']]\n"
     ]
    }
   ],
   "source": [
    "# Para obtener sólo una copia\n",
    "lista_en_contra_corregida = [lista_agrupada_en_contra[i] for i in range(1, len(lista_agrupada_en_contra), 2)]\n",
    "print(lista_en_contra_corregida) "
   ]
  },
  {
   "cell_type": "code",
   "execution_count": 19,
   "metadata": {},
   "outputs": [
    {
     "data": {
      "text/plain": [
       "[['La suspensión puede sentirse algo seca en ciertas superficies',\n",
       "  'Barqueo de la carrocería acusado en conducción alegre',\n",
       "  'Sistema multimedia algo limitado frente a algunos rivales'],\n",
       " ['Funcionamiento poco refinado en ocasiones',\n",
       "  'Gama reducida a una sola versión',\n",
       "  'Tacto del freno'],\n",
       " ['Precio elevado',\n",
       "  'Escasa autonomía eléctrica de la versión híbrida enchufable',\n",
       "  'Alertas de los asistentes de conducción intrusivas y engorrosas de desconectar'],\n",
       " ['Ergonomía de algunos mandos',\n",
       "  'Plazas de la tercera fila solo para niños',\n",
       "  'Motores diésel sin hibridación'],\n",
       " ['La calidad del sistema multimedia podría mejorar',\n",
       "  'El i-Cockpit seguirá sin convencer a algunos usuarios',\n",
       "  'Prestaciones'],\n",
       " ['PHEV solo de cinco plazas',\n",
       "  'La tercera fila de asientos puede quedar justa en espacio',\n",
       "  'Detalles de acabado'],\n",
       " ['Consumo', 'Mandos del climatizador', 'Prestaciones sólo correctas'],\n",
       " ['Rumorosidad en ciertas condiciones',\n",
       "  'Presencia de algunos plásticos duros',\n",
       "  'Manejo del selector de marchas'],\n",
       " ['Precio', 'Equipamiento en modelos básicos', 'Sin versiones CERO'],\n",
       " ['Poca variedad mecánica', 'Tamaño', 'Manejo multimedia poco intuitivo']]"
      ]
     },
     "execution_count": 19,
     "metadata": {},
     "output_type": "execute_result"
    }
   ],
   "source": [
    "# Añadimos a la del DF\n",
    "lista_en_contra_DF.extend(lista_en_contra_corregida)\n",
    "lista_en_contra_DF"
   ]
  },
  {
   "cell_type": "code",
   "execution_count": 20,
   "metadata": {},
   "outputs": [
    {
     "name": "stdout",
     "output_type": "stream",
     "text": [
      "['El CX-80 usa la misma plataforma y motores que el CX-60 pero es 25 cm más largo, por lo que también destaca en tacto de conducción, la fuerza y elasticidad de su motor diésel de 6 cilindros con microhibridación y un interior con acabados de lujo. Todo ello por un precio muy razonable.', 'El nuevo Renault Espace es ahora un SUV con unas plazas traseras de la tercera fila con un espacio similar al de sus rivales, con una única motorización híbrida potente y bastante eficiente. Cuenta con lo último en tecnología multimedia, con una gran pantalla central y un software desarrollado por Google que funciona con fluidez, y tiene un chasis sofisticado con un buen comportamiento y confort.', 'El Santa Fe dispone de motorizaciones híbrida e híbrida enchufable y ahora es más lujoso y refinado. Tiene un habitáculo amplio con una buena calidad de acabados, su equipamiento es abundante y es muy confortable. Digamos que lo hace todo bien pero han subido el precio también bastante.', 'El Skoda Kodiaq es mucho más barato que el Q7, sin embargo ofrece algo similar en lo que se refiere al uso familiar. Tiene un gran espacio tanto para los pasajeros como para el equipaje, motores con una buena relación entre consumo y prestaciones y tiene una construcción sólida, ideal para aguantar el \"trote\" durante muchos años.', 'El Peugeot 5008 es un coche muy redondo y coherente. Es espacioso y versátil, con un banqueta desplazable y un buen acceso a las plazas de la tercera fila y un enorme maletero, cuenta con un confort de marcha elevado, un bajo consumo y tiene un sistema multimedia muy moderno.', 'El Volkswagen Tayron es un SUV espacioso y tecnológico, que reemplaza al Tiguan Allspace pero con un diseño más distintivo, con motorizaciones híbridas y gasolina.', 'El KIA Sorento es un SUV de gran tamaño que pretende competir en el segmento de lujo. No es precisamente un coche económico, sin embargo, es uno de los mejores en cuanto a relación calidad-precio por todo lo que ofrece. Tiene un gran confort y habitabilidad, además de un equipamiento muy completo y avanzado tecnológicamente. Sus prestaciones son correctas y dinámicamente sorprende para su tamaño.', 'El X-Trail ha subido sensiblemente de nivel en cuanto a lujo y refinamiento con respecto al anterior modelo, además de tener mejores cualidades off-road con sistema tracción total realmente eficaz. Destaca la versión con el sistema híbrido e-POWER por sus prestaciones y ausencia de vibraciones. Tiene un compromiso entre confort y estabilidad en carretera muy interesante.', 'Este SUV de carrocería compacta por ofrecer capacidad para 7 pasajeros y por contar con soluciones prácticas mas propias de un monovolumen. Es un modelo que destaca por su tecnología, conectividad y asistentes a la conducción. También es un coche lujoso, cómodo y espacioso.', 'El Highlander tiene un sistema de propulsión híbrido y tiene un precio elevado, pero ya no es tan caro en comparación con sus rivales. Su consumo es realmente ajustado en toda circunstancia, su maletero es enorme y tiene una tercera fila en la que pueden viajar adultos, además de tener una parte trasera con una gran modularidad. Eso sí, está ya algo desfasado en algunos aspectos.']\n"
     ]
    }
   ],
   "source": [
    "# Quinta columna\n",
    "otras_opiniciones= sopa.find_all(class_='deal-review-highlight-automated-ctas__body--no-read-more')\n",
    "lista_otras_opiniones = []\n",
    "for índice, otra_opinion in enumerate(otras_opiniciones):\n",
    "    lista_otras_opiniones.append(otra_opinion.text.strip())\n",
    "    indice += 1\n",
    "print(lista_otras_opiniones)"
   ]
  },
  {
   "cell_type": "code",
   "execution_count": 21,
   "metadata": {},
   "outputs": [
    {
     "data": {
      "text/plain": [
       "['El CX-80 usa la misma plataforma y motores que el CX-60 pero es 25 cm más largo, por lo que también destaca en tacto de conducción, la fuerza y elasticidad de su motor diésel de 6 cilindros con microhibridación y un interior con acabados de lujo. Todo ello por un precio muy razonable.',\n",
       " 'El nuevo Renault Espace es ahora un SUV con unas plazas traseras de la tercera fila con un espacio similar al de sus rivales, con una única motorización híbrida potente y bastante eficiente. Cuenta con lo último en tecnología multimedia, con una gran pantalla central y un software desarrollado por Google que funciona con fluidez, y tiene un chasis sofisticado con un buen comportamiento y confort.',\n",
       " 'El Santa Fe dispone de motorizaciones híbrida e híbrida enchufable y ahora es más lujoso y refinado. Tiene un habitáculo amplio con una buena calidad de acabados, su equipamiento es abundante y es muy confortable. Digamos que lo hace todo bien pero han subido el precio también bastante.',\n",
       " 'El Skoda Kodiaq es mucho más barato que el Q7, sin embargo ofrece algo similar en lo que se refiere al uso familiar. Tiene un gran espacio tanto para los pasajeros como para el equipaje, motores con una buena relación entre consumo y prestaciones y tiene una construcción sólida, ideal para aguantar el \"trote\" durante muchos años.',\n",
       " 'El Peugeot 5008 es un coche muy redondo y coherente. Es espacioso y versátil, con un banqueta desplazable y un buen acceso a las plazas de la tercera fila y un enorme maletero, cuenta con un confort de marcha elevado, un bajo consumo y tiene un sistema multimedia muy moderno.',\n",
       " 'El Volkswagen Tayron es un SUV espacioso y tecnológico, que reemplaza al Tiguan Allspace pero con un diseño más distintivo, con motorizaciones híbridas y gasolina.',\n",
       " 'El KIA Sorento es un SUV de gran tamaño que pretende competir en el segmento de lujo. No es precisamente un coche económico, sin embargo, es uno de los mejores en cuanto a relación calidad-precio por todo lo que ofrece. Tiene un gran confort y habitabilidad, además de un equipamiento muy completo y avanzado tecnológicamente. Sus prestaciones son correctas y dinámicamente sorprende para su tamaño.',\n",
       " 'El X-Trail ha subido sensiblemente de nivel en cuanto a lujo y refinamiento con respecto al anterior modelo, además de tener mejores cualidades off-road con sistema tracción total realmente eficaz. Destaca la versión con el sistema híbrido e-POWER por sus prestaciones y ausencia de vibraciones. Tiene un compromiso entre confort y estabilidad en carretera muy interesante.',\n",
       " 'Este SUV de carrocería compacta por ofrecer capacidad para 7 pasajeros y por contar con soluciones prácticas mas propias de un monovolumen. Es un modelo que destaca por su tecnología, conectividad y asistentes a la conducción. También es un coche lujoso, cómodo y espacioso.',\n",
       " 'El Highlander tiene un sistema de propulsión híbrido y tiene un precio elevado, pero ya no es tan caro en comparación con sus rivales. Su consumo es realmente ajustado en toda circunstancia, su maletero es enorme y tiene una tercera fila en la que pueden viajar adultos, además de tener una parte trasera con una gran modularidad. Eso sí, está ya algo desfasado en algunos aspectos.']"
      ]
     },
     "execution_count": 21,
     "metadata": {},
     "output_type": "execute_result"
    }
   ],
   "source": [
    "# Añadimos a la del DF\n",
    "lista_opinion_DF.extend(lista_otras_opiniones)\n",
    "lista_opinion_DF"
   ]
  },
  {
   "cell_type": "code",
   "execution_count": 22,
   "metadata": {},
   "outputs": [
    {
     "name": "stdout",
     "output_type": "stream",
     "text": [
      "['Desde 54.668 €', 'Desde 54.668 €', 'Desde 38.280 €', 'Desde 38.280 €', 'Desde 51.478 €', 'Desde 51.478 €', 'Desde 40.001 €', 'Desde 40.001 €', 'Desde 34.885 €', 'Desde 34.885 €', 'Desde 42.981 €', 'Desde 42.981 €', 'Desde 45.963 €', 'Desde 45.963 €', 'Desde 32.660 €', 'Desde 32.660 €', 'Desde 46.330 €', 'Desde 46.330 €', 'Desde 59.790 €', 'Desde 59.790 €']\n"
     ]
    }
   ],
   "source": [
    "# Siguiente columna\n",
    "precios= sopa.find_all(class_='div tile-button__subtitle') # aparece dos veces cada dato en el html\n",
    "lista_precios= []\n",
    "for indice, precio in enumerate(precios):\n",
    "    lista_precios.append(precio.text.strip())\n",
    "    indice += 1\n",
    "print(lista_precios)\n",
    "    "
   ]
  },
  {
   "cell_type": "code",
   "execution_count": 23,
   "metadata": {},
   "outputs": [
    {
     "name": "stdout",
     "output_type": "stream",
     "text": [
      "['Desde 54.668 €', 'Desde 38.280 €', 'Desde 51.478 €', 'Desde 40.001 €', 'Desde 34.885 €', 'Desde 42.981 €', 'Desde 45.963 €', 'Desde 32.660 €', 'Desde 46.330 €', 'Desde 59.790 €']\n"
     ]
    }
   ],
   "source": [
    "# Para obtener una lista con sólo uno de los valores\n",
    "lista_precios_corregida = [lista_precios[i] for i in range(1, len(lista_precios), 2)]\n",
    "print(lista_precios_corregida)"
   ]
  },
  {
   "cell_type": "code",
   "execution_count": 24,
   "metadata": {},
   "outputs": [
    {
     "data": {
      "text/plain": [
       "['Desde 54.668 €',\n",
       " 'Desde 38.280 €',\n",
       " 'Desde 51.478 €',\n",
       " 'Desde 40.001 €',\n",
       " 'Desde 34.885 €',\n",
       " 'Desde 42.981 €',\n",
       " 'Desde 45.963 €',\n",
       " 'Desde 32.660 €',\n",
       " 'Desde 46.330 €',\n",
       " 'Desde 59.790 €']"
      ]
     },
     "execution_count": 24,
     "metadata": {},
     "output_type": "execute_result"
    }
   ],
   "source": [
    "# Añadimos a la lista del DF\n",
    "lista_precios_DF.extend(lista_precios_corregida)\n",
    "lista_precios_DF"
   ]
  },
  {
   "cell_type": "code",
   "execution_count": 25,
   "metadata": {},
   "outputs": [
    {
     "name": "stdout",
     "output_type": "stream",
     "text": [
      "['9/10', '9/10', '8/10', '8/10', '8/10', '8/10', '7/10', '9/10', '8/10', '8/10']\n"
     ]
    }
   ],
   "source": [
    "# Última columna\n",
    "valoraciones= sopa.find_all(class_='wowscore-pill')\n",
    "lista_valoraciones=[]\n",
    "for indice, valoracion in enumerate(valoraciones):\n",
    "    lista_valoraciones.append(valoracion.text.strip())\n",
    "    indice +=1\n",
    "print(lista_valoraciones)"
   ]
  },
  {
   "cell_type": "code",
   "execution_count": 26,
   "metadata": {},
   "outputs": [],
   "source": [
    "# Añadimos a la lista del DF\n",
    "lista_valoraciones_DF.extend(lista_valoraciones)"
   ]
  },
  {
   "cell_type": "code",
   "execution_count": 27,
   "metadata": {},
   "outputs": [
    {
     "name": "stdout",
     "output_type": "stream",
     "text": [
      "{'Nombre': ['1. Mazda CX-80', '2. Renault Espace', '3. Hyundai Santa Fe', '4. Skoda Kodiaq', '5. Peugeot 5008', '6. Volkswagen Tayron', '7. KIA Sorento', '8. Nissan X-Trail', '9. Mercedes-Benz GLB', '10. Toyota Highlander'], 'Valoraciones': ['9/10', '9/10', '8/10', '8/10', '8/10', '8/10', '7/10', '9/10', '8/10', '8/10'], 'A favor': [['Excelente eficiencia tanto en el PHEV como en el diésel', 'Fácil acceso y amplio espacio en la segunda y tercera fila de asientos', 'Alta calidad de construcción y acabados interiores'], ['Consumo', 'Equipamiento disponible', 'Opción de siete plazas sin coste'], ['Equipamiento y tecnología propios de coches de más alta gama', 'Motor híbrido potente y tracción total', 'Es un coche cómodo de conducir en toda circunstancia'], ['Practicidad y espacio disponible', 'Oferta mecánica amplia', 'Confort de marcha'], ['Amplio interior con 7 plazas de serie', 'Comodidad y refinamiento', 'Motorizaciones híbridas y eléctricas, con buena autonomía'], ['Maletero muy grande', 'Aislamiento', 'Integración de ChatGPT'], ['Variedad de motores', 'Amplio y disponible con siete plazas', 'Precio'], ['Presentación vistosa', 'Confort general', 'Uno de los pocos de su tamaño con siete plazas'], ['Versatilidad', 'Diseño', 'Variedad'], ['Versatilidad', 'Facilidad de conducción', 'Etiqueta Eco en toda la gama']], 'En contra': [['La suspensión puede sentirse algo seca en ciertas superficies', 'Barqueo de la carrocería acusado en conducción alegre', 'Sistema multimedia algo limitado frente a algunos rivales'], ['Funcionamiento poco refinado en ocasiones', 'Gama reducida a una sola versión', 'Tacto del freno'], ['Precio elevado', 'Escasa autonomía eléctrica de la versión híbrida enchufable', 'Alertas de los asistentes de conducción intrusivas y engorrosas de desconectar'], ['Ergonomía de algunos mandos', 'Plazas de la tercera fila solo para niños', 'Motores diésel sin hibridación'], ['La calidad del sistema multimedia podría mejorar', 'El i-Cockpit seguirá sin convencer a algunos usuarios', 'Prestaciones'], ['PHEV solo de cinco plazas', 'La tercera fila de asientos puede quedar justa en espacio', 'Detalles de acabado'], ['Consumo', 'Mandos del climatizador', 'Prestaciones sólo correctas'], ['Rumorosidad en ciertas condiciones', 'Presencia de algunos plásticos duros', 'Manejo del selector de marchas'], ['Precio', 'Equipamiento en modelos básicos', 'Sin versiones CERO'], ['Poca variedad mecánica', 'Tamaño', 'Manejo multimedia poco intuitivo']], 'Opiniones': ['El CX-80 usa la misma plataforma y motores que el CX-60 pero es 25 cm más largo, por lo que también destaca en tacto de conducción, la fuerza y elasticidad de su motor diésel de 6 cilindros con microhibridación y un interior con acabados de lujo. Todo ello por un precio muy razonable.', 'El nuevo Renault Espace es ahora un SUV con unas plazas traseras de la tercera fila con un espacio similar al de sus rivales, con una única motorización híbrida potente y bastante eficiente. Cuenta con lo último en tecnología multimedia, con una gran pantalla central y un software desarrollado por Google que funciona con fluidez, y tiene un chasis sofisticado con un buen comportamiento y confort.', 'El Santa Fe dispone de motorizaciones híbrida e híbrida enchufable y ahora es más lujoso y refinado. Tiene un habitáculo amplio con una buena calidad de acabados, su equipamiento es abundante y es muy confortable. Digamos que lo hace todo bien pero han subido el precio también bastante.', 'El Skoda Kodiaq es mucho más barato que el Q7, sin embargo ofrece algo similar en lo que se refiere al uso familiar. Tiene un gran espacio tanto para los pasajeros como para el equipaje, motores con una buena relación entre consumo y prestaciones y tiene una construcción sólida, ideal para aguantar el \"trote\" durante muchos años.', 'El Peugeot 5008 es un coche muy redondo y coherente. Es espacioso y versátil, con un banqueta desplazable y un buen acceso a las plazas de la tercera fila y un enorme maletero, cuenta con un confort de marcha elevado, un bajo consumo y tiene un sistema multimedia muy moderno.', 'El Volkswagen Tayron es un SUV espacioso y tecnológico, que reemplaza al Tiguan Allspace pero con un diseño más distintivo, con motorizaciones híbridas y gasolina.', 'El KIA Sorento es un SUV de gran tamaño que pretende competir en el segmento de lujo. No es precisamente un coche económico, sin embargo, es uno de los mejores en cuanto a relación calidad-precio por todo lo que ofrece. Tiene un gran confort y habitabilidad, además de un equipamiento muy completo y avanzado tecnológicamente. Sus prestaciones son correctas y dinámicamente sorprende para su tamaño.', 'El X-Trail ha subido sensiblemente de nivel en cuanto a lujo y refinamiento con respecto al anterior modelo, además de tener mejores cualidades off-road con sistema tracción total realmente eficaz. Destaca la versión con el sistema híbrido e-POWER por sus prestaciones y ausencia de vibraciones. Tiene un compromiso entre confort y estabilidad en carretera muy interesante.', 'Este SUV de carrocería compacta por ofrecer capacidad para 7 pasajeros y por contar con soluciones prácticas mas propias de un monovolumen. Es un modelo que destaca por su tecnología, conectividad y asistentes a la conducción. También es un coche lujoso, cómodo y espacioso.', 'El Highlander tiene un sistema de propulsión híbrido y tiene un precio elevado, pero ya no es tan caro en comparación con sus rivales. Su consumo es realmente ajustado en toda circunstancia, su maletero es enorme y tiene una tercera fila en la que pueden viajar adultos, además de tener una parte trasera con una gran modularidad. Eso sí, está ya algo desfasado en algunos aspectos.'], 'Precio': ['Desde 54.668 €', 'Desde 38.280 €', 'Desde 51.478 €', 'Desde 40.001 €', 'Desde 34.885 €', 'Desde 42.981 €', 'Desde 45.963 €', 'Desde 32.660 €', 'Desde 46.330 €', 'Desde 59.790 €']}\n"
     ]
    }
   ],
   "source": [
    "# Creo un diccionario, para generar mi primer dataframe, al que luego iremos añadiendo más datos\n",
    "diccionario_coches = {\n",
    "    'Nombre': lista_coches_DF,\n",
    "    'Valoraciones': lista_valoraciones_DF,\n",
    "    'A favor': lista_a_favor_DF,\n",
    "    'En contra': lista_en_contra_DF,\n",
    "    'Opiniones': lista_opinion_DF,\n",
    "    'Precio': lista_precios_DF\n",
    "   \n",
    "}\n",
    "\n",
    "print(diccionario_coches)"
   ]
  },
  {
   "cell_type": "code",
   "execution_count": 28,
   "metadata": {},
   "outputs": [
    {
     "data": {
      "text/html": [
       "<div>\n",
       "<style scoped>\n",
       "    .dataframe tbody tr th:only-of-type {\n",
       "        vertical-align: middle;\n",
       "    }\n",
       "\n",
       "    .dataframe tbody tr th {\n",
       "        vertical-align: top;\n",
       "    }\n",
       "\n",
       "    .dataframe thead th {\n",
       "        text-align: right;\n",
       "    }\n",
       "</style>\n",
       "<table border=\"1\" class=\"dataframe\">\n",
       "  <thead>\n",
       "    <tr style=\"text-align: right;\">\n",
       "      <th></th>\n",
       "      <th>Nombre</th>\n",
       "      <th>Valoraciones</th>\n",
       "      <th>A favor</th>\n",
       "      <th>En contra</th>\n",
       "      <th>Opiniones</th>\n",
       "      <th>Precio</th>\n",
       "    </tr>\n",
       "  </thead>\n",
       "  <tbody>\n",
       "    <tr>\n",
       "      <th>0</th>\n",
       "      <td>1. Mazda CX-80</td>\n",
       "      <td>9/10</td>\n",
       "      <td>[Excelente eficiencia tanto en el PHEV como en...</td>\n",
       "      <td>[La suspensión puede sentirse algo seca en cie...</td>\n",
       "      <td>El CX-80 usa la misma plataforma y motores que...</td>\n",
       "      <td>Desde 54.668 €</td>\n",
       "    </tr>\n",
       "    <tr>\n",
       "      <th>1</th>\n",
       "      <td>2. Renault Espace</td>\n",
       "      <td>9/10</td>\n",
       "      <td>[Consumo, Equipamiento disponible, Opción de s...</td>\n",
       "      <td>[Funcionamiento poco refinado en ocasiones, Ga...</td>\n",
       "      <td>El nuevo Renault Espace es ahora un SUV con un...</td>\n",
       "      <td>Desde 38.280 €</td>\n",
       "    </tr>\n",
       "    <tr>\n",
       "      <th>2</th>\n",
       "      <td>3. Hyundai Santa Fe</td>\n",
       "      <td>8/10</td>\n",
       "      <td>[Equipamiento y tecnología propios de coches d...</td>\n",
       "      <td>[Precio elevado, Escasa autonomía eléctrica de...</td>\n",
       "      <td>El Santa Fe dispone de motorizaciones híbrida ...</td>\n",
       "      <td>Desde 51.478 €</td>\n",
       "    </tr>\n",
       "    <tr>\n",
       "      <th>3</th>\n",
       "      <td>4. Skoda Kodiaq</td>\n",
       "      <td>8/10</td>\n",
       "      <td>[Practicidad y espacio disponible, Oferta mecá...</td>\n",
       "      <td>[Ergonomía de algunos mandos, Plazas de la ter...</td>\n",
       "      <td>El Skoda Kodiaq es mucho más barato que el Q7,...</td>\n",
       "      <td>Desde 40.001 €</td>\n",
       "    </tr>\n",
       "    <tr>\n",
       "      <th>4</th>\n",
       "      <td>5. Peugeot 5008</td>\n",
       "      <td>8/10</td>\n",
       "      <td>[Amplio interior con 7 plazas de serie, Comodi...</td>\n",
       "      <td>[La calidad del sistema multimedia podría mejo...</td>\n",
       "      <td>El Peugeot 5008 es un coche muy redondo y cohe...</td>\n",
       "      <td>Desde 34.885 €</td>\n",
       "    </tr>\n",
       "    <tr>\n",
       "      <th>5</th>\n",
       "      <td>6. Volkswagen Tayron</td>\n",
       "      <td>8/10</td>\n",
       "      <td>[Maletero muy grande, Aislamiento, Integración...</td>\n",
       "      <td>[PHEV solo de cinco plazas, La tercera fila de...</td>\n",
       "      <td>El Volkswagen Tayron es un SUV espacioso y tec...</td>\n",
       "      <td>Desde 42.981 €</td>\n",
       "    </tr>\n",
       "    <tr>\n",
       "      <th>6</th>\n",
       "      <td>7. KIA Sorento</td>\n",
       "      <td>7/10</td>\n",
       "      <td>[Variedad de motores, Amplio y disponible con ...</td>\n",
       "      <td>[Consumo, Mandos del climatizador, Prestacione...</td>\n",
       "      <td>El KIA Sorento es un SUV de gran tamaño que pr...</td>\n",
       "      <td>Desde 45.963 €</td>\n",
       "    </tr>\n",
       "    <tr>\n",
       "      <th>7</th>\n",
       "      <td>8. Nissan X-Trail</td>\n",
       "      <td>9/10</td>\n",
       "      <td>[Presentación vistosa, Confort general, Uno de...</td>\n",
       "      <td>[Rumorosidad en ciertas condiciones, Presencia...</td>\n",
       "      <td>El X-Trail ha subido sensiblemente de nivel en...</td>\n",
       "      <td>Desde 32.660 €</td>\n",
       "    </tr>\n",
       "    <tr>\n",
       "      <th>8</th>\n",
       "      <td>9. Mercedes-Benz GLB</td>\n",
       "      <td>8/10</td>\n",
       "      <td>[Versatilidad, Diseño, Variedad]</td>\n",
       "      <td>[Precio, Equipamiento en modelos básicos, Sin ...</td>\n",
       "      <td>Este SUV de carrocería compacta por ofrecer ca...</td>\n",
       "      <td>Desde 46.330 €</td>\n",
       "    </tr>\n",
       "    <tr>\n",
       "      <th>9</th>\n",
       "      <td>10. Toyota Highlander</td>\n",
       "      <td>8/10</td>\n",
       "      <td>[Versatilidad, Facilidad de conducción, Etique...</td>\n",
       "      <td>[Poca variedad mecánica, Tamaño, Manejo multim...</td>\n",
       "      <td>El Highlander tiene un sistema de propulsión h...</td>\n",
       "      <td>Desde 59.790 €</td>\n",
       "    </tr>\n",
       "  </tbody>\n",
       "</table>\n",
       "</div>"
      ],
      "text/plain": [
       "                  Nombre Valoraciones  \\\n",
       "0         1. Mazda CX-80         9/10   \n",
       "1      2. Renault Espace         9/10   \n",
       "2    3. Hyundai Santa Fe         8/10   \n",
       "3        4. Skoda Kodiaq         8/10   \n",
       "4        5. Peugeot 5008         8/10   \n",
       "5   6. Volkswagen Tayron         8/10   \n",
       "6         7. KIA Sorento         7/10   \n",
       "7      8. Nissan X-Trail         9/10   \n",
       "8   9. Mercedes-Benz GLB         8/10   \n",
       "9  10. Toyota Highlander         8/10   \n",
       "\n",
       "                                             A favor  \\\n",
       "0  [Excelente eficiencia tanto en el PHEV como en...   \n",
       "1  [Consumo, Equipamiento disponible, Opción de s...   \n",
       "2  [Equipamiento y tecnología propios de coches d...   \n",
       "3  [Practicidad y espacio disponible, Oferta mecá...   \n",
       "4  [Amplio interior con 7 plazas de serie, Comodi...   \n",
       "5  [Maletero muy grande, Aislamiento, Integración...   \n",
       "6  [Variedad de motores, Amplio y disponible con ...   \n",
       "7  [Presentación vistosa, Confort general, Uno de...   \n",
       "8                   [Versatilidad, Diseño, Variedad]   \n",
       "9  [Versatilidad, Facilidad de conducción, Etique...   \n",
       "\n",
       "                                           En contra  \\\n",
       "0  [La suspensión puede sentirse algo seca en cie...   \n",
       "1  [Funcionamiento poco refinado en ocasiones, Ga...   \n",
       "2  [Precio elevado, Escasa autonomía eléctrica de...   \n",
       "3  [Ergonomía de algunos mandos, Plazas de la ter...   \n",
       "4  [La calidad del sistema multimedia podría mejo...   \n",
       "5  [PHEV solo de cinco plazas, La tercera fila de...   \n",
       "6  [Consumo, Mandos del climatizador, Prestacione...   \n",
       "7  [Rumorosidad en ciertas condiciones, Presencia...   \n",
       "8  [Precio, Equipamiento en modelos básicos, Sin ...   \n",
       "9  [Poca variedad mecánica, Tamaño, Manejo multim...   \n",
       "\n",
       "                                           Opiniones          Precio  \n",
       "0  El CX-80 usa la misma plataforma y motores que...  Desde 54.668 €  \n",
       "1  El nuevo Renault Espace es ahora un SUV con un...  Desde 38.280 €  \n",
       "2  El Santa Fe dispone de motorizaciones híbrida ...  Desde 51.478 €  \n",
       "3  El Skoda Kodiaq es mucho más barato que el Q7,...  Desde 40.001 €  \n",
       "4  El Peugeot 5008 es un coche muy redondo y cohe...  Desde 34.885 €  \n",
       "5  El Volkswagen Tayron es un SUV espacioso y tec...  Desde 42.981 €  \n",
       "6  El KIA Sorento es un SUV de gran tamaño que pr...  Desde 45.963 €  \n",
       "7  El X-Trail ha subido sensiblemente de nivel en...  Desde 32.660 €  \n",
       "8  Este SUV de carrocería compacta por ofrecer ca...  Desde 46.330 €  \n",
       "9  El Highlander tiene un sistema de propulsión h...  Desde 59.790 €  "
      ]
     },
     "execution_count": 28,
     "metadata": {},
     "output_type": "execute_result"
    }
   ],
   "source": [
    "# Genero el DataFrame\n",
    "df = pd.DataFrame.from_dict(diccionario_coches)\n",
    "df"
   ]
  },
  {
   "cell_type": "code",
   "execution_count": 29,
   "metadata": {},
   "outputs": [],
   "source": [
    "# Segunda url\n",
    "url_2='https://www.autohero.com/es/consejos/elegir/mejor-coche/suv-7-plazas/'"
   ]
  },
  {
   "cell_type": "code",
   "execution_count": 30,
   "metadata": {},
   "outputs": [],
   "source": [
    "# Voy a crear una función para automatizar la conexion y la comprobación del estado de la misma\n",
    "# La sopa la generaré en las propias funciones que me van a servir para 'automatizar' el proceso de web scraping \n",
    "def accesibilidad (url):\n",
    "    conexion = requests.get(url)\n",
    "    print(conexion.status_code, conexion.reason)\n"
   ]
  },
  {
   "cell_type": "code",
   "execution_count": 31,
   "metadata": {},
   "outputs": [
    {
     "name": "stdout",
     "output_type": "stream",
     "text": [
      "200 OK\n"
     ]
    }
   ],
   "source": [
    "# Comprobando conexión\n",
    "accesibilidad(url_2)"
   ]
  },
  {
   "cell_type": "code",
   "execution_count": 32,
   "metadata": {},
   "outputs": [],
   "source": [
    "# Función para extaer los nombres de los coches \n",
    "def lista_coches (url, tag, class_):\n",
    "    '''\n",
    "    Debemos obtener los tag y atributos que necesitamos de la página web (y se pasa en modo str)\n",
    "\n",
    "    '''\n",
    "    conexion = requests.get(url)\n",
    "    sopa = bs(conexion.text, \"lxml\")\n",
    "    coches = sopa.find_all( tag, class_) # no consigo que me coja la tupla con los tags\n",
    "    lista_coches = []\n",
    "    for indice, coche in enumerate(coches):\n",
    "        lista_coches.append(coche.text.strip())\n",
    "        indice += 1\n",
    "    return lista_coches"
   ]
  },
  {
   "cell_type": "code",
   "execution_count": 33,
   "metadata": {},
   "outputs": [],
   "source": [
    "# Obtengo el listado de coches y luego lo añado a la lista del DF\n",
    "listado_coches = lista_coches(url_2, 'h3', class_=\"title___HASgI title___2DV4T underline___dbvD3 variant-h2___1eoCd color-secondary___3vq1b weight-normal___25n2H align-center___17w2J\")"
   ]
  },
  {
   "cell_type": "code",
   "execution_count": 34,
   "metadata": {},
   "outputs": [
    {
     "data": {
      "text/plain": [
       "['1. Mazda CX-80',\n",
       " '2. Renault Espace',\n",
       " '3. Hyundai Santa Fe',\n",
       " '4. Skoda Kodiaq',\n",
       " '5. Peugeot 5008',\n",
       " '6. Volkswagen Tayron',\n",
       " '7. KIA Sorento',\n",
       " '8. Nissan X-Trail',\n",
       " '9. Mercedes-Benz GLB',\n",
       " '10. Toyota Highlander',\n",
       " 'Volvo XC90',\n",
       " 'Audi Q7',\n",
       " 'Mercedes-Benz Clase GLB',\n",
       " 'Hyundai Santa Fe',\n",
       " 'Kia Sorento',\n",
       " 'Peugeot 5008',\n",
       " 'SEAT Tarraco',\n",
       " 'Skoda Kodiaq',\n",
       " 'Nissan X-Trail',\n",
       " 'Mitsubishi Outlander']"
      ]
     },
     "execution_count": 34,
     "metadata": {},
     "output_type": "execute_result"
    }
   ],
   "source": [
    "lista_coches_DF.extend(listado_coches)\n",
    "lista_coches_DF"
   ]
  },
  {
   "cell_type": "code",
   "execution_count": 35,
   "metadata": {},
   "outputs": [
    {
     "data": {
      "text/plain": [
       "['9/10',\n",
       " '9/10',\n",
       " '8/10',\n",
       " '8/10',\n",
       " '8/10',\n",
       " '8/10',\n",
       " '7/10',\n",
       " '9/10',\n",
       " '8/10',\n",
       " '8/10',\n",
       " None,\n",
       " None,\n",
       " None,\n",
       " None,\n",
       " None,\n",
       " None,\n",
       " None,\n",
       " None,\n",
       " None,\n",
       " None]"
      ]
     },
     "execution_count": 35,
     "metadata": {},
     "output_type": "execute_result"
    }
   ],
   "source": [
    "# Valoraciones , esta página no tiene valoraciones como tal, asi que se cumplimentan con None\n",
    "lista_valoraciones_url_2 = crear_lista_none(10)\n",
    "# Añadimos a la del DF\n",
    "lista_valoraciones_DF.extend(lista_valoraciones_url_2)\n",
    "lista_valoraciones_DF"
   ]
  },
  {
   "cell_type": "code",
   "execution_count": 36,
   "metadata": {},
   "outputs": [],
   "source": [
    "# En esta página viene una descripción con características que me parecen interesantes.\n",
    "# Como en la página anterior no existía este apartado, lo primero que voy a hacer es generar la lista pertinente para el Df\n",
    "# A continuación genero una lista con valores nulos para los vehiculos de la primera url y los añado a la lista DF\n",
    "lista_caracteristicas_DF = []\n",
    "lista_caracteristicas_url_1 = crear_lista_none(10)\n",
    "lista_caracteristicas_DF.extend(lista_caracteristicas_url_1)"
   ]
  },
  {
   "cell_type": "code",
   "execution_count": 37,
   "metadata": {},
   "outputs": [
    {
     "name": "stdout",
     "output_type": "stream",
     "text": [
      "['La fiebre de los SUV sigue creciendo en España, y tanto los SUV pequeños como los de mayor tamaño han ganado cuota de mercado en los últimos años. En esta guía, seleccionamos los mejores SUV con 7 plazas, destacando ventajas como la amplitud del habitáculo y la gran capacidad de carga del maletero.', 'Si formas parte de una familia numerosa, es fundamental encontrar un vehículo amplio y modular que asegure la comodidad de todos los pasajeros. Tanto para los desplazamientos diarios como para viajes largos, opta por un coche con un gran volumen de maletero y una excelente habitabilidad. Los coches con 7 asientos, especialmente los SUV, son ideales, ofreciendo espacio y flexibilidad.Actualmente, los SUV han reemplazado al monovolumen como la opción preferida para las familias grandes. Estos SUV no solo brindan más espacio, sino también una mejor capacidad off-road y mayor versatilidad para distintos tipos de terrenos y condiciones climáticas.Al seleccionar un SUV de siete plazas, es importante considerar la eficiencia de combustible, las tecnologías de seguridad avanzadas, las opciones de motorización híbrida o eléctrica y el nivel de equipamiento interior.Estos vehículos son perfectos para quienes buscan un balance entre espacio, confort y funcionalidad. Con múltiples configuraciones de asientos, amplios compartimientos de carga y diversas tecnologías, mejoran tanto la experiencia de conducción como la seguridad de todos los ocupantes.Evalua la eficiencia de combustible, el espacio interior, las opciones de motorización, las características de seguridad y las tecnologías de asistencia al conductor. Otros aspectos que también deberías considerar son la capacidad de carga y el rendimiento en diferentes terrenos.En esta guía, presentamos los mejores SUV de siete plazas del mercado, destacando sus principales características, ventajas y desventajas.Descubre nuestra selección y encuentra el mejor coche con siete asientos:Volvo XC90 Audi Q7 Mercedes-Benz Clase GLB Hyundai Santa Fe Kia Sorento Peugeot 5008 SEAT Tarraco Skoda Kodiaq Nissan X-Trail Mitsubishi Outlander', 'El Volvo XC90 es un SUV de 7 plazas que destaca por su espacioso interior y diseño ergonómico. Con una longitud de 4,95 metros, ofrece un maletero de 692 litros con cinco asientos en uso y 314 litros con las siete plazas ocupadas. Los asientos son ajustables individualmente, optimizando el confort para todos los ocupantes, incluso en la tercera fila, donde pueden viajar adultos de hasta 170 cm.El interior está acabado con materiales de alta calidad como cuero y madera, y el puesto de conducción está diseñado para una experiencia intuitiva. Además, el XC90 viene equipado de serie con tecnologías como control de crucero adaptativo y faros LED. Sin embargo, la suspensión puede resultar firme a bajas velocidades y el sistema de infoentretenimiento depende en gran medida de la pantalla táctil.Ventajas del Volvo XC90Materiales interiores premium.Confort excepcional en todos los asientos.Equipamiento tecnológico avanzado.Desventajas del Volvo XC90Suspensión firme a bajas velocidades.Sistema de infoentretenimiento dependiente de la pantalla táctil.¿Por qué recomendamos el Volvo XC90?Este SUV de origen sueco combina lujo, espacio y versatilidad. Su interior de alta calidad, junto con su capacidad para siete ocupantes y un generoso maletero, lo hacen ideal para familias que buscan confort y practicidad. Además, su equipamiento de seguridad y tecnología lo posiciona como una excelente opción en su segmento.Lujo, seguridad y estilo: el XC90 es perfecto para familias que lo quieren todo.Volvo XC90', 'El Audi Q7 es un SUV de 7 plazas que combina un diseño atlético con un interior espacioso. Con una longitud de 5,052 mm, ofrece un maletero de 780 litros, ampliable a 1,908 litros con los asientos abatidos. Los motores disponibles van desde 231 CV en la versión diésel hasta 507 CV en la versión SQ7, proporcionando una conducción potente y controlada gracias a la tracción quattro y la suspensión neumática adaptativa.El interior lujoso del Q7 incluye tecnologías avanzadas como el Audi virtual cockpit y los faros Matrix LED HD con función láser. Sin embargo, el consumo de combustible es elevado, especialmente en las versiones de gasolina, y su gran tamaño puede ser un inconveniente en entornos urbanos.Ventajas del Audi Q7Motores potentes y variados.Tracción quattro y suspensión adaptativa.Interior lujoso y tecnología avanzada.Desventajas del Audi Q7Consumo de combustible elevado.Precio inicial alto.Tamaño que dificulta la maniobrabilidad en ciudad.¿Por qué recomendamos el Audi Q7?Recomendamos el Audi Q7 por su combinación de lujo, espacio y tecnología avanzada. Es ideal para familias que buscan confort y prestaciones sin comprometer el estilo. Su versatilidad, desde la ciudad hasta el todoterreno, lo convierte en una opción atractiva para quienes desean un SUV premium de gran tamaño.Amantes de la tecnología: ¡este es vuestro SUV! Deportivo, elegante y lleno de gadgets.Audi Q7', 'El Mercedes-Benz Clase GLB es un SUV de 7 plazas versátil con configuraciones de cinco o siete asientos. Con una longitud de 4,63 metros, ofrece un maletero de 560 litros en la versión de cinco asientos. El interior es modular, con asientos traseros deslizables y reclinables, maximizando la flexibilidad y el espacio disponible.El GLB cuenta con tecnología como el sistema multimedia MBUX y la instrumentación digital. Además, la calidad de los acabados es superior, aunque algunas opciones pueden ser costosas. La tercera fila es adecuada para pasajeros de hasta 1,70 metros y puede ser difícil de acceder.Ventajas del Mercedes-Benz Clase GLBInterior modular con asientos ajustables.Tecnología avanzada (MBUX).Calidad de los acabados superior.Desventajas del Mercedes-Benz Clase GLBPrecio de opciones elevado.Tercera fila adecuada solo para pasajeros pequeños.Acceso complicado a la tercera fila.¿Por qué recomendamos el Mercedes-Benz Clase GLB?Recomendamos el GLB por su versatilidad y practicidad excepcionales. Combina el lujo de Mercedes con un espacio interior impresionante y la opción de siete plazas, algo poco común en su segmento. Su diseño inteligente y tecnología avanzada lo convierten en una excelente opción para familias que buscan un SUV premium y funcional.¿Buscas lujo compacto con espacio para siete? El GLB es ideal para la ciudad y la familia.Mercedes-Benz Clase GLB', 'El Hyundai Santa Fe es un SUV de 7 plazas con un diseño moderno y un interior flexible. Con una longitud de 4,83 metros, ofrece un maletero de 725 litros con cinco asientos. Los asientos son calefactados y ventilados, y la conducción es suave, ideal para viajes largos gracias a su diseño orientado al confort.Incluye una pantalla táctil de 12,3 pulgadas en su sistema multimedia y avanzados sistemas de seguridad. Sin embargo, la tercera fila puede ser ajustada para adultos altos y algunos materiales interiores, aunque ecológicos, pueden parecer menos lujosos comparados con otros modelos premium.Ventajas del Hyundai Santa FeDiseño moderno y asientos cómodos.Pantalla táctil grande y clara.Sistemas de seguridad avanzados.Desventajas del Hyundai Santa FeTercera fila ajustada para adultos altos.Algunos materiales interiores menos lujosos.Consumo de combustible elevado en versiones potentes.¿Por qué recomendamos el Hyundai Santa Fe?Recomendamos el Hyundai Santa Fe por su excelente equilibrio entre espacio, confort y tecnología. Es ideal para familias que buscan un SUV versátil y bien equipado. Su capacidad todoterreno y opciones de motorización híbrida lo hacen atractivo para diversos estilos de vida.Asequible, fiable y lleno de equipamiento... ¡el Santa Fe es tu aliado diario!Hyundai Santa Fe', 'El Kia Sorento es un SUV de 7 plazas que destaca por su diseño exterior renovado y un interior moderno. Con una longitud de 4,81 metros, ofrece configuraciones de asientos flexibles y una conducción cómoda gracias a su mejorada visibilidad y capó elevado. El sistema de infoentretenimiento incluye dos pantallas de 12,3 pulgadas y opciones de seguridad avanzadas.La tercera fila puede ser ajustada para adultos, y el espacio de carga se reduce significativamente al utilizarla. Además, en altitudes elevadas, se puede notar una ligera pérdida de potencia en el motor, dependiendo de la versión.Ventajas del Kia SorentoDiseño moderno y flexible.Pantallas avanzadas y claras.Conducción cómoda y segura.Desventajas del Kia SorentoTercera fila ajustada para adultos.Espacio de carga reducido con tercera fila en uso.Pérdida de potencia en altitudes elevadas.¿Por qué recomendamos el Kia Sorento?Recomendamos el Kia Sorento por su versatilidad y equilibrio entre comodidad, tecnología y capacidad. Es ideal para familias que buscan un SUV espacioso con asientos flexibles. Su combinación de características avanzadas, diseño moderno y capacidad de remolque mejorada lo convierte en una opción atractiva en su segmento.Estilo, eficiencia y enfoque familiar. ¡El Sorento lo tiene todo!Kia Sorento', 'El Peugeot 5008 es uno de los SUV de 7 plazas más populares gracias a su diseño moderno y amplio espacio. Con una longitud de 4,79 metros, ofrece un maletero de 748 litros con cinco asientos y hasta 1,815 litros con todos los asientos abatidos. La segunda fila cuenta con tres asientos individuales ajustables, mejorando la comodidad y flexibilidad.El interior incluye el i-Cockpit mejorado con una pantalla panorámica curva de 21 pulgadas, aportando un toque futurista y tecnológico. Sin embargo, la tercera fila puede ser ajustada para adultos altos y el espacio de carga se reduce considerablemente al utilizar las siete plazas.Ventajas del Peugeot 5008Diseño moderno y atractivo.Pantalla panorámica grande y avanzada.Segunda fila de asientos ajustables individualmente.Desventajas del Peugeot 5008Tercera fila ajustada para adultos altos.Espacio de carga limitado con siete plazas en uso.Algunos materiales interiores menos lujosos.¿Por qué recomendamos el Peugeot 5008?Recomendamos el Peugeot 5008 por su versatilidad y equilibrio entre espacio, tecnología y diseño. Es ideal para familias numerosas que buscan un SUV espacioso con asientos flexibles. Su combinación de características avanzadas, diseño moderno y capacidad de configuración lo convierte en una opción atractiva en su segmento.¡Elegancia europea y practicidad! El 5008 es perfecto para viajes cómodos y familias grandes.Peugeot 5008', 'El SEAT Tarraco es un SUV de 7 plazas versátil con configuraciones de cinco o siete asientos. Con una longitud de 4,73 metros, ofrece un maletero de 760 litros en la versión de cinco asientos y 700 litros en la de siete. El interior es espacioso y está bien acabado, con materiales de alta calidad y una pantalla táctil de al menos 8 pulgadas.Incluye avanzados sistemas de asistencia a la conducción, como control de crucero adaptativo y frenado de emergencia automático. Sin embargo, no es el modelo más deportivo de la gama y el precio inicial puede ser elevado para algunos compradores.Ventajas del SEAT TarracoEspacio interior amplio y bien acabado.Sistemas de asistencia avanzados.Buena conectividad (Apple CarPlay, Android Auto).Desventajas del SEAT TarracoNo es el más deportivo de la gama.Falta de una versión TGI de Gas Natural Comprimido.Precio inicial elevado.¿Por qué recomendamos el SEAT Tarraco?Recomendamos el SEAT Tarraco por su combinación de espacio, versatilidad y tecnología. Es ideal para familias que necesitan amplitud y confort. Su gama de motores, que incluye opciones de hasta 200 CV, y la futura variante híbrida enchufable, lo convierten en una opción atractiva en su segmento. Además, puedes encontrar precios más asequibles en el mercado de segunda mano.Espacioso y versátil, con toques deportivos: el Tarraco está hecho para familias activas.SEAT Tarraco', 'El Skoda Kodiaq es un SUV de 7 plazas con un diseño moderno y un interior práctico. Con una longitud de 4,76 metros, ofrece un maletero espacioso y un interior bien diseñado. El equipamiento incluye una pantalla central de 12,9 pulgadas y mandos rotatorios Smart Dials en el salpicadero, facilitando el control de las funciones del vehículo.Cuenta con asistentes de conducción avanzados como Emergency Assist y un sistema de aparcamiento remoto. Sin embargo, puede resultar estrecho para cinco adultos o tres niños en sillas, y el ajuste del chasis DCC no es tan equilibrado como en modelos de Volkswagen. Además, el ruido del motor diésel en ciudad puede ser perceptible.Ventajas del Skoda KodiaqInterior bien diseñado y espacioso.Equipamiento tecnológico avanzado.Buenas opciones de motorización.Desventajas del Skoda KodiaqEspacio ajustado para cinco adultos.Chasis menos equilibrado que en competidores.Ruido perceptible del motor diésel.¿Por qué recomendamos el Skoda Kodiaq?Recomendamos el Skoda Kodiaq por su combinación de espacio, practicidad y tecnología. Es ideal para familias que buscan confort en viajes largos, con un consumo razonable y opciones de motorización variadas, incluyendo versiones diésel, gasolina e híbrida enchufable. Su enfoque en la facilidad de uso y su equipamiento abundante lo hacen destacar en su segmento.¿Buscas un SUV amplio y económico? ¡El Kodiaq es el rey de la relación calidad-precio!Skoda Kodiaq', 'El Nissan X-Trail es un SUV robusto y sofisticado con configuraciones de 5 o 7 plazas. Con una longitud de 4.680 mm, ofrece un maletero de 585 litros en la versión de 5 asientos. Destaca por su sistema e-Power, que utiliza un motor de gasolina para generar electricidad y mover el vehículo eléctricamente, ofreciendo una conducción suave y eficiente.El interior es espacioso y versátil, con asientos traseros deslizables y reclinables. Incluye avanzadas asistencias a la conducción, como control de crucero adaptativo y frenado de emergencia automático. Sin embargo, el consumo de combustible puede ser mayor al anunciado y la aceleración puede sentirse menos ágil a velocidades medias en comparación con vehículos eléctricos puros.Ventajas del Nissan X-TrailSistema e-Power eficiente.Interior espacioso y versátil.Buen equipamiento de seguridad.Desventajas del Nissan X-TrailConsumo de combustible mayor al anunciado.Aceleración menos ágil en velocidades medias.Tercera fila ajustada para adultos.¿Por qué recomendamos el Nissan X-Trail?Recomendamos el Nissan X-Trail por su combinación de espacio, confort y tecnología avanzada. Es ideal para familias que buscan un SUV versátil con opciones de 5 o 7 plazas. Su sistema e-Power ofrece una experiencia de conducción suave y eficiente, mientras que su amplio equipamiento de seguridad y asistencias lo convierten en una opción atractiva en su segmento.¿Listo para aventuras con espacio para todos? El X-Trail te acompaña en todas tus escapadas rurales.Nissan X-Trail', 'El Mitsubishi Outlander es un SUV de 7 plazas con un diseño versátil y práctico. Con una longitud de 4,71 metros, ofrece un maletero de 585 litros en la versión de 5 asientos. Su motor de 2,5 litros MIVEC DOHC de 4 cilindros genera 181 caballos de fuerza, y la transmisión es continuamente variable (CVT), asegurando una conducción suave.El interior es espacioso, con un panel digital y una pantalla de 9 pulgadas con conectividad inalámbrica. Ofrece siete modos de conducción diferentes y un sistema de audio Bose de nueve altavoces. Sin embargo, la tercera fila de asientos puede resultar ajuastada para adultos y el piso del maletero no queda completamente plano al abatir los asientos.Ventajas del Mitsubishi OutlanderEspacio interior amplio y versátil.Buena conectividad y sistema de audio.Equipamiento de seguridad completo.Desventajas del Mitsubishi OutlanderTercera fila ajustada para adultos.Piso del maletero no completamente plano.Algunos elementos podrían mejorar con tecnología LED.¿Por qué recomendamos el Mitsubishi Outlander?Recomendamos el Outlander por su combinación de espacio, confort y tecnología avanzada. Es ideal para familias que buscan un SUV versátil con opciones de 5 o 7 plazas. Su equipamiento de seguridad y asistencias lo convierten en una opción atractiva en su segmento, ofreciendo un alto valor por su precio.Ecológico y familiar: la versión híbrida del Outlander es perfecta si buscas un SUV de 7 plazas eficiente.Mitsubishi Outlander', 'Esperamos que esta lista te haya ayudado a identificar las mejores opciones para un coche de 7 plazas que se ajuste a tus necesidades y preferencias.En Autohero, no solo encontrarás una amplia selección de SUV de 7 plazas, sino que también ofrecemos opciones de financiación adaptadas a tu presupuesto, facilitando la adquisición del vehículo ideal para ti y tu familia. Además, todos nuestros coches cumplen con el estándar de calidad de Autohero, garantizando una compra segura y confiable. Te recomendamos explorar nuestra lista de los 10 mejores coches familiares baratos. ¡Calcula tu presupuesto mensual ahora!SUV de 7 plazas', 'Coches de lujo y alta gama de segunda mano', 'Nuestro Top 10 en coches híbridos', 'Mejor SUV - Nuestra selección', 'Mejor SUV híbrido enchufable', 'Los mejores coches grandes y baratos', 'El Fiat 500L de un vistazo', 'Los mejores coches con maletero grande', 'SUV con maletero grande', 'Mejor coche alto', 'BMW X3 vs. BMW X5', 'Encuentra tu Volvo en Madrid']\n"
     ]
    }
   ],
   "source": [
    "# Obtencion de las características\n",
    "conexion = requests.get(url_2)\n",
    "sopa = bs(conexion.text, \"lxml\")\n",
    "caracteristicas = sopa.find_all('div', class_=\"text___3mq1J\")\n",
    "lista = []\n",
    "for índice, caracteristica in enumerate(caracteristicas):\n",
    "    lista.append(caracteristica.text.strip())\n",
    "    indice += 1\n",
    "print(lista) # Obtengo todo el texto que hay en la página, tengo que dejar en la lista aquello que me interesa"
   ]
  },
  {
   "cell_type": "code",
   "execution_count": 38,
   "metadata": {},
   "outputs": [
    {
     "data": {
      "text/plain": [
       "['El Volvo XC90 es un SUV de 7 plazas que destaca por su espacioso interior y diseño ergonómico. Con una longitud de 4,95 metros, ofrece un maletero de 692 litros con cinco asientos en uso y 314 litros con las siete plazas ocupadas. Los asientos son ajustables individualmente, optimizando el confort para todos los ocupantes, incluso en la tercera fila, donde pueden viajar adultos de hasta 170 cm.El interior está acabado con materiales de alta calidad como cuero y madera, y el puesto de conducción está diseñado para una experiencia intuitiva. Además, el XC90 viene equipado de serie con tecnologías como control de crucero adaptativo y faros LED. Sin embargo, la suspensión puede resultar firme a bajas velocidades y el sistema de infoentretenimiento depende en gran medida de la pantalla táctil.Ventajas del Volvo XC90Materiales interiores premium.Confort excepcional en todos los asientos.Equipamiento tecnológico avanzado.Desventajas del Volvo XC90Suspensión firme a bajas velocidades.Sistema de infoentretenimiento dependiente de la pantalla táctil.¿Por qué recomendamos el Volvo XC90?Este SUV de origen sueco combina lujo, espacio y versatilidad. Su interior de alta calidad, junto con su capacidad para siete ocupantes y un generoso maletero, lo hacen ideal para familias que buscan confort y practicidad. Además, su equipamiento de seguridad y tecnología lo posiciona como una excelente opción en su segmento.Lujo, seguridad y estilo: el XC90 es perfecto para familias que lo quieren todo.Volvo XC90',\n",
       " 'El Audi Q7 es un SUV de 7 plazas que combina un diseño atlético con un interior espacioso. Con una longitud de 5,052 mm, ofrece un maletero de 780 litros, ampliable a 1,908 litros con los asientos abatidos. Los motores disponibles van desde 231 CV en la versión diésel hasta 507 CV en la versión SQ7, proporcionando una conducción potente y controlada gracias a la tracción quattro y la suspensión neumática adaptativa.El interior lujoso del Q7 incluye tecnologías avanzadas como el Audi virtual cockpit y los faros Matrix LED HD con función láser. Sin embargo, el consumo de combustible es elevado, especialmente en las versiones de gasolina, y su gran tamaño puede ser un inconveniente en entornos urbanos.Ventajas del Audi Q7Motores potentes y variados.Tracción quattro y suspensión adaptativa.Interior lujoso y tecnología avanzada.Desventajas del Audi Q7Consumo de combustible elevado.Precio inicial alto.Tamaño que dificulta la maniobrabilidad en ciudad.¿Por qué recomendamos el Audi Q7?Recomendamos el Audi Q7 por su combinación de lujo, espacio y tecnología avanzada. Es ideal para familias que buscan confort y prestaciones sin comprometer el estilo. Su versatilidad, desde la ciudad hasta el todoterreno, lo convierte en una opción atractiva para quienes desean un SUV premium de gran tamaño.Amantes de la tecnología: ¡este es vuestro SUV! Deportivo, elegante y lleno de gadgets.Audi Q7',\n",
       " 'El Mercedes-Benz Clase GLB es un SUV de 7 plazas versátil con configuraciones de cinco o siete asientos. Con una longitud de 4,63 metros, ofrece un maletero de 560 litros en la versión de cinco asientos. El interior es modular, con asientos traseros deslizables y reclinables, maximizando la flexibilidad y el espacio disponible.El GLB cuenta con tecnología como el sistema multimedia MBUX y la instrumentación digital. Además, la calidad de los acabados es superior, aunque algunas opciones pueden ser costosas. La tercera fila es adecuada para pasajeros de hasta 1,70 metros y puede ser difícil de acceder.Ventajas del Mercedes-Benz Clase GLBInterior modular con asientos ajustables.Tecnología avanzada (MBUX).Calidad de los acabados superior.Desventajas del Mercedes-Benz Clase GLBPrecio de opciones elevado.Tercera fila adecuada solo para pasajeros pequeños.Acceso complicado a la tercera fila.¿Por qué recomendamos el Mercedes-Benz Clase GLB?Recomendamos el GLB por su versatilidad y practicidad excepcionales. Combina el lujo de Mercedes con un espacio interior impresionante y la opción de siete plazas, algo poco común en su segmento. Su diseño inteligente y tecnología avanzada lo convierten en una excelente opción para familias que buscan un SUV premium y funcional.¿Buscas lujo compacto con espacio para siete? El GLB es ideal para la ciudad y la familia.Mercedes-Benz Clase GLB',\n",
       " 'El Hyundai Santa Fe es un SUV de 7 plazas con un diseño moderno y un interior flexible. Con una longitud de 4,83 metros, ofrece un maletero de 725 litros con cinco asientos. Los asientos son calefactados y ventilados, y la conducción es suave, ideal para viajes largos gracias a su diseño orientado al confort.Incluye una pantalla táctil de 12,3 pulgadas en su sistema multimedia y avanzados sistemas de seguridad. Sin embargo, la tercera fila puede ser ajustada para adultos altos y algunos materiales interiores, aunque ecológicos, pueden parecer menos lujosos comparados con otros modelos premium.Ventajas del Hyundai Santa FeDiseño moderno y asientos cómodos.Pantalla táctil grande y clara.Sistemas de seguridad avanzados.Desventajas del Hyundai Santa FeTercera fila ajustada para adultos altos.Algunos materiales interiores menos lujosos.Consumo de combustible elevado en versiones potentes.¿Por qué recomendamos el Hyundai Santa Fe?Recomendamos el Hyundai Santa Fe por su excelente equilibrio entre espacio, confort y tecnología. Es ideal para familias que buscan un SUV versátil y bien equipado. Su capacidad todoterreno y opciones de motorización híbrida lo hacen atractivo para diversos estilos de vida.Asequible, fiable y lleno de equipamiento... ¡el Santa Fe es tu aliado diario!Hyundai Santa Fe',\n",
       " 'El Kia Sorento es un SUV de 7 plazas que destaca por su diseño exterior renovado y un interior moderno. Con una longitud de 4,81 metros, ofrece configuraciones de asientos flexibles y una conducción cómoda gracias a su mejorada visibilidad y capó elevado. El sistema de infoentretenimiento incluye dos pantallas de 12,3 pulgadas y opciones de seguridad avanzadas.La tercera fila puede ser ajustada para adultos, y el espacio de carga se reduce significativamente al utilizarla. Además, en altitudes elevadas, se puede notar una ligera pérdida de potencia en el motor, dependiendo de la versión.Ventajas del Kia SorentoDiseño moderno y flexible.Pantallas avanzadas y claras.Conducción cómoda y segura.Desventajas del Kia SorentoTercera fila ajustada para adultos.Espacio de carga reducido con tercera fila en uso.Pérdida de potencia en altitudes elevadas.¿Por qué recomendamos el Kia Sorento?Recomendamos el Kia Sorento por su versatilidad y equilibrio entre comodidad, tecnología y capacidad. Es ideal para familias que buscan un SUV espacioso con asientos flexibles. Su combinación de características avanzadas, diseño moderno y capacidad de remolque mejorada lo convierte en una opción atractiva en su segmento.Estilo, eficiencia y enfoque familiar. ¡El Sorento lo tiene todo!Kia Sorento',\n",
       " 'El Peugeot 5008 es uno de los SUV de 7 plazas más populares gracias a su diseño moderno y amplio espacio. Con una longitud de 4,79 metros, ofrece un maletero de 748 litros con cinco asientos y hasta 1,815 litros con todos los asientos abatidos. La segunda fila cuenta con tres asientos individuales ajustables, mejorando la comodidad y flexibilidad.El interior incluye el i-Cockpit mejorado con una pantalla panorámica curva de 21 pulgadas, aportando un toque futurista y tecnológico. Sin embargo, la tercera fila puede ser ajustada para adultos altos y el espacio de carga se reduce considerablemente al utilizar las siete plazas.Ventajas del Peugeot 5008Diseño moderno y atractivo.Pantalla panorámica grande y avanzada.Segunda fila de asientos ajustables individualmente.Desventajas del Peugeot 5008Tercera fila ajustada para adultos altos.Espacio de carga limitado con siete plazas en uso.Algunos materiales interiores menos lujosos.¿Por qué recomendamos el Peugeot 5008?Recomendamos el Peugeot 5008 por su versatilidad y equilibrio entre espacio, tecnología y diseño. Es ideal para familias numerosas que buscan un SUV espacioso con asientos flexibles. Su combinación de características avanzadas, diseño moderno y capacidad de configuración lo convierte en una opción atractiva en su segmento.¡Elegancia europea y practicidad! El 5008 es perfecto para viajes cómodos y familias grandes.Peugeot 5008',\n",
       " 'El SEAT Tarraco es un SUV de 7 plazas versátil con configuraciones de cinco o siete asientos. Con una longitud de 4,73 metros, ofrece un maletero de 760 litros en la versión de cinco asientos y 700 litros en la de siete. El interior es espacioso y está bien acabado, con materiales de alta calidad y una pantalla táctil de al menos 8 pulgadas.Incluye avanzados sistemas de asistencia a la conducción, como control de crucero adaptativo y frenado de emergencia automático. Sin embargo, no es el modelo más deportivo de la gama y el precio inicial puede ser elevado para algunos compradores.Ventajas del SEAT TarracoEspacio interior amplio y bien acabado.Sistemas de asistencia avanzados.Buena conectividad (Apple CarPlay, Android Auto).Desventajas del SEAT TarracoNo es el más deportivo de la gama.Falta de una versión TGI de Gas Natural Comprimido.Precio inicial elevado.¿Por qué recomendamos el SEAT Tarraco?Recomendamos el SEAT Tarraco por su combinación de espacio, versatilidad y tecnología. Es ideal para familias que necesitan amplitud y confort. Su gama de motores, que incluye opciones de hasta 200 CV, y la futura variante híbrida enchufable, lo convierten en una opción atractiva en su segmento. Además, puedes encontrar precios más asequibles en el mercado de segunda mano.Espacioso y versátil, con toques deportivos: el Tarraco está hecho para familias activas.SEAT Tarraco',\n",
       " 'El Skoda Kodiaq es un SUV de 7 plazas con un diseño moderno y un interior práctico. Con una longitud de 4,76 metros, ofrece un maletero espacioso y un interior bien diseñado. El equipamiento incluye una pantalla central de 12,9 pulgadas y mandos rotatorios Smart Dials en el salpicadero, facilitando el control de las funciones del vehículo.Cuenta con asistentes de conducción avanzados como Emergency Assist y un sistema de aparcamiento remoto. Sin embargo, puede resultar estrecho para cinco adultos o tres niños en sillas, y el ajuste del chasis DCC no es tan equilibrado como en modelos de Volkswagen. Además, el ruido del motor diésel en ciudad puede ser perceptible.Ventajas del Skoda KodiaqInterior bien diseñado y espacioso.Equipamiento tecnológico avanzado.Buenas opciones de motorización.Desventajas del Skoda KodiaqEspacio ajustado para cinco adultos.Chasis menos equilibrado que en competidores.Ruido perceptible del motor diésel.¿Por qué recomendamos el Skoda Kodiaq?Recomendamos el Skoda Kodiaq por su combinación de espacio, practicidad y tecnología. Es ideal para familias que buscan confort en viajes largos, con un consumo razonable y opciones de motorización variadas, incluyendo versiones diésel, gasolina e híbrida enchufable. Su enfoque en la facilidad de uso y su equipamiento abundante lo hacen destacar en su segmento.¿Buscas un SUV amplio y económico? ¡El Kodiaq es el rey de la relación calidad-precio!Skoda Kodiaq',\n",
       " 'El Nissan X-Trail es un SUV robusto y sofisticado con configuraciones de 5 o 7 plazas. Con una longitud de 4.680 mm, ofrece un maletero de 585 litros en la versión de 5 asientos. Destaca por su sistema e-Power, que utiliza un motor de gasolina para generar electricidad y mover el vehículo eléctricamente, ofreciendo una conducción suave y eficiente.El interior es espacioso y versátil, con asientos traseros deslizables y reclinables. Incluye avanzadas asistencias a la conducción, como control de crucero adaptativo y frenado de emergencia automático. Sin embargo, el consumo de combustible puede ser mayor al anunciado y la aceleración puede sentirse menos ágil a velocidades medias en comparación con vehículos eléctricos puros.Ventajas del Nissan X-TrailSistema e-Power eficiente.Interior espacioso y versátil.Buen equipamiento de seguridad.Desventajas del Nissan X-TrailConsumo de combustible mayor al anunciado.Aceleración menos ágil en velocidades medias.Tercera fila ajustada para adultos.¿Por qué recomendamos el Nissan X-Trail?Recomendamos el Nissan X-Trail por su combinación de espacio, confort y tecnología avanzada. Es ideal para familias que buscan un SUV versátil con opciones de 5 o 7 plazas. Su sistema e-Power ofrece una experiencia de conducción suave y eficiente, mientras que su amplio equipamiento de seguridad y asistencias lo convierten en una opción atractiva en su segmento.¿Listo para aventuras con espacio para todos? El X-Trail te acompaña en todas tus escapadas rurales.Nissan X-Trail',\n",
       " 'El Mitsubishi Outlander es un SUV de 7 plazas con un diseño versátil y práctico. Con una longitud de 4,71 metros, ofrece un maletero de 585 litros en la versión de 5 asientos. Su motor de 2,5 litros MIVEC DOHC de 4 cilindros genera 181 caballos de fuerza, y la transmisión es continuamente variable (CVT), asegurando una conducción suave.El interior es espacioso, con un panel digital y una pantalla de 9 pulgadas con conectividad inalámbrica. Ofrece siete modos de conducción diferentes y un sistema de audio Bose de nueve altavoces. Sin embargo, la tercera fila de asientos puede resultar ajuastada para adultos y el piso del maletero no queda completamente plano al abatir los asientos.Ventajas del Mitsubishi OutlanderEspacio interior amplio y versátil.Buena conectividad y sistema de audio.Equipamiento de seguridad completo.Desventajas del Mitsubishi OutlanderTercera fila ajustada para adultos.Piso del maletero no completamente plano.Algunos elementos podrían mejorar con tecnología LED.¿Por qué recomendamos el Mitsubishi Outlander?Recomendamos el Outlander por su combinación de espacio, confort y tecnología avanzada. Es ideal para familias que buscan un SUV versátil con opciones de 5 o 7 plazas. Su equipamiento de seguridad y asistencias lo convierten en una opción atractiva en su segmento, ofreciendo un alto valor por su precio.Ecológico y familiar: la versión híbrida del Outlander es perfecta si buscas un SUV de 7 plazas eficiente.Mitsubishi Outlander']"
      ]
     },
     "execution_count": 38,
     "metadata": {},
     "output_type": "execute_result"
    }
   ],
   "source": [
    "# Tengo que borrar las 2 primeras entradas de la lista y de la 13 en adelante.\n",
    "del lista[0:2] \n",
    "del lista[10:]\n",
    "lista"
   ]
  },
  {
   "cell_type": "code",
   "execution_count": 39,
   "metadata": {},
   "outputs": [],
   "source": [
    "# La añado a la lista DF\n",
    "lista_caracteristicas_DF.extend(lista)"
   ]
  },
  {
   "cell_type": "code",
   "execution_count": 40,
   "metadata": {},
   "outputs": [],
   "source": [
    "# Creo una función para cosas a favor\n",
    "def lo_mejor (url, tag, class_):\n",
    "    conexion = requests.get(url)\n",
    "    sopa = bs (conexion.text, 'lxml')\n",
    "    lista_a_favor = []\n",
    "    cosas_a_favor= sopa.find_all(tag, class_) \n",
    "    for indice, a_favor in enumerate(cosas_a_favor):\n",
    "        lista_a_favor.append(a_favor.text.strip()) \n",
    "    return lista_a_favor"
   ]
  },
  {
   "cell_type": "code",
   "execution_count": 41,
   "metadata": {},
   "outputs": [],
   "source": [
    "# Creo una función para las cosas en contra\n",
    "def lo_peor (url, tag, class_):\n",
    "    conexion = requests.get(url)\n",
    "    sopa = bs (conexion.text, 'lxml')\n",
    "    lista_en_contra = []\n",
    "    cosas_en_contra= sopa.find_all(tag, class_) \n",
    "    for indice, en_contra in enumerate(cosas_en_contra):\n",
    "        lista_en_contra.append(en_contra.text.strip()) \n",
    "    return lista_en_contra"
   ]
  },
  {
   "cell_type": "code",
   "execution_count": 42,
   "metadata": {},
   "outputs": [
    {
     "data": {
      "text/plain": [
       "['Materiales interiores premium.Confort excepcional en todos los asientos.Equipamiento tecnológico avanzado.',\n",
       " 'Suspensión firme a bajas velocidades.Sistema de infoentretenimiento dependiente de la pantalla táctil.',\n",
       " 'Motores potentes y variados.Tracción quattro y suspensión adaptativa.Interior lujoso y tecnología avanzada.',\n",
       " 'Consumo de combustible elevado.Precio inicial alto.Tamaño que dificulta la maniobrabilidad en ciudad.',\n",
       " 'Interior modular con asientos ajustables.Tecnología avanzada (MBUX).Calidad de los acabados superior.',\n",
       " 'Precio de opciones elevado.Tercera fila adecuada solo para pasajeros pequeños.Acceso complicado a la tercera fila.',\n",
       " 'Diseño moderno y asientos cómodos.Pantalla táctil grande y clara.Sistemas de seguridad avanzados.',\n",
       " 'Tercera fila ajustada para adultos altos.Algunos materiales interiores menos lujosos.Consumo de combustible elevado en versiones potentes.',\n",
       " 'Diseño moderno y flexible.Pantallas avanzadas y claras.Conducción cómoda y segura.',\n",
       " 'Tercera fila ajustada para adultos.Espacio de carga reducido con tercera fila en uso.Pérdida de potencia en altitudes elevadas.',\n",
       " 'Diseño moderno y atractivo.Pantalla panorámica grande y avanzada.Segunda fila de asientos ajustables individualmente.',\n",
       " 'Tercera fila ajustada para adultos altos.Espacio de carga limitado con siete plazas en uso.Algunos materiales interiores menos lujosos.',\n",
       " 'Espacio interior amplio y bien acabado.Sistemas de asistencia avanzados.Buena conectividad (Apple CarPlay, Android Auto).',\n",
       " 'No es el más deportivo de la gama.Falta de una versión TGI de Gas Natural Comprimido.Precio inicial elevado.',\n",
       " 'Interior bien diseñado y espacioso.Equipamiento tecnológico avanzado.Buenas opciones de motorización.',\n",
       " 'Espacio ajustado para cinco adultos.Chasis menos equilibrado que en competidores.Ruido perceptible del motor diésel.',\n",
       " 'Sistema e-Power eficiente.Interior espacioso y versátil.Buen equipamiento de seguridad.',\n",
       " 'Consumo de combustible mayor al anunciado.Aceleración menos ágil en velocidades medias.Tercera fila ajustada para adultos.',\n",
       " 'Espacio interior amplio y versátil.Buena conectividad y sistema de audio.Equipamiento de seguridad completo.',\n",
       " 'Tercera fila ajustada para adultos.Piso del maletero no completamente plano.Algunos elementos podrían mejorar con tecnología LED.',\n",
       " 'SUV pequeños (subcompactos o compactos): Son más manejables y adecuados para la ciudad, como el Hyundai Kona o el Nissan Juke.SUV medianos: Ofrecen un buen equilibrio entre espacio y manejabilidad, como el Toyota RAV4 o el Ford Kuga.SUV grandes: Son más espaciosos, a menudo con opción de 7 plazas, como el Nissan X-Trail o el Kia Sorento.SUV de lujo: Ofrecen características premium y mayor confort, como el Audi Q7 o el BMW X5.SUV todoterreno: Están diseñados para un rendimiento óptimo fuera de la carretera, como el Jeep Wrangler o el Toyota Land Cruiser.',\n",
       " 'Consejoselegirmejor cocheLos 10 mejores SUV 7 plazas para 2025']"
      ]
     },
     "execution_count": 42,
     "metadata": {},
     "output_type": "execute_result"
    }
   ],
   "source": [
    "lista_a_favor_url_2 = lo_mejor(url_2, 'ul', None)\n",
    "lista_a_favor_url_2"
   ]
  },
  {
   "cell_type": "code",
   "execution_count": 43,
   "metadata": {},
   "outputs": [
    {
     "data": {
      "text/plain": [
       "['Materiales interiores premium.Confort excepcional en todos los asientos.Equipamiento tecnológico avanzado.',\n",
       " 'Suspensión firme a bajas velocidades.Sistema de infoentretenimiento dependiente de la pantalla táctil.',\n",
       " 'Motores potentes y variados.Tracción quattro y suspensión adaptativa.Interior lujoso y tecnología avanzada.',\n",
       " 'Consumo de combustible elevado.Precio inicial alto.Tamaño que dificulta la maniobrabilidad en ciudad.',\n",
       " 'Interior modular con asientos ajustables.Tecnología avanzada (MBUX).Calidad de los acabados superior.',\n",
       " 'Precio de opciones elevado.Tercera fila adecuada solo para pasajeros pequeños.Acceso complicado a la tercera fila.',\n",
       " 'Diseño moderno y asientos cómodos.Pantalla táctil grande y clara.Sistemas de seguridad avanzados.',\n",
       " 'Tercera fila ajustada para adultos altos.Algunos materiales interiores menos lujosos.Consumo de combustible elevado en versiones potentes.',\n",
       " 'Diseño moderno y flexible.Pantallas avanzadas y claras.Conducción cómoda y segura.',\n",
       " 'Tercera fila ajustada para adultos.Espacio de carga reducido con tercera fila en uso.Pérdida de potencia en altitudes elevadas.',\n",
       " 'Diseño moderno y atractivo.Pantalla panorámica grande y avanzada.Segunda fila de asientos ajustables individualmente.',\n",
       " 'Tercera fila ajustada para adultos altos.Espacio de carga limitado con siete plazas en uso.Algunos materiales interiores menos lujosos.',\n",
       " 'Espacio interior amplio y bien acabado.Sistemas de asistencia avanzados.Buena conectividad (Apple CarPlay, Android Auto).',\n",
       " 'No es el más deportivo de la gama.Falta de una versión TGI de Gas Natural Comprimido.Precio inicial elevado.',\n",
       " 'Interior bien diseñado y espacioso.Equipamiento tecnológico avanzado.Buenas opciones de motorización.',\n",
       " 'Espacio ajustado para cinco adultos.Chasis menos equilibrado que en competidores.Ruido perceptible del motor diésel.',\n",
       " 'Sistema e-Power eficiente.Interior espacioso y versátil.Buen equipamiento de seguridad.',\n",
       " 'Consumo de combustible mayor al anunciado.Aceleración menos ágil en velocidades medias.Tercera fila ajustada para adultos.',\n",
       " 'Espacio interior amplio y versátil.Buena conectividad y sistema de audio.Equipamiento de seguridad completo.',\n",
       " 'Tercera fila ajustada para adultos.Piso del maletero no completamente plano.Algunos elementos podrían mejorar con tecnología LED.']"
      ]
     },
     "execution_count": 43,
     "metadata": {},
     "output_type": "execute_result"
    }
   ],
   "source": [
    "# Veo que me da tanto a favor como en contra y dos registros no válidos\n",
    "# Primero elimino los dos ultimos registros\n",
    "del lista_a_favor_url_2[-2 :]\n",
    "lista_a_favor_url_2\n"
   ]
  },
  {
   "cell_type": "code",
   "execution_count": 44,
   "metadata": {},
   "outputs": [
    {
     "data": {
      "text/plain": [
       "['Materiales interiores premium.Confort excepcional en todos los asientos.Equipamiento tecnológico avanzado.',\n",
       " 'Motores potentes y variados.Tracción quattro y suspensión adaptativa.Interior lujoso y tecnología avanzada.',\n",
       " 'Interior modular con asientos ajustables.Tecnología avanzada (MBUX).Calidad de los acabados superior.',\n",
       " 'Diseño moderno y asientos cómodos.Pantalla táctil grande y clara.Sistemas de seguridad avanzados.',\n",
       " 'Diseño moderno y flexible.Pantallas avanzadas y claras.Conducción cómoda y segura.',\n",
       " 'Diseño moderno y atractivo.Pantalla panorámica grande y avanzada.Segunda fila de asientos ajustables individualmente.',\n",
       " 'Espacio interior amplio y bien acabado.Sistemas de asistencia avanzados.Buena conectividad (Apple CarPlay, Android Auto).',\n",
       " 'Interior bien diseñado y espacioso.Equipamiento tecnológico avanzado.Buenas opciones de motorización.',\n",
       " 'Sistema e-Power eficiente.Interior espacioso y versátil.Buen equipamiento de seguridad.',\n",
       " 'Espacio interior amplio y versátil.Buena conectividad y sistema de audio.Equipamiento de seguridad completo.']"
      ]
     },
     "execution_count": 44,
     "metadata": {},
     "output_type": "execute_result"
    }
   ],
   "source": [
    "# Ahora nos quedamos con los valores impares para lo puntos positivos\n",
    "lista_a_favor_url_2_corregida =[lista_a_favor_url_2[i] for i in range(0, len(lista_a_favor_url_2), 2)]\n",
    "lista_a_favor_url_2_corregida"
   ]
  },
  {
   "cell_type": "code",
   "execution_count": 45,
   "metadata": {},
   "outputs": [
    {
     "data": {
      "text/plain": [
       "['Suspensión firme a bajas velocidades.Sistema de infoentretenimiento dependiente de la pantalla táctil.',\n",
       " 'Consumo de combustible elevado.Precio inicial alto.Tamaño que dificulta la maniobrabilidad en ciudad.',\n",
       " 'Precio de opciones elevado.Tercera fila adecuada solo para pasajeros pequeños.Acceso complicado a la tercera fila.',\n",
       " 'Tercera fila ajustada para adultos altos.Algunos materiales interiores menos lujosos.Consumo de combustible elevado en versiones potentes.',\n",
       " 'Tercera fila ajustada para adultos.Espacio de carga reducido con tercera fila en uso.Pérdida de potencia en altitudes elevadas.',\n",
       " 'Tercera fila ajustada para adultos altos.Espacio de carga limitado con siete plazas en uso.Algunos materiales interiores menos lujosos.',\n",
       " 'No es el más deportivo de la gama.Falta de una versión TGI de Gas Natural Comprimido.Precio inicial elevado.',\n",
       " 'Espacio ajustado para cinco adultos.Chasis menos equilibrado que en competidores.Ruido perceptible del motor diésel.',\n",
       " 'Consumo de combustible mayor al anunciado.Aceleración menos ágil en velocidades medias.Tercera fila ajustada para adultos.',\n",
       " 'Tercera fila ajustada para adultos.Piso del maletero no completamente plano.Algunos elementos podrían mejorar con tecnología LED.']"
      ]
     },
     "execution_count": 45,
     "metadata": {},
     "output_type": "execute_result"
    }
   ],
   "source": [
    "# Misma operacion con los valores pares para obtener los puntos negativos\n",
    "lista_en_contra_url_2 =[lista_a_favor_url_2[i] for i in range(1, len(lista_a_favor_url_2), 2)]\n",
    "lista_en_contra_url_2"
   ]
  },
  {
   "cell_type": "code",
   "execution_count": 46,
   "metadata": {},
   "outputs": [],
   "source": [
    "# Las añadimos a sus listas del DF\n",
    "lista_a_favor_DF.extend(lista_a_favor_url_2_corregida)\n",
    "lista_en_contra_DF.extend(lista_en_contra_url_2)"
   ]
  },
  {
   "cell_type": "code",
   "execution_count": 47,
   "metadata": {},
   "outputs": [],
   "source": [
    "# Columna opiniones\n",
    "# Ahora hago una función para sacar el texto que argumenta las opiniones\n",
    "def opiniones (url, tag, class_):\n",
    "    conexion = requests.get(url)\n",
    "    sopa = bs (conexion.text, 'lxml')\n",
    "    lista_opiniones = []\n",
    "    opiniciones= sopa.find_all(tag, class_)\n",
    "    for indice, opinion in enumerate(opiniciones):\n",
    "        lista_opiniones.append(opinion.text.strip())\n",
    "        indice += 1\n",
    "    return lista_opiniones"
   ]
  },
  {
   "cell_type": "code",
   "execution_count": 48,
   "metadata": {},
   "outputs": [
    {
     "data": {
      "text/plain": [
       "['La fiebre de los SUV sigue creciendo en España, y tanto los SUV pequeños como los de mayor tamaño han ganado cuota de mercado en los últimos años. En esta guía, seleccionamos los mejores SUV con 7 plazas, destacando ventajas como la amplitud del habitáculo y la gran capacidad de carga del maletero.',\n",
       " 'Si formas parte de una familia numerosa, es fundamental encontrar un vehículo amplio y modular que asegure la comodidad de todos los pasajeros. Tanto para los desplazamientos diarios como para viajes largos, opta por un coche con un gran volumen de maletero y una excelente habitabilidad. Los coches con 7 asientos, especialmente los SUV, son ideales, ofreciendo espacio y flexibilidad.',\n",
       " 'Actualmente, los SUV han reemplazado al monovolumen como la opción preferida para las familias grandes. Estos SUV no solo brindan más espacio, sino también una mejor capacidad off-road y mayor versatilidad para distintos tipos de terrenos y condiciones climáticas.',\n",
       " 'Al seleccionar un SUV de siete plazas, es importante considerar la eficiencia de combustible, las tecnologías de seguridad avanzadas, las opciones de motorización híbrida o eléctrica y el nivel de equipamiento interior.',\n",
       " 'Estos vehículos son perfectos para quienes buscan un balance entre espacio, confort y funcionalidad. Con múltiples configuraciones de asientos, amplios compartimientos de carga y diversas tecnologías, mejoran tanto la experiencia de conducción como la seguridad de todos los ocupantes.',\n",
       " 'Evalua la eficiencia de combustible, el espacio interior, las opciones de motorización, las características de seguridad y las tecnologías de asistencia al conductor. Otros aspectos que también deberías considerar son la capacidad de carga y el rendimiento en diferentes terrenos.',\n",
       " 'En esta guía, presentamos los mejores SUV de siete plazas del mercado, destacando sus principales características, ventajas y desventajas.',\n",
       " 'Descubre nuestra selección y encuentra el mejor coche con siete asientos:',\n",
       " 'El Volvo XC90 es un SUV de 7 plazas que destaca por su espacioso interior y diseño ergonómico. Con una longitud de 4,95 metros, ofrece un maletero de 692 litros con cinco asientos en uso y 314 litros con las siete plazas ocupadas. Los asientos son ajustables individualmente, optimizando el confort para todos los ocupantes, incluso en la tercera fila, donde pueden viajar adultos de hasta 170 cm.',\n",
       " 'El interior está acabado con materiales de alta calidad como cuero y madera, y el puesto de conducción está diseñado para una experiencia intuitiva. Además, el XC90 viene equipado de serie con tecnologías como control de crucero adaptativo y faros LED. Sin embargo, la suspensión puede resultar firme a bajas velocidades y el sistema de infoentretenimiento depende en gran medida de la pantalla táctil.',\n",
       " 'Este SUV de origen sueco combina lujo, espacio y versatilidad. Su interior de alta calidad, junto con su capacidad para siete ocupantes y un generoso maletero, lo hacen ideal para familias que buscan confort y practicidad. Además, su equipamiento de seguridad y tecnología lo posiciona como una excelente opción en su segmento.',\n",
       " 'Lujo, seguridad y estilo: el XC90 es perfecto para familias que lo quieren todo.',\n",
       " 'Volvo XC90',\n",
       " 'El Audi Q7 es un SUV de 7 plazas que combina un diseño atlético con un interior espacioso. Con una longitud de 5,052 mm, ofrece un maletero de 780 litros, ampliable a 1,908 litros con los asientos abatidos. Los motores disponibles van desde 231 CV en la versión diésel hasta 507 CV en la versión SQ7, proporcionando una conducción potente y controlada gracias a la tracción quattro y la suspensión neumática adaptativa.',\n",
       " 'El interior lujoso del Q7 incluye tecnologías avanzadas como el Audi virtual cockpit y los faros Matrix LED HD con función láser. Sin embargo, el consumo de combustible es elevado, especialmente en las versiones de gasolina, y su gran tamaño puede ser un inconveniente en entornos urbanos.',\n",
       " 'Recomendamos el Audi Q7 por su combinación de lujo, espacio y tecnología avanzada. Es ideal para familias que buscan confort y prestaciones sin comprometer el estilo. Su versatilidad, desde la ciudad hasta el todoterreno, lo convierte en una opción atractiva para quienes desean un SUV premium de gran tamaño.',\n",
       " 'Amantes de la tecnología: ¡este es vuestro SUV! Deportivo, elegante y lleno de gadgets.',\n",
       " 'Audi Q7',\n",
       " 'El Mercedes-Benz Clase GLB es un SUV de 7 plazas versátil con configuraciones de cinco o siete asientos. Con una longitud de 4,63 metros, ofrece un maletero de 560 litros en la versión de cinco asientos. El interior es modular, con asientos traseros deslizables y reclinables, maximizando la flexibilidad y el espacio disponible.',\n",
       " 'El GLB cuenta con tecnología como el sistema multimedia MBUX y la instrumentación digital. Además, la calidad de los acabados es superior, aunque algunas opciones pueden ser costosas. La tercera fila es adecuada para pasajeros de hasta 1,70 metros y puede ser difícil de acceder.',\n",
       " 'Recomendamos el GLB por su versatilidad y practicidad excepcionales. Combina el lujo de Mercedes con un espacio interior impresionante y la opción de siete plazas, algo poco común en su segmento. Su diseño inteligente y tecnología avanzada lo convierten en una excelente opción para familias que buscan un SUV premium y funcional.',\n",
       " '¿Buscas lujo compacto con espacio para siete? El GLB es ideal para la ciudad y la familia.',\n",
       " 'Mercedes-Benz Clase GLB',\n",
       " 'El Hyundai Santa Fe es un SUV de 7 plazas con un diseño moderno y un interior flexible. Con una longitud de 4,83 metros, ofrece un maletero de 725 litros con cinco asientos. Los asientos son calefactados y ventilados, y la conducción es suave, ideal para viajes largos gracias a su diseño orientado al confort.',\n",
       " 'Incluye una pantalla táctil de 12,3 pulgadas en su sistema multimedia y avanzados sistemas de seguridad. Sin embargo, la tercera fila puede ser ajustada para adultos altos y algunos materiales interiores, aunque ecológicos, pueden parecer menos lujosos comparados con otros modelos premium.',\n",
       " 'Recomendamos el Hyundai Santa Fe por su excelente equilibrio entre espacio, confort y tecnología. Es ideal para familias que buscan un SUV versátil y bien equipado. Su capacidad todoterreno y opciones de motorización híbrida lo hacen atractivo para diversos estilos de vida.',\n",
       " 'Asequible, fiable y lleno de equipamiento... ¡el Santa Fe es tu aliado diario!',\n",
       " 'Hyundai Santa Fe',\n",
       " 'El Kia Sorento es un SUV de 7 plazas que destaca por su diseño exterior renovado y un interior moderno. Con una longitud de 4,81 metros, ofrece configuraciones de asientos flexibles y una conducción cómoda gracias a su mejorada visibilidad y capó elevado. El sistema de infoentretenimiento incluye dos pantallas de 12,3 pulgadas y opciones de seguridad avanzadas.',\n",
       " 'La tercera fila puede ser ajustada para adultos, y el espacio de carga se reduce significativamente al utilizarla. Además, en altitudes elevadas, se puede notar una ligera pérdida de potencia en el motor, dependiendo de la versión.',\n",
       " 'Recomendamos el Kia Sorento por su versatilidad y equilibrio entre comodidad, tecnología y capacidad. Es ideal para familias que buscan un SUV espacioso con asientos flexibles. Su combinación de características avanzadas, diseño moderno y capacidad de remolque mejorada lo convierte en una opción atractiva en su segmento.',\n",
       " 'Estilo, eficiencia y enfoque familiar. ¡El Sorento lo tiene todo!',\n",
       " 'Kia Sorento',\n",
       " 'El Peugeot 5008 es uno de los SUV de 7 plazas más populares gracias a su diseño moderno y amplio espacio. Con una longitud de 4,79 metros, ofrece un maletero de 748 litros con cinco asientos y hasta 1,815 litros con todos los asientos abatidos. La segunda fila cuenta con tres asientos individuales ajustables, mejorando la comodidad y flexibilidad.',\n",
       " 'El interior incluye el i-Cockpit mejorado con una pantalla panorámica curva de 21 pulgadas, aportando un toque futurista y tecnológico. Sin embargo, la tercera fila puede ser ajustada para adultos altos y el espacio de carga se reduce considerablemente al utilizar las siete plazas.',\n",
       " 'Recomendamos el Peugeot 5008 por su versatilidad y equilibrio entre espacio, tecnología y diseño. Es ideal para familias numerosas que buscan un SUV espacioso con asientos flexibles. Su combinación de características avanzadas, diseño moderno y capacidad de configuración lo convierte en una opción atractiva en su segmento.',\n",
       " '¡Elegancia europea y practicidad! El 5008 es perfecto para viajes cómodos y familias grandes.',\n",
       " 'Peugeot 5008',\n",
       " 'El SEAT Tarraco es un SUV de 7 plazas versátil con configuraciones de cinco o siete asientos. Con una longitud de 4,73 metros, ofrece un maletero de 760 litros en la versión de cinco asientos y 700 litros en la de siete. El interior es espacioso y está bien acabado, con materiales de alta calidad y una pantalla táctil de al menos 8 pulgadas.',\n",
       " 'Incluye avanzados sistemas de asistencia a la conducción, como control de crucero adaptativo y frenado de emergencia automático. Sin embargo, no es el modelo más deportivo de la gama y el precio inicial puede ser elevado para algunos compradores.',\n",
       " 'Recomendamos el SEAT Tarraco por su combinación de espacio, versatilidad y tecnología. Es ideal para familias que necesitan amplitud y confort. Su gama de motores, que incluye opciones de hasta 200 CV, y la futura variante híbrida enchufable, lo convierten en una opción atractiva en su segmento. Además, puedes encontrar precios más asequibles en el mercado de segunda mano.',\n",
       " 'Espacioso y versátil, con toques deportivos: el Tarraco está hecho para familias activas.',\n",
       " 'SEAT Tarraco',\n",
       " 'El Skoda Kodiaq es un SUV de 7 plazas con un diseño moderno y un interior práctico. Con una longitud de 4,76 metros, ofrece un maletero espacioso y un interior bien diseñado. El equipamiento incluye una pantalla central de 12,9 pulgadas y mandos rotatorios Smart Dials en el salpicadero, facilitando el control de las funciones del vehículo.',\n",
       " 'Cuenta con asistentes de conducción avanzados como Emergency Assist y un sistema de aparcamiento remoto. Sin embargo, puede resultar estrecho para cinco adultos o tres niños en sillas, y el ajuste del chasis DCC no es tan equilibrado como en modelos de Volkswagen. Además, el ruido del motor diésel en ciudad puede ser perceptible.',\n",
       " 'Recomendamos el Skoda Kodiaq por su combinación de espacio, practicidad y tecnología. Es ideal para familias que buscan confort en viajes largos, con un consumo razonable y opciones de motorización variadas, incluyendo versiones diésel, gasolina e híbrida enchufable. Su enfoque en la facilidad de uso y su equipamiento abundante lo hacen destacar en su segmento.',\n",
       " '¿Buscas un SUV amplio y económico? ¡El Kodiaq es el rey de la relación calidad-precio!',\n",
       " 'Skoda Kodiaq',\n",
       " 'El Nissan X-Trail es un SUV robusto y sofisticado con configuraciones de 5 o 7 plazas. Con una longitud de 4.680 mm, ofrece un maletero de 585 litros en la versión de 5 asientos. Destaca por su sistema e-Power, que utiliza un motor de gasolina para generar electricidad y mover el vehículo eléctricamente, ofreciendo una conducción suave y eficiente.',\n",
       " 'El interior es espacioso y versátil, con asientos traseros deslizables y reclinables. Incluye avanzadas asistencias a la conducción, como control de crucero adaptativo y frenado de emergencia automático. Sin embargo, el consumo de combustible puede ser mayor al anunciado y la aceleración puede sentirse menos ágil a velocidades medias en comparación con vehículos eléctricos puros.',\n",
       " 'Recomendamos el Nissan X-Trail por su combinación de espacio, confort y tecnología avanzada. Es ideal para familias que buscan un SUV versátil con opciones de 5 o 7 plazas. Su sistema e-Power ofrece una experiencia de conducción suave y eficiente, mientras que su amplio equipamiento de seguridad y asistencias lo convierten en una opción atractiva en su segmento.',\n",
       " '¿Listo para aventuras con espacio para todos? El X-Trail te acompaña en todas tus escapadas rurales.',\n",
       " 'Nissan X-Trail',\n",
       " 'El Mitsubishi Outlander es un SUV de 7 plazas con un diseño versátil y práctico. Con una longitud de 4,71 metros, ofrece un maletero de 585 litros en la versión de 5 asientos. Su motor de 2,5 litros MIVEC DOHC de 4 cilindros genera 181 caballos de fuerza, y la transmisión es continuamente variable (CVT), asegurando una conducción suave.',\n",
       " 'El interior es espacioso, con un panel digital y una pantalla de 9 pulgadas con conectividad inalámbrica. Ofrece siete modos de conducción diferentes y un sistema de audio Bose de nueve altavoces. Sin embargo, la tercera fila de asientos puede resultar ajuastada para adultos y el piso del maletero no queda completamente plano al abatir los asientos.',\n",
       " 'Recomendamos el Outlander por su combinación de espacio, confort y tecnología avanzada. Es ideal para familias que buscan un SUV versátil con opciones de 5 o 7 plazas. Su equipamiento de seguridad y asistencias lo convierten en una opción atractiva en su segmento, ofreciendo un alto valor por su precio.',\n",
       " 'Ecológico y familiar: la versión híbrida del Outlander es perfecta si buscas un SUV de 7 plazas eficiente.',\n",
       " 'Mitsubishi Outlander',\n",
       " 'Esperamos que esta lista te haya ayudado a identificar las mejores opciones para un coche de 7 plazas que se ajuste a tus necesidades y preferencias.',\n",
       " 'En Autohero, no solo encontrarás una amplia selección de SUV de 7 plazas, sino que también ofrecemos opciones de financiación adaptadas a tu presupuesto, facilitando la adquisición del vehículo ideal para ti y tu familia. Además, todos nuestros coches cumplen con el estándar de calidad de Autohero, garantizando una compra segura y confiable. Te recomendamos explorar nuestra lista de los 10 mejores coches familiares baratos. ¡Calcula tu presupuesto mensual ahora!',\n",
       " 'SUV de 7 plazas',\n",
       " 'El Nissan X-Trail es el modelo de Nissan que ofrece una configuración con 7 plazas. Este SUV es conocido por su versatilidad y espacio, ideal para familias numerosas.',\n",
       " 'El Hyundai Kona es un SUV compacto que tiene 5 plazas. No está disponible en una configuración de 7 plazas.',\n",
       " 'Los SUV se pueden clasificar en varios tipos según su tamaño y características:']"
      ]
     },
     "execution_count": 48,
     "metadata": {},
     "output_type": "execute_result"
    }
   ],
   "source": [
    "lista_opiniones_url_2 = opiniones(url_2, 'p', None)\n",
    "lista_opiniones_url_2"
   ]
  },
  {
   "cell_type": "code",
   "execution_count": 49,
   "metadata": {},
   "outputs": [],
   "source": [
    "# Me devuelve todos los párrafos, toca volver a escoger los que me interesan\n",
    "# Me quedo con: 11, 16, 21, 26, 31, 36, 41, 46, 51, 56 (ojo, son las posiciones reales, no las de la lista Python)\n",
    "del lista_opiniones_url_2 [0:10]\n",
    "del lista_opiniones_url_2 [-8:] # elimino las últimas\n",
    "lista_opiniones_url_2_corregida = lista_opiniones_url_2 [::5] # me quedo con el resto que son las que ocupan las posiciones 5"
   ]
  },
  {
   "cell_type": "code",
   "execution_count": 50,
   "metadata": {},
   "outputs": [
    {
     "data": {
      "text/plain": [
       "['Este SUV de origen sueco combina lujo, espacio y versatilidad. Su interior de alta calidad, junto con su capacidad para siete ocupantes y un generoso maletero, lo hacen ideal para familias que buscan confort y practicidad. Además, su equipamiento de seguridad y tecnología lo posiciona como una excelente opción en su segmento.',\n",
       " 'Recomendamos el Audi Q7 por su combinación de lujo, espacio y tecnología avanzada. Es ideal para familias que buscan confort y prestaciones sin comprometer el estilo. Su versatilidad, desde la ciudad hasta el todoterreno, lo convierte en una opción atractiva para quienes desean un SUV premium de gran tamaño.',\n",
       " 'Recomendamos el GLB por su versatilidad y practicidad excepcionales. Combina el lujo de Mercedes con un espacio interior impresionante y la opción de siete plazas, algo poco común en su segmento. Su diseño inteligente y tecnología avanzada lo convierten en una excelente opción para familias que buscan un SUV premium y funcional.',\n",
       " 'Recomendamos el Hyundai Santa Fe por su excelente equilibrio entre espacio, confort y tecnología. Es ideal para familias que buscan un SUV versátil y bien equipado. Su capacidad todoterreno y opciones de motorización híbrida lo hacen atractivo para diversos estilos de vida.',\n",
       " 'Recomendamos el Kia Sorento por su versatilidad y equilibrio entre comodidad, tecnología y capacidad. Es ideal para familias que buscan un SUV espacioso con asientos flexibles. Su combinación de características avanzadas, diseño moderno y capacidad de remolque mejorada lo convierte en una opción atractiva en su segmento.',\n",
       " 'Recomendamos el Peugeot 5008 por su versatilidad y equilibrio entre espacio, tecnología y diseño. Es ideal para familias numerosas que buscan un SUV espacioso con asientos flexibles. Su combinación de características avanzadas, diseño moderno y capacidad de configuración lo convierte en una opción atractiva en su segmento.',\n",
       " 'Recomendamos el SEAT Tarraco por su combinación de espacio, versatilidad y tecnología. Es ideal para familias que necesitan amplitud y confort. Su gama de motores, que incluye opciones de hasta 200 CV, y la futura variante híbrida enchufable, lo convierten en una opción atractiva en su segmento. Además, puedes encontrar precios más asequibles en el mercado de segunda mano.',\n",
       " 'Recomendamos el Skoda Kodiaq por su combinación de espacio, practicidad y tecnología. Es ideal para familias que buscan confort en viajes largos, con un consumo razonable y opciones de motorización variadas, incluyendo versiones diésel, gasolina e híbrida enchufable. Su enfoque en la facilidad de uso y su equipamiento abundante lo hacen destacar en su segmento.',\n",
       " 'Recomendamos el Nissan X-Trail por su combinación de espacio, confort y tecnología avanzada. Es ideal para familias que buscan un SUV versátil con opciones de 5 o 7 plazas. Su sistema e-Power ofrece una experiencia de conducción suave y eficiente, mientras que su amplio equipamiento de seguridad y asistencias lo convierten en una opción atractiva en su segmento.',\n",
       " 'Recomendamos el Outlander por su combinación de espacio, confort y tecnología avanzada. Es ideal para familias que buscan un SUV versátil con opciones de 5 o 7 plazas. Su equipamiento de seguridad y asistencias lo convierten en una opción atractiva en su segmento, ofreciendo un alto valor por su precio.']"
      ]
     },
     "execution_count": 50,
     "metadata": {},
     "output_type": "execute_result"
    }
   ],
   "source": [
    "lista_opiniones_url_2_corregida"
   ]
  },
  {
   "cell_type": "code",
   "execution_count": 51,
   "metadata": {},
   "outputs": [],
   "source": [
    "# La añadimos a la columna del DF\n",
    "lista_opinion_DF.extend(lista_opiniones_url_2_corregida)"
   ]
  },
  {
   "cell_type": "code",
   "execution_count": 52,
   "metadata": {},
   "outputs": [
    {
     "data": {
      "text/plain": [
       "['Desde 54.668 €',\n",
       " 'Desde 38.280 €',\n",
       " 'Desde 51.478 €',\n",
       " 'Desde 40.001 €',\n",
       " 'Desde 34.885 €',\n",
       " 'Desde 42.981 €',\n",
       " 'Desde 45.963 €',\n",
       " 'Desde 32.660 €',\n",
       " 'Desde 46.330 €',\n",
       " 'Desde 59.790 €',\n",
       " None,\n",
       " None,\n",
       " None,\n",
       " None,\n",
       " None,\n",
       " None,\n",
       " None,\n",
       " None,\n",
       " None,\n",
       " None]"
      ]
     },
     "execution_count": 52,
     "metadata": {},
     "output_type": "execute_result"
    }
   ],
   "source": [
    "# En esta página no vienen precios, por lo que genero una lista con None y la añado a la del DF\n",
    "lista_precios_url_2 = crear_lista_none(10)\n",
    "lista_precios_DF.extend(lista_precios_url_2)  \n",
    "lista_precios_DF   "
   ]
  },
  {
   "cell_type": "code",
   "execution_count": 53,
   "metadata": {},
   "outputs": [],
   "source": [
    "# Tengo que añadir la nueva lista de caracteristicas al diccionario para ampliar mi DF\n",
    "diccionario_coches['Características']= lista_caracteristicas_DF\n"
   ]
  },
  {
   "cell_type": "code",
   "execution_count": 54,
   "metadata": {},
   "outputs": [
    {
     "data": {
      "text/html": [
       "<div>\n",
       "<style scoped>\n",
       "    .dataframe tbody tr th:only-of-type {\n",
       "        vertical-align: middle;\n",
       "    }\n",
       "\n",
       "    .dataframe tbody tr th {\n",
       "        vertical-align: top;\n",
       "    }\n",
       "\n",
       "    .dataframe thead th {\n",
       "        text-align: right;\n",
       "    }\n",
       "</style>\n",
       "<table border=\"1\" class=\"dataframe\">\n",
       "  <thead>\n",
       "    <tr style=\"text-align: right;\">\n",
       "      <th></th>\n",
       "      <th>Nombre</th>\n",
       "      <th>Valoraciones</th>\n",
       "      <th>A favor</th>\n",
       "      <th>En contra</th>\n",
       "      <th>Opiniones</th>\n",
       "      <th>Precio</th>\n",
       "      <th>Características</th>\n",
       "    </tr>\n",
       "  </thead>\n",
       "  <tbody>\n",
       "    <tr>\n",
       "      <th>0</th>\n",
       "      <td>1. Mazda CX-80</td>\n",
       "      <td>9/10</td>\n",
       "      <td>[Excelente eficiencia tanto en el PHEV como en...</td>\n",
       "      <td>[La suspensión puede sentirse algo seca en cie...</td>\n",
       "      <td>El CX-80 usa la misma plataforma y motores que...</td>\n",
       "      <td>Desde 54.668 €</td>\n",
       "      <td>None</td>\n",
       "    </tr>\n",
       "    <tr>\n",
       "      <th>1</th>\n",
       "      <td>2. Renault Espace</td>\n",
       "      <td>9/10</td>\n",
       "      <td>[Consumo, Equipamiento disponible, Opción de s...</td>\n",
       "      <td>[Funcionamiento poco refinado en ocasiones, Ga...</td>\n",
       "      <td>El nuevo Renault Espace es ahora un SUV con un...</td>\n",
       "      <td>Desde 38.280 €</td>\n",
       "      <td>None</td>\n",
       "    </tr>\n",
       "    <tr>\n",
       "      <th>2</th>\n",
       "      <td>3. Hyundai Santa Fe</td>\n",
       "      <td>8/10</td>\n",
       "      <td>[Equipamiento y tecnología propios de coches d...</td>\n",
       "      <td>[Precio elevado, Escasa autonomía eléctrica de...</td>\n",
       "      <td>El Santa Fe dispone de motorizaciones híbrida ...</td>\n",
       "      <td>Desde 51.478 €</td>\n",
       "      <td>None</td>\n",
       "    </tr>\n",
       "    <tr>\n",
       "      <th>3</th>\n",
       "      <td>4. Skoda Kodiaq</td>\n",
       "      <td>8/10</td>\n",
       "      <td>[Practicidad y espacio disponible, Oferta mecá...</td>\n",
       "      <td>[Ergonomía de algunos mandos, Plazas de la ter...</td>\n",
       "      <td>El Skoda Kodiaq es mucho más barato que el Q7,...</td>\n",
       "      <td>Desde 40.001 €</td>\n",
       "      <td>None</td>\n",
       "    </tr>\n",
       "    <tr>\n",
       "      <th>4</th>\n",
       "      <td>5. Peugeot 5008</td>\n",
       "      <td>8/10</td>\n",
       "      <td>[Amplio interior con 7 plazas de serie, Comodi...</td>\n",
       "      <td>[La calidad del sistema multimedia podría mejo...</td>\n",
       "      <td>El Peugeot 5008 es un coche muy redondo y cohe...</td>\n",
       "      <td>Desde 34.885 €</td>\n",
       "      <td>None</td>\n",
       "    </tr>\n",
       "    <tr>\n",
       "      <th>5</th>\n",
       "      <td>6. Volkswagen Tayron</td>\n",
       "      <td>8/10</td>\n",
       "      <td>[Maletero muy grande, Aislamiento, Integración...</td>\n",
       "      <td>[PHEV solo de cinco plazas, La tercera fila de...</td>\n",
       "      <td>El Volkswagen Tayron es un SUV espacioso y tec...</td>\n",
       "      <td>Desde 42.981 €</td>\n",
       "      <td>None</td>\n",
       "    </tr>\n",
       "    <tr>\n",
       "      <th>6</th>\n",
       "      <td>7. KIA Sorento</td>\n",
       "      <td>7/10</td>\n",
       "      <td>[Variedad de motores, Amplio y disponible con ...</td>\n",
       "      <td>[Consumo, Mandos del climatizador, Prestacione...</td>\n",
       "      <td>El KIA Sorento es un SUV de gran tamaño que pr...</td>\n",
       "      <td>Desde 45.963 €</td>\n",
       "      <td>None</td>\n",
       "    </tr>\n",
       "    <tr>\n",
       "      <th>7</th>\n",
       "      <td>8. Nissan X-Trail</td>\n",
       "      <td>9/10</td>\n",
       "      <td>[Presentación vistosa, Confort general, Uno de...</td>\n",
       "      <td>[Rumorosidad en ciertas condiciones, Presencia...</td>\n",
       "      <td>El X-Trail ha subido sensiblemente de nivel en...</td>\n",
       "      <td>Desde 32.660 €</td>\n",
       "      <td>None</td>\n",
       "    </tr>\n",
       "    <tr>\n",
       "      <th>8</th>\n",
       "      <td>9. Mercedes-Benz GLB</td>\n",
       "      <td>8/10</td>\n",
       "      <td>[Versatilidad, Diseño, Variedad]</td>\n",
       "      <td>[Precio, Equipamiento en modelos básicos, Sin ...</td>\n",
       "      <td>Este SUV de carrocería compacta por ofrecer ca...</td>\n",
       "      <td>Desde 46.330 €</td>\n",
       "      <td>None</td>\n",
       "    </tr>\n",
       "    <tr>\n",
       "      <th>9</th>\n",
       "      <td>10. Toyota Highlander</td>\n",
       "      <td>8/10</td>\n",
       "      <td>[Versatilidad, Facilidad de conducción, Etique...</td>\n",
       "      <td>[Poca variedad mecánica, Tamaño, Manejo multim...</td>\n",
       "      <td>El Highlander tiene un sistema de propulsión h...</td>\n",
       "      <td>Desde 59.790 €</td>\n",
       "      <td>None</td>\n",
       "    </tr>\n",
       "    <tr>\n",
       "      <th>10</th>\n",
       "      <td>Volvo XC90</td>\n",
       "      <td>None</td>\n",
       "      <td>Materiales interiores premium.Confort excepcio...</td>\n",
       "      <td>Suspensión firme a bajas velocidades.Sistema d...</td>\n",
       "      <td>Este SUV de origen sueco combina lujo, espacio...</td>\n",
       "      <td>None</td>\n",
       "      <td>El Volvo XC90 es un SUV de 7 plazas que destac...</td>\n",
       "    </tr>\n",
       "    <tr>\n",
       "      <th>11</th>\n",
       "      <td>Audi Q7</td>\n",
       "      <td>None</td>\n",
       "      <td>Motores potentes y variados.Tracción quattro y...</td>\n",
       "      <td>Consumo de combustible elevado.Precio inicial ...</td>\n",
       "      <td>Recomendamos el Audi Q7 por su combinación de ...</td>\n",
       "      <td>None</td>\n",
       "      <td>El Audi Q7 es un SUV de 7 plazas que combina u...</td>\n",
       "    </tr>\n",
       "    <tr>\n",
       "      <th>12</th>\n",
       "      <td>Mercedes-Benz Clase GLB</td>\n",
       "      <td>None</td>\n",
       "      <td>Interior modular con asientos ajustables.Tecno...</td>\n",
       "      <td>Precio de opciones elevado.Tercera fila adecua...</td>\n",
       "      <td>Recomendamos el GLB por su versatilidad y prac...</td>\n",
       "      <td>None</td>\n",
       "      <td>El Mercedes-Benz Clase GLB es un SUV de 7 plaz...</td>\n",
       "    </tr>\n",
       "    <tr>\n",
       "      <th>13</th>\n",
       "      <td>Hyundai Santa Fe</td>\n",
       "      <td>None</td>\n",
       "      <td>Diseño moderno y asientos cómodos.Pantalla tác...</td>\n",
       "      <td>Tercera fila ajustada para adultos altos.Algun...</td>\n",
       "      <td>Recomendamos el Hyundai Santa Fe por su excele...</td>\n",
       "      <td>None</td>\n",
       "      <td>El Hyundai Santa Fe es un SUV de 7 plazas con ...</td>\n",
       "    </tr>\n",
       "    <tr>\n",
       "      <th>14</th>\n",
       "      <td>Kia Sorento</td>\n",
       "      <td>None</td>\n",
       "      <td>Diseño moderno y flexible.Pantallas avanzadas ...</td>\n",
       "      <td>Tercera fila ajustada para adultos.Espacio de ...</td>\n",
       "      <td>Recomendamos el Kia Sorento por su versatilida...</td>\n",
       "      <td>None</td>\n",
       "      <td>El Kia Sorento es un SUV de 7 plazas que desta...</td>\n",
       "    </tr>\n",
       "    <tr>\n",
       "      <th>15</th>\n",
       "      <td>Peugeot 5008</td>\n",
       "      <td>None</td>\n",
       "      <td>Diseño moderno y atractivo.Pantalla panorámica...</td>\n",
       "      <td>Tercera fila ajustada para adultos altos.Espac...</td>\n",
       "      <td>Recomendamos el Peugeot 5008 por su versatilid...</td>\n",
       "      <td>None</td>\n",
       "      <td>El Peugeot 5008 es uno de los SUV de 7 plazas ...</td>\n",
       "    </tr>\n",
       "    <tr>\n",
       "      <th>16</th>\n",
       "      <td>SEAT Tarraco</td>\n",
       "      <td>None</td>\n",
       "      <td>Espacio interior amplio y bien acabado.Sistema...</td>\n",
       "      <td>No es el más deportivo de la gama.Falta de una...</td>\n",
       "      <td>Recomendamos el SEAT Tarraco por su combinació...</td>\n",
       "      <td>None</td>\n",
       "      <td>El SEAT Tarraco es un SUV de 7 plazas versátil...</td>\n",
       "    </tr>\n",
       "    <tr>\n",
       "      <th>17</th>\n",
       "      <td>Skoda Kodiaq</td>\n",
       "      <td>None</td>\n",
       "      <td>Interior bien diseñado y espacioso.Equipamient...</td>\n",
       "      <td>Espacio ajustado para cinco adultos.Chasis men...</td>\n",
       "      <td>Recomendamos el Skoda Kodiaq por su combinació...</td>\n",
       "      <td>None</td>\n",
       "      <td>El Skoda Kodiaq es un SUV de 7 plazas con un d...</td>\n",
       "    </tr>\n",
       "    <tr>\n",
       "      <th>18</th>\n",
       "      <td>Nissan X-Trail</td>\n",
       "      <td>None</td>\n",
       "      <td>Sistema e-Power eficiente.Interior espacioso y...</td>\n",
       "      <td>Consumo de combustible mayor al anunciado.Acel...</td>\n",
       "      <td>Recomendamos el Nissan X-Trail por su combinac...</td>\n",
       "      <td>None</td>\n",
       "      <td>El Nissan X-Trail es un SUV robusto y sofistic...</td>\n",
       "    </tr>\n",
       "    <tr>\n",
       "      <th>19</th>\n",
       "      <td>Mitsubishi Outlander</td>\n",
       "      <td>None</td>\n",
       "      <td>Espacio interior amplio y versátil.Buena conec...</td>\n",
       "      <td>Tercera fila ajustada para adultos.Piso del ma...</td>\n",
       "      <td>Recomendamos el Outlander por su combinación d...</td>\n",
       "      <td>None</td>\n",
       "      <td>El Mitsubishi Outlander es un SUV de 7 plazas ...</td>\n",
       "    </tr>\n",
       "  </tbody>\n",
       "</table>\n",
       "</div>"
      ],
      "text/plain": [
       "                     Nombre Valoraciones  \\\n",
       "0            1. Mazda CX-80         9/10   \n",
       "1         2. Renault Espace         9/10   \n",
       "2       3. Hyundai Santa Fe         8/10   \n",
       "3           4. Skoda Kodiaq         8/10   \n",
       "4           5. Peugeot 5008         8/10   \n",
       "5      6. Volkswagen Tayron         8/10   \n",
       "6            7. KIA Sorento         7/10   \n",
       "7         8. Nissan X-Trail         9/10   \n",
       "8      9. Mercedes-Benz GLB         8/10   \n",
       "9     10. Toyota Highlander         8/10   \n",
       "10               Volvo XC90         None   \n",
       "11                  Audi Q7         None   \n",
       "12  Mercedes-Benz Clase GLB         None   \n",
       "13         Hyundai Santa Fe         None   \n",
       "14              Kia Sorento         None   \n",
       "15             Peugeot 5008         None   \n",
       "16             SEAT Tarraco         None   \n",
       "17             Skoda Kodiaq         None   \n",
       "18           Nissan X-Trail         None   \n",
       "19     Mitsubishi Outlander         None   \n",
       "\n",
       "                                              A favor  \\\n",
       "0   [Excelente eficiencia tanto en el PHEV como en...   \n",
       "1   [Consumo, Equipamiento disponible, Opción de s...   \n",
       "2   [Equipamiento y tecnología propios de coches d...   \n",
       "3   [Practicidad y espacio disponible, Oferta mecá...   \n",
       "4   [Amplio interior con 7 plazas de serie, Comodi...   \n",
       "5   [Maletero muy grande, Aislamiento, Integración...   \n",
       "6   [Variedad de motores, Amplio y disponible con ...   \n",
       "7   [Presentación vistosa, Confort general, Uno de...   \n",
       "8                    [Versatilidad, Diseño, Variedad]   \n",
       "9   [Versatilidad, Facilidad de conducción, Etique...   \n",
       "10  Materiales interiores premium.Confort excepcio...   \n",
       "11  Motores potentes y variados.Tracción quattro y...   \n",
       "12  Interior modular con asientos ajustables.Tecno...   \n",
       "13  Diseño moderno y asientos cómodos.Pantalla tác...   \n",
       "14  Diseño moderno y flexible.Pantallas avanzadas ...   \n",
       "15  Diseño moderno y atractivo.Pantalla panorámica...   \n",
       "16  Espacio interior amplio y bien acabado.Sistema...   \n",
       "17  Interior bien diseñado y espacioso.Equipamient...   \n",
       "18  Sistema e-Power eficiente.Interior espacioso y...   \n",
       "19  Espacio interior amplio y versátil.Buena conec...   \n",
       "\n",
       "                                            En contra  \\\n",
       "0   [La suspensión puede sentirse algo seca en cie...   \n",
       "1   [Funcionamiento poco refinado en ocasiones, Ga...   \n",
       "2   [Precio elevado, Escasa autonomía eléctrica de...   \n",
       "3   [Ergonomía de algunos mandos, Plazas de la ter...   \n",
       "4   [La calidad del sistema multimedia podría mejo...   \n",
       "5   [PHEV solo de cinco plazas, La tercera fila de...   \n",
       "6   [Consumo, Mandos del climatizador, Prestacione...   \n",
       "7   [Rumorosidad en ciertas condiciones, Presencia...   \n",
       "8   [Precio, Equipamiento en modelos básicos, Sin ...   \n",
       "9   [Poca variedad mecánica, Tamaño, Manejo multim...   \n",
       "10  Suspensión firme a bajas velocidades.Sistema d...   \n",
       "11  Consumo de combustible elevado.Precio inicial ...   \n",
       "12  Precio de opciones elevado.Tercera fila adecua...   \n",
       "13  Tercera fila ajustada para adultos altos.Algun...   \n",
       "14  Tercera fila ajustada para adultos.Espacio de ...   \n",
       "15  Tercera fila ajustada para adultos altos.Espac...   \n",
       "16  No es el más deportivo de la gama.Falta de una...   \n",
       "17  Espacio ajustado para cinco adultos.Chasis men...   \n",
       "18  Consumo de combustible mayor al anunciado.Acel...   \n",
       "19  Tercera fila ajustada para adultos.Piso del ma...   \n",
       "\n",
       "                                            Opiniones          Precio  \\\n",
       "0   El CX-80 usa la misma plataforma y motores que...  Desde 54.668 €   \n",
       "1   El nuevo Renault Espace es ahora un SUV con un...  Desde 38.280 €   \n",
       "2   El Santa Fe dispone de motorizaciones híbrida ...  Desde 51.478 €   \n",
       "3   El Skoda Kodiaq es mucho más barato que el Q7,...  Desde 40.001 €   \n",
       "4   El Peugeot 5008 es un coche muy redondo y cohe...  Desde 34.885 €   \n",
       "5   El Volkswagen Tayron es un SUV espacioso y tec...  Desde 42.981 €   \n",
       "6   El KIA Sorento es un SUV de gran tamaño que pr...  Desde 45.963 €   \n",
       "7   El X-Trail ha subido sensiblemente de nivel en...  Desde 32.660 €   \n",
       "8   Este SUV de carrocería compacta por ofrecer ca...  Desde 46.330 €   \n",
       "9   El Highlander tiene un sistema de propulsión h...  Desde 59.790 €   \n",
       "10  Este SUV de origen sueco combina lujo, espacio...            None   \n",
       "11  Recomendamos el Audi Q7 por su combinación de ...            None   \n",
       "12  Recomendamos el GLB por su versatilidad y prac...            None   \n",
       "13  Recomendamos el Hyundai Santa Fe por su excele...            None   \n",
       "14  Recomendamos el Kia Sorento por su versatilida...            None   \n",
       "15  Recomendamos el Peugeot 5008 por su versatilid...            None   \n",
       "16  Recomendamos el SEAT Tarraco por su combinació...            None   \n",
       "17  Recomendamos el Skoda Kodiaq por su combinació...            None   \n",
       "18  Recomendamos el Nissan X-Trail por su combinac...            None   \n",
       "19  Recomendamos el Outlander por su combinación d...            None   \n",
       "\n",
       "                                      Características  \n",
       "0                                                None  \n",
       "1                                                None  \n",
       "2                                                None  \n",
       "3                                                None  \n",
       "4                                                None  \n",
       "5                                                None  \n",
       "6                                                None  \n",
       "7                                                None  \n",
       "8                                                None  \n",
       "9                                                None  \n",
       "10  El Volvo XC90 es un SUV de 7 plazas que destac...  \n",
       "11  El Audi Q7 es un SUV de 7 plazas que combina u...  \n",
       "12  El Mercedes-Benz Clase GLB es un SUV de 7 plaz...  \n",
       "13  El Hyundai Santa Fe es un SUV de 7 plazas con ...  \n",
       "14  El Kia Sorento es un SUV de 7 plazas que desta...  \n",
       "15  El Peugeot 5008 es uno de los SUV de 7 plazas ...  \n",
       "16  El SEAT Tarraco es un SUV de 7 plazas versátil...  \n",
       "17  El Skoda Kodiaq es un SUV de 7 plazas con un d...  \n",
       "18  El Nissan X-Trail es un SUV robusto y sofistic...  \n",
       "19  El Mitsubishi Outlander es un SUV de 7 plazas ...  "
      ]
     },
     "execution_count": 54,
     "metadata": {},
     "output_type": "execute_result"
    }
   ],
   "source": [
    "# Genero el DF actualizado\n",
    "df = pd.DataFrame.from_dict(diccionario_coches)\n",
    "df"
   ]
  },
  {
   "cell_type": "code",
   "execution_count": 55,
   "metadata": {},
   "outputs": [],
   "source": [
    "# Tercera página\n",
    "url_3='http://quecochemecompro.com/blog/comparativa-suv-7-plazas-guia-de-compra/'"
   ]
  },
  {
   "cell_type": "code",
   "execution_count": 56,
   "metadata": {},
   "outputs": [
    {
     "name": "stdout",
     "output_type": "stream",
     "text": [
      "200 OK\n"
     ]
    }
   ],
   "source": [
    "accesibilidad(url_3)"
   ]
  },
  {
   "cell_type": "code",
   "execution_count": 57,
   "metadata": {},
   "outputs": [
    {
     "data": {
      "text/plain": [
       "['1. Mazda CX-80',\n",
       " '2. Skoda Kodiaq',\n",
       " '3. Kia Sorento',\n",
       " '4. Hyundai Santa Fe Híbrido',\n",
       " '5. Volkswagen Tayron híbrido',\n",
       " '6. Toyota Highlander Híbrido',\n",
       " '7. Peugeot 5008',\n",
       " '8. Volkswagen Tiguan Allspace',\n",
       " '9. Mercedes GLB',\n",
       " '10. Mercedes EQB eléctrico',\n",
       " '1. Range Rover',\n",
       " '2. Volvo XC90',\n",
       " '3. Volvo EX90 eléctrico',\n",
       " '4. Kia EV9',\n",
       " '5. Audi Q7']"
      ]
     },
     "execution_count": 57,
     "metadata": {},
     "output_type": "execute_result"
    }
   ],
   "source": [
    "# Extraemos el listado de coches\n",
    "lista_coches_url_3 = lista_coches( url_3,'h3', class_=\"font-bold text-28 leading-none\")\n",
    "lista_coches_url_3 "
   ]
  },
  {
   "cell_type": "code",
   "execution_count": 58,
   "metadata": {},
   "outputs": [
    {
     "data": {
      "text/plain": [
       "['6. BMW X5',\n",
       " '7. Mercedes GLE',\n",
       " '8. Mercedes GLS',\n",
       " '9. BMW X7',\n",
       " '10. Hongqi eHS9']"
      ]
     },
     "execution_count": 58,
     "metadata": {},
     "output_type": "execute_result"
    }
   ],
   "source": [
    "# Sólo me salen 15 de los 20 que vienen\n",
    "# Conseguí sacar los otros 5\n",
    "listado_coches_url_3_faltantes = lista_coches(url_3,'h3', class_=\"mb-3 font-bold text-28\" )\n",
    "listado_coches_url_3_faltantes"
   ]
  },
  {
   "cell_type": "code",
   "execution_count": 59,
   "metadata": {},
   "outputs": [
    {
     "data": {
      "text/plain": [
       "['1. Mazda CX-80',\n",
       " '2. Renault Espace',\n",
       " '3. Hyundai Santa Fe',\n",
       " '4. Skoda Kodiaq',\n",
       " '5. Peugeot 5008',\n",
       " '6. Volkswagen Tayron',\n",
       " '7. KIA Sorento',\n",
       " '8. Nissan X-Trail',\n",
       " '9. Mercedes-Benz GLB',\n",
       " '10. Toyota Highlander',\n",
       " 'Volvo XC90',\n",
       " 'Audi Q7',\n",
       " 'Mercedes-Benz Clase GLB',\n",
       " 'Hyundai Santa Fe',\n",
       " 'Kia Sorento',\n",
       " 'Peugeot 5008',\n",
       " 'SEAT Tarraco',\n",
       " 'Skoda Kodiaq',\n",
       " 'Nissan X-Trail',\n",
       " 'Mitsubishi Outlander',\n",
       " '1. Mazda CX-80',\n",
       " '2. Skoda Kodiaq',\n",
       " '3. Kia Sorento',\n",
       " '4. Hyundai Santa Fe Híbrido',\n",
       " '5. Volkswagen Tayron híbrido',\n",
       " '6. Toyota Highlander Híbrido',\n",
       " '7. Peugeot 5008',\n",
       " '8. Volkswagen Tiguan Allspace',\n",
       " '9. Mercedes GLB',\n",
       " '10. Mercedes EQB eléctrico',\n",
       " '1. Range Rover',\n",
       " '2. Volvo XC90',\n",
       " '3. Volvo EX90 eléctrico',\n",
       " '4. Kia EV9',\n",
       " '5. Audi Q7',\n",
       " '6. BMW X5',\n",
       " '7. Mercedes GLE',\n",
       " '8. Mercedes GLS',\n",
       " '9. BMW X7',\n",
       " '10. Hongqi eHS9']"
      ]
     },
     "execution_count": 59,
     "metadata": {},
     "output_type": "execute_result"
    }
   ],
   "source": [
    "# Añado ambas listas a la del DF\n",
    "lista_coches_DF.extend(lista_coches_url_3)\n",
    "lista_coches_DF.extend(listado_coches_url_3_faltantes)\n",
    "lista_coches_DF"
   ]
  },
  {
   "cell_type": "code",
   "execution_count": 60,
   "metadata": {},
   "outputs": [],
   "source": [
    "# Valoraciones\n",
    "# Funcion para obtener la valoración\n",
    "def valoraciones(url, tag, class_):\n",
    "    # defino dos variables (tag y atributo) por si tengo que poner más de uno. A veces solo necesito poner un tag, por lo que a atributo le doy por defecto None, para que no me de problemas)\n",
    "    conexion = requests.get(url)\n",
    "    sopa= bs(conexion.text, \"lxml\")\n",
    "    lista_valoraciones = []\n",
    "    valoraciones= sopa.find_all(tag, class_)\n",
    "    for indice, valoracion in enumerate(valoraciones):\n",
    "        lista_valoraciones.append(valoracion.text.strip())\n",
    "        indice +=1\n",
    "    return lista_valoraciones"
   ]
  },
  {
   "cell_type": "code",
   "execution_count": 61,
   "metadata": {},
   "outputs": [],
   "source": [
    "lista_valoraciones_url_3 = valoraciones(url_3, 'div', class_=\"inline-block bg-wine/[.1] text-20 rounded px-1\") # 15 primeras valoraciones"
   ]
  },
  {
   "cell_type": "code",
   "execution_count": 62,
   "metadata": {},
   "outputs": [],
   "source": [
    "# Sólo obtengo 15 y por más que busco es como si faltara parte de código en la web\n",
    "# como sólo son 5 las voy a añadir manualmente\n",
    "# Creo una lista con las valoraciones que faltan y se la añado a la que va a formar el DF\n",
    "lista_valoraciones_url_3_manual = [ '7,8/10', '7,8/10', '7,1/10', '6,9/10', '6,8/10']\n",
    " "
   ]
  },
  {
   "cell_type": "code",
   "execution_count": 63,
   "metadata": {},
   "outputs": [],
   "source": [
    "# Las añado a las del DF\n",
    "lista_valoraciones_DF.extend(lista_valoraciones_url_3)\n",
    "lista_valoraciones_DF.extend(lista_valoraciones_url_3_manual)"
   ]
  },
  {
   "cell_type": "code",
   "execution_count": 64,
   "metadata": {},
   "outputs": [],
   "source": [
    "# Puntos a favor\n",
    "lista_a_favor_url_3 = lo_mejor (url_3, 'div', class_=\"text-gray-dark text-16 sm:text-17 leading-5\") "
   ]
  },
  {
   "cell_type": "code",
   "execution_count": 65,
   "metadata": {},
   "outputs": [
    {
     "data": {
      "text/plain": [
       "['Hasta siete plazas, presentación, opción de tracción total',\n",
       " 'Gama inicial limitada, precio en acabados superiores',\n",
       " 'Espacio, maletero, siete plazas, calidad de terminación',\n",
       " 'Dimensiones, consumos algo elevados, precio',\n",
       " 'Arsenal tecnológico, confort en marcha, mejora de acabados',\n",
       " 'Precio elevado para lo que busca un cliente en Hyundai',\n",
       " 'Imagen, equipamiento, espacio interior, mecánica muy fiable y resolutiva',\n",
       " 'Caja de cambios, consumos a altas velocidades',\n",
       " 'Diseño interior, calidad de construcción, espacio interior',\n",
       " 'Precio, gama mecánica limitada',\n",
       " 'Calidad de rodadura, gama de motores',\n",
       " 'Diseño muy convencional, detalles de acabado',\n",
       " 'Equipamiento disponible, hasta siete asientos, comportamiento',\n",
       " 'Precio elevado, opciones caras, maletero con siete asientos en uso justo',\n",
       " 'Capacidad para 7 ocupantes, prestaciones, autonomía',\n",
       " 'Precio elevado, algunas calidades mejorables',\n",
       " 'Diseño, interior, calidad de acabados, capacidades todoterreno en otra liga, suspensión neumática',\n",
       " 'La experiencia en carretera es la de un salón rodante con mucha inercia',\n",
       " 'Diseño interior y exterior, calidad de construcción, seguridad, espacio interior para 7 adultos, confort',\n",
       " 'Agilidad limitada por su tamaño, precio de opciones',\n",
       " 'Calidad de acabados, hasta siete plazas, equipo, autonomía',\n",
       " 'Peso muy elevado, precios algo altos',\n",
       " 'Espacio interior, calidad de construcción, tecnología, diseño interior',\n",
       " 'Proporciones exteriores algo raras, precio']"
      ]
     },
     "execution_count": 65,
     "metadata": {},
     "output_type": "execute_result"
    }
   ],
   "source": [
    "lista_a_favor_url_3"
   ]
  },
  {
   "cell_type": "code",
   "execution_count": 66,
   "metadata": {},
   "outputs": [],
   "source": [
    "# Saca tanto lo bueno como lo malo porque tienen el mismo tag y atributo. Debo hacer alguna modificación para escoger el impar en las de a favor y la par en las de en contra\n",
    "lista_lo_mejor_url_3 = [lista_a_favor_url_3[i] for i in range(0, len(lista_a_favor_url_3), 2)] # impares\n",
    "lista_lo_peor_url_3 = [lista_a_favor_url_3[i] for i in range(1, len(lista_a_favor_url_3), 2)] # pares"
   ]
  },
  {
   "cell_type": "code",
   "execution_count": 67,
   "metadata": {},
   "outputs": [
    {
     "data": {
      "text/plain": [
       "['Hasta siete plazas, presentación, opción de tracción total',\n",
       " 'Espacio, maletero, siete plazas, calidad de terminación',\n",
       " 'Arsenal tecnológico, confort en marcha, mejora de acabados',\n",
       " 'Imagen, equipamiento, espacio interior, mecánica muy fiable y resolutiva',\n",
       " 'Diseño interior, calidad de construcción, espacio interior',\n",
       " 'Calidad de rodadura, gama de motores',\n",
       " 'Equipamiento disponible, hasta siete asientos, comportamiento',\n",
       " 'Capacidad para 7 ocupantes, prestaciones, autonomía',\n",
       " 'Diseño, interior, calidad de acabados, capacidades todoterreno en otra liga, suspensión neumática',\n",
       " 'Diseño interior y exterior, calidad de construcción, seguridad, espacio interior para 7 adultos, confort',\n",
       " 'Calidad de acabados, hasta siete plazas, equipo, autonomía',\n",
       " 'Espacio interior, calidad de construcción, tecnología, diseño interior']"
      ]
     },
     "execution_count": 67,
     "metadata": {},
     "output_type": "execute_result"
    }
   ],
   "source": [
    "lista_lo_mejor_url_3"
   ]
  },
  {
   "cell_type": "code",
   "execution_count": 68,
   "metadata": {},
   "outputs": [
    {
     "name": "stdout",
     "output_type": "stream",
     "text": [
      "[None, 'Hasta siete plazas, presentación, opción de tracción total', 'Espacio, maletero, siete plazas, calidad de terminación', 'Arsenal tecnológico, confort en marcha, mejora de acabados', None, 'Imagen, equipamiento, espacio interior, mecánica muy fiable y resolutiva', 'Diseño interior, calidad de construcción, espacio interior', 'Calidad de rodadura, gama de motores', 'Equipamiento disponible, hasta siete asientos, comportamiento', 'Capacidad para 7 ocupantes, prestaciones, autonomía', 'Diseño, interior, calidad de acabados, capacidades todoterreno en otra liga, suspensión neumática', 'Diseño interior y exterior, calidad de construcción, seguridad, espacio interior para 7 adultos, confort', 'Calidad de acabados, hasta siete plazas, equipo, autonomía', None, 'Espacio interior, calidad de construcción, tecnología, diseño interior']\n",
      "[None, 'Gama inicial limitada, precio en acabados superiores', 'Dimensiones, consumos algo elevados, precio', 'Precio elevado para lo que busca un cliente en Hyundai', None, 'Caja de cambios, consumos a altas velocidades', 'Precio, gama mecánica limitada', 'Diseño muy convencional, detalles de acabado', 'Precio elevado, opciones caras, maletero con siete asientos en uso justo', 'Precio elevado, algunas calidades mejorables', 'La experiencia en carretera es la de un salón rodante con mucha inercia', 'Agilidad limitada por su tamaño, precio de opciones', 'Peso muy elevado, precios algo altos', None, 'Proporciones exteriores algo raras, precio']\n"
     ]
    }
   ],
   "source": [
    "# Compruebo que hay vehículos que no tienen dichas valoraciones, asi que añado los valores None\n",
    "introducir_nulos(lista_lo_mejor_url_3, (0,4,13))\n",
    "introducir_nulos(lista_lo_peor_url_3, (0,4,13))"
   ]
  },
  {
   "cell_type": "code",
   "execution_count": 69,
   "metadata": {},
   "outputs": [],
   "source": [
    "# Añadimos a las listas del DF\n",
    "lista_a_favor_DF.extend(lista_lo_mejor_url_3)\n",
    "lista_en_contra_DF.extend(lista_lo_peor_url_3)"
   ]
  },
  {
   "cell_type": "code",
   "execution_count": 70,
   "metadata": {},
   "outputs": [],
   "source": [
    "# Me faltan los 5 datos en ambas listas que no he logrado sacar, por lo que los introduzco a mano al ser sólo 5\n",
    "lista_lo_mejor_url_3_manual = ['Tacto de conducción', 'Diseño, calidades, posibilidad de 7 plazas, capacidad todoterreno', 'Calidad de rodadura, confort, cargatecnológica', None, None]\n",
    "lista_lo_peor_url_3_manual = ['Precio elevado, opciones caras', 'Precio elevado, opciones caras', 'Dimensiones, precio de algunos opcionales, ciertos ajustes', None, None]"
   ]
  },
  {
   "cell_type": "code",
   "execution_count": 71,
   "metadata": {},
   "outputs": [],
   "source": [
    "# Añadimos a las listas del DF\n",
    "lista_a_favor_DF.extend(lista_lo_mejor_url_3_manual)\n",
    "lista_en_contra_DF.extend(lista_lo_peor_url_3_manual)"
   ]
  },
  {
   "cell_type": "code",
   "execution_count": 72,
   "metadata": {},
   "outputs": [],
   "source": [
    "# Columna de opiniones\n",
    "# Ahora hago una función para sacar el texto que argumenta las opiniones\n",
    "def opiniones (url, tag, class_):\n",
    "    conexion = requests.get(url)\n",
    "    sopa = bs (conexion.text, 'lxml')\n",
    "    lista_opiniones = []\n",
    "    opiniciones= sopa.find_all(tag, class_)\n",
    "    for indice, opinion in enumerate(opiniciones):\n",
    "        lista_opiniones.append(opinion.text.strip())\n",
    "        indice += 1\n",
    "    return lista_opiniones"
   ]
  },
  {
   "cell_type": "code",
   "execution_count": 73,
   "metadata": {},
   "outputs": [],
   "source": [
    "# El tag es 'p', asi que me va a dar muchos párrafos\n",
    "lista_opiniones_url_3 = opiniones(url_3, 'p', None)"
   ]
  },
  {
   "cell_type": "code",
   "execution_count": 74,
   "metadata": {},
   "outputs": [
    {
     "data": {
      "text/plain": [
       "['Os presentamos la guía definitiva de los mejores SUV de 7 plazas por su relación calidad-precio. En ella podréis encontrar todos los modelos a la venta que cumplen estas dos características: una carrocería SUV familiar y 7 plazas extra disponibles. Si no necesitas las 7 plazas, echa un vistazo a nuestra guía de los mejores SUV grandes.',\n",
       " 'Para una visión global de todos los modelos disponibles, recomendamos nuestra guía de compra de coches de 7 plazas, mientras que para orientarnos a todoterrenos realmente duros para uso fuera del asfalto, contamos con la guía de auténticos todoterrenos. También contamos con una guía con todos los coches de 7 plazas del mercado, que incluye todo tipo de carrocerías. Si lo más importante para ti es el precio, puedes echar un vistazo a nuestra guía con todos los SUV baratos.',\n",
       " 'Los SUV compactos son una de las opciones preferidas por los compradores, al condensar, en un único vehículo, el máximo número de cualidades posibles. Se trata de coches altos, con un diseño robusto y un interior capaz de acoger a 7 personas, pero mantienen unas dimensiones exteriores relativamente contenidas. De esta manera, los SUV compactos de 7 plazas resultan ideales como coche único.',\n",
       " '',\n",
       " '',\n",
       " 'Gracias por confiar en ¿Que coche me compro?, hemos recibido tus datos y en breve nos pondremos en contacto contigo.',\n",
       " 'Gracias por confiar en ¿Que coche me compro?, hemos recibido tus datos y en breve nos pondremos en contacto contigo.',\n",
       " '',\n",
       " 'Para que puedas valorar mejor las diferencias y las similitudes entre Mazda CX-80 y Mercedes GLC, tienes a tu disposición nuestra comparativa destacada donde podrás hacerlo de manera rápida y sencilla. El cliente que quiere comprar un vehículo de este segmento encontrará en el Mercedes GLC una alternativa al Mazda CX-80, al que consideramos su rival más claro.',\n",
       " 'Hasta siete plazas y un enorme maletero son las claves del Kodiaq',\n",
       " 'Gracias por confiar en ¿Que coche me compro?, hemos recibido tus datos y en breve nos pondremos en contacto contigo.',\n",
       " 'Gracias por confiar en ¿Que coche me compro?, hemos recibido tus datos y en breve nos pondremos en contacto contigo.',\n",
       " 'Sin duda, el gran SUV checo es una de las mejores opciones de su segmento, destacando por una relación calidad-precio casi imbatible, mucho espacio interior, un rodar muy suave y silencioso y unos acabados que nada tienen que envidiar a otros vehículos de la competencia.',\n",
       " 'Recuerda que también tenemos una comparación directa Skoda Kodiaq vs Volkswagen Tiguan Allspace para que puedas comprobar las ventajas y desventajas de cada modelo. El Skoda Kodiaq es una opción de compra más popular a pesar de su elevado precio respecto al Volkswagen Tiguan Allspace.',\n",
       " 'Un SUV de lujo con precio irresistible y 7 años de garantía.',\n",
       " 'Gracias por confiar en ¿Que coche me compro?, hemos recibido tus datos y en breve nos pondremos en contacto contigo.',\n",
       " 'Gracias por confiar en ¿Que coche me compro?, hemos recibido tus datos y en breve nos pondremos en contacto contigo.',\n",
       " 'Con un diseño mucho más elaborado y un interior que lo sitúa casi en la línea de las marcas premium, el Kia Sorento se convierte así en una excelente opción para los que busquen un SUV de gran tamaño, con buenas dosis de espacio y no quieran abonar lo que las firmas premium están pidiendo por lo que sería el modelo equivalente.',\n",
       " 'Compara lo más destacado del Kia Sorento y del Volkswagen Tayron en la comparativa directa que te ofrecemos. El cliente que quiere comprar un vehículo de este segmento encontrará en el Volkswagen Tayron una alternativa al Kia Sorento, al que consideramos su rival más claro.',\n",
       " 'Diseño muy peculiar con motores siempre híbridos',\n",
       " 'Gracias por confiar en ¿Que coche me compro?, hemos recibido tus datos y en breve nos pondremos en contacto contigo.',\n",
       " 'Gracias por confiar en ¿Que coche me compro?, hemos recibido tus datos y en breve nos pondremos en contacto contigo.',\n",
       " 'El Hyundai Santa Fe se asienta como una de las opciones más sensatas del segmento al ofrecer una terminación de acabados sustancialmente mejor que la de otras marcas generalistas, un apartado tecnológico sumamente avanzado y un elenco de motores dispuesto a cubrir las necesidades de cualquier perfil de cliente. \\n\\nSin embargo, no se podría categorizar como un SUV premium pese a que se les acerque peligrosamente, aunque sí se posiciona por encima de alguno de sus rivales más directos, tales como el SEAT Tarraco. Aún así, su precio es algo elevado y hará que la balanza se pueda inclinar antes por un Volvo XC60 o un BMW X5.',\n",
       " 'También puedes echar un vistazo a nuestra comparativa destacada entre el Hyundai Santa Fe Híbrido y el Kia Sorento Híbrido y ver los puntos fuertes de cada uno. El cliente que quiere comprar un vehículo de este segmento encontrará en el Kia Sorento Híbrido una alternativa al Hyundai Santa Fe Híbrido, al que consideramos su rival más claro.',\n",
       " '',\n",
       " 'Gracias por confiar en ¿Que coche me compro?, hemos recibido tus datos y en breve nos pondremos en contacto contigo.',\n",
       " 'Gracias por confiar en ¿Que coche me compro?, hemos recibido tus datos y en breve nos pondremos en contacto contigo.',\n",
       " '',\n",
       " 'Por si fuera poco, puedes echar un vistazo a la comparativa entre el Volkswagen Tayron híbrido y el Renault Espace para ver cuáles son los puntos clave de cada modelo. El cliente que quiere comprar un vehículo de este segmento encontrará en el Renault Espace una alternativa al Volkswagen Tayron híbrido, al que consideramos su rival más claro.',\n",
       " 'Uno de los mejores Toyota del mercado',\n",
       " 'Gracias por confiar en ¿Que coche me compro?, hemos recibido tus datos y en breve nos pondremos en contacto contigo.',\n",
       " 'Gracias por confiar en ¿Que coche me compro?, hemos recibido tus datos y en breve nos pondremos en contacto contigo.',\n",
       " 'La etiqueta ECO no puede faltar en la última apuesta de Toyota, un gran SUV de 7 plazas que destaca por sus más de 200 CV y su capacidad, a la vez, de circular buena parte del tiempo en modo eléctrico si no salimos de la ciudad.',\n",
       " 'Si quieres analizar en mayor detalle las diferencias y las similitudes entre Toyota Highlander Híbrido y Hyundai Santa Fe Híbrido, puedes hacerlo en la comparativa directa que ambos modelos. Tanto Toyota Highlander Híbrido como Hyundai Santa Fe Híbrido pertenecen a la misma categoría, son opciones de compra dirigidas al mismo usuario aunque con evidentes diferencias estéticas, niveles de acabado y/o motorizaciones.',\n",
       " 'Un interesante crossover con siete plazas y mucho espacio',\n",
       " 'Gracias por confiar en ¿Que coche me compro?, hemos recibido tus datos y en breve nos pondremos en contacto contigo.',\n",
       " 'Gracias por confiar en ¿Que coche me compro?, hemos recibido tus datos y en breve nos pondremos en contacto contigo.',\n",
       " 'Con su diseño tan atrevido, el 5008 de Peugeot resulta mucho más atractivo que la mayoría de sus rivales. Cuenta, además, con la ventaja de ofrecer en la segunda fila un total de tres asientos individuales, algo que lo convierte en la alternativa más apetecible a un MPV.',\n",
       " 'Por si fuera poco, puedes echar un vistazo a la comparativa entre el Peugeot 5008 y el Nissan X-Trail para ver cuáles son los puntos clave de cada modelo. Pese a que el precio del Peugeot 5008 es algo superior al del Nissan X-Trail, su valoración general también es superior, por lo que nuestros expertos lo valoran superiormente.',\n",
       " 'Una nueva opción de 7 plazas dentro de Volkswagen',\n",
       " 'Gracias por confiar en ¿Que coche me compro?, hemos recibido tus datos y en breve nos pondremos en contacto contigo.',\n",
       " 'Gracias por confiar en ¿Que coche me compro?, hemos recibido tus datos y en breve nos pondremos en contacto contigo.',\n",
       " 'El Tiguan Allspace es una buena opción para aquellos a los que les guste el Volkswagen Tiguan pero necesiten más espacio y más plazas a bordo. Eso sí, hay que reconocer que los dos asientos de la tercera fila no son especialmente amplios.',\n",
       " 'Revisa la comparación entre Volkswagen Tiguan Allspace y Skoda Kodiaq y comprueba lo más destacado de cada uno de los modelos. Aunque el Volkswagen Tiguan Allspace tiene un precio inferior al del Skoda Kodiaq, nuestros expertos valoran superiormente al Skoda Kodiaq.',\n",
       " 'La opción ideal si buscas un siete plazas de Mercedes',\n",
       " 'Gracias por confiar en ¿Que coche me compro?, hemos recibido tus datos y en breve nos pondremos en contacto contigo.',\n",
       " 'Gracias por confiar en ¿Que coche me compro?, hemos recibido tus datos y en breve nos pondremos en contacto contigo.',\n",
       " 'Si buscas un vehículo compacto, con carrocería de diseño robusto pero, sobre todo, con la enorme cualidad de ofrecer 7 plazas, el Mercedes GLB puede presumir de ser la única alternativa premium del mercado.',\n",
       " 'Si quieres analizar en mayor detalle las diferencias y las similitudes entre Mercedes GLB y Range Rover Evoque, puedes hacerlo en la comparativa directa que ambos modelos. Tanto Mercedes GLB como Range Rover Evoque pertenecen a la misma categoría, son opciones de compra dirigidas al mismo usuario aunque con evidentes diferencias estéticas, niveles de acabado y/o motorizaciones.',\n",
       " 'Silencioso, etiqueta CERO y para toda la familia, ¿necesitas algo más?',\n",
       " 'Gracias por confiar en ¿Que coche me compro?, hemos recibido tus datos y en breve nos pondremos en contacto contigo.',\n",
       " 'Gracias por confiar en ¿Que coche me compro?, hemos recibido tus datos y en breve nos pondremos en contacto contigo.',\n",
       " 'El Mercedes-Benz EQB nace como la variante 100% eléctrica del GLB, compartiendo infinidad de aspectos. Destaca por ser uno de los pocos eléctricos del mercado en ofrecer 7 plazas, así como unas prestaciones y una autonomía más que digna. No obstante, su elevado precio no casa con algunos acabados y ajustes que son bastante mejorables.',\n",
       " 'Revisa la comparación entre Mercedes EQB eléctrico y Mercedes EQA eléctrico y comprueba lo más destacado de cada uno de los modelos. Tanto el Mercedes EQB eléctrico como el Mercedes EQA eléctrico pertenecen a marcas premium, tenemos garantizado un nivel de acabados.',\n",
       " 'Los SUV grandes son la máxima expresión de la corriente crossover, apostando por unas dimensiones mayores para ofrecer a sus ocupantes mayores dosis de espacio y amplitud. Los SUV grandes de 7 plazas destacan, sobre todo, por su carácter polivalente al integrar en un sólo coche la capacidad de viajar con toda la familia manteniendo una capacidad de carga destacable y una imagen aventurera y dinámica.',\n",
       " '',\n",
       " 'Para los que quieren pasar por encima de todo, pero no les convence el Bentayga',\n",
       " 'Gracias por confiar en ¿Que coche me compro?, hemos recibido tus datos y en breve nos pondremos en contacto contigo.',\n",
       " 'Gracias por confiar en ¿Que coche me compro?, hemos recibido tus datos y en breve nos pondremos en contacto contigo.',\n",
       " 'El Range Rover es el sumum del todoterreno de lujo británico. Con un porte señorial, un estilo británico inconfundible y un interior primorosamente terminado en los mejores materiales y con exquisito gusto, el Range Rover nos ofrece unas cualidades off-road dignas del mejor todoterreno con datos como una profundidad de vadeo máxima de 1,10m, una auténtica barbaridad.',\n",
       " 'Si quieres analizar en mayor detalle las diferencias y las similitudes entre Range Rover y Range Rover Sport, puedes hacerlo en la comparativa directa que ambos modelos. El cliente que quiere comprar un vehículo de este segmento encontrará en el Range Rover Sport una alternativa al Range Rover, al que consideramos su rival más claro.',\n",
       " 'La actual generación del XC90 presume de motores frugales y de sus siete plazas',\n",
       " 'Gracias por confiar en ¿Que coche me compro?, hemos recibido tus datos y en breve nos pondremos en contacto contigo.',\n",
       " 'Gracias por confiar en ¿Que coche me compro?, hemos recibido tus datos y en breve nos pondremos en contacto contigo.',\n",
       " 'El que sin duda es una de las referencias en el segmento de los SUV de gran tamaño es también una buena opción para los que buscan un vehículo con grandes dosis de espacio y comodidad, todo ello con un índice de seguridad de primerísimo nivel.',\n",
       " 'Además te ofrecemos una comparativa directa entre Volvo XC90 y Audi Q7 para que puedas analizar las similitudes y diferencias entre ellos. El cliente que quiere comprar un vehículo de este segmento encontrará en el Audi Q7 una alternativa al Volvo XC90, al que consideramos su rival más claro.',\n",
       " 'Seguridad y amplitud para las familias \"eléctricas\"',\n",
       " 'Gracias por confiar en ¿Que coche me compro?, hemos recibido tus datos y en breve nos pondremos en contacto contigo.',\n",
       " 'Gracias por confiar en ¿Que coche me compro?, hemos recibido tus datos y en breve nos pondremos en contacto contigo.',\n",
       " 'El más grande de los Volvo eléctricos con carrocería SUV destaca por su excelente calidad de realización y un diseño conservador que destila elegancia. Es una alternativa muy seria al XC90 de combustión, con un amplio habitáculo en el que pueden viajar hasta siete pasajeros.',\n",
       " 'Recuerda que también tenemos una comparación directa Volvo EX90 eléctrico vs Mercedes EQE SUV para que puedas comprobar las ventajas y desventajas de cada modelo. Tanto Volvo EX90 eléctrico como Mercedes EQE SUV pertenecen a la misma categoría, son opciones de compra dirigidas al mismo usuario aunque con evidentes diferencias estéticas, niveles de acabado y/o motorizaciones.',\n",
       " '',\n",
       " 'Gracias por confiar en ¿Que coche me compro?, hemos recibido tus datos y en breve nos pondremos en contacto contigo.',\n",
       " 'Gracias por confiar en ¿Que coche me compro?, hemos recibido tus datos y en breve nos pondremos en contacto contigo.',\n",
       " 'El Kia EV9 es un SUV eléctrico de gran tamaño que busca ofrecer versatilidad y eficiencia a partes iguales. Hablamos de un coche práctico, válido para viajar y eficiente, siendo su único punto negativo un precio de adquisición algo elevado frente a otras opciones del sector.',\n",
       " 'Recuerda que también tenemos una comparación directa Kia EV9 vs BYD Tang eléctrico para que puedas comprobar las ventajas y desventajas de cada modelo. El cliente que quiere comprar un vehículo de este segmento encontrará en el BYD Tang eléctrico una alternativa al Kia EV9, al que consideramos su rival más claro.',\n",
       " 'Equipamiento y tecnología para el SUV más lujoso de Audi',\n",
       " 'Gracias por confiar en ¿Que coche me compro?, hemos recibido tus datos y en breve nos pondremos en contacto contigo.',\n",
       " 'Gracias por confiar en ¿Que coche me compro?, hemos recibido tus datos y en breve nos pondremos en contacto contigo.',\n",
       " 'Uno de los SUVs más lujosos del mercado, puede tener mucho equipamiento y un motor diésel de altas prestaciones. Resulta también interesante por contar con hasta siete plazas, un detalle que siempre han valorado positivamente los usuarios. Incorpora toda la tecnología del grupo tanto en motores como en seguridad y confort, logrando un producto muy completo al máximo nivel.',\n",
       " 'Para que puedas valorar mejor las diferencias y las similitudes entre Audi Q7 y Volvo XC90, tienes a tu disposición nuestra comparativa destacada donde podrás hacerlo de manera rápida y sencilla. Tanto Audi Q7 como Volvo XC90 pertenecen a la misma categoría, son opciones de compra dirigidas al mismo usuario aunque con evidentes diferencias estéticas, niveles de acabado y/o motorizaciones.',\n",
       " 'Lujo, espacio y buena dinámica',\n",
       " 'El SUV de gran tamaño con 7 plazas que debes comprarte si cumples dos premisas: la primera es que te guste conducir y disfrutes de una dinámica menos refinada pero más divertida, y la segunda es que puedas pagarlo, porque el BMW X5 es un gran coche que debes pagar.',\n",
       " 'Hasta aquí ha llegado Mercedes',\n",
       " 'Con una capacidad para circular fuera del asfalto verdaderamente sorprendente, el gran SUV alemán se coloca como uno de los vehículos más capaces y avanzados del mercado, unas cualidades que, eso sí...hay que pagar bien pagadas a la hora de pasar por caja.',\n",
       " 'Enorme, lujoso y exclusivo',\n",
       " 'El Mercedes-Benz GLS se posiciona como pieza clave en la gama SUV de la firma al situarse como el tope de gama. Dicha posición la gana tras adquirir numerosos rasgos de su homólogo berlina, el Clase S, aunque adaptados al formado SUV. Destaca principalmente por calidad de rodadura, tecnología y confort general, pero flaquea en sus considerables dimensiones, en el precio de algunos extras y en la calidad de ciertos ajustes, que no son los propios de un coche de su precio.',\n",
       " '',\n",
       " '',\n",
       " '',\n",
       " '',\n",
       " 'Si nos gusta esta estética aventurera pero no necesitamos las 7 plazas casi nunca, posiblememente encuentres lo que buscas en nuestra guía de los mejores SUV grandes.',\n",
       " 'Con respecto al mercado de monovolúmenes, para un uso exclusivo en asfalto serían una opción más práctica como medio de transporte puro y duro, ya que aprovechan toda su altura para transformarla en especio interior, en lugar de desperdiciar una parte en una altura al suelo que carece de utilidad. También tenemos una guía de monovolúmenes medianos de 7 plazas\\xa0y otra de grandes monovolúmenes de 7 plazas.',\n",
       " 'El problema de los monovolúmenes y la razón por la que están perdiendo cuota de mercado no es su aspecto práctico, en el que siempre saldrían vencedores, sino el atractivo estético que supone la sensación de aventura, que sí proporcionan los SUV.',\n",
       " 'Los SUV de 7 plazas son adecuados para quienes necesitan llevar más de 5 ocupantes a la vez de forma frecuente, pero antes de comprar uno debemos tener en cuenta las siguientes ventajas e inconvenientes:',\n",
       " 'Ventajas de un SUV de 7 plazas',\n",
       " 'Inconvenientes de un SUV de 7 plazas',\n",
       " 'Probablemente sí, siempre y cuando nunca pretendas usar la 7 plazas y a la vez disponer de un gran maletero. Las plazas 6 y 7 de la última fina en este tipo de coches ocupan todo el espacio de carga. En muchas ocasiones, esas últimas dos plazas son bastante pequeñas y sólo aptas para personas no muy grandes y un uso esporádico... nos sacarán de un apuro, pero siempre son peores que el resto de asientos.',\n",
       " 'En ese caso podrás plegar las útimas dos plazas bajo el suelo del maletero y podrás disfrutar de un espacio de carga inmenso con 5 cómodas plazas a tu disposición.',\n",
       " 'La operación de plegado y desplegado de las plazas 6 y 7 es sencilla y no requiere de especial fuerza o habilidad. Suelen estar muy bien pensadas y dejan un suelo plano en el maletero cuando no se utilzan.',\n",
       " '',\n",
       " 'Descubre nuestras guías de compra en la que encontrarás todos los precios de coches nuevos y sus principales características, organizadas por segmentos',\n",
       " 'En esta guía\\xa0podéis encontrar nuestra selección editorial de los mejores SUV del mercado, teniendo en cuenta un criterio de calidad-precio. También puedes buscar otras opciones de compra en nuestras guías con los SUV más baratos, que pone el acent...',\n",
       " 'Te presentamos la guía definitiva con los SUV más baratos del mercado. En esta guía podrás encontrar los SUV más baratos que haya en cada momento a la venta en España.\\xa0Ordenados por precio\\xa0estas son las mejores ofertas en SUV a día de hoy tanto pa...',\n",
       " 'Existen en el mercado muchos coches diseñados para madres y padres. Son coches familiares de distintos formatos que nos harán la vida más fácil a la hora de llevar tanto a los niños como los objetos asociados con éstos: sillas, grandes bolsas, peq...']"
      ]
     },
     "execution_count": 74,
     "metadata": {},
     "output_type": "execute_result"
    }
   ],
   "source": [
    "lista_opiniones_url_3"
   ]
  },
  {
   "cell_type": "code",
   "execution_count": 75,
   "metadata": {},
   "outputs": [],
   "source": [
    "# Creo una funcion para obtener todos los párrafos que me interesan de una lista y agruparlos en una nueva lista \n",
    "def agregar_un_parrafo(lista, posicion):\n",
    "    lista_parrafos= []\n",
    "    parrafo = lista[posicion]\n",
    "    lista_parrafos.append(parrafo)\n",
    "    return lista_parrafos"
   ]
  },
  {
   "cell_type": "code",
   "execution_count": 76,
   "metadata": {},
   "outputs": [],
   "source": [
    "# Comienzo a agregar párrafos a mi lista\n",
    "# Listado párrafos = 8, 12, 17, 22, 28, 32, 37, 42, 47, 52, 59, 64, 69, 74, 79// a partir de aqui son los 5 que no consigo 82, 84, 86, 90, 90 (estos dos últimos no tienen reseña) \n",
    "opiniones_corregidas = []\n",
    "opiniones_corregidas.append(agregar_un_parrafo(lista_opiniones_url_3, 8))\n",
    "opiniones_corregidas.append(agregar_un_parrafo(lista_opiniones_url_3, 12))\n",
    "opiniones_corregidas.append(agregar_un_parrafo(lista_opiniones_url_3, 17))\n",
    "opiniones_corregidas.append(agregar_un_parrafo(lista_opiniones_url_3, 22))\n",
    "opiniones_corregidas.append(agregar_un_parrafo(lista_opiniones_url_3, 28)) # 5\n",
    "opiniones_corregidas.append(agregar_un_parrafo(lista_opiniones_url_3, 32))\n",
    "opiniones_corregidas.append(agregar_un_parrafo(lista_opiniones_url_3, 37))\n",
    "opiniones_corregidas.append(agregar_un_parrafo(lista_opiniones_url_3, 42))\n",
    "opiniones_corregidas.append(agregar_un_parrafo(lista_opiniones_url_3, 47))\n",
    "opiniones_corregidas.append(agregar_un_parrafo(lista_opiniones_url_3, 52)) # 10\n",
    "opiniones_corregidas.append(agregar_un_parrafo(lista_opiniones_url_3, 59))\n",
    "opiniones_corregidas.append(agregar_un_parrafo(lista_opiniones_url_3, 64))\n",
    "opiniones_corregidas.append(agregar_un_parrafo(lista_opiniones_url_3, 69))\n",
    "opiniones_corregidas.append(agregar_un_parrafo(lista_opiniones_url_3, 74))\n",
    "opiniones_corregidas.append(agregar_un_parrafo(lista_opiniones_url_3, 79)) #15\n",
    "opiniones_corregidas.append(agregar_un_parrafo(lista_opiniones_url_3, 82))\n",
    "opiniones_corregidas.append(agregar_un_parrafo(lista_opiniones_url_3, 84))\n",
    "opiniones_corregidas.append(agregar_un_parrafo(lista_opiniones_url_3, 86))\n",
    "opiniones_corregidas.append(agregar_un_parrafo(lista_opiniones_url_3, 90)) # No tiene en la web 91 son string vacios\n",
    "opiniones_corregidas.append(agregar_un_parrafo(lista_opiniones_url_3, 90)) # No tiene en la web 91 son string vacios"
   ]
  },
  {
   "cell_type": "code",
   "execution_count": 77,
   "metadata": {},
   "outputs": [
    {
     "data": {
      "text/plain": [
       "[['Para que puedas valorar mejor las diferencias y las similitudes entre Mazda CX-80 y Mercedes GLC, tienes a tu disposición nuestra comparativa destacada donde podrás hacerlo de manera rápida y sencilla. El cliente que quiere comprar un vehículo de este segmento encontrará en el Mercedes GLC una alternativa al Mazda CX-80, al que consideramos su rival más claro.'],\n",
       " ['Sin duda, el gran SUV checo es una de las mejores opciones de su segmento, destacando por una relación calidad-precio casi imbatible, mucho espacio interior, un rodar muy suave y silencioso y unos acabados que nada tienen que envidiar a otros vehículos de la competencia.'],\n",
       " ['Con un diseño mucho más elaborado y un interior que lo sitúa casi en la línea de las marcas premium, el Kia Sorento se convierte así en una excelente opción para los que busquen un SUV de gran tamaño, con buenas dosis de espacio y no quieran abonar lo que las firmas premium están pidiendo por lo que sería el modelo equivalente.'],\n",
       " ['El Hyundai Santa Fe se asienta como una de las opciones más sensatas del segmento al ofrecer una terminación de acabados sustancialmente mejor que la de otras marcas generalistas, un apartado tecnológico sumamente avanzado y un elenco de motores dispuesto a cubrir las necesidades de cualquier perfil de cliente. \\n\\nSin embargo, no se podría categorizar como un SUV premium pese a que se les acerque peligrosamente, aunque sí se posiciona por encima de alguno de sus rivales más directos, tales como el SEAT Tarraco. Aún así, su precio es algo elevado y hará que la balanza se pueda inclinar antes por un Volvo XC60 o un BMW X5.'],\n",
       " ['Por si fuera poco, puedes echar un vistazo a la comparativa entre el Volkswagen Tayron híbrido y el Renault Espace para ver cuáles son los puntos clave de cada modelo. El cliente que quiere comprar un vehículo de este segmento encontrará en el Renault Espace una alternativa al Volkswagen Tayron híbrido, al que consideramos su rival más claro.'],\n",
       " ['La etiqueta ECO no puede faltar en la última apuesta de Toyota, un gran SUV de 7 plazas que destaca por sus más de 200 CV y su capacidad, a la vez, de circular buena parte del tiempo en modo eléctrico si no salimos de la ciudad.'],\n",
       " ['Con su diseño tan atrevido, el 5008 de Peugeot resulta mucho más atractivo que la mayoría de sus rivales. Cuenta, además, con la ventaja de ofrecer en la segunda fila un total de tres asientos individuales, algo que lo convierte en la alternativa más apetecible a un MPV.'],\n",
       " ['El Tiguan Allspace es una buena opción para aquellos a los que les guste el Volkswagen Tiguan pero necesiten más espacio y más plazas a bordo. Eso sí, hay que reconocer que los dos asientos de la tercera fila no son especialmente amplios.'],\n",
       " ['Si buscas un vehículo compacto, con carrocería de diseño robusto pero, sobre todo, con la enorme cualidad de ofrecer 7 plazas, el Mercedes GLB puede presumir de ser la única alternativa premium del mercado.'],\n",
       " ['El Mercedes-Benz EQB nace como la variante 100% eléctrica del GLB, compartiendo infinidad de aspectos. Destaca por ser uno de los pocos eléctricos del mercado en ofrecer 7 plazas, así como unas prestaciones y una autonomía más que digna. No obstante, su elevado precio no casa con algunos acabados y ajustes que son bastante mejorables.'],\n",
       " ['El Range Rover es el sumum del todoterreno de lujo británico. Con un porte señorial, un estilo británico inconfundible y un interior primorosamente terminado en los mejores materiales y con exquisito gusto, el Range Rover nos ofrece unas cualidades off-road dignas del mejor todoterreno con datos como una profundidad de vadeo máxima de 1,10m, una auténtica barbaridad.'],\n",
       " ['El que sin duda es una de las referencias en el segmento de los SUV de gran tamaño es también una buena opción para los que buscan un vehículo con grandes dosis de espacio y comodidad, todo ello con un índice de seguridad de primerísimo nivel.'],\n",
       " ['El más grande de los Volvo eléctricos con carrocería SUV destaca por su excelente calidad de realización y un diseño conservador que destila elegancia. Es una alternativa muy seria al XC90 de combustión, con un amplio habitáculo en el que pueden viajar hasta siete pasajeros.'],\n",
       " ['El Kia EV9 es un SUV eléctrico de gran tamaño que busca ofrecer versatilidad y eficiencia a partes iguales. Hablamos de un coche práctico, válido para viajar y eficiente, siendo su único punto negativo un precio de adquisición algo elevado frente a otras opciones del sector.'],\n",
       " ['Uno de los SUVs más lujosos del mercado, puede tener mucho equipamiento y un motor diésel de altas prestaciones. Resulta también interesante por contar con hasta siete plazas, un detalle que siempre han valorado positivamente los usuarios. Incorpora toda la tecnología del grupo tanto en motores como en seguridad y confort, logrando un producto muy completo al máximo nivel.'],\n",
       " ['El SUV de gran tamaño con 7 plazas que debes comprarte si cumples dos premisas: la primera es que te guste conducir y disfrutes de una dinámica menos refinada pero más divertida, y la segunda es que puedas pagarlo, porque el BMW X5 es un gran coche que debes pagar.'],\n",
       " ['Con una capacidad para circular fuera del asfalto verdaderamente sorprendente, el gran SUV alemán se coloca como uno de los vehículos más capaces y avanzados del mercado, unas cualidades que, eso sí...hay que pagar bien pagadas a la hora de pasar por caja.'],\n",
       " ['El Mercedes-Benz GLS se posiciona como pieza clave en la gama SUV de la firma al situarse como el tope de gama. Dicha posición la gana tras adquirir numerosos rasgos de su homólogo berlina, el Clase S, aunque adaptados al formado SUV. Destaca principalmente por calidad de rodadura, tecnología y confort general, pero flaquea en sus considerables dimensiones, en el precio de algunos extras y en la calidad de ciertos ajustes, que no son los propios de un coche de su precio.'],\n",
       " [''],\n",
       " ['']]"
      ]
     },
     "execution_count": 77,
     "metadata": {},
     "output_type": "execute_result"
    }
   ],
   "source": [
    "opiniones_corregidas"
   ]
  },
  {
   "cell_type": "code",
   "execution_count": 78,
   "metadata": {},
   "outputs": [],
   "source": [
    "# Ahora toca añadirlo a la lista del DF\n",
    "lista_opinion_DF.extend(opiniones_corregidas)"
   ]
  },
  {
   "cell_type": "code",
   "execution_count": 79,
   "metadata": {},
   "outputs": [],
   "source": [
    "# Columna de precios\n",
    "# Creo una función para sacar precios, como en la anterior, primero obtengo el listado de precios y luego lo uno a la del DF\n",
    "def lista_precios (url, tag, class_):\n",
    "    conexion = requests.get(url)\n",
    "    sopa = bs (conexion.text, 'lxml')\n",
    "    precios= sopa.find_all(tag, class_)\n",
    "    lista_precios = []\n",
    "    for indice, precio in enumerate(precios):\n",
    "        lista_precios.append(precio.text.strip())\n",
    "        indice += 1\n",
    "    return lista_precios\n",
    "    "
   ]
  },
  {
   "cell_type": "code",
   "execution_count": 80,
   "metadata": {},
   "outputs": [],
   "source": [
    "# Listado de precios\n",
    "lista_precios_url_3 = lista_precios(url_3, 'span', class_='block text-primary text-20 leading-tight') # obtengo 15 "
   ]
  },
  {
   "cell_type": "code",
   "execution_count": 81,
   "metadata": {},
   "outputs": [],
   "source": [
    "# Añado los 5 restantes a mano\n",
    "lista_precios_url_3_manual = ['94.037€', '91.914€', '118.594€', '120.510€', '93.989€']"
   ]
  },
  {
   "cell_type": "code",
   "execution_count": 82,
   "metadata": {},
   "outputs": [],
   "source": [
    "# Agregamos a la lista del Df\n",
    "lista_precios_DF.extend(lista_precios_url_3)\n",
    "lista_precios_DF.extend(lista_precios_url_3_manual)"
   ]
  },
  {
   "cell_type": "code",
   "execution_count": 83,
   "metadata": {},
   "outputs": [],
   "source": [
    "# Finalmente obtenemos la lista de caracteristicas, que no tiene\n",
    "# Genero una lista con 20 valores None\n",
    "lista_caracteristicas_url_3 = crear_lista_none(20)\n",
    "lista_caracteristicas_DF.extend(lista_caracteristicas_url_3)"
   ]
  },
  {
   "cell_type": "code",
   "execution_count": 84,
   "metadata": {},
   "outputs": [
    {
     "data": {
      "text/plain": [
       "40"
      ]
     },
     "execution_count": 84,
     "metadata": {},
     "output_type": "execute_result"
    }
   ],
   "source": [
    "len(lista_coches_DF)\n",
    "len(lista_valoraciones_DF)\n",
    "len(lista_a_favor_DF)\n",
    "len(lista_en_contra_DF)\n",
    "len(lista_opinion_DF)\n",
    "len(lista_precios_DF)\n",
    "len(lista_caracteristicas_DF)"
   ]
  },
  {
   "cell_type": "code",
   "execution_count": 85,
   "metadata": {},
   "outputs": [
    {
     "data": {
      "text/html": [
       "<div>\n",
       "<style scoped>\n",
       "    .dataframe tbody tr th:only-of-type {\n",
       "        vertical-align: middle;\n",
       "    }\n",
       "\n",
       "    .dataframe tbody tr th {\n",
       "        vertical-align: top;\n",
       "    }\n",
       "\n",
       "    .dataframe thead th {\n",
       "        text-align: right;\n",
       "    }\n",
       "</style>\n",
       "<table border=\"1\" class=\"dataframe\">\n",
       "  <thead>\n",
       "    <tr style=\"text-align: right;\">\n",
       "      <th></th>\n",
       "      <th>Nombre</th>\n",
       "      <th>Valoraciones</th>\n",
       "      <th>A favor</th>\n",
       "      <th>En contra</th>\n",
       "      <th>Opiniones</th>\n",
       "      <th>Precio</th>\n",
       "      <th>Características</th>\n",
       "    </tr>\n",
       "  </thead>\n",
       "  <tbody>\n",
       "    <tr>\n",
       "      <th>0</th>\n",
       "      <td>1. Mazda CX-80</td>\n",
       "      <td>9/10</td>\n",
       "      <td>[Excelente eficiencia tanto en el PHEV como en...</td>\n",
       "      <td>[La suspensión puede sentirse algo seca en cie...</td>\n",
       "      <td>El CX-80 usa la misma plataforma y motores que...</td>\n",
       "      <td>Desde 54.668 €</td>\n",
       "      <td>None</td>\n",
       "    </tr>\n",
       "    <tr>\n",
       "      <th>1</th>\n",
       "      <td>2. Renault Espace</td>\n",
       "      <td>9/10</td>\n",
       "      <td>[Consumo, Equipamiento disponible, Opción de s...</td>\n",
       "      <td>[Funcionamiento poco refinado en ocasiones, Ga...</td>\n",
       "      <td>El nuevo Renault Espace es ahora un SUV con un...</td>\n",
       "      <td>Desde 38.280 €</td>\n",
       "      <td>None</td>\n",
       "    </tr>\n",
       "    <tr>\n",
       "      <th>2</th>\n",
       "      <td>3. Hyundai Santa Fe</td>\n",
       "      <td>8/10</td>\n",
       "      <td>[Equipamiento y tecnología propios de coches d...</td>\n",
       "      <td>[Precio elevado, Escasa autonomía eléctrica de...</td>\n",
       "      <td>El Santa Fe dispone de motorizaciones híbrida ...</td>\n",
       "      <td>Desde 51.478 €</td>\n",
       "      <td>None</td>\n",
       "    </tr>\n",
       "    <tr>\n",
       "      <th>3</th>\n",
       "      <td>4. Skoda Kodiaq</td>\n",
       "      <td>8/10</td>\n",
       "      <td>[Practicidad y espacio disponible, Oferta mecá...</td>\n",
       "      <td>[Ergonomía de algunos mandos, Plazas de la ter...</td>\n",
       "      <td>El Skoda Kodiaq es mucho más barato que el Q7,...</td>\n",
       "      <td>Desde 40.001 €</td>\n",
       "      <td>None</td>\n",
       "    </tr>\n",
       "    <tr>\n",
       "      <th>4</th>\n",
       "      <td>5. Peugeot 5008</td>\n",
       "      <td>8/10</td>\n",
       "      <td>[Amplio interior con 7 plazas de serie, Comodi...</td>\n",
       "      <td>[La calidad del sistema multimedia podría mejo...</td>\n",
       "      <td>El Peugeot 5008 es un coche muy redondo y cohe...</td>\n",
       "      <td>Desde 34.885 €</td>\n",
       "      <td>None</td>\n",
       "    </tr>\n",
       "    <tr>\n",
       "      <th>5</th>\n",
       "      <td>6. Volkswagen Tayron</td>\n",
       "      <td>8/10</td>\n",
       "      <td>[Maletero muy grande, Aislamiento, Integración...</td>\n",
       "      <td>[PHEV solo de cinco plazas, La tercera fila de...</td>\n",
       "      <td>El Volkswagen Tayron es un SUV espacioso y tec...</td>\n",
       "      <td>Desde 42.981 €</td>\n",
       "      <td>None</td>\n",
       "    </tr>\n",
       "    <tr>\n",
       "      <th>6</th>\n",
       "      <td>7. KIA Sorento</td>\n",
       "      <td>7/10</td>\n",
       "      <td>[Variedad de motores, Amplio y disponible con ...</td>\n",
       "      <td>[Consumo, Mandos del climatizador, Prestacione...</td>\n",
       "      <td>El KIA Sorento es un SUV de gran tamaño que pr...</td>\n",
       "      <td>Desde 45.963 €</td>\n",
       "      <td>None</td>\n",
       "    </tr>\n",
       "    <tr>\n",
       "      <th>7</th>\n",
       "      <td>8. Nissan X-Trail</td>\n",
       "      <td>9/10</td>\n",
       "      <td>[Presentación vistosa, Confort general, Uno de...</td>\n",
       "      <td>[Rumorosidad en ciertas condiciones, Presencia...</td>\n",
       "      <td>El X-Trail ha subido sensiblemente de nivel en...</td>\n",
       "      <td>Desde 32.660 €</td>\n",
       "      <td>None</td>\n",
       "    </tr>\n",
       "    <tr>\n",
       "      <th>8</th>\n",
       "      <td>9. Mercedes-Benz GLB</td>\n",
       "      <td>8/10</td>\n",
       "      <td>[Versatilidad, Diseño, Variedad]</td>\n",
       "      <td>[Precio, Equipamiento en modelos básicos, Sin ...</td>\n",
       "      <td>Este SUV de carrocería compacta por ofrecer ca...</td>\n",
       "      <td>Desde 46.330 €</td>\n",
       "      <td>None</td>\n",
       "    </tr>\n",
       "    <tr>\n",
       "      <th>9</th>\n",
       "      <td>10. Toyota Highlander</td>\n",
       "      <td>8/10</td>\n",
       "      <td>[Versatilidad, Facilidad de conducción, Etique...</td>\n",
       "      <td>[Poca variedad mecánica, Tamaño, Manejo multim...</td>\n",
       "      <td>El Highlander tiene un sistema de propulsión h...</td>\n",
       "      <td>Desde 59.790 €</td>\n",
       "      <td>None</td>\n",
       "    </tr>\n",
       "    <tr>\n",
       "      <th>10</th>\n",
       "      <td>Volvo XC90</td>\n",
       "      <td>None</td>\n",
       "      <td>Materiales interiores premium.Confort excepcio...</td>\n",
       "      <td>Suspensión firme a bajas velocidades.Sistema d...</td>\n",
       "      <td>Este SUV de origen sueco combina lujo, espacio...</td>\n",
       "      <td>None</td>\n",
       "      <td>El Volvo XC90 es un SUV de 7 plazas que destac...</td>\n",
       "    </tr>\n",
       "    <tr>\n",
       "      <th>11</th>\n",
       "      <td>Audi Q7</td>\n",
       "      <td>None</td>\n",
       "      <td>Motores potentes y variados.Tracción quattro y...</td>\n",
       "      <td>Consumo de combustible elevado.Precio inicial ...</td>\n",
       "      <td>Recomendamos el Audi Q7 por su combinación de ...</td>\n",
       "      <td>None</td>\n",
       "      <td>El Audi Q7 es un SUV de 7 plazas que combina u...</td>\n",
       "    </tr>\n",
       "    <tr>\n",
       "      <th>12</th>\n",
       "      <td>Mercedes-Benz Clase GLB</td>\n",
       "      <td>None</td>\n",
       "      <td>Interior modular con asientos ajustables.Tecno...</td>\n",
       "      <td>Precio de opciones elevado.Tercera fila adecua...</td>\n",
       "      <td>Recomendamos el GLB por su versatilidad y prac...</td>\n",
       "      <td>None</td>\n",
       "      <td>El Mercedes-Benz Clase GLB es un SUV de 7 plaz...</td>\n",
       "    </tr>\n",
       "    <tr>\n",
       "      <th>13</th>\n",
       "      <td>Hyundai Santa Fe</td>\n",
       "      <td>None</td>\n",
       "      <td>Diseño moderno y asientos cómodos.Pantalla tác...</td>\n",
       "      <td>Tercera fila ajustada para adultos altos.Algun...</td>\n",
       "      <td>Recomendamos el Hyundai Santa Fe por su excele...</td>\n",
       "      <td>None</td>\n",
       "      <td>El Hyundai Santa Fe es un SUV de 7 plazas con ...</td>\n",
       "    </tr>\n",
       "    <tr>\n",
       "      <th>14</th>\n",
       "      <td>Kia Sorento</td>\n",
       "      <td>None</td>\n",
       "      <td>Diseño moderno y flexible.Pantallas avanzadas ...</td>\n",
       "      <td>Tercera fila ajustada para adultos.Espacio de ...</td>\n",
       "      <td>Recomendamos el Kia Sorento por su versatilida...</td>\n",
       "      <td>None</td>\n",
       "      <td>El Kia Sorento es un SUV de 7 plazas que desta...</td>\n",
       "    </tr>\n",
       "    <tr>\n",
       "      <th>15</th>\n",
       "      <td>Peugeot 5008</td>\n",
       "      <td>None</td>\n",
       "      <td>Diseño moderno y atractivo.Pantalla panorámica...</td>\n",
       "      <td>Tercera fila ajustada para adultos altos.Espac...</td>\n",
       "      <td>Recomendamos el Peugeot 5008 por su versatilid...</td>\n",
       "      <td>None</td>\n",
       "      <td>El Peugeot 5008 es uno de los SUV de 7 plazas ...</td>\n",
       "    </tr>\n",
       "    <tr>\n",
       "      <th>16</th>\n",
       "      <td>SEAT Tarraco</td>\n",
       "      <td>None</td>\n",
       "      <td>Espacio interior amplio y bien acabado.Sistema...</td>\n",
       "      <td>No es el más deportivo de la gama.Falta de una...</td>\n",
       "      <td>Recomendamos el SEAT Tarraco por su combinació...</td>\n",
       "      <td>None</td>\n",
       "      <td>El SEAT Tarraco es un SUV de 7 plazas versátil...</td>\n",
       "    </tr>\n",
       "    <tr>\n",
       "      <th>17</th>\n",
       "      <td>Skoda Kodiaq</td>\n",
       "      <td>None</td>\n",
       "      <td>Interior bien diseñado y espacioso.Equipamient...</td>\n",
       "      <td>Espacio ajustado para cinco adultos.Chasis men...</td>\n",
       "      <td>Recomendamos el Skoda Kodiaq por su combinació...</td>\n",
       "      <td>None</td>\n",
       "      <td>El Skoda Kodiaq es un SUV de 7 plazas con un d...</td>\n",
       "    </tr>\n",
       "    <tr>\n",
       "      <th>18</th>\n",
       "      <td>Nissan X-Trail</td>\n",
       "      <td>None</td>\n",
       "      <td>Sistema e-Power eficiente.Interior espacioso y...</td>\n",
       "      <td>Consumo de combustible mayor al anunciado.Acel...</td>\n",
       "      <td>Recomendamos el Nissan X-Trail por su combinac...</td>\n",
       "      <td>None</td>\n",
       "      <td>El Nissan X-Trail es un SUV robusto y sofistic...</td>\n",
       "    </tr>\n",
       "    <tr>\n",
       "      <th>19</th>\n",
       "      <td>Mitsubishi Outlander</td>\n",
       "      <td>None</td>\n",
       "      <td>Espacio interior amplio y versátil.Buena conec...</td>\n",
       "      <td>Tercera fila ajustada para adultos.Piso del ma...</td>\n",
       "      <td>Recomendamos el Outlander por su combinación d...</td>\n",
       "      <td>None</td>\n",
       "      <td>El Mitsubishi Outlander es un SUV de 7 plazas ...</td>\n",
       "    </tr>\n",
       "    <tr>\n",
       "      <th>20</th>\n",
       "      <td>1. Mazda CX-80</td>\n",
       "      <td>8,2/10</td>\n",
       "      <td>None</td>\n",
       "      <td>None</td>\n",
       "      <td>[Para que puedas valorar mejor las diferencias...</td>\n",
       "      <td>56.198 €</td>\n",
       "      <td>None</td>\n",
       "    </tr>\n",
       "    <tr>\n",
       "      <th>21</th>\n",
       "      <td>2. Skoda Kodiaq</td>\n",
       "      <td>8,0/10</td>\n",
       "      <td>Hasta siete plazas, presentación, opción de tr...</td>\n",
       "      <td>Gama inicial limitada, precio en acabados supe...</td>\n",
       "      <td>[Sin duda, el gran SUV checo es una de las mej...</td>\n",
       "      <td>37.550 €</td>\n",
       "      <td>None</td>\n",
       "    </tr>\n",
       "    <tr>\n",
       "      <th>22</th>\n",
       "      <td>3. Kia Sorento</td>\n",
       "      <td>7,8/10</td>\n",
       "      <td>Espacio, maletero, siete plazas, calidad de te...</td>\n",
       "      <td>Dimensiones, consumos algo elevados, precio</td>\n",
       "      <td>[Con un diseño mucho más elaborado y un interi...</td>\n",
       "      <td>49.880 €</td>\n",
       "      <td>None</td>\n",
       "    </tr>\n",
       "    <tr>\n",
       "      <th>23</th>\n",
       "      <td>4. Hyundai Santa Fe Híbrido</td>\n",
       "      <td>7,8/10</td>\n",
       "      <td>Arsenal tecnológico, confort en marcha, mejora...</td>\n",
       "      <td>Precio elevado para lo que busca un cliente en...</td>\n",
       "      <td>[El Hyundai Santa Fe se asienta como una de la...</td>\n",
       "      <td>51.210 €</td>\n",
       "      <td>None</td>\n",
       "    </tr>\n",
       "    <tr>\n",
       "      <th>24</th>\n",
       "      <td>5. Volkswagen Tayron híbrido</td>\n",
       "      <td>7,6/10</td>\n",
       "      <td>None</td>\n",
       "      <td>None</td>\n",
       "      <td>[Por si fuera poco, puedes echar un vistazo a ...</td>\n",
       "      <td>38.000 €</td>\n",
       "      <td>None</td>\n",
       "    </tr>\n",
       "    <tr>\n",
       "      <th>25</th>\n",
       "      <td>6. Toyota Highlander Híbrido</td>\n",
       "      <td>7,4/10</td>\n",
       "      <td>Imagen, equipamiento, espacio interior, mecáni...</td>\n",
       "      <td>Caja de cambios, consumos a altas velocidades</td>\n",
       "      <td>[La etiqueta ECO no puede faltar en la última ...</td>\n",
       "      <td>59.250 €</td>\n",
       "      <td>None</td>\n",
       "    </tr>\n",
       "    <tr>\n",
       "      <th>26</th>\n",
       "      <td>7. Peugeot 5008</td>\n",
       "      <td>7,3/10</td>\n",
       "      <td>Diseño interior, calidad de construcción, espa...</td>\n",
       "      <td>Precio, gama mecánica limitada</td>\n",
       "      <td>[Con su diseño tan atrevido, el 5008 de Peugeo...</td>\n",
       "      <td>35.010 €</td>\n",
       "      <td>None</td>\n",
       "    </tr>\n",
       "    <tr>\n",
       "      <th>27</th>\n",
       "      <td>8. Volkswagen Tiguan Allspace</td>\n",
       "      <td>7,3/10</td>\n",
       "      <td>Calidad de rodadura, gama de motores</td>\n",
       "      <td>Diseño muy convencional, detalles de acabado</td>\n",
       "      <td>[El Tiguan Allspace es una buena opción para a...</td>\n",
       "      <td>37.400 €</td>\n",
       "      <td>None</td>\n",
       "    </tr>\n",
       "    <tr>\n",
       "      <th>28</th>\n",
       "      <td>9. Mercedes GLB</td>\n",
       "      <td>7,3/10</td>\n",
       "      <td>Equipamiento disponible, hasta siete asientos,...</td>\n",
       "      <td>Precio elevado, opciones caras, maletero con s...</td>\n",
       "      <td>[Si buscas un vehículo compacto, con carrocerí...</td>\n",
       "      <td>49.480 €</td>\n",
       "      <td>None</td>\n",
       "    </tr>\n",
       "    <tr>\n",
       "      <th>29</th>\n",
       "      <td>10. Mercedes EQB eléctrico</td>\n",
       "      <td>7,2/10</td>\n",
       "      <td>Capacidad para 7 ocupantes, prestaciones, auto...</td>\n",
       "      <td>Precio elevado, algunas calidades mejorables</td>\n",
       "      <td>[El Mercedes-Benz EQB nace como la variante 10...</td>\n",
       "      <td>58.260 €</td>\n",
       "      <td>None</td>\n",
       "    </tr>\n",
       "    <tr>\n",
       "      <th>30</th>\n",
       "      <td>1. Range Rover</td>\n",
       "      <td>8,7/10</td>\n",
       "      <td>Diseño, interior, calidad de acabados, capacid...</td>\n",
       "      <td>La experiencia en carretera es la de un salón ...</td>\n",
       "      <td>[El Range Rover es el sumum del todoterreno de...</td>\n",
       "      <td>152.124 €</td>\n",
       "      <td>None</td>\n",
       "    </tr>\n",
       "    <tr>\n",
       "      <th>31</th>\n",
       "      <td>2. Volvo XC90</td>\n",
       "      <td>8,7/10</td>\n",
       "      <td>Diseño interior y exterior, calidad de constru...</td>\n",
       "      <td>Agilidad limitada por su tamaño, precio de opc...</td>\n",
       "      <td>[El que sin duda es una de las referencias en ...</td>\n",
       "      <td>71.900 €</td>\n",
       "      <td>None</td>\n",
       "    </tr>\n",
       "    <tr>\n",
       "      <th>32</th>\n",
       "      <td>3. Volvo EX90 eléctrico</td>\n",
       "      <td>8,3/10</td>\n",
       "      <td>Calidad de acabados, hasta siete plazas, equip...</td>\n",
       "      <td>Peso muy elevado, precios algo altos</td>\n",
       "      <td>[El más grande de los Volvo eléctricos con car...</td>\n",
       "      <td>72.900 €</td>\n",
       "      <td>None</td>\n",
       "    </tr>\n",
       "    <tr>\n",
       "      <th>33</th>\n",
       "      <td>4. Kia EV9</td>\n",
       "      <td>8,3/10</td>\n",
       "      <td>None</td>\n",
       "      <td>None</td>\n",
       "      <td>[El Kia EV9 es un SUV eléctrico de gran tamaño...</td>\n",
       "      <td>74.860 €</td>\n",
       "      <td>None</td>\n",
       "    </tr>\n",
       "    <tr>\n",
       "      <th>34</th>\n",
       "      <td>5. Audi Q7</td>\n",
       "      <td>8,2/10</td>\n",
       "      <td>Espacio interior, calidad de construcción, tec...</td>\n",
       "      <td>Proporciones exteriores algo raras, precio</td>\n",
       "      <td>[Uno de los SUVs más lujosos del mercado, pued...</td>\n",
       "      <td>74.460 €</td>\n",
       "      <td>None</td>\n",
       "    </tr>\n",
       "    <tr>\n",
       "      <th>35</th>\n",
       "      <td>6. BMW X5</td>\n",
       "      <td>7,8/10</td>\n",
       "      <td>Tacto de conducción</td>\n",
       "      <td>Precio elevado, opciones caras</td>\n",
       "      <td>[El SUV de gran tamaño con 7 plazas que debes ...</td>\n",
       "      <td>94.037€</td>\n",
       "      <td>None</td>\n",
       "    </tr>\n",
       "    <tr>\n",
       "      <th>36</th>\n",
       "      <td>7. Mercedes GLE</td>\n",
       "      <td>7,8/10</td>\n",
       "      <td>Diseño, calidades, posibilidad de 7 plazas, ca...</td>\n",
       "      <td>Precio elevado, opciones caras</td>\n",
       "      <td>[Con una capacidad para circular fuera del asf...</td>\n",
       "      <td>91.914€</td>\n",
       "      <td>None</td>\n",
       "    </tr>\n",
       "    <tr>\n",
       "      <th>37</th>\n",
       "      <td>8. Mercedes GLS</td>\n",
       "      <td>7,1/10</td>\n",
       "      <td>Calidad de rodadura, confort, cargatecnológica</td>\n",
       "      <td>Dimensiones, precio de algunos opcionales, cie...</td>\n",
       "      <td>[El Mercedes-Benz GLS se posiciona como pieza ...</td>\n",
       "      <td>118.594€</td>\n",
       "      <td>None</td>\n",
       "    </tr>\n",
       "    <tr>\n",
       "      <th>38</th>\n",
       "      <td>9. BMW X7</td>\n",
       "      <td>6,9/10</td>\n",
       "      <td>None</td>\n",
       "      <td>None</td>\n",
       "      <td>[]</td>\n",
       "      <td>120.510€</td>\n",
       "      <td>None</td>\n",
       "    </tr>\n",
       "    <tr>\n",
       "      <th>39</th>\n",
       "      <td>10. Hongqi eHS9</td>\n",
       "      <td>6,8/10</td>\n",
       "      <td>None</td>\n",
       "      <td>None</td>\n",
       "      <td>[]</td>\n",
       "      <td>93.989€</td>\n",
       "      <td>None</td>\n",
       "    </tr>\n",
       "  </tbody>\n",
       "</table>\n",
       "</div>"
      ],
      "text/plain": [
       "                           Nombre Valoraciones  \\\n",
       "0                  1. Mazda CX-80         9/10   \n",
       "1               2. Renault Espace         9/10   \n",
       "2             3. Hyundai Santa Fe         8/10   \n",
       "3                 4. Skoda Kodiaq         8/10   \n",
       "4                 5. Peugeot 5008         8/10   \n",
       "5            6. Volkswagen Tayron         8/10   \n",
       "6                  7. KIA Sorento         7/10   \n",
       "7               8. Nissan X-Trail         9/10   \n",
       "8            9. Mercedes-Benz GLB         8/10   \n",
       "9           10. Toyota Highlander         8/10   \n",
       "10                     Volvo XC90         None   \n",
       "11                        Audi Q7         None   \n",
       "12        Mercedes-Benz Clase GLB         None   \n",
       "13               Hyundai Santa Fe         None   \n",
       "14                    Kia Sorento         None   \n",
       "15                   Peugeot 5008         None   \n",
       "16                   SEAT Tarraco         None   \n",
       "17                   Skoda Kodiaq         None   \n",
       "18                 Nissan X-Trail         None   \n",
       "19           Mitsubishi Outlander         None   \n",
       "20                 1. Mazda CX-80       8,2/10   \n",
       "21                2. Skoda Kodiaq       8,0/10   \n",
       "22                 3. Kia Sorento       7,8/10   \n",
       "23    4. Hyundai Santa Fe Híbrido       7,8/10   \n",
       "24   5. Volkswagen Tayron híbrido       7,6/10   \n",
       "25   6. Toyota Highlander Híbrido       7,4/10   \n",
       "26                7. Peugeot 5008       7,3/10   \n",
       "27  8. Volkswagen Tiguan Allspace       7,3/10   \n",
       "28                9. Mercedes GLB       7,3/10   \n",
       "29     10. Mercedes EQB eléctrico       7,2/10   \n",
       "30                 1. Range Rover       8,7/10   \n",
       "31                  2. Volvo XC90       8,7/10   \n",
       "32        3. Volvo EX90 eléctrico       8,3/10   \n",
       "33                     4. Kia EV9       8,3/10   \n",
       "34                     5. Audi Q7       8,2/10   \n",
       "35                      6. BMW X5       7,8/10   \n",
       "36                7. Mercedes GLE       7,8/10   \n",
       "37                8. Mercedes GLS       7,1/10   \n",
       "38                      9. BMW X7       6,9/10   \n",
       "39                10. Hongqi eHS9       6,8/10   \n",
       "\n",
       "                                              A favor  \\\n",
       "0   [Excelente eficiencia tanto en el PHEV como en...   \n",
       "1   [Consumo, Equipamiento disponible, Opción de s...   \n",
       "2   [Equipamiento y tecnología propios de coches d...   \n",
       "3   [Practicidad y espacio disponible, Oferta mecá...   \n",
       "4   [Amplio interior con 7 plazas de serie, Comodi...   \n",
       "5   [Maletero muy grande, Aislamiento, Integración...   \n",
       "6   [Variedad de motores, Amplio y disponible con ...   \n",
       "7   [Presentación vistosa, Confort general, Uno de...   \n",
       "8                    [Versatilidad, Diseño, Variedad]   \n",
       "9   [Versatilidad, Facilidad de conducción, Etique...   \n",
       "10  Materiales interiores premium.Confort excepcio...   \n",
       "11  Motores potentes y variados.Tracción quattro y...   \n",
       "12  Interior modular con asientos ajustables.Tecno...   \n",
       "13  Diseño moderno y asientos cómodos.Pantalla tác...   \n",
       "14  Diseño moderno y flexible.Pantallas avanzadas ...   \n",
       "15  Diseño moderno y atractivo.Pantalla panorámica...   \n",
       "16  Espacio interior amplio y bien acabado.Sistema...   \n",
       "17  Interior bien diseñado y espacioso.Equipamient...   \n",
       "18  Sistema e-Power eficiente.Interior espacioso y...   \n",
       "19  Espacio interior amplio y versátil.Buena conec...   \n",
       "20                                               None   \n",
       "21  Hasta siete plazas, presentación, opción de tr...   \n",
       "22  Espacio, maletero, siete plazas, calidad de te...   \n",
       "23  Arsenal tecnológico, confort en marcha, mejora...   \n",
       "24                                               None   \n",
       "25  Imagen, equipamiento, espacio interior, mecáni...   \n",
       "26  Diseño interior, calidad de construcción, espa...   \n",
       "27               Calidad de rodadura, gama de motores   \n",
       "28  Equipamiento disponible, hasta siete asientos,...   \n",
       "29  Capacidad para 7 ocupantes, prestaciones, auto...   \n",
       "30  Diseño, interior, calidad de acabados, capacid...   \n",
       "31  Diseño interior y exterior, calidad de constru...   \n",
       "32  Calidad de acabados, hasta siete plazas, equip...   \n",
       "33                                               None   \n",
       "34  Espacio interior, calidad de construcción, tec...   \n",
       "35                                Tacto de conducción   \n",
       "36  Diseño, calidades, posibilidad de 7 plazas, ca...   \n",
       "37     Calidad de rodadura, confort, cargatecnológica   \n",
       "38                                               None   \n",
       "39                                               None   \n",
       "\n",
       "                                            En contra  \\\n",
       "0   [La suspensión puede sentirse algo seca en cie...   \n",
       "1   [Funcionamiento poco refinado en ocasiones, Ga...   \n",
       "2   [Precio elevado, Escasa autonomía eléctrica de...   \n",
       "3   [Ergonomía de algunos mandos, Plazas de la ter...   \n",
       "4   [La calidad del sistema multimedia podría mejo...   \n",
       "5   [PHEV solo de cinco plazas, La tercera fila de...   \n",
       "6   [Consumo, Mandos del climatizador, Prestacione...   \n",
       "7   [Rumorosidad en ciertas condiciones, Presencia...   \n",
       "8   [Precio, Equipamiento en modelos básicos, Sin ...   \n",
       "9   [Poca variedad mecánica, Tamaño, Manejo multim...   \n",
       "10  Suspensión firme a bajas velocidades.Sistema d...   \n",
       "11  Consumo de combustible elevado.Precio inicial ...   \n",
       "12  Precio de opciones elevado.Tercera fila adecua...   \n",
       "13  Tercera fila ajustada para adultos altos.Algun...   \n",
       "14  Tercera fila ajustada para adultos.Espacio de ...   \n",
       "15  Tercera fila ajustada para adultos altos.Espac...   \n",
       "16  No es el más deportivo de la gama.Falta de una...   \n",
       "17  Espacio ajustado para cinco adultos.Chasis men...   \n",
       "18  Consumo de combustible mayor al anunciado.Acel...   \n",
       "19  Tercera fila ajustada para adultos.Piso del ma...   \n",
       "20                                               None   \n",
       "21  Gama inicial limitada, precio en acabados supe...   \n",
       "22        Dimensiones, consumos algo elevados, precio   \n",
       "23  Precio elevado para lo que busca un cliente en...   \n",
       "24                                               None   \n",
       "25      Caja de cambios, consumos a altas velocidades   \n",
       "26                     Precio, gama mecánica limitada   \n",
       "27       Diseño muy convencional, detalles de acabado   \n",
       "28  Precio elevado, opciones caras, maletero con s...   \n",
       "29       Precio elevado, algunas calidades mejorables   \n",
       "30  La experiencia en carretera es la de un salón ...   \n",
       "31  Agilidad limitada por su tamaño, precio de opc...   \n",
       "32               Peso muy elevado, precios algo altos   \n",
       "33                                               None   \n",
       "34         Proporciones exteriores algo raras, precio   \n",
       "35                     Precio elevado, opciones caras   \n",
       "36                     Precio elevado, opciones caras   \n",
       "37  Dimensiones, precio de algunos opcionales, cie...   \n",
       "38                                               None   \n",
       "39                                               None   \n",
       "\n",
       "                                            Opiniones          Precio  \\\n",
       "0   El CX-80 usa la misma plataforma y motores que...  Desde 54.668 €   \n",
       "1   El nuevo Renault Espace es ahora un SUV con un...  Desde 38.280 €   \n",
       "2   El Santa Fe dispone de motorizaciones híbrida ...  Desde 51.478 €   \n",
       "3   El Skoda Kodiaq es mucho más barato que el Q7,...  Desde 40.001 €   \n",
       "4   El Peugeot 5008 es un coche muy redondo y cohe...  Desde 34.885 €   \n",
       "5   El Volkswagen Tayron es un SUV espacioso y tec...  Desde 42.981 €   \n",
       "6   El KIA Sorento es un SUV de gran tamaño que pr...  Desde 45.963 €   \n",
       "7   El X-Trail ha subido sensiblemente de nivel en...  Desde 32.660 €   \n",
       "8   Este SUV de carrocería compacta por ofrecer ca...  Desde 46.330 €   \n",
       "9   El Highlander tiene un sistema de propulsión h...  Desde 59.790 €   \n",
       "10  Este SUV de origen sueco combina lujo, espacio...            None   \n",
       "11  Recomendamos el Audi Q7 por su combinación de ...            None   \n",
       "12  Recomendamos el GLB por su versatilidad y prac...            None   \n",
       "13  Recomendamos el Hyundai Santa Fe por su excele...            None   \n",
       "14  Recomendamos el Kia Sorento por su versatilida...            None   \n",
       "15  Recomendamos el Peugeot 5008 por su versatilid...            None   \n",
       "16  Recomendamos el SEAT Tarraco por su combinació...            None   \n",
       "17  Recomendamos el Skoda Kodiaq por su combinació...            None   \n",
       "18  Recomendamos el Nissan X-Trail por su combinac...            None   \n",
       "19  Recomendamos el Outlander por su combinación d...            None   \n",
       "20  [Para que puedas valorar mejor las diferencias...        56.198 €   \n",
       "21  [Sin duda, el gran SUV checo es una de las mej...        37.550 €   \n",
       "22  [Con un diseño mucho más elaborado y un interi...        49.880 €   \n",
       "23  [El Hyundai Santa Fe se asienta como una de la...        51.210 €   \n",
       "24  [Por si fuera poco, puedes echar un vistazo a ...        38.000 €   \n",
       "25  [La etiqueta ECO no puede faltar en la última ...        59.250 €   \n",
       "26  [Con su diseño tan atrevido, el 5008 de Peugeo...        35.010 €   \n",
       "27  [El Tiguan Allspace es una buena opción para a...        37.400 €   \n",
       "28  [Si buscas un vehículo compacto, con carrocerí...        49.480 €   \n",
       "29  [El Mercedes-Benz EQB nace como la variante 10...        58.260 €   \n",
       "30  [El Range Rover es el sumum del todoterreno de...       152.124 €   \n",
       "31  [El que sin duda es una de las referencias en ...        71.900 €   \n",
       "32  [El más grande de los Volvo eléctricos con car...        72.900 €   \n",
       "33  [El Kia EV9 es un SUV eléctrico de gran tamaño...        74.860 €   \n",
       "34  [Uno de los SUVs más lujosos del mercado, pued...        74.460 €   \n",
       "35  [El SUV de gran tamaño con 7 plazas que debes ...         94.037€   \n",
       "36  [Con una capacidad para circular fuera del asf...         91.914€   \n",
       "37  [El Mercedes-Benz GLS se posiciona como pieza ...        118.594€   \n",
       "38                                                 []        120.510€   \n",
       "39                                                 []         93.989€   \n",
       "\n",
       "                                      Características  \n",
       "0                                                None  \n",
       "1                                                None  \n",
       "2                                                None  \n",
       "3                                                None  \n",
       "4                                                None  \n",
       "5                                                None  \n",
       "6                                                None  \n",
       "7                                                None  \n",
       "8                                                None  \n",
       "9                                                None  \n",
       "10  El Volvo XC90 es un SUV de 7 plazas que destac...  \n",
       "11  El Audi Q7 es un SUV de 7 plazas que combina u...  \n",
       "12  El Mercedes-Benz Clase GLB es un SUV de 7 plaz...  \n",
       "13  El Hyundai Santa Fe es un SUV de 7 plazas con ...  \n",
       "14  El Kia Sorento es un SUV de 7 plazas que desta...  \n",
       "15  El Peugeot 5008 es uno de los SUV de 7 plazas ...  \n",
       "16  El SEAT Tarraco es un SUV de 7 plazas versátil...  \n",
       "17  El Skoda Kodiaq es un SUV de 7 plazas con un d...  \n",
       "18  El Nissan X-Trail es un SUV robusto y sofistic...  \n",
       "19  El Mitsubishi Outlander es un SUV de 7 plazas ...  \n",
       "20                                               None  \n",
       "21                                               None  \n",
       "22                                               None  \n",
       "23                                               None  \n",
       "24                                               None  \n",
       "25                                               None  \n",
       "26                                               None  \n",
       "27                                               None  \n",
       "28                                               None  \n",
       "29                                               None  \n",
       "30                                               None  \n",
       "31                                               None  \n",
       "32                                               None  \n",
       "33                                               None  \n",
       "34                                               None  \n",
       "35                                               None  \n",
       "36                                               None  \n",
       "37                                               None  \n",
       "38                                               None  \n",
       "39                                               None  "
      ]
     },
     "execution_count": 85,
     "metadata": {},
     "output_type": "execute_result"
    }
   ],
   "source": [
    "df = pd.DataFrame.from_dict(diccionario_coches)\n",
    "df"
   ]
  },
  {
   "cell_type": "code",
   "execution_count": 86,
   "metadata": {},
   "outputs": [
    {
     "name": "stdout",
     "output_type": "stream",
     "text": [
      "200 OK\n"
     ]
    }
   ],
   "source": [
    "# Cuarta url\n",
    "url_4 = 'https://www.diariomotor.com/guias-compra/mejores-suv-7-plazas/'\n",
    "accesibilidad(url_4)"
   ]
  },
  {
   "cell_type": "code",
   "execution_count": 87,
   "metadata": {},
   "outputs": [
    {
     "data": {
      "text/plain": [
       "67"
      ]
     },
     "execution_count": 87,
     "metadata": {},
     "output_type": "execute_result"
    }
   ],
   "source": [
    "# Lista de coches (extraigo e inserto a la lista del DF)\n",
    "lista_coches_url_4 = lista_coches(url_4, 'h2', class_=\"m-0 text-3xl leading-none -tracking-xs md:-tracking-s md:text-4xl\")\n",
    "lista_coches_DF.extend(lista_coches_url_4)\n",
    "len(lista_coches_DF) # para comprobar si se han añadido todos los datos"
   ]
  },
  {
   "cell_type": "code",
   "execution_count": 88,
   "metadata": {},
   "outputs": [
    {
     "data": {
      "text/plain": [
       "['Skoda Kodiaq',\n",
       " 'Peugeot 5008 híbrido',\n",
       " 'Volkswagen Tayron híbrido',\n",
       " 'Peugeot 5008 eléctrico',\n",
       " 'Peugeot 5008',\n",
       " 'Volkswagen Tiguan Allspace',\n",
       " 'Nissan X-Trail híbrido',\n",
       " 'Ebro s800 híbrido',\n",
       " 'Nissan X-Trail',\n",
       " 'Renault Espace',\n",
       " 'Kia Sorento',\n",
       " 'Skoda Kodiaq híbrido',\n",
       " 'Volkswagen Tayron híbrido',\n",
       " 'Volkswagen Tayron',\n",
       " 'Mercedes GLB',\n",
       " 'Renault Espace',\n",
       " 'KGM (SsangYong) Rexton',\n",
       " 'Range Rover',\n",
       " 'Volvo XC90',\n",
       " 'Volvo EX90 eléctrico',\n",
       " 'Kia EV9',\n",
       " 'Mazda CX-80 híbrido',\n",
       " 'Mazda CX-80',\n",
       " 'Audi Q7',\n",
       " 'Volvo XC90 Híbrido',\n",
       " 'Kia Sorento',\n",
       " 'BMW X5']"
      ]
     },
     "execution_count": 88,
     "metadata": {},
     "output_type": "execute_result"
    }
   ],
   "source": [
    "lista_coches_url_4"
   ]
  },
  {
   "cell_type": "code",
   "execution_count": 89,
   "metadata": {},
   "outputs": [
    {
     "data": {
      "text/plain": [
       "67"
      ]
     },
     "execution_count": 89,
     "metadata": {},
     "output_type": "execute_result"
    }
   ],
   "source": [
    "# Lista Valoraciones (extraigo e inserto en la lista del DF)\n",
    "lista_valoraciones_url_4 = valoraciones(url_4, 'div', class_=\"mt-1 leading-7 numero\")\n",
    "lista_valoraciones_DF.extend(lista_valoraciones_url_4)\n",
    "len(lista_valoraciones_DF)"
   ]
  },
  {
   "cell_type": "code",
   "execution_count": 90,
   "metadata": {},
   "outputs": [
    {
     "data": {
      "text/plain": [
       "67"
      ]
     },
     "execution_count": 90,
     "metadata": {},
     "output_type": "execute_result"
    }
   ],
   "source": [
    "# Lista a favor (no hay datos en esta página)\n",
    "# Genero una lista con valores nulos\n",
    "lista_a_favor_url_4 = crear_lista_none(27)\n",
    "lista_a_favor_DF.extend(lista_a_favor_url_4)\n",
    "len(lista_a_favor_DF)"
   ]
  },
  {
   "cell_type": "code",
   "execution_count": 91,
   "metadata": {},
   "outputs": [
    {
     "data": {
      "text/plain": [
       "67"
      ]
     },
     "execution_count": 91,
     "metadata": {},
     "output_type": "execute_result"
    }
   ],
   "source": [
    "# Lista en contra (no hay datos en esta página)\n",
    "# Genero una lista con valores nulos\n",
    "lista_en_contra_url_4 = crear_lista_none(27)\n",
    "lista_en_contra_DF.extend(lista_en_contra_url_4)\n",
    "len(lista_en_contra_DF)"
   ]
  },
  {
   "cell_type": "code",
   "execution_count": 92,
   "metadata": {},
   "outputs": [
    {
     "data": {
      "text/plain": [
       "67"
      ]
     },
     "execution_count": 92,
     "metadata": {},
     "output_type": "execute_result"
    }
   ],
   "source": [
    "# Opiniones (extraigo datos y agrego a la lista del DF)\n",
    "lista_opiniones_url_4 = opiniones(url_4, 'div',  class_=\"py-4 border-b border-gray-100 cuerpo\")\n",
    "lista_opinion_DF.extend(lista_opiniones_url_4)\n",
    "len(lista_opinion_DF)"
   ]
  },
  {
   "cell_type": "code",
   "execution_count": 93,
   "metadata": {},
   "outputs": [
    {
     "data": {
      "text/plain": [
       "67"
      ]
     },
     "execution_count": 93,
     "metadata": {},
     "output_type": "execute_result"
    }
   ],
   "source": [
    "# Precios (extraigo datos y agrego a la lista del DF)\n",
    "lista_precios_url_4 = lista_precios(url_4, 'div', class_=\"flex flex-col text-3xl font-semibold leading-7 text-main md:text-4xl -tracking-xs md:mt-0 md:mr-2\")\n",
    "lista_precios_DF.extend(lista_precios_url_4)\n",
    "len(lista_precios_DF)"
   ]
  },
  {
   "cell_type": "code",
   "execution_count": 94,
   "metadata": {},
   "outputs": [],
   "source": [
    "# Características ( en la página vienen cuatro datos que voy a incluir aquí: etiqueta, potencia, consumo, maletero)\n",
    "# Voy a crear las listas por separado, y luego las uno en una sola para añadirla a características\n",
    "# Creo función para las características\n",
    "def caracteristicas (url, tag, class_):\n",
    "    conexion = requests.get(url)\n",
    "    sopa = bs (conexion.text, 'lxml')\n",
    "    caracteristicas= sopa.find_all(tag, class_)\n",
    "    lista_caracteristicas = []\n",
    "    for indice, caracteristica in enumerate(caracteristicas):\n",
    "        lista_caracteristicas.append(caracteristica.text.strip())\n",
    "        indice += 1\n",
    "    return lista_caracteristicas"
   ]
  },
  {
   "cell_type": "code",
   "execution_count": 95,
   "metadata": {},
   "outputs": [],
   "source": [
    "# Función para extraer las etiquetas\n",
    "def lista_etiquetas (url):\n",
    "    conexion = requests.get(url)\n",
    "    sopa = bs (conexion.text, 'lxml')\n",
    "    etiquetado = sopa.find_all(\"img\", {\"alt\": True})\n",
    "# Creo la lista de las etiquetas\n",
    "    nombre_pegatinas = []\n",
    "    for nombre in etiquetado:\n",
    "        pegatina = nombre[\"alt\"] # recojo los nombres de las pegatinas con la primera letra de cada palabra en mayúscula ( para normaizar ya datos)\n",
    "        nombre_pegatinas.append(pegatina)\n",
    "        etiqueta = [x for x in nombre_pegatinas if \"Etiqueta ambiental \" in x] # de la lista me quedo con las que se llaman Etiqueta medioambiental\n",
    "        lista_etiquetas = []\n",
    "        lista_etiquetas.append(etiqueta)\n",
    "    return lista_etiquetas\n"
   ]
  },
  {
   "cell_type": "code",
   "execution_count": 96,
   "metadata": {},
   "outputs": [
    {
     "data": {
      "text/plain": [
       "[['Etiqueta ambiental C',\n",
       "  'Etiqueta ambiental ECO',\n",
       "  'Etiqueta ambiental zero',\n",
       "  'Etiqueta ambiental ECO',\n",
       "  'Etiqueta ambiental C',\n",
       "  'Etiqueta ambiental zero',\n",
       "  'Etiqueta ambiental zero',\n",
       "  'Etiqueta ambiental ECO',\n",
       "  'Etiqueta ambiental C',\n",
       "  'Etiqueta ambiental ECO',\n",
       "  'Etiqueta ambiental zero',\n",
       "  'Etiqueta ambiental ECO',\n",
       "  'Etiqueta ambiental ECO',\n",
       "  'Etiqueta ambiental C',\n",
       "  'Etiqueta ambiental zero',\n",
       "  'Etiqueta ambiental ECO',\n",
       "  'Etiqueta ambiental C',\n",
       "  'Etiqueta ambiental zero',\n",
       "  'Etiqueta ambiental ECO',\n",
       "  'Etiqueta ambiental C',\n",
       "  'Etiqueta ambiental zero',\n",
       "  'Etiqueta ambiental ECO',\n",
       "  'Etiqueta ambiental C',\n",
       "  'Etiqueta ambiental ECO',\n",
       "  'Etiqueta ambiental C',\n",
       "  'Etiqueta ambiental ECO',\n",
       "  'Etiqueta ambiental ECO',\n",
       "  'Etiqueta ambiental zero',\n",
       "  'Etiqueta ambiental zero',\n",
       "  'Etiqueta ambiental zero',\n",
       "  'Etiqueta ambiental ECO',\n",
       "  'Etiqueta ambiental C',\n",
       "  'Etiqueta ambiental ECO',\n",
       "  'Etiqueta ambiental zero',\n",
       "  'Etiqueta ambiental C',\n",
       "  'Etiqueta ambiental ECO']]"
      ]
     },
     "execution_count": 96,
     "metadata": {},
     "output_type": "execute_result"
    }
   ],
   "source": [
    "lista_etiquetas_url_4 = lista_etiquetas(url_4)\n",
    "lista_etiquetas_url_4 # Me devuelve una lista de listas"
   ]
  },
  {
   "cell_type": "code",
   "execution_count": 97,
   "metadata": {},
   "outputs": [],
   "source": [
    "lista_etiquetas_url_4_corregida = lista_etiquetas_url_4[0] # Me quedo con el listado de etiquetas"
   ]
  },
  {
   "cell_type": "code",
   "execution_count": 98,
   "metadata": {},
   "outputs": [],
   "source": [
    "# Agrupar\n",
    "# Función para dos párrafos\n",
    "def agregar_dos_parrafos (lista, posicion_1, posicion_2):\n",
    "    lista_agrupada =[]\n",
    "    parrafo_A = lista[posicion_1] \n",
    "    parrafo_B = lista[posicion_2]\n",
    "    parrafo = [parrafo_A + parrafo_B]\n",
    "    lista_agrupada.append(parrafo)\n",
    "    return lista_agrupada\n",
    "\n",
    "# Agrupar\n",
    "# Función para 3 párrafos\n",
    "def agregar_tres_parrafos (lista, posicion_1, posicion_2, posicion_3):\n",
    "    lista_agrupada = []\n",
    "    parrafo_A = lista[posicion_1] \n",
    "    parrafo_B = lista[posicion_2]\n",
    "    parrafo_C = lista[posicion_3]\n",
    "    parrafo = [parrafo_A + parrafo_B + parrafo_C]\n",
    "    lista_agrupada.append(parrafo)\n",
    "    return lista_agrupada"
   ]
  },
  {
   "cell_type": "code",
   "execution_count": 99,
   "metadata": {},
   "outputs": [],
   "source": [
    "lista_etiquetas_corregida =[]\n",
    "lista_etiquetas_corregida.append(agregar_dos_parrafos(lista_etiquetas_url_4_corregida, 0, 1))\n",
    "lista_etiquetas_corregida.append(agregar_un_parrafo(lista_etiquetas_url_4_corregida, 2))\n",
    "lista_etiquetas_corregida.append(agregar_tres_parrafos(lista_etiquetas_url_4_corregida, 3, 4, 5))\n",
    "lista_etiquetas_corregida.append(agregar_un_parrafo(lista_etiquetas_url_4_corregida, 6))\n",
    "lista_etiquetas_corregida.append(agregar_un_parrafo(lista_etiquetas_url_4_corregida, 7))\n",
    "lista_etiquetas_corregida.append(agregar_un_parrafo(lista_etiquetas_url_4_corregida, 8))\n",
    "lista_etiquetas_corregida.append(agregar_un_parrafo(lista_etiquetas_url_4_corregida, 9))\n",
    "lista_etiquetas_corregida.append(agregar_un_parrafo(lista_etiquetas_url_4_corregida, 10))\n",
    "lista_etiquetas_corregida.append(agregar_un_parrafo(lista_etiquetas_url_4_corregida, 11))\n",
    "lista_etiquetas_corregida.append(agregar_un_parrafo(lista_etiquetas_url_4_corregida, 12)) # 10 vehiculos\n",
    "lista_etiquetas_corregida.append(agregar_un_parrafo(lista_etiquetas_url_4_corregida, 13))\n",
    "lista_etiquetas_corregida.append(agregar_un_parrafo(lista_etiquetas_url_4_corregida, 14))\n",
    "lista_etiquetas_corregida.append(agregar_tres_parrafos(lista_etiquetas_url_4_corregida, 15, 16, 17))\n",
    "lista_etiquetas_corregida.append(agregar_tres_parrafos(lista_etiquetas_url_4_corregida, 18, 19, 20))\n",
    "lista_etiquetas_corregida.append(agregar_dos_parrafos(lista_etiquetas_url_4_corregida, 21, 22))\n",
    "lista_etiquetas_corregida.append(agregar_un_parrafo(lista_etiquetas_url_4_corregida, 23))\n",
    "lista_etiquetas_corregida.append(agregar_un_parrafo(lista_etiquetas_url_4_corregida, 24))\n",
    "lista_etiquetas_corregida.append(agregar_un_parrafo(lista_etiquetas_url_4_corregida, 25))\n",
    "lista_etiquetas_corregida.append(agregar_un_parrafo(lista_etiquetas_url_4_corregida, 26))\n",
    "lista_etiquetas_corregida.append(agregar_un_parrafo(lista_etiquetas_url_4_corregida, 27))\n",
    "lista_etiquetas_corregida.append(agregar_un_parrafo(lista_etiquetas_url_4_corregida, 28))\n",
    "lista_etiquetas_corregida.append(agregar_un_parrafo(lista_etiquetas_url_4_corregida, 29))\n",
    "lista_etiquetas_corregida.append(agregar_un_parrafo(lista_etiquetas_url_4_corregida, 30))\n",
    "lista_etiquetas_corregida.append(agregar_dos_parrafos(lista_etiquetas_url_4_corregida, 31, 32))\n",
    "lista_etiquetas_corregida.append(agregar_un_parrafo(lista_etiquetas_url_4_corregida, 33))\n",
    "lista_etiquetas_corregida.append(agregar_un_parrafo(lista_etiquetas_url_4_corregida, 34))\n",
    "lista_etiquetas_corregida.append(agregar_un_parrafo(lista_etiquetas_url_4_corregida, 35))"
   ]
  },
  {
   "cell_type": "code",
   "execution_count": 100,
   "metadata": {},
   "outputs": [
    {
     "data": {
      "text/plain": [
       "[[['Etiqueta ambiental CEtiqueta ambiental ECO']],\n",
       " ['Etiqueta ambiental zero'],\n",
       " [['Etiqueta ambiental ECOEtiqueta ambiental CEtiqueta ambiental zero']],\n",
       " ['Etiqueta ambiental zero'],\n",
       " ['Etiqueta ambiental ECO'],\n",
       " ['Etiqueta ambiental C'],\n",
       " ['Etiqueta ambiental ECO'],\n",
       " ['Etiqueta ambiental zero'],\n",
       " ['Etiqueta ambiental ECO'],\n",
       " ['Etiqueta ambiental ECO'],\n",
       " ['Etiqueta ambiental C'],\n",
       " ['Etiqueta ambiental zero'],\n",
       " [['Etiqueta ambiental ECOEtiqueta ambiental CEtiqueta ambiental zero']],\n",
       " [['Etiqueta ambiental ECOEtiqueta ambiental CEtiqueta ambiental zero']],\n",
       " [['Etiqueta ambiental ECOEtiqueta ambiental C']],\n",
       " ['Etiqueta ambiental ECO'],\n",
       " ['Etiqueta ambiental C'],\n",
       " ['Etiqueta ambiental ECO'],\n",
       " ['Etiqueta ambiental ECO'],\n",
       " ['Etiqueta ambiental zero'],\n",
       " ['Etiqueta ambiental zero'],\n",
       " ['Etiqueta ambiental zero'],\n",
       " ['Etiqueta ambiental ECO'],\n",
       " [['Etiqueta ambiental CEtiqueta ambiental ECO']],\n",
       " ['Etiqueta ambiental zero'],\n",
       " ['Etiqueta ambiental C'],\n",
       " ['Etiqueta ambiental ECO']]"
      ]
     },
     "execution_count": 100,
     "metadata": {},
     "output_type": "execute_result"
    }
   ],
   "source": [
    "lista_etiquetas_corregida"
   ]
  },
  {
   "cell_type": "code",
   "execution_count": 101,
   "metadata": {},
   "outputs": [
    {
     "data": {
      "text/plain": [
       "27"
      ]
     },
     "execution_count": 101,
     "metadata": {},
     "output_type": "execute_result"
    }
   ],
   "source": [
    "len(lista_etiquetas_corregida) # Compruebo si coincide con el número de vehículos de la página"
   ]
  },
  {
   "cell_type": "code",
   "execution_count": 102,
   "metadata": {},
   "outputs": [
    {
     "data": {
      "text/plain": [
       "['Potencia 150-265 CV',\n",
       " 'Consumo 5.30-8.20 l/100Km',\n",
       " 'Maletero 910',\n",
       " 'Potencia 195 CV',\n",
       " 'Consumo 1.00-1.00 l/100Km',\n",
       " 'Maletero 348',\n",
       " 'Potencia 150-272 CV',\n",
       " 'Autonomia 734.177 - 11250 KM',\n",
       " 'Recarga 0.43 h',\n",
       " 'Maletero 345',\n",
       " 'Potencia 214-231 CV',\n",
       " 'Autonomia 500 - 668 KM',\n",
       " 'Recarga 0.45 - 0.5 h',\n",
       " 'Maletero 348',\n",
       " 'Potencia 145 CV',\n",
       " 'Consumo 5.80-5.80 l/100Km',\n",
       " 'Maletero 348',\n",
       " 'Potencia 150-190 CV',\n",
       " 'Consumo 5.70-8.50 l/100Km',\n",
       " 'Maletero 700',\n",
       " 'Potencia 204-213 CV',\n",
       " 'Consumo 5.70-6.40 l/100Km',\n",
       " 'Maletero 575',\n",
       " 'Potencia 347 CV',\n",
       " 'Autonomia 789.474 KM',\n",
       " 'Recarga 0.33 h',\n",
       " 'Maletero',\n",
       " 'Potencia 163 CV',\n",
       " 'Consumo 6.90-7.20 l/100Km',\n",
       " 'Maletero 585',\n",
       " 'Potencia 200 CV',\n",
       " 'Consumo 4.60-5.00 l/100Km',\n",
       " 'Maletero 159',\n",
       " 'Potencia 194 CV',\n",
       " 'Consumo 6.20-6.80 l/100Km',\n",
       " 'Maletero 187',\n",
       " 'Potencia 204 CV',\n",
       " 'Consumo 0.40-0.50 l/100Km',\n",
       " 'Maletero 910',\n",
       " 'Potencia 150-272 CV',\n",
       " 'Autonomia 734.177 - 11250 KM',\n",
       " 'Recarga 0.43 h',\n",
       " 'Maletero 345',\n",
       " 'Potencia 150-272 CV',\n",
       " 'Autonomia 734.177 - 11250 KM',\n",
       " 'Recarga 0.43 h',\n",
       " 'Maletero 345',\n",
       " 'Potencia 150-306 CV',\n",
       " 'Consumo 5.60-9.00 l/100Km',\n",
       " 'Maletero 565',\n",
       " 'Potencia 200 CV',\n",
       " 'Consumo 4.60-5.00 l/100Km',\n",
       " 'Maletero 159',\n",
       " 'Potencia 202 CV',\n",
       " 'Consumo 7.70-7.70 l/100Km',\n",
       " 'Maletero 820',\n",
       " 'Potencia 300-615 CV',\n",
       " 'Consumo 7.40-11.80 l/100Km',\n",
       " 'Maletero 818',\n",
       " 'Potencia 250 CV',\n",
       " 'Consumo 8.40-8.50 l/100Km',\n",
       " 'Maletero 314',\n",
       " 'Potencia 283-517 CV',\n",
       " 'Autonomia 580 - 585 KM',\n",
       " 'Recarga 0.5 h',\n",
       " 'Maletero 655',\n",
       " 'Potencia 385 CV',\n",
       " 'Autonomia 505 KM',\n",
       " 'Recarga 0.4 h',\n",
       " 'Maletero 312',\n",
       " 'Potencia 327 CV',\n",
       " 'Consumo 8.10-8.10 l/100Km',\n",
       " 'Maletero 258',\n",
       " 'Potencia 254 CV',\n",
       " 'Consumo 5.80-5.80 l/100Km',\n",
       " 'Maletero 258',\n",
       " 'Potencia 231-507 CV',\n",
       " 'Consumo 7.80-12.20 l/100Km',\n",
       " 'Maletero 887',\n",
       " 'Potencia 455 CV',\n",
       " 'Consumo 1.20-1.30 l/100Km',\n",
       " 'Maletero 262',\n",
       " 'Potencia 194 CV',\n",
       " 'Consumo 6.20-6.80 l/100Km',\n",
       " 'Maletero 187',\n",
       " 'Potencia 298-625 CV',\n",
       " 'Consumo 7.10-12.90 l/100Km',\n",
       " 'Maletero 650']"
      ]
     },
     "execution_count": 102,
     "metadata": {},
     "output_type": "execute_result"
    }
   ],
   "source": [
    "# Lista, potencia\n",
    "lista_potencia = caracteristicas (url_4, 'div', class_=\"flex flex-col text-base font-semibold leading-4 text-gray-700 uppercase texto -tracking-xs\")\n",
    "len(lista_potencia)\n",
    "lista_potencia"
   ]
  },
  {
   "cell_type": "code",
   "execution_count": 103,
   "metadata": {},
   "outputs": [
    {
     "name": "stdout",
     "output_type": "stream",
     "text": [
      "['Potencia 150-265 CV', 'Consumo 5.30-8.20 l/100Km', 'Maletero 910', None, 'Potencia 195 CV', 'Consumo 1.00-1.00 l/100Km', 'Maletero 348', None, 'Potencia 150-272 CV', 'Autonomia 734.177 - 11250 KM', 'Recarga 0.43 h', 'Maletero 345', 'Potencia 214-231 CV', 'Autonomia 500 - 668 KM', 'Recarga 0.45 - 0.5 h', 'Maletero 348', 'Potencia 145 CV', 'Consumo 5.80-5.80 l/100Km', 'Maletero 348', None, 'Potencia 150-190 CV', 'Consumo 5.70-8.50 l/100Km', 'Maletero 700', None, 'Potencia 204-213 CV', 'Consumo 5.70-6.40 l/100Km', 'Maletero 575', None, 'Potencia 347 CV', 'Autonomia 789.474 KM', 'Recarga 0.33 h', 'Maletero', 'Potencia 163 CV', 'Consumo 6.90-7.20 l/100Km', 'Maletero 585', None, 'Potencia 200 CV', 'Consumo 4.60-5.00 l/100Km', 'Maletero 159', None, 'Potencia 194 CV', 'Consumo 6.20-6.80 l/100Km', 'Maletero 187', None, 'Potencia 204 CV', 'Consumo 0.40-0.50 l/100Km', 'Maletero 910', None, 'Potencia 150-272 CV', 'Autonomia 734.177 - 11250 KM', 'Recarga 0.43 h', 'Maletero 345', 'Potencia 150-272 CV', 'Autonomia 734.177 - 11250 KM', 'Recarga 0.43 h', 'Maletero 345', 'Potencia 150-306 CV', 'Consumo 5.60-9.00 l/100Km', 'Maletero 565', None, 'Potencia 200 CV', 'Consumo 4.60-5.00 l/100Km', 'Maletero 159', None, 'Potencia 202 CV', 'Consumo 7.70-7.70 l/100Km', 'Maletero 820', None, 'Potencia 300-615 CV', 'Consumo 7.40-11.80 l/100Km', 'Maletero 818', None, 'Potencia 250 CV', 'Consumo 8.40-8.50 l/100Km', 'Maletero 314', None, 'Potencia 283-517 CV', 'Autonomia 580 - 585 KM', 'Recarga 0.5 h', 'Maletero 655', 'Potencia 385 CV', 'Autonomia 505 KM', 'Recarga 0.4 h', 'Maletero 312', 'Potencia 327 CV', 'Consumo 8.10-8.10 l/100Km', 'Maletero 258', None, 'Potencia 254 CV', 'Consumo 5.80-5.80 l/100Km', 'Maletero 258', None, 'Potencia 231-507 CV', 'Consumo 7.80-12.20 l/100Km', 'Maletero 887', None, 'Potencia 455 CV', 'Consumo 1.20-1.30 l/100Km', 'Maletero 262', None, 'Potencia 194 CV', 'Consumo 6.20-6.80 l/100Km', 'Maletero 187', None, 'Potencia 298-625 CV', 'Consumo 7.10-12.90 l/100Km', 'Maletero 650', None]\n"
     ]
    }
   ],
   "source": [
    "introducir_nulos(lista_potencia, (3,7,19,23,27,35,39,43,47,59,63,67,71,75,87,91,95,99,103,107))"
   ]
  },
  {
   "cell_type": "code",
   "execution_count": 104,
   "metadata": {},
   "outputs": [],
   "source": [
    "# Genero una función para poder agrupar los valores de 4 en 4\n",
    "def agrupar_de_cuatro(lista): \n",
    "  '''\n",
    "  Agrupa los elementos de una lista en sublistas de tamaño 4\n",
    "\n",
    "  Args:\n",
    "  lista: La lista original.\n",
    "\n",
    "  Returns:\n",
    "  Una nueva lista que contiene sublistas de tamaño 4.\n",
    "  '''\n",
    "  return [lista[i:i+4] for i in range(0, len(lista), 4)]"
   ]
  },
  {
   "cell_type": "code",
   "execution_count": 105,
   "metadata": {},
   "outputs": [
    {
     "data": {
      "text/plain": [
       "27"
      ]
     },
     "execution_count": 105,
     "metadata": {},
     "output_type": "execute_result"
    }
   ],
   "source": [
    "lista_agrupada_caracteristicas = agrupar_de_cuatro(lista_potencia)\n",
    "len(lista_agrupada_caracteristicas)"
   ]
  },
  {
   "cell_type": "code",
   "execution_count": 106,
   "metadata": {},
   "outputs": [
    {
     "data": {
      "text/plain": [
       "[['Potencia 150-265 CV', 'Consumo 5.30-8.20 l/100Km', 'Maletero 910', None],\n",
       " ['Potencia 195 CV', 'Consumo 1.00-1.00 l/100Km', 'Maletero 348', None],\n",
       " ['Potencia 150-272 CV',\n",
       "  'Autonomia 734.177 - 11250 KM',\n",
       "  'Recarga 0.43 h',\n",
       "  'Maletero 345'],\n",
       " ['Potencia 214-231 CV',\n",
       "  'Autonomia 500 - 668 KM',\n",
       "  'Recarga 0.45 - 0.5 h',\n",
       "  'Maletero 348'],\n",
       " ['Potencia 145 CV', 'Consumo 5.80-5.80 l/100Km', 'Maletero 348', None],\n",
       " ['Potencia 150-190 CV', 'Consumo 5.70-8.50 l/100Km', 'Maletero 700', None],\n",
       " ['Potencia 204-213 CV', 'Consumo 5.70-6.40 l/100Km', 'Maletero 575', None],\n",
       " ['Potencia 347 CV', 'Autonomia 789.474 KM', 'Recarga 0.33 h', 'Maletero'],\n",
       " ['Potencia 163 CV', 'Consumo 6.90-7.20 l/100Km', 'Maletero 585', None],\n",
       " ['Potencia 200 CV', 'Consumo 4.60-5.00 l/100Km', 'Maletero 159', None],\n",
       " ['Potencia 194 CV', 'Consumo 6.20-6.80 l/100Km', 'Maletero 187', None],\n",
       " ['Potencia 204 CV', 'Consumo 0.40-0.50 l/100Km', 'Maletero 910', None],\n",
       " ['Potencia 150-272 CV',\n",
       "  'Autonomia 734.177 - 11250 KM',\n",
       "  'Recarga 0.43 h',\n",
       "  'Maletero 345'],\n",
       " ['Potencia 150-272 CV',\n",
       "  'Autonomia 734.177 - 11250 KM',\n",
       "  'Recarga 0.43 h',\n",
       "  'Maletero 345'],\n",
       " ['Potencia 150-306 CV', 'Consumo 5.60-9.00 l/100Km', 'Maletero 565', None],\n",
       " ['Potencia 200 CV', 'Consumo 4.60-5.00 l/100Km', 'Maletero 159', None],\n",
       " ['Potencia 202 CV', 'Consumo 7.70-7.70 l/100Km', 'Maletero 820', None],\n",
       " ['Potencia 300-615 CV', 'Consumo 7.40-11.80 l/100Km', 'Maletero 818', None],\n",
       " ['Potencia 250 CV', 'Consumo 8.40-8.50 l/100Km', 'Maletero 314', None],\n",
       " ['Potencia 283-517 CV',\n",
       "  'Autonomia 580 - 585 KM',\n",
       "  'Recarga 0.5 h',\n",
       "  'Maletero 655'],\n",
       " ['Potencia 385 CV', 'Autonomia 505 KM', 'Recarga 0.4 h', 'Maletero 312'],\n",
       " ['Potencia 327 CV', 'Consumo 8.10-8.10 l/100Km', 'Maletero 258', None],\n",
       " ['Potencia 254 CV', 'Consumo 5.80-5.80 l/100Km', 'Maletero 258', None],\n",
       " ['Potencia 231-507 CV', 'Consumo 7.80-12.20 l/100Km', 'Maletero 887', None],\n",
       " ['Potencia 455 CV', 'Consumo 1.20-1.30 l/100Km', 'Maletero 262', None],\n",
       " ['Potencia 194 CV', 'Consumo 6.20-6.80 l/100Km', 'Maletero 187', None],\n",
       " ['Potencia 298-625 CV', 'Consumo 7.10-12.90 l/100Km', 'Maletero 650', None]]"
      ]
     },
     "execution_count": 106,
     "metadata": {},
     "output_type": "execute_result"
    }
   ],
   "source": [
    "lista_agrupada_caracteristicas"
   ]
  },
  {
   "cell_type": "code",
   "execution_count": 107,
   "metadata": {},
   "outputs": [
    {
     "name": "stdout",
     "output_type": "stream",
     "text": [
      "[['Potencia 150-265 CV', 'Consumo 5.30-8.20 l/100Km', 'Maletero 910', None, ['Etiqueta ambiental CEtiqueta ambiental ECO']], ['Potencia 195 CV', 'Consumo 1.00-1.00 l/100Km', 'Maletero 348', None, 'Etiqueta ambiental zero'], ['Potencia 150-272 CV', 'Autonomia 734.177 - 11250 KM', 'Recarga 0.43 h', 'Maletero 345', ['Etiqueta ambiental ECOEtiqueta ambiental CEtiqueta ambiental zero']], ['Potencia 214-231 CV', 'Autonomia 500 - 668 KM', 'Recarga 0.45 - 0.5 h', 'Maletero 348', 'Etiqueta ambiental zero'], ['Potencia 145 CV', 'Consumo 5.80-5.80 l/100Km', 'Maletero 348', None, 'Etiqueta ambiental ECO'], ['Potencia 150-190 CV', 'Consumo 5.70-8.50 l/100Km', 'Maletero 700', None, 'Etiqueta ambiental C'], ['Potencia 204-213 CV', 'Consumo 5.70-6.40 l/100Km', 'Maletero 575', None, 'Etiqueta ambiental ECO'], ['Potencia 347 CV', 'Autonomia 789.474 KM', 'Recarga 0.33 h', 'Maletero', 'Etiqueta ambiental zero'], ['Potencia 163 CV', 'Consumo 6.90-7.20 l/100Km', 'Maletero 585', None, 'Etiqueta ambiental ECO'], ['Potencia 200 CV', 'Consumo 4.60-5.00 l/100Km', 'Maletero 159', None, 'Etiqueta ambiental ECO'], ['Potencia 194 CV', 'Consumo 6.20-6.80 l/100Km', 'Maletero 187', None, 'Etiqueta ambiental C'], ['Potencia 204 CV', 'Consumo 0.40-0.50 l/100Km', 'Maletero 910', None, 'Etiqueta ambiental zero'], ['Potencia 150-272 CV', 'Autonomia 734.177 - 11250 KM', 'Recarga 0.43 h', 'Maletero 345', ['Etiqueta ambiental ECOEtiqueta ambiental CEtiqueta ambiental zero']], ['Potencia 150-272 CV', 'Autonomia 734.177 - 11250 KM', 'Recarga 0.43 h', 'Maletero 345', ['Etiqueta ambiental ECOEtiqueta ambiental CEtiqueta ambiental zero']], ['Potencia 150-306 CV', 'Consumo 5.60-9.00 l/100Km', 'Maletero 565', None, ['Etiqueta ambiental ECOEtiqueta ambiental C']], ['Potencia 200 CV', 'Consumo 4.60-5.00 l/100Km', 'Maletero 159', None, 'Etiqueta ambiental ECO'], ['Potencia 202 CV', 'Consumo 7.70-7.70 l/100Km', 'Maletero 820', None, 'Etiqueta ambiental C'], ['Potencia 300-615 CV', 'Consumo 7.40-11.80 l/100Km', 'Maletero 818', None, 'Etiqueta ambiental ECO'], ['Potencia 250 CV', 'Consumo 8.40-8.50 l/100Km', 'Maletero 314', None, 'Etiqueta ambiental ECO'], ['Potencia 283-517 CV', 'Autonomia 580 - 585 KM', 'Recarga 0.5 h', 'Maletero 655', 'Etiqueta ambiental zero'], ['Potencia 385 CV', 'Autonomia 505 KM', 'Recarga 0.4 h', 'Maletero 312', 'Etiqueta ambiental zero'], ['Potencia 327 CV', 'Consumo 8.10-8.10 l/100Km', 'Maletero 258', None, 'Etiqueta ambiental zero'], ['Potencia 254 CV', 'Consumo 5.80-5.80 l/100Km', 'Maletero 258', None, 'Etiqueta ambiental ECO'], ['Potencia 231-507 CV', 'Consumo 7.80-12.20 l/100Km', 'Maletero 887', None, ['Etiqueta ambiental CEtiqueta ambiental ECO']], ['Potencia 455 CV', 'Consumo 1.20-1.30 l/100Km', 'Maletero 262', None, 'Etiqueta ambiental zero'], ['Potencia 194 CV', 'Consumo 6.20-6.80 l/100Km', 'Maletero 187', None, 'Etiqueta ambiental C'], ['Potencia 298-625 CV', 'Consumo 7.10-12.90 l/100Km', 'Maletero 650', None, 'Etiqueta ambiental ECO']]\n"
     ]
    }
   ],
   "source": [
    "# A continuación debo unir las dos listas, pero que se combinen, para que generen una sola con 27 elementos\n",
    "lista_caracteristicas_url_4 = []\n",
    "for indice, item in enumerate(lista_agrupada_caracteristicas):\n",
    "    lista_caracteristicas_url_4.append(item+lista_etiquetas_corregida[indice])\n",
    "print(lista_caracteristicas_url_4)"
   ]
  },
  {
   "cell_type": "code",
   "execution_count": 108,
   "metadata": {},
   "outputs": [
    {
     "data": {
      "text/plain": [
       "27"
      ]
     },
     "execution_count": 108,
     "metadata": {},
     "output_type": "execute_result"
    }
   ],
   "source": [
    "len(lista_caracteristicas_url_4)"
   ]
  },
  {
   "cell_type": "code",
   "execution_count": 109,
   "metadata": {},
   "outputs": [],
   "source": [
    "# Añadimos la lista a la del DF\n",
    "lista_caracteristicas_DF.extend(lista_caracteristicas_url_4)"
   ]
  },
  {
   "cell_type": "code",
   "execution_count": 110,
   "metadata": {},
   "outputs": [
    {
     "data": {
      "text/html": [
       "<div>\n",
       "<style scoped>\n",
       "    .dataframe tbody tr th:only-of-type {\n",
       "        vertical-align: middle;\n",
       "    }\n",
       "\n",
       "    .dataframe tbody tr th {\n",
       "        vertical-align: top;\n",
       "    }\n",
       "\n",
       "    .dataframe thead th {\n",
       "        text-align: right;\n",
       "    }\n",
       "</style>\n",
       "<table border=\"1\" class=\"dataframe\">\n",
       "  <thead>\n",
       "    <tr style=\"text-align: right;\">\n",
       "      <th></th>\n",
       "      <th>Nombre</th>\n",
       "      <th>Valoraciones</th>\n",
       "      <th>A favor</th>\n",
       "      <th>En contra</th>\n",
       "      <th>Opiniones</th>\n",
       "      <th>Precio</th>\n",
       "      <th>Características</th>\n",
       "    </tr>\n",
       "  </thead>\n",
       "  <tbody>\n",
       "    <tr>\n",
       "      <th>0</th>\n",
       "      <td>1. Mazda CX-80</td>\n",
       "      <td>9/10</td>\n",
       "      <td>[Excelente eficiencia tanto en el PHEV como en...</td>\n",
       "      <td>[La suspensión puede sentirse algo seca en cie...</td>\n",
       "      <td>El CX-80 usa la misma plataforma y motores que...</td>\n",
       "      <td>Desde 54.668 €</td>\n",
       "      <td>None</td>\n",
       "    </tr>\n",
       "    <tr>\n",
       "      <th>1</th>\n",
       "      <td>2. Renault Espace</td>\n",
       "      <td>9/10</td>\n",
       "      <td>[Consumo, Equipamiento disponible, Opción de s...</td>\n",
       "      <td>[Funcionamiento poco refinado en ocasiones, Ga...</td>\n",
       "      <td>El nuevo Renault Espace es ahora un SUV con un...</td>\n",
       "      <td>Desde 38.280 €</td>\n",
       "      <td>None</td>\n",
       "    </tr>\n",
       "    <tr>\n",
       "      <th>2</th>\n",
       "      <td>3. Hyundai Santa Fe</td>\n",
       "      <td>8/10</td>\n",
       "      <td>[Equipamiento y tecnología propios de coches d...</td>\n",
       "      <td>[Precio elevado, Escasa autonomía eléctrica de...</td>\n",
       "      <td>El Santa Fe dispone de motorizaciones híbrida ...</td>\n",
       "      <td>Desde 51.478 €</td>\n",
       "      <td>None</td>\n",
       "    </tr>\n",
       "    <tr>\n",
       "      <th>3</th>\n",
       "      <td>4. Skoda Kodiaq</td>\n",
       "      <td>8/10</td>\n",
       "      <td>[Practicidad y espacio disponible, Oferta mecá...</td>\n",
       "      <td>[Ergonomía de algunos mandos, Plazas de la ter...</td>\n",
       "      <td>El Skoda Kodiaq es mucho más barato que el Q7,...</td>\n",
       "      <td>Desde 40.001 €</td>\n",
       "      <td>None</td>\n",
       "    </tr>\n",
       "    <tr>\n",
       "      <th>4</th>\n",
       "      <td>5. Peugeot 5008</td>\n",
       "      <td>8/10</td>\n",
       "      <td>[Amplio interior con 7 plazas de serie, Comodi...</td>\n",
       "      <td>[La calidad del sistema multimedia podría mejo...</td>\n",
       "      <td>El Peugeot 5008 es un coche muy redondo y cohe...</td>\n",
       "      <td>Desde 34.885 €</td>\n",
       "      <td>None</td>\n",
       "    </tr>\n",
       "    <tr>\n",
       "      <th>...</th>\n",
       "      <td>...</td>\n",
       "      <td>...</td>\n",
       "      <td>...</td>\n",
       "      <td>...</td>\n",
       "      <td>...</td>\n",
       "      <td>...</td>\n",
       "      <td>...</td>\n",
       "    </tr>\n",
       "    <tr>\n",
       "      <th>62</th>\n",
       "      <td>Mazda CX-80</td>\n",
       "      <td>8.3</td>\n",
       "      <td>None</td>\n",
       "      <td>None</td>\n",
       "      <td></td>\n",
       "      <td>56.198 € Ahorra 5.023 €</td>\n",
       "      <td>[Potencia 254 CV, Consumo 5.80-5.80 l/100Km, M...</td>\n",
       "    </tr>\n",
       "    <tr>\n",
       "      <th>63</th>\n",
       "      <td>Audi Q7</td>\n",
       "      <td>8.1</td>\n",
       "      <td>None</td>\n",
       "      <td>None</td>\n",
       "      <td>El Audi Q7 ya es un viejo conocido en el secto...</td>\n",
       "      <td>74.460 € Ahorra 10.283 €</td>\n",
       "      <td>[Potencia 231-507 CV, Consumo 7.80-12.20 l/100...</td>\n",
       "    </tr>\n",
       "    <tr>\n",
       "      <th>64</th>\n",
       "      <td>Volvo XC90 Híbrido</td>\n",
       "      <td>8.0</td>\n",
       "      <td>None</td>\n",
       "      <td>None</td>\n",
       "      <td>El Volvo XC90 híbrido es un SUV de siete plaza...</td>\n",
       "      <td>80.350 € Ahorra 8.413 €</td>\n",
       "      <td>[Potencia 455 CV, Consumo 1.20-1.30 l/100Km, M...</td>\n",
       "    </tr>\n",
       "    <tr>\n",
       "      <th>65</th>\n",
       "      <td>Kia Sorento</td>\n",
       "      <td>7.8</td>\n",
       "      <td>None</td>\n",
       "      <td>None</td>\n",
       "      <td>El kia Sorento es una de las opciones más sens...</td>\n",
       "      <td>49.880 € Ahorra 2.972 €</td>\n",
       "      <td>[Potencia 194 CV, Consumo 6.20-6.80 l/100Km, M...</td>\n",
       "    </tr>\n",
       "    <tr>\n",
       "      <th>66</th>\n",
       "      <td>BMW X5</td>\n",
       "      <td>7.8</td>\n",
       "      <td>None</td>\n",
       "      <td>None</td>\n",
       "      <td>El BMW X5 es uno de los SUV premium de siete p...</td>\n",
       "      <td>94.037 €</td>\n",
       "      <td>[Potencia 298-625 CV, Consumo 7.10-12.90 l/100...</td>\n",
       "    </tr>\n",
       "  </tbody>\n",
       "</table>\n",
       "<p>67 rows × 7 columns</p>\n",
       "</div>"
      ],
      "text/plain": [
       "                 Nombre Valoraciones  \\\n",
       "0        1. Mazda CX-80         9/10   \n",
       "1     2. Renault Espace         9/10   \n",
       "2   3. Hyundai Santa Fe         8/10   \n",
       "3       4. Skoda Kodiaq         8/10   \n",
       "4       5. Peugeot 5008         8/10   \n",
       "..                  ...          ...   \n",
       "62          Mazda CX-80          8.3   \n",
       "63              Audi Q7          8.1   \n",
       "64   Volvo XC90 Híbrido          8.0   \n",
       "65          Kia Sorento          7.8   \n",
       "66               BMW X5          7.8   \n",
       "\n",
       "                                              A favor  \\\n",
       "0   [Excelente eficiencia tanto en el PHEV como en...   \n",
       "1   [Consumo, Equipamiento disponible, Opción de s...   \n",
       "2   [Equipamiento y tecnología propios de coches d...   \n",
       "3   [Practicidad y espacio disponible, Oferta mecá...   \n",
       "4   [Amplio interior con 7 plazas de serie, Comodi...   \n",
       "..                                                ...   \n",
       "62                                               None   \n",
       "63                                               None   \n",
       "64                                               None   \n",
       "65                                               None   \n",
       "66                                               None   \n",
       "\n",
       "                                            En contra  \\\n",
       "0   [La suspensión puede sentirse algo seca en cie...   \n",
       "1   [Funcionamiento poco refinado en ocasiones, Ga...   \n",
       "2   [Precio elevado, Escasa autonomía eléctrica de...   \n",
       "3   [Ergonomía de algunos mandos, Plazas de la ter...   \n",
       "4   [La calidad del sistema multimedia podría mejo...   \n",
       "..                                                ...   \n",
       "62                                               None   \n",
       "63                                               None   \n",
       "64                                               None   \n",
       "65                                               None   \n",
       "66                                               None   \n",
       "\n",
       "                                            Opiniones  \\\n",
       "0   El CX-80 usa la misma plataforma y motores que...   \n",
       "1   El nuevo Renault Espace es ahora un SUV con un...   \n",
       "2   El Santa Fe dispone de motorizaciones híbrida ...   \n",
       "3   El Skoda Kodiaq es mucho más barato que el Q7,...   \n",
       "4   El Peugeot 5008 es un coche muy redondo y cohe...   \n",
       "..                                                ...   \n",
       "62                                                      \n",
       "63  El Audi Q7 ya es un viejo conocido en el secto...   \n",
       "64  El Volvo XC90 híbrido es un SUV de siete plaza...   \n",
       "65  El kia Sorento es una de las opciones más sens...   \n",
       "66  El BMW X5 es uno de los SUV premium de siete p...   \n",
       "\n",
       "                      Precio  \\\n",
       "0             Desde 54.668 €   \n",
       "1             Desde 38.280 €   \n",
       "2             Desde 51.478 €   \n",
       "3             Desde 40.001 €   \n",
       "4             Desde 34.885 €   \n",
       "..                       ...   \n",
       "62   56.198 € Ahorra 5.023 €   \n",
       "63  74.460 € Ahorra 10.283 €   \n",
       "64   80.350 € Ahorra 8.413 €   \n",
       "65   49.880 € Ahorra 2.972 €   \n",
       "66                  94.037 €   \n",
       "\n",
       "                                      Características  \n",
       "0                                                None  \n",
       "1                                                None  \n",
       "2                                                None  \n",
       "3                                                None  \n",
       "4                                                None  \n",
       "..                                                ...  \n",
       "62  [Potencia 254 CV, Consumo 5.80-5.80 l/100Km, M...  \n",
       "63  [Potencia 231-507 CV, Consumo 7.80-12.20 l/100...  \n",
       "64  [Potencia 455 CV, Consumo 1.20-1.30 l/100Km, M...  \n",
       "65  [Potencia 194 CV, Consumo 6.20-6.80 l/100Km, M...  \n",
       "66  [Potencia 298-625 CV, Consumo 7.10-12.90 l/100...  \n",
       "\n",
       "[67 rows x 7 columns]"
      ]
     },
     "execution_count": 110,
     "metadata": {},
     "output_type": "execute_result"
    }
   ],
   "source": [
    "df = pd.DataFrame.from_dict(diccionario_coches)\n",
    "df"
   ]
  },
  {
   "cell_type": "code",
   "execution_count": 111,
   "metadata": {},
   "outputs": [
    {
     "name": "stdout",
     "output_type": "stream",
     "text": [
      "200 OK\n"
     ]
    }
   ],
   "source": [
    "# Quinta url, introduzco también monovolumenes\n",
    "url_5 = 'https://www.quecochemecompro.com/blog/coches-de-7-plazas-todos-los-modelos/'\n",
    "# Conexiones\n",
    "accesibilidad(url_5)"
   ]
  },
  {
   "cell_type": "code",
   "execution_count": 112,
   "metadata": {},
   "outputs": [
    {
     "data": {
      "text/plain": [
       "15"
      ]
     },
     "execution_count": 112,
     "metadata": {},
     "output_type": "execute_result"
    }
   ],
   "source": [
    "# Lista coches (extraer y añadir a las listas DF)\n",
    "lista_coches_url_5 = lista_coches(url_5, 'h3', class_=\"font-bold text-28 leading-none\")\n",
    "len(lista_coches_url_5)"
   ]
  },
  {
   "cell_type": "code",
   "execution_count": 113,
   "metadata": {},
   "outputs": [
    {
     "data": {
      "text/plain": [
       "15"
      ]
     },
     "execution_count": 113,
     "metadata": {},
     "output_type": "execute_result"
    }
   ],
   "source": [
    "# Como la vez anterior sólo obtengo 15 resultados, habiendo en este caso 30 en la web\n",
    "lista_coches_url_5_B = lista_coches(url_5, 'h3', class_=\"mb-3 font-bold text-28\")\n",
    "len(lista_coches_url_5_B)"
   ]
  },
  {
   "cell_type": "code",
   "execution_count": 114,
   "metadata": {},
   "outputs": [
    {
     "data": {
      "text/plain": [
       "97"
      ]
     },
     "execution_count": 114,
     "metadata": {},
     "output_type": "execute_result"
    }
   ],
   "source": [
    "# Los añado a la lista del DF\n",
    "lista_coches_DF.extend(lista_coches_url_5)\n",
    "lista_coches_DF.extend(lista_coches_url_5_B)\n",
    "len(lista_coches_DF)"
   ]
  },
  {
   "cell_type": "code",
   "execution_count": 115,
   "metadata": {},
   "outputs": [
    {
     "data": {
      "text/plain": [
       "97"
      ]
     },
     "execution_count": 115,
     "metadata": {},
     "output_type": "execute_result"
    }
   ],
   "source": [
    "# Valoraciones (extraer y añadir a las listas DF)(puede que tenga el mismo problema que antes)\n",
    "lista_valoraciones_url_5 = valoraciones(url_5, 'div', class_=\"inline-block bg-wine/[.1] text-20 rounded px-1\")\n",
    "lista_valoraciones_url_5_B = ('4,9/10', '5,4/10', '5,6/10', '7,3/10', '6,5/10', '7,9/10', '6,8/10', '7,3/10', '6,5/10', '7,8/10', '7,8/10', '8,6/10', '8,1/10', '7,8/10', '7,8/10')\n",
    "lista_valoraciones_DF.extend(lista_valoraciones_url_5)\n",
    "lista_valoraciones_DF.extend(lista_valoraciones_url_5_B)\n",
    "len(lista_valoraciones_DF)"
   ]
  },
  {
   "cell_type": "code",
   "execution_count": 116,
   "metadata": {},
   "outputs": [
    {
     "data": {
      "text/plain": [
       "22"
      ]
     },
     "execution_count": 116,
     "metadata": {},
     "output_type": "execute_result"
    }
   ],
   "source": [
    "# Lista a favor (extraer y añadir a las listas del DF)(mismo procedimiento url_3)\n",
    "lista_a_favor_url_5 = lo_mejor (url_5, 'div', class_=\"text-gray-dark text-16 sm:text-17 leading-5\") \n",
    "len(lista_a_favor_url_5)"
   ]
  },
  {
   "cell_type": "code",
   "execution_count": 117,
   "metadata": {},
   "outputs": [
    {
     "data": {
      "text/plain": [
       "['Amplitud, maletero, hasta siete plazas',\n",
       " 'Acabados, dotación justa, sonoridad elevada',\n",
       " 'Equipamiento disponible, ventanillas traseras eléctricas, motores eficientes, presentación, luneta practicable, espacio interior, versatilidad',\n",
       " 'Portón trasero muy grande, sonoridad en los diésel',\n",
       " 'Sencillez y practicidad también para familias',\n",
       " 'Calidad de los revestimientos',\n",
       " 'Calidad de rodadura, diseño, posibilidades de equipamiento',\n",
       " 'Precio, refinamiento del motor diésel',\n",
       " 'Posibilidad de 7 plazas, espacio interior, volumen de maletero, calidad de construcción, versatilidad interior',\n",
       " 'Estética cuadrada, precio elevado, diseño sobrio',\n",
       " 'Comportamiento, gama variada, equipo disponible',\n",
       " 'Detalles de acabado, ventanillas traseras con apertura \"de compás\"',\n",
       " 'Diseño, capacidad para 7 ocupantes, carga tecnológica, posibilidad de camperización',\n",
       " 'Materiales no acordes con el precio, el Renault Kangoo es el mismo coche pero más barato',\n",
       " 'Siete plazas, equipamiento disponible, precio contenido',\n",
       " 'Calidad de algunos plásticos, detalles de acabado, tercera fila pequeña',\n",
       " 'Equipamiento disponible, hasta siete asientos, comportamiento',\n",
       " 'Precio elevado, opciones caras, maletero con siete asientos en uso justo',\n",
       " 'Capacidad para 7 ocupantes, prestaciones, autonomía',\n",
       " 'Precio elevado, algunas calidades mejorables',\n",
       " 'Posibilidad de 7 plazas, diseño general, calidad de construcción, aptitudes todoterreno, etiqueta ECO',\n",
       " 'Precio elevado, prestaciones justas, suspensión algo seca, difícil acceso a las plazas auxiliares']"
      ]
     },
     "execution_count": 117,
     "metadata": {},
     "output_type": "execute_result"
    }
   ],
   "source": [
    "lista_a_favor_url_5"
   ]
  },
  {
   "cell_type": "code",
   "execution_count": 118,
   "metadata": {},
   "outputs": [
    {
     "name": "stdout",
     "output_type": "stream",
     "text": [
      "['Amplitud, maletero, hasta siete plazas', 'Acabados, dotación justa, sonoridad elevada', 'Equipamiento disponible, ventanillas traseras eléctricas, motores eficientes, presentación, luneta practicable, espacio interior, versatilidad', 'Portón trasero muy grande, sonoridad en los diésel', 'Sencillez y practicidad también para familias', 'Calidad de los revestimientos', 'Calidad de rodadura, diseño, posibilidades de equipamiento', 'Precio, refinamiento del motor diésel', 'Posibilidad de 7 plazas, espacio interior, volumen de maletero, calidad de construcción, versatilidad interior', 'Estética cuadrada, precio elevado, diseño sobrio', None, None, 'Comportamiento, gama variada, equipo disponible', 'Detalles de acabado, ventanillas traseras con apertura \"de compás\"', None, None, 'Diseño, capacidad para 7 ocupantes, carga tecnológica, posibilidad de camperización', 'Materiales no acordes con el precio, el Renault Kangoo es el mismo coche pero más barato', None, None, None, None, 'Siete plazas, equipamiento disponible, precio contenido', 'Calidad de algunos plásticos, detalles de acabado, tercera fila pequeña', 'Equipamiento disponible, hasta siete asientos, comportamiento', 'Precio elevado, opciones caras, maletero con siete asientos en uso justo', 'Capacidad para 7 ocupantes, prestaciones, autonomía', 'Precio elevado, algunas calidades mejorables', 'Posibilidad de 7 plazas, diseño general, calidad de construcción, aptitudes todoterreno, etiqueta ECO', 'Precio elevado, prestaciones justas, suspensión algo seca, difícil acceso a las plazas auxiliares']\n"
     ]
    },
    {
     "data": {
      "text/plain": [
       "['Amplitud, maletero, hasta siete plazas',\n",
       " 'Acabados, dotación justa, sonoridad elevada',\n",
       " 'Equipamiento disponible, ventanillas traseras eléctricas, motores eficientes, presentación, luneta practicable, espacio interior, versatilidad',\n",
       " 'Portón trasero muy grande, sonoridad en los diésel',\n",
       " 'Sencillez y practicidad también para familias',\n",
       " 'Calidad de los revestimientos',\n",
       " 'Calidad de rodadura, diseño, posibilidades de equipamiento',\n",
       " 'Precio, refinamiento del motor diésel',\n",
       " 'Posibilidad de 7 plazas, espacio interior, volumen de maletero, calidad de construcción, versatilidad interior',\n",
       " 'Estética cuadrada, precio elevado, diseño sobrio',\n",
       " None,\n",
       " None,\n",
       " 'Comportamiento, gama variada, equipo disponible',\n",
       " 'Detalles de acabado, ventanillas traseras con apertura \"de compás\"',\n",
       " None,\n",
       " None,\n",
       " 'Diseño, capacidad para 7 ocupantes, carga tecnológica, posibilidad de camperización',\n",
       " 'Materiales no acordes con el precio, el Renault Kangoo es el mismo coche pero más barato',\n",
       " None,\n",
       " None,\n",
       " None,\n",
       " None,\n",
       " 'Siete plazas, equipamiento disponible, precio contenido',\n",
       " 'Calidad de algunos plásticos, detalles de acabado, tercera fila pequeña',\n",
       " 'Equipamiento disponible, hasta siete asientos, comportamiento',\n",
       " 'Precio elevado, opciones caras, maletero con siete asientos en uso justo',\n",
       " 'Capacidad para 7 ocupantes, prestaciones, autonomía',\n",
       " 'Precio elevado, algunas calidades mejorables',\n",
       " 'Posibilidad de 7 plazas, diseño general, calidad de construcción, aptitudes todoterreno, etiqueta ECO',\n",
       " 'Precio elevado, prestaciones justas, suspensión algo seca, difícil acceso a las plazas auxiliares']"
      ]
     },
     "execution_count": 118,
     "metadata": {},
     "output_type": "execute_result"
    }
   ],
   "source": [
    "# Hay 4 de los 15 primeros coches que no tienen ni a favor, ni en contra (6,8,10,11)\n",
    "# Añado nulos en esas posiciones\n",
    "introducir_nulos(lista_a_favor_url_5, (10,11, 14,15, 18,19, 20,21))\n",
    "lista_a_favor_url_5"
   ]
  },
  {
   "cell_type": "code",
   "execution_count": 119,
   "metadata": {},
   "outputs": [
    {
     "data": {
      "text/plain": [
       "30"
      ]
     },
     "execution_count": 119,
     "metadata": {},
     "output_type": "execute_result"
    }
   ],
   "source": [
    "len(lista_a_favor_url_5)"
   ]
  },
  {
   "cell_type": "code",
   "execution_count": 120,
   "metadata": {},
   "outputs": [
    {
     "name": "stdout",
     "output_type": "stream",
     "text": [
      "['Amplitud, maletero, hasta siete plazas', 'Acabados, dotación justa, sonoridad elevada', 'Equipamiento disponible, ventanillas traseras eléctricas, motores eficientes, presentación, luneta practicable, espacio interior, versatilidad', 'Portón trasero muy grande, sonoridad en los diésel', 'Sencillez y practicidad también para familias', 'Calidad de los revestimientos', 'Calidad de rodadura, diseño, posibilidades de equipamiento', 'Precio, refinamiento del motor diésel', 'Posibilidad de 7 plazas, espacio interior, volumen de maletero, calidad de construcción, versatilidad interior', 'Estética cuadrada, precio elevado, diseño sobrio', None, None, 'Comportamiento, gama variada, equipo disponible', 'Detalles de acabado, ventanillas traseras con apertura \"de compás\"', None, None, 'Diseño, capacidad para 7 ocupantes, carga tecnológica, posibilidad de camperización', 'Materiales no acordes con el precio, el Renault Kangoo es el mismo coche pero más barato', None, None, None, None, 'Siete plazas, equipamiento disponible, precio contenido', 'Calidad de algunos plásticos, detalles de acabado, tercera fila pequeña', 'Equipamiento disponible, hasta siete asientos, comportamiento', 'Precio elevado, opciones caras, maletero con siete asientos en uso justo', 'Capacidad para 7 ocupantes, prestaciones, autonomía', 'Precio elevado, algunas calidades mejorables', 'Posibilidad de 7 plazas, diseño general, calidad de construcción, aptitudes todoterreno, etiqueta ECO', 'Precio elevado, prestaciones justas, suspensión algo seca, difícil acceso a las plazas auxiliares', None, None, None, None, None, None, None, None, None, None]\n"
     ]
    },
    {
     "data": {
      "text/plain": [
       "40"
      ]
     },
     "execution_count": 120,
     "metadata": {},
     "output_type": "execute_result"
    }
   ],
   "source": [
    "# Los 5 restantes hasta 20, no tienen tampoco ni en contra ni a favor\n",
    "# Añado nulos en esas posiciones\n",
    "introducir_nulos(lista_a_favor_url_5, (30,31,32,33,34,35,36,37,38,39))\n",
    "len(lista_a_favor_url_5)                "
   ]
  },
  {
   "cell_type": "code",
   "execution_count": 121,
   "metadata": {},
   "outputs": [],
   "source": [
    "# Intento sacar los 10 vehiculos que me quedan, pero finalmente los añado manualmente\n",
    "lista_a_favor_url_5_B = ['Hasta siete plazas, presentación, opción de tracción total', 'Gama inicial limitada, precio en acabados superiores', 'Amplitud interior, disponibilidad de 7 plazas, confort de marcha, equipamiento muy completo', 'Precios algo elevados, pocas opciones de personalizacion', 'Diseño interior, calidad de construccion, espacio interior', 'Precio, gama mecánica limitada', 'Amplitud, maletero con cinco asientos, diseño, presentación', 'Aspecto de algunos plásticos, dimensiones, motores pequeños algo justos', 'Diseño, calidades, posibilidad 7 plazas, capacidad todoterreno', 'Precio elevado, opciones caras', 'Tacto de conducción, tecnología, calidades, diseño', 'Precio elevado, opciones caras', 'Diseño interior y exterior, calidad de construcción, seguridad, espacio interior para 7 adultos, confort', 'Agilidad limitada para su tamaño, precio de opciones', 'Espacio ingerior, calidad de construcción, tecnología, diseño interior', 'Proporciones exteriores algo raras, precio', 'Espacio, maletero, 7 plazas, calidad de terminación', 'Dimensiones. consumos algo elevados, precio', 'Arsenal tecnológico, confort en marcha, mejora de acabados', 'Precio elevado para lo que busca un cliente Hyundai' ]"
   ]
  },
  {
   "cell_type": "code",
   "execution_count": 122,
   "metadata": {},
   "outputs": [
    {
     "data": {
      "text/plain": [
       "60"
      ]
     },
     "execution_count": 122,
     "metadata": {},
     "output_type": "execute_result"
    }
   ],
   "source": [
    "# Uno ambas listas (de me quedará un listado de 60 frases que corresponden tanto a lo mejor como lo mejorable)\n",
    "lista_a_favor_url_5.extend(lista_a_favor_url_5_B)\n",
    "len(lista_a_favor_url_5)"
   ]
  },
  {
   "cell_type": "code",
   "execution_count": 123,
   "metadata": {},
   "outputs": [],
   "source": [
    "# Tengo que sacar las dos listas : a favor y en contra\n",
    "lista_lo_mejor_url_5 = [lista_a_favor_url_5[i] for i in range(0, len(lista_a_favor_url_5), 2)] # impares\n",
    "lista_lo_peor_url_5 = [lista_a_favor_url_5[i] for i in range(1, len(lista_a_favor_url_5), 2)] # pares"
   ]
  },
  {
   "cell_type": "code",
   "execution_count": 124,
   "metadata": {},
   "outputs": [],
   "source": [
    "# Las añado a la lista del DF\n",
    "lista_a_favor_DF.extend(lista_lo_mejor_url_5)\n",
    "lista_en_contra_DF.extend(lista_lo_mejor_url_5)"
   ]
  },
  {
   "cell_type": "code",
   "execution_count": 125,
   "metadata": {},
   "outputs": [
    {
     "data": {
      "text/plain": [
       "97"
      ]
     },
     "execution_count": 125,
     "metadata": {},
     "output_type": "execute_result"
    }
   ],
   "source": [
    "len(lista_a_favor_DF)"
   ]
  },
  {
   "cell_type": "code",
   "execution_count": 126,
   "metadata": {},
   "outputs": [
    {
     "data": {
      "text/plain": [
       "97"
      ]
     },
     "execution_count": 126,
     "metadata": {},
     "output_type": "execute_result"
    }
   ],
   "source": [
    "len(lista_en_contra_DF)"
   ]
  },
  {
   "cell_type": "code",
   "execution_count": 127,
   "metadata": {},
   "outputs": [],
   "source": [
    "# Opiniones (extraer y añadir a la lista de DF)\n",
    "lista_opiniones_url_5 = opiniones(url_5, 'p', None)\n"
   ]
  },
  {
   "cell_type": "code",
   "execution_count": 128,
   "metadata": {},
   "outputs": [
    {
     "data": {
      "text/plain": [
       "['Los coches de 7 plazas han visto incrementarse su demanda en los últimos tiempos, impulsados por el auge del segmento monovolumen en un primer momento y más tarde de la mano de los formatos SUV. El coche familiar de 7 plazas tiene algo mágico en su promesa de transportar a familia y amigos en un momento puntual o a familias numerosas en el día a día.',\n",
       " '',\n",
       " 'Podemos dividir a los coches de 7 plazas en los dos formatos en los que pueden presentarse: monovolumen y SUV, pero esta es una guía en la que vamos a recorrer el mercado completo, de menor a mayor precio, para que cada uno elija el coche que más le convenza en el formato que más le guste.',\n",
       " 'Un monovolumen es, por definición, el vehículo familiar por excelencia. Pese a que en los últimos años su presencia se ha visto claramente desplazada por la explosión del fenómeno SUV, su practicidad y utilidad cuando se trata de transportar grandes cargas o un buen número de personas siguen siendo, sin ninguna duda, imbatibles. Los monovolumen de 7 plazas siguen existiendo, y para aquellos que huyen de la moda SUV, es la opción a escoger.',\n",
       " '',\n",
       " 'Mucho espacio a un precio razonable',\n",
       " 'Gracias por confiar en ¿Que coche me compro?, hemos recibido tus datos y en breve nos pondremos en contacto contigo.',\n",
       " 'Gracias por confiar en ¿Que coche me compro?, hemos recibido tus datos y en breve nos pondremos en contacto contigo.',\n",
       " 'El modelo más asequible para viajar en familia de la firma rumana, es también más interesante que el anterior Lodgy. El nuevo Jogger aterriza con cinco o siete plazas, motores eficientes y la deseada etiqueta ambiental ECO de la DGT.',\n",
       " 'También puedes echar un vistazo a nuestra comparativa destacada entre el Dacia Jogger y el Ford Tourneo Connect y ver los puntos fuertes de cada uno. El cliente que quiere comprar un vehículo de este segmento encontrará en el Ford Tourneo Connect una alternativa al Dacia Jogger, al que consideramos su rival más claro.',\n",
       " 'Más turismo que furgoneta',\n",
       " 'Gracias por confiar en ¿Que coche me compro?, hemos recibido tus datos y en breve nos pondremos en contacto contigo.',\n",
       " 'Gracias por confiar en ¿Que coche me compro?, hemos recibido tus datos y en breve nos pondremos en contacto contigo.',\n",
       " 'El diseño de la Peugeot Rifter es el de una furgoneta mucho más refinada que lo que habíamos visto hasta la fecha, combinado a la perfección con un habitáculo más cuidado que nunca. La furgoneta compacta del fabricante francés se convierte así en una gran opción para las familias más polivalentes.',\n",
       " 'Además te ofrecemos una comparativa directa entre Peugeot Rifter y Opel Combo Life para que puedas analizar las similitudes y diferencias entre ellos. El Peugeot Rifter es una opción de compra más popular a pesar de su elevado precio respecto al Opel Combo Life.',\n",
       " 'Una furgoneta con maneras de turismo',\n",
       " 'Gracias por confiar en ¿Que coche me compro?, hemos recibido tus datos y en breve nos pondremos en contacto contigo.',\n",
       " 'Gracias por confiar en ¿Que coche me compro?, hemos recibido tus datos y en breve nos pondremos en contacto contigo.',\n",
       " 'Para los que buscan un Toyota monovolumen, esta es la respuesta; un vehículo industrial. Sí, Toyota se beneficia de las sinergías empresariales y lanza su primer vehículo fabricado en España, una variante prima-hermana de las Citroën Berlingo y Peugeot Rifter',\n",
       " 'También puedes echar un vistazo a nuestra comparativa destacada entre el Toyota ProAce City Verso y el Renault Kangoo Combi y ver los puntos fuertes de cada uno. El Toyota ProAce City Verso, pese a ser más caro que el Renault Kangoo Combi, goza de una mayor popularidad entre los compradores de este tipo de vehículos.',\n",
       " 'Un comercial con tacto de turismo',\n",
       " 'Gracias por confiar en ¿Que coche me compro?, hemos recibido tus datos y en breve nos pondremos en contacto contigo.',\n",
       " 'Gracias por confiar en ¿Que coche me compro?, hemos recibido tus datos y en breve nos pondremos en contacto contigo.',\n",
       " 'Con un aspecto futurista y una construcción directamente derivada de modelos como el Volkswagen Golf, si alguien está buscando un comercial compacto con una tecnología de primera, en la Caddy va a encontrar todo lo que desea, aunque eso sí, lo va a tener que pagar, y a buen precio.',\n",
       " 'Además te ofrecemos una comparativa directa entre Volkswagen Caddy y Dacia Jogger híbrido para que puedas analizar las similitudes y diferencias entre ellos. Tanto Volkswagen Caddy como Dacia Jogger híbrido pertenecen a la misma categoría, son opciones de compra dirigidas al mismo usuario aunque con evidentes diferencias estéticas, niveles de acabado y/o motorizaciones.',\n",
       " 'El Nuevo Touran es un monovolumen medio de los más espaciosos y avanzados',\n",
       " 'Gracias por confiar en ¿Que coche me compro?, hemos recibido tus datos y en breve nos pondremos en contacto contigo.',\n",
       " 'Gracias por confiar en ¿Que coche me compro?, hemos recibido tus datos y en breve nos pondremos en contacto contigo.',\n",
       " 'Una única carrocería de cinco puertas, con 7 plazas de serie y un maletero de 734 litros',\n",
       " 'También puedes echar un vistazo a nuestra comparativa destacada entre el Volkswagen Touran y el Ford Tourneo Connect y ver los puntos fuertes de cada uno. El cliente que quiere comprar un vehículo de este segmento encontrará en el Ford Tourneo Connect una alternativa al Volkswagen Touran, al que consideramos su rival más claro.',\n",
       " '',\n",
       " 'Gracias por confiar en ¿Que coche me compro?, hemos recibido tus datos y en breve nos pondremos en contacto contigo.',\n",
       " 'Gracias por confiar en ¿Que coche me compro?, hemos recibido tus datos y en breve nos pondremos en contacto contigo.',\n",
       " '',\n",
       " 'Por si fuera poco, puedes echar un vistazo a la comparativa entre el Toyota ProAce Verso y el Citroën SpaceTourer para ver cuáles son los puntos clave de cada modelo. Tanto Toyota ProAce Verso como Citroën SpaceTourer pertenecen a la misma categoría, son opciones de compra dirigidas al mismo usuario aunque con evidentes diferencias estéticas, niveles de acabado y/o motorizaciones.',\n",
       " 'Amplio, versátil y con muy buen comportamiento dinámico',\n",
       " 'Gracias por confiar en ¿Que coche me compro?, hemos recibido tus datos y en breve nos pondremos en contacto contigo.',\n",
       " 'Gracias por confiar en ¿Que coche me compro?, hemos recibido tus datos y en breve nos pondremos en contacto contigo.',\n",
       " 'Gracias al acuerdo con Volkswagen nace la nueva generación del Tourneo Courier que comparte muchos elementos con el Volkswagen Caddy aunque en su interior los acabados están más cuidados. Es práctico y cuenta con versiones con etiqueta CERO',\n",
       " 'Recuerda que también tenemos una comparación directa Ford Tourneo Connect vs Volkswagen Touran para que puedas comprobar las ventajas y desventajas de cada modelo. Tanto Ford Tourneo Connect como Volkswagen Touran pertenecen a la misma categoría, son opciones de compra dirigidas al mismo usuario aunque con evidentes diferencias estéticas, niveles de acabado y/o motorizaciones.',\n",
       " '',\n",
       " 'Gracias por confiar en ¿Que coche me compro?, hemos recibido tus datos y en breve nos pondremos en contacto contigo.',\n",
       " 'Gracias por confiar en ¿Que coche me compro?, hemos recibido tus datos y en breve nos pondremos en contacto contigo.',\n",
       " '',\n",
       " 'Puedes consultar nuestra comparativa dedicada entre el Lexus LM y el Volkswagen Multivan híbrido para descubrir cuáles son sus principales similitudes y también sus principales diferencias. El Lexus LM, pese a ser más caro que el Volkswagen Multivan híbrido, goza de una mayor popularidad entre los compradores de este tipo de vehículos.',\n",
       " 'Solo tiene un gran problema: el Renault Kangoo',\n",
       " 'Gracias por confiar en ¿Que coche me compro?, hemos recibido tus datos y en breve nos pondremos en contacto contigo.',\n",
       " 'Gracias por confiar en ¿Que coche me compro?, hemos recibido tus datos y en breve nos pondremos en contacto contigo.',\n",
       " 'El Mercedes-Benz Clase T se asienta como el turismo más barato de la marca, destacando por ser un coche de 7 plazas y que tiene la posibilidad de convertirse en un coche camper de serie. Sin embargo, cuenta con unos materiales algo pobres y con el inconveniente de que existe el Renault Kangoo, que es en esencia el mismo coche pero más barato.',\n",
       " 'También puedes echar un vistazo a nuestra comparativa destacada entre el Mercedes Clase T y el BMW Serie 2 Active Tourer y ver los puntos fuertes de cada uno. Tanto Mercedes Clase T como BMW Serie 2 Active Tourer pertenecen a la misma categoría, son opciones de compra dirigidas al mismo usuario aunque con evidentes diferencias estéticas, niveles de acabado y/o motorizaciones.',\n",
       " '',\n",
       " 'Gracias por confiar en ¿Que coche me compro?, hemos recibido tus datos y en breve nos pondremos en contacto contigo.',\n",
       " 'Gracias por confiar en ¿Que coche me compro?, hemos recibido tus datos y en breve nos pondremos en contacto contigo.',\n",
       " '',\n",
       " 'Compara lo más destacado del Fiat Ulysse y del Peugeot Traveller en la comparativa directa que te ofrecemos. El cliente que quiere comprar un vehículo de este segmento encontrará en el Peugeot Traveller una alternativa al Fiat Ulysse, al que consideramos su rival más claro.',\n",
       " '[btn_link text=\"Ver todos los monovolúmenes de 7 plazas\" href=\"https://www.quecochemecompro.com/coches/?search_type=vn&per_page=30&order=preferencias&body_cards=21,22&seating=7&min_power=%3C60&max_power=%3E300&max_consumption=12&min_price=7000&max_price=999999&page=1\"/]',\n",
       " 'Los SUV compactos son la mejor opción para aquellos que buscan un crossover familiar pero no quieren renunciar a la practicidad y comodidad de una carrocería en la que las dimensiones no alcanzan niveles excesivos. En la actualidad, la oferta de SUV compactos es muy amplia, incluyendo versiones de 7 plazas. De esta manera, los SUV compactos de 7 plazas pueden convertirse en la elección principal de buena parte de los compradores de este tipo de vehículos.',\n",
       " '',\n",
       " '',\n",
       " 'Gracias por confiar en ¿Que coche me compro?, hemos recibido tus datos y en breve nos pondremos en contacto contigo.',\n",
       " 'Gracias por confiar en ¿Que coche me compro?, hemos recibido tus datos y en breve nos pondremos en contacto contigo.',\n",
       " '',\n",
       " 'También puedes echar un vistazo a nuestra comparativa destacada entre el Skoda Kodiaq híbrido y el Kia Sportage híbrido y ver los puntos fuertes de cada uno. Tanto Skoda Kodiaq híbrido como Kia Sportage híbrido pertenecen a la misma categoría, son opciones de compra dirigidas al mismo usuario aunque con evidentes diferencias estéticas, niveles de acabado y/o motorizaciones.',\n",
       " 'Buena relación tamaño-habitabilidad y hasta siete plazas',\n",
       " 'Gracias por confiar en ¿Que coche me compro?, hemos recibido tus datos y en breve nos pondremos en contacto contigo.',\n",
       " 'Gracias por confiar en ¿Que coche me compro?, hemos recibido tus datos y en breve nos pondremos en contacto contigo.',\n",
       " 'El nuevo C3 Aircross combina la estética de un crossover con la modularidad de un MPV, ofreciendo hasta siete plazas. Se vende con una oferta de motores interesante y puede tener mucho equipamiento. Con ofertas tiene un precio muy razonable, siendo además de los más amplios del segmento.',\n",
       " 'Revisa la comparación entre Citroën C3 Aircross y Opel Frontera y comprueba lo más destacado de cada uno de los modelos. Aunque el Citroën C3 Aircross tiene un precio inferior al del Opel Frontera, nuestros expertos valoran superiormente al Opel Frontera.',\n",
       " 'La opción ideal si buscas un siete plazas de Mercedes',\n",
       " 'Gracias por confiar en ¿Que coche me compro?, hemos recibido tus datos y en breve nos pondremos en contacto contigo.',\n",
       " 'Gracias por confiar en ¿Que coche me compro?, hemos recibido tus datos y en breve nos pondremos en contacto contigo.',\n",
       " 'Si buscas un vehículo compacto, con carrocería de diseño robusto pero, sobre todo, con la enorme cualidad de ofrecer 7 plazas, el Mercedes GLB puede presumir de ser la única alternativa premium del mercado.',\n",
       " 'Para que puedas valorar mejor las diferencias y las similitudes entre Mercedes GLB y Range Rover Evoque, tienes a tu disposición nuestra comparativa destacada donde podrás hacerlo de manera rápida y sencilla. Tanto el Mercedes GLB como el Range Rover Evoque pertenecen a marcas premium, tenemos garantizado un nivel de acabados.',\n",
       " 'Silencioso, etiqueta CERO y para toda la familia, ¿necesitas algo más?',\n",
       " 'Gracias por confiar en ¿Que coche me compro?, hemos recibido tus datos y en breve nos pondremos en contacto contigo.',\n",
       " 'Gracias por confiar en ¿Que coche me compro?, hemos recibido tus datos y en breve nos pondremos en contacto contigo.',\n",
       " 'El Mercedes-Benz EQB nace como la variante 100% eléctrica del GLB, compartiendo infinidad de aspectos. Destaca por ser uno de los pocos eléctricos del mercado en ofrecer 7 plazas, así como unas prestaciones y una autonomía más que digna. No obstante, su elevado precio no casa con algunos acabados y ajustes que son bastante mejorables.',\n",
       " 'Además te ofrecemos una comparativa directa entre Mercedes EQB eléctrico y Mercedes EQA eléctrico para que puedas analizar las similitudes y diferencias entre ellos. Tanto el Mercedes EQB eléctrico como el Mercedes EQA eléctrico pertenecen a marcas premium, tenemos garantizado un nivel de acabados.',\n",
       " 'Un Evoque con más espacio y hasta 7 plazas. Precioso.',\n",
       " 'Gracias por confiar en ¿Que coche me compro?, hemos recibido tus datos y en breve nos pondremos en contacto contigo.',\n",
       " 'Gracias por confiar en ¿Que coche me compro?, hemos recibido tus datos y en breve nos pondremos en contacto contigo.',\n",
       " 'Con un diseño mucho más elaborado que el de sus antecesores que, eso sí, mantiene las señas de identidad de todo buen Land Rover, el Discovery Sport se convierte en un excelente SUV de 7 plazas que, además, cuenta con unas más que notables capacidades off-road y la ventaja de sus mecánicas microhíbridas.',\n",
       " 'Puedes consultar nuestra comparativa dedicada entre el Land Rover Discovery Sport y el Range Rover Evoque para descubrir cuáles son sus principales similitudes y también sus principales diferencias. El cliente que quiere comprar un vehículo de este segmento encontrará en el Range Rover Evoque una alternativa al Land Rover Discovery Sport, al que consideramos su rival más claro.',\n",
       " '',\n",
       " 'Una de las mayores bazas del SWM G03F es, sin lugar a dudas, su estética de pequeño todoterreno. No obstante, esta pasa a un segundo plano gracias a su atractivo precio, el cual hace que el G03F se convierta en una opción bastante sensata para quien esté buscando un SUV urbano por poco dinero.',\n",
       " '',\n",
       " '',\n",
       " '',\n",
       " '',\n",
       " '',\n",
       " '',\n",
       " '',\n",
       " '',\n",
       " 'Los SUV grandes son la máxima expresión de la corriente crossover, apostando por unas dimensiones mayores para ofrecer a sus ocupantes mayores dosis de espacio y amplitud. Los SUV grandes de 7 plazas destacan, sobre todo, por su carácter polivalente al integrar en un sólo coche la capacidad de viajar con toda la familia manteniendo una capacidad de carga destacable y una imagen aventurera y dinámica.',\n",
       " '',\n",
       " 'Hasta siete plazas y un enorme maletero son las claves del Kodiaq',\n",
       " 'Sin duda, el gran SUV checo es una de las mejores opciones de su segmento, destacando por una relación calidad-precio casi imbatible, mucho espacio interior, un rodar muy suave y silencioso y unos acabados que nada tienen que envidiar a otros vehículos de la competencia.',\n",
       " 'Un Qashqai más grande, con hasta 7 plazas',\n",
       " 'La nueva generación apuesta por lo último en tecnología, ofreciendo alternativas con hibridación ligera e incluso la sofisticada motorización e-Power. También presume de buen diseño y espacio suficiente para toda la familia en las versiones con siete plazas.',\n",
       " 'Un interesante crossover con siete plazas y mucho espacio',\n",
       " 'Con su diseño tan atrevido, el 5008 de Peugeot resulta mucho más atractivo que la mayoría de sus rivales. Cuenta, además, con la ventaja de ofrecer en la segunda fila un total de tres asientos individuales, algo que lo convierte en la alternativa más apetecible a un MPV.',\n",
       " 'Precio de gran familiar, formato de nave espacial',\n",
       " 'El Renault espace es un monovolúmen elevado, a medio camino de un SUV, disponible en carrocería de 5 puertas y puede disponer de 5 o 7 plazas',\n",
       " 'Hasta aquí ha llegado Mercedes',\n",
       " 'Con una capacidad para circular fuera del asfalto verdaderamente sorprendente, el gran SUV alemán se coloca como uno de los vehículos más capaces y avanzados del mercado, unas cualidades que, eso sí...hay que pagar bien pagadas a la hora de pasar por caja.',\n",
       " 'Lujo, espacio y buena dinámica',\n",
       " 'El SUV de gran tamaño con 7 plazas que debes comprarte si cumples dos premisas: la primera es que te guste conducir y disfrutes de una dinámica menos refinada pero más divertida, y la segunda es que puedas pagarlo, porque el BMW X5 es un gran coche que debes pagar.',\n",
       " 'La actual generación del XC90 presume de motores frugales y de sus siete plazas',\n",
       " 'El que sin duda es una de las referencias en el segmento de los SUV de gran tamaño es también una buena opción para los que buscan un vehículo con grandes dosis de espacio y comodidad, todo ello con un índice de seguridad de primerísimo nivel.',\n",
       " 'Equipamiento y tecnología para el SUV más lujoso de Audi',\n",
       " 'Uno de los SUVs más lujosos del mercado, puede tener mucho equipamiento y un motor diésel de altas prestaciones. Resulta también interesante por contar con hasta siete plazas, un detalle que siempre han valorado positivamente los usuarios. Incorpora toda la tecnología del grupo tanto en motores como en seguridad y confort, logrando un producto muy completo al máximo nivel.',\n",
       " 'Un SUV de lujo con precio irresistible y 7 años de garantía.',\n",
       " 'Con un diseño mucho más elaborado y un interior que lo sitúa casi en la línea de las marcas premium, el Kia Sorento se convierte así en una excelente opción para los que busquen un SUV de gran tamaño, con buenas dosis de espacio y no quieran abonar lo que las firmas premium están pidiendo por lo que sería el modelo equivalente.',\n",
       " 'Diseño muy peculiar con motores siempre híbridos',\n",
       " 'El Hyundai Santa Fe se asienta como una de las opciones más sensatas del segmento al ofrecer una terminación de acabados sustancialmente mejor que la de otras marcas generalistas, un apartado tecnológico sumamente avanzado y un elenco de motores dispuesto a cubrir las necesidades de cualquier perfil de cliente. \\n\\nSin embargo, no se podría categorizar como un SUV premium pese a que se les acerque peligrosamente, aunque sí se posiciona por encima de alguno de sus rivales más directos, tales como el SEAT Tarraco. Aún así, su precio es algo elevado y hará que la balanza se pueda inclinar antes por un Volvo XC60 o un BMW X5.',\n",
       " '[btn_link text=\"Ver todos los SUV grandes de 7 plazas\" href=\"https://www.quecochemecompro.com/coches/?search_type=vn&per_page=30&order=preferencias&body_cards=17&seating=7&min_power=%3C60&max_power=%3E300&max_consumption=12&min_price=7000&max_price=999999&page=1\"/]',\n",
       " '',\n",
       " 'Descubre nuestras guías de compra en la que encontrarás todos los precios de coches nuevos y sus principales características, organizadas por segmentos',\n",
       " 'En esta guía de compra te mostramos los coches de 7 plazas más baratos del mercado en cada categoría, ordenados por precio. Si buscas un formato concreto de coche también puedes consultar nuestras guías específicas de\\xa0SUV de 7 plazas\\xa0y\\xa0monovolúmen...',\n",
       " 'Existen en el mercado muchos coches diseñados para madres y padres. Son coches familiares de distintos formatos que nos harán la vida más fácil a la hora de llevar tanto a los niños como los objetos asociados con éstos: sillas, grandes bolsas, peq...',\n",
       " 'En esta guía podrás encontrar los 10 mejores coches de 7 plazas del mercado, tanto en formato SUV como en formato Monovolumen, una selección realizada con criterios estrictamente editoriales y sin intervención de las marcas. Nuestro equipo de edit...']"
      ]
     },
     "execution_count": 128,
     "metadata": {},
     "output_type": "execute_result"
    }
   ],
   "source": [
    "lista_opiniones_url_5"
   ]
  },
  {
   "cell_type": "code",
   "execution_count": 129,
   "metadata": {},
   "outputs": [],
   "source": [
    "# Creo la lista agregando los párrafos que me interesan\n",
    "lista_opiniones_url_5_corregida = []\n",
    "lista_opiniones_url_5_corregida.append(agregar_un_parrafo (lista_opiniones_url_5, 8))\n",
    "lista_opiniones_url_5_corregida.append(agregar_un_parrafo (lista_opiniones_url_5, 13))\n",
    "lista_opiniones_url_5_corregida.append(agregar_un_parrafo (lista_opiniones_url_5, 18))\n",
    "lista_opiniones_url_5_corregida.append(agregar_un_parrafo (lista_opiniones_url_5, 23))\n",
    "lista_opiniones_url_5_corregida.append(agregar_un_parrafo (lista_opiniones_url_5, 28))\n",
    "lista_opiniones_url_5_corregida.append(agregar_un_parrafo (lista_opiniones_url_5, 34))\n",
    "lista_opiniones_url_5_corregida.append(agregar_un_parrafo (lista_opiniones_url_5, 38))\n",
    "lista_opiniones_url_5_corregida.append(agregar_un_parrafo (lista_opiniones_url_5, 44))\n",
    "lista_opiniones_url_5_corregida.append(agregar_un_parrafo (lista_opiniones_url_5, 48))\n",
    "lista_opiniones_url_5_corregida.append(agregar_un_parrafo (lista_opiniones_url_5, 54))\n",
    "lista_opiniones_url_5_corregida.append(agregar_un_parrafo (lista_opiniones_url_5, 62))\n",
    "lista_opiniones_url_5_corregida.append(agregar_un_parrafo (lista_opiniones_url_5, 66))\n",
    "lista_opiniones_url_5_corregida.append(agregar_un_parrafo (lista_opiniones_url_5, 71))\n",
    "lista_opiniones_url_5_corregida.append(agregar_un_parrafo (lista_opiniones_url_5, 76))\n",
    "lista_opiniones_url_5_corregida.append(agregar_un_parrafo (lista_opiniones_url_5, 81))\n",
    "lista_opiniones_url_5_corregida.append(agregar_un_parrafo (lista_opiniones_url_5, 84))\n",
    "lista_opiniones_url_5_corregida.append(agregar_un_parrafo (lista_opiniones_url_5, 85))\n",
    "lista_opiniones_url_5_corregida.append(agregar_un_parrafo (lista_opiniones_url_5, 86))\n",
    "lista_opiniones_url_5_corregida.append(agregar_un_parrafo (lista_opiniones_url_5, 87))\n",
    "lista_opiniones_url_5_corregida.append(agregar_un_parrafo (lista_opiniones_url_5, 88))\n",
    "lista_opiniones_url_5_corregida.append(agregar_un_parrafo (lista_opiniones_url_5, 96))\n",
    "lista_opiniones_url_5_corregida.append(agregar_un_parrafo (lista_opiniones_url_5, 98))\n",
    "lista_opiniones_url_5_corregida.append(agregar_un_parrafo (lista_opiniones_url_5, 100))\n",
    "lista_opiniones_url_5_corregida.append(agregar_un_parrafo (lista_opiniones_url_5, 102)) # Espace\n",
    "lista_opiniones_url_5_corregida.append(agregar_un_parrafo (lista_opiniones_url_5, 104))\n",
    "lista_opiniones_url_5_corregida.append(agregar_un_parrafo (lista_opiniones_url_5, 106))\n",
    "lista_opiniones_url_5_corregida.append(agregar_un_parrafo (lista_opiniones_url_5, 108))\n",
    "lista_opiniones_url_5_corregida.append(agregar_un_parrafo (lista_opiniones_url_5, 110))\n",
    "lista_opiniones_url_5_corregida.append(agregar_un_parrafo (lista_opiniones_url_5, 112))\n",
    "lista_opiniones_url_5_corregida.append(agregar_un_parrafo (lista_opiniones_url_5, 114))\n"
   ]
  },
  {
   "cell_type": "code",
   "execution_count": 130,
   "metadata": {},
   "outputs": [
    {
     "data": {
      "text/plain": [
       "[['El modelo más asequible para viajar en familia de la firma rumana, es también más interesante que el anterior Lodgy. El nuevo Jogger aterriza con cinco o siete plazas, motores eficientes y la deseada etiqueta ambiental ECO de la DGT.'],\n",
       " ['El diseño de la Peugeot Rifter es el de una furgoneta mucho más refinada que lo que habíamos visto hasta la fecha, combinado a la perfección con un habitáculo más cuidado que nunca. La furgoneta compacta del fabricante francés se convierte así en una gran opción para las familias más polivalentes.'],\n",
       " ['Para los que buscan un Toyota monovolumen, esta es la respuesta; un vehículo industrial. Sí, Toyota se beneficia de las sinergías empresariales y lanza su primer vehículo fabricado en España, una variante prima-hermana de las Citroën Berlingo y Peugeot Rifter'],\n",
       " ['Con un aspecto futurista y una construcción directamente derivada de modelos como el Volkswagen Golf, si alguien está buscando un comercial compacto con una tecnología de primera, en la Caddy va a encontrar todo lo que desea, aunque eso sí, lo va a tener que pagar, y a buen precio.'],\n",
       " ['Una única carrocería de cinco puertas, con 7 plazas de serie y un maletero de 734 litros'],\n",
       " ['Por si fuera poco, puedes echar un vistazo a la comparativa entre el Toyota ProAce Verso y el Citroën SpaceTourer para ver cuáles son los puntos clave de cada modelo. Tanto Toyota ProAce Verso como Citroën SpaceTourer pertenecen a la misma categoría, son opciones de compra dirigidas al mismo usuario aunque con evidentes diferencias estéticas, niveles de acabado y/o motorizaciones.'],\n",
       " ['Gracias al acuerdo con Volkswagen nace la nueva generación del Tourneo Courier que comparte muchos elementos con el Volkswagen Caddy aunque en su interior los acabados están más cuidados. Es práctico y cuenta con versiones con etiqueta CERO'],\n",
       " ['Puedes consultar nuestra comparativa dedicada entre el Lexus LM y el Volkswagen Multivan híbrido para descubrir cuáles son sus principales similitudes y también sus principales diferencias. El Lexus LM, pese a ser más caro que el Volkswagen Multivan híbrido, goza de una mayor popularidad entre los compradores de este tipo de vehículos.'],\n",
       " ['El Mercedes-Benz Clase T se asienta como el turismo más barato de la marca, destacando por ser un coche de 7 plazas y que tiene la posibilidad de convertirse en un coche camper de serie. Sin embargo, cuenta con unos materiales algo pobres y con el inconveniente de que existe el Renault Kangoo, que es en esencia el mismo coche pero más barato.'],\n",
       " ['Compara lo más destacado del Fiat Ulysse y del Peugeot Traveller en la comparativa directa que te ofrecemos. El cliente que quiere comprar un vehículo de este segmento encontrará en el Peugeot Traveller una alternativa al Fiat Ulysse, al que consideramos su rival más claro.'],\n",
       " ['También puedes echar un vistazo a nuestra comparativa destacada entre el Skoda Kodiaq híbrido y el Kia Sportage híbrido y ver los puntos fuertes de cada uno. Tanto Skoda Kodiaq híbrido como Kia Sportage híbrido pertenecen a la misma categoría, son opciones de compra dirigidas al mismo usuario aunque con evidentes diferencias estéticas, niveles de acabado y/o motorizaciones.'],\n",
       " ['El nuevo C3 Aircross combina la estética de un crossover con la modularidad de un MPV, ofreciendo hasta siete plazas. Se vende con una oferta de motores interesante y puede tener mucho equipamiento. Con ofertas tiene un precio muy razonable, siendo además de los más amplios del segmento.'],\n",
       " ['Si buscas un vehículo compacto, con carrocería de diseño robusto pero, sobre todo, con la enorme cualidad de ofrecer 7 plazas, el Mercedes GLB puede presumir de ser la única alternativa premium del mercado.'],\n",
       " ['El Mercedes-Benz EQB nace como la variante 100% eléctrica del GLB, compartiendo infinidad de aspectos. Destaca por ser uno de los pocos eléctricos del mercado en ofrecer 7 plazas, así como unas prestaciones y una autonomía más que digna. No obstante, su elevado precio no casa con algunos acabados y ajustes que son bastante mejorables.'],\n",
       " ['Con un diseño mucho más elaborado que el de sus antecesores que, eso sí, mantiene las señas de identidad de todo buen Land Rover, el Discovery Sport se convierte en un excelente SUV de 7 plazas que, además, cuenta con unas más que notables capacidades off-road y la ventaja de sus mecánicas microhíbridas.'],\n",
       " ['Una de las mayores bazas del SWM G03F es, sin lugar a dudas, su estética de pequeño todoterreno. No obstante, esta pasa a un segundo plano gracias a su atractivo precio, el cual hace que el G03F se convierta en una opción bastante sensata para quien esté buscando un SUV urbano por poco dinero.'],\n",
       " [''],\n",
       " [''],\n",
       " [''],\n",
       " [''],\n",
       " ['Sin duda, el gran SUV checo es una de las mejores opciones de su segmento, destacando por una relación calidad-precio casi imbatible, mucho espacio interior, un rodar muy suave y silencioso y unos acabados que nada tienen que envidiar a otros vehículos de la competencia.'],\n",
       " ['La nueva generación apuesta por lo último en tecnología, ofreciendo alternativas con hibridación ligera e incluso la sofisticada motorización e-Power. También presume de buen diseño y espacio suficiente para toda la familia en las versiones con siete plazas.'],\n",
       " ['Con su diseño tan atrevido, el 5008 de Peugeot resulta mucho más atractivo que la mayoría de sus rivales. Cuenta, además, con la ventaja de ofrecer en la segunda fila un total de tres asientos individuales, algo que lo convierte en la alternativa más apetecible a un MPV.'],\n",
       " ['El Renault espace es un monovolúmen elevado, a medio camino de un SUV, disponible en carrocería de 5 puertas y puede disponer de 5 o 7 plazas'],\n",
       " ['Con una capacidad para circular fuera del asfalto verdaderamente sorprendente, el gran SUV alemán se coloca como uno de los vehículos más capaces y avanzados del mercado, unas cualidades que, eso sí...hay que pagar bien pagadas a la hora de pasar por caja.'],\n",
       " ['El SUV de gran tamaño con 7 plazas que debes comprarte si cumples dos premisas: la primera es que te guste conducir y disfrutes de una dinámica menos refinada pero más divertida, y la segunda es que puedas pagarlo, porque el BMW X5 es un gran coche que debes pagar.'],\n",
       " ['El que sin duda es una de las referencias en el segmento de los SUV de gran tamaño es también una buena opción para los que buscan un vehículo con grandes dosis de espacio y comodidad, todo ello con un índice de seguridad de primerísimo nivel.'],\n",
       " ['Uno de los SUVs más lujosos del mercado, puede tener mucho equipamiento y un motor diésel de altas prestaciones. Resulta también interesante por contar con hasta siete plazas, un detalle que siempre han valorado positivamente los usuarios. Incorpora toda la tecnología del grupo tanto en motores como en seguridad y confort, logrando un producto muy completo al máximo nivel.'],\n",
       " ['Con un diseño mucho más elaborado y un interior que lo sitúa casi en la línea de las marcas premium, el Kia Sorento se convierte así en una excelente opción para los que busquen un SUV de gran tamaño, con buenas dosis de espacio y no quieran abonar lo que las firmas premium están pidiendo por lo que sería el modelo equivalente.'],\n",
       " ['El Hyundai Santa Fe se asienta como una de las opciones más sensatas del segmento al ofrecer una terminación de acabados sustancialmente mejor que la de otras marcas generalistas, un apartado tecnológico sumamente avanzado y un elenco de motores dispuesto a cubrir las necesidades de cualquier perfil de cliente. \\n\\nSin embargo, no se podría categorizar como un SUV premium pese a que se les acerque peligrosamente, aunque sí se posiciona por encima de alguno de sus rivales más directos, tales como el SEAT Tarraco. Aún así, su precio es algo elevado y hará que la balanza se pueda inclinar antes por un Volvo XC60 o un BMW X5.']]"
      ]
     },
     "execution_count": 130,
     "metadata": {},
     "output_type": "execute_result"
    }
   ],
   "source": [
    "lista_opiniones_url_5_corregida"
   ]
  },
  {
   "cell_type": "code",
   "execution_count": 131,
   "metadata": {},
   "outputs": [],
   "source": [
    "# Añado a la lista DF\n",
    "lista_opinion_DF.extend(lista_opiniones_url_5_corregida)"
   ]
  },
  {
   "cell_type": "code",
   "execution_count": 132,
   "metadata": {},
   "outputs": [
    {
     "data": {
      "text/plain": [
       "97"
      ]
     },
     "execution_count": 132,
     "metadata": {},
     "output_type": "execute_result"
    }
   ],
   "source": [
    "len(lista_opinion_DF)"
   ]
  },
  {
   "cell_type": "code",
   "execution_count": 133,
   "metadata": {},
   "outputs": [
    {
     "data": {
      "text/plain": [
       "15"
      ]
     },
     "execution_count": 133,
     "metadata": {},
     "output_type": "execute_result"
    }
   ],
   "source": [
    "# Precios (extraer datos y añadirlos a la lista DF)\n",
    "lista_precios_url_5 = lista_precios(url_5, 'span', class_=\"block text-primary text-20 leading-tight\")\n",
    "len(lista_precios_url_5)"
   ]
  },
  {
   "cell_type": "code",
   "execution_count": 134,
   "metadata": {},
   "outputs": [],
   "source": [
    "# Añado manualmentelos otros 15\n",
    "lista_precios_url_5_manual =['15.990€', '25.999€', '29.900€', '37.660€', '21.400€', '37.550€', '32.900€', '35.010€', '37.830€', '91.914€', '94.037€', '71.900€', '74.460€', '49.710€', '51.210€']"
   ]
  },
  {
   "cell_type": "code",
   "execution_count": 135,
   "metadata": {},
   "outputs": [
    {
     "data": {
      "text/plain": [
       "97"
      ]
     },
     "execution_count": 135,
     "metadata": {},
     "output_type": "execute_result"
    }
   ],
   "source": [
    "# Añadimos los datos a la lista del DF\n",
    "lista_precios_DF.extend(lista_precios_url_5)\n",
    "lista_precios_DF.extend(lista_precios_url_5_manual)\n",
    "len(lista_precios_DF)"
   ]
  },
  {
   "cell_type": "code",
   "execution_count": 136,
   "metadata": {},
   "outputs": [
    {
     "data": {
      "text/plain": [
       "97"
      ]
     },
     "execution_count": 136,
     "metadata": {},
     "output_type": "execute_result"
    }
   ],
   "source": [
    "# Carácterísticas (en esta página no hay info de este tipo)\n",
    "# Genero una lista de 30 None\n",
    "lista_caracteristicas_url_5 = crear_lista_none(30)\n",
    "lista_caracteristicas_DF.extend(lista_caracteristicas_url_5)\n",
    "len(lista_caracteristicas_DF)"
   ]
  },
  {
   "cell_type": "code",
   "execution_count": 137,
   "metadata": {},
   "outputs": [
    {
     "name": "stdout",
     "output_type": "stream",
     "text": [
      "200 OK\n"
     ]
    }
   ],
   "source": [
    "# Nos pasamos a las monovolumen\n",
    "url_6 = 'https://www.autohero.com/es/consejos/elegir/mejor-coche/monovolumen-7-plazas/'\n",
    "accesibilidad(url_6)"
   ]
  },
  {
   "cell_type": "code",
   "execution_count": 138,
   "metadata": {},
   "outputs": [
    {
     "data": {
      "text/plain": [
       "107"
      ]
     },
     "execution_count": 138,
     "metadata": {},
     "output_type": "execute_result"
    }
   ],
   "source": [
    "# Lista de vehiculos (extraer y pasar datos a las listas del DF)\n",
    "lista_coches_url_6 = lista_coches(url_6, 'h3', class_=\"title___HASgI title___2DV4T underline___dbvD3 variant-h2___1eoCd color-secondary___3vq1b weight-normal___25n2H align-center___17w2J\")\n",
    "lista_coches_DF.extend(lista_coches_url_6)\n",
    "len(lista_coches_DF)"
   ]
  },
  {
   "cell_type": "code",
   "execution_count": 139,
   "metadata": {},
   "outputs": [
    {
     "data": {
      "text/plain": [
       "107"
      ]
     },
     "execution_count": 139,
     "metadata": {},
     "output_type": "execute_result"
    }
   ],
   "source": [
    "# Lista valoraciones(no tiene)\n",
    "# Generamos lista con nulos\n",
    "lista_valoraciones_url_6 = crear_lista_none(10)\n",
    "lista_valoraciones_DF.extend(lista_valoraciones_url_6)\n",
    "len(lista_valoraciones_DF)"
   ]
  },
  {
   "cell_type": "code",
   "execution_count": 140,
   "metadata": {},
   "outputs": [
    {
     "data": {
      "text/plain": [
       "78"
      ]
     },
     "execution_count": 140,
     "metadata": {},
     "output_type": "execute_result"
    }
   ],
   "source": [
    "# Lista a favor (extraer y pasar datos a las listas del DF)\n",
    "lista_a_favor_url_6 = lo_mejor (url_6, 'p', None)\n",
    "lista_a_favor_url_6\n",
    "len(lista_a_favor_url_6)"
   ]
  },
  {
   "cell_type": "code",
   "execution_count": 141,
   "metadata": {},
   "outputs": [
    {
     "data": {
      "text/plain": [
       "['Última actualización: 02.04.2025',\n",
       " '¿Estás pensando en comprar un monovolumen de 7 plazas? Puede ser una decisión muy acertada si necesitas más espacio, comodidad y versatilidad en tu día a día. Estos vehículos están diseñados para adaptarse a las necesidades de familias numerosas o personas que viajan con frecuencia en grupo, ofreciendo una solución práctica y funcional.',\n",
       " 'Los monovolúmenes de 7 plazas destacan por su capacidad de adaptarse a las necesidades de familias numerosas o quienes viajan en grupo con frecuencia. Su diseño ofrece un equilibrio perfecto entre espacio, comodidad y funcionalidad, siendo una alternativa práctica frente a otros tipos de vehículos como los SUV grandes.',\n",
       " 'Algunas de las ventajas principales de estos coches incluyen:',\n",
       " 'Los monovolúmenes familiares, como la Volkswagen Transporter y la Mercedes Clase V, destacan por su alta retención de valor en el mercado de segunda mano, gracias a su popularidad y versatilidad.Lutz Grunwald - Experto en calidad de Autohero',\n",
       " 'Hemos seleccionado los mejores monovolúmenes de 7 plazas para 2025, analizando sus características, ventajas y desventajas, para ayudarte a encontrar el modelo que mejor se adapte a tus necesidades.',\n",
       " 'Si buscas espacio y lujo en un vehículo, el Mercedes-Benz Clase V es difícil de superar. Este monovolumen no solo es amplio, sino que también lleva el confort a otro nivel. Con una longitud de entre 4,90 y 5,37 metros, es perfecto para familias grandes o para quienes quieren viajar con estilo y comodidad.',\n",
       " 'El maletero ofrece 610 litros con 7 plazas y hasta 1.410 litros si lo configuras con 6. Además, puedes elegir entre versiones de 6, 7 u 8 plazas según lo que necesites en cada momento.',\n",
       " '✔ Confort premium: asientos con masaje y calefacción ✔ Tecnología avanzada: sistema MBUX intuitivo ✔ Acceso cómodo: puertas correderas eléctricas ✔ Silencio absoluto: excelente insonorización',\n",
       " '✘ Complicado de maniobrar en ciudad ✘ El portón trasero requiere mucho espacio para abrirse',\n",
       " 'Porque es ideal si priorizas el lujo, el confort y la versatilidad para viajar en familia o en grupo, sin renunciar a la calidad y la tecnología de Mercedes.',\n",
       " 'Viajar en grupo nunca fue tan cómodo: el Mercedes-Benz Clase V combina lujo, tecnología y amplitud en cada trayecto.',\n",
       " 'Mercedes-Benz Clase V',\n",
       " 'Si buscas espacio y lujo en un vehículo, el Mercedes-Benz Clase V es difícil de superar. Este monovolumen no solo es amplio, sino que también lleva el confort a otro nivel. Con una longitud de 4.900 a 5.370 mm, es perfecto para familias grandes o quienes buscan viajar con estilo.',\n",
       " 'El maletero tiene una capacidad de 610 litros con 7 plazas y hasta 1.410 litros configurado con 6. Además, puedes elegir entre configuraciones de 6, 7 u 8 plazas según tus necesidades.',\n",
       " '¿Por qué lo recomendamos?Ideal para quienes priorizan el lujo y el confort.',\n",
       " 'Mercedes-Benz Clase V',\n",
       " 'Renault Grand Scénic es un monovolumen de 7 plazas pensado para familias que buscan espacio, practicidad y un diseño moderno. Con sus 4,63 metros de largo, 1,87 de ancho y 1,66 de alto, ofrece un tamaño equilibrado para moverse con facilidad y disfrutar de un interior espacioso.',\n",
       " 'El maletero tiene 189 litros de capacidad con las 7 plazas ocupadas y llega hasta 533 litros si solo usas 5 asientos. Además, gracias al sistema One Touch, puedes plegar los asientos de forma rápida y sencilla con solo pulsar un botón, adaptando el espacio según tus necesidades.',\n",
       " '✔ Asientos modulares: segunda fila ajustable ✔ Consumo eficiente: solo 5,3 L/100 km ✔ Confort en marcha: suspensión adaptada para trayectos largos ✔ Tecnología práctica: pantalla táctil de 8,7 pulgadas',\n",
       " '✘ La tercera fila es justa para adultos ✘ El maletero se reduce mucho con las 7 plazas en uso',\n",
       " 'Deberías elegir el Renault Grand Scénic si buscas eficiencia, confort y un interior versátil para toda la familia. Su modularidad y bajo consumo lo convierten en una opción práctica y cómoda para el día a día y para los viajes largos.',\n",
       " '¿Familia numerosa? El Renault Grand Scénic te ofrece innovación, confort y un diseño pensado para todos.',\n",
       " 'Renault Grand Scénic',\n",
       " 'Dacia Lodgy es una opción económica y práctica si buscas un monovolumen de 7 plazas. Con 4,50 metros de largo, 1,75 de ancho y 1,68 de alto, ofrece una buena habitabilidad incluso en la tercera fila, algo poco habitual en este segmento.',\n",
       " 'El maletero varía desde 207 litros con las 7 plazas en uso hasta 2.617 litros si abates todos los asientos, lo que te da mucha flexibilidad para adaptarlo a tus necesidades.',\n",
       " '✔ Espacio amplio: tercera fila cómoda incluso para adultos ✔ Versatilidad: configurable de 2 a 7 plazas ✔ Practicidad: compartimentos bien distribuidos',\n",
       " '✘ Materiales interiores básicos ✘ El maletero es limitado con las 7 plazas en uso',\n",
       " 'Porque es perfecto si buscas funcionalidad y mucho espacio a un precio accesible, ideal para familias que quieren aprovechar cada euro sin renunciar a la versatilidad.',\n",
       " 'Más plazas, menos complicaciones. El Dacia Lodgy es práctico, económico y perfecto para quienes quieren mucho espacio sin gastar de más.',\n",
       " 'Dacia Lodgy',\n",
       " 'SEAT Alhambra es todo un clásico entre los monovolúmenes de 7 plazas. Con 4,85 metros de largo, 1,90 de ancho y 1,74 de alto, destaca por su amplitud y funcionalidad, siendo una opción perfecta para familias numerosas o para quienes buscan mucho espacio.',\n",
       " 'El maletero varía entre 267 litros con las 7 plazas en uso y hasta 2.430 litros si abates los asientos, lo que te permite adaptar el espacio según tus necesidades.',\n",
       " '✔ Configuración versátil: hasta 32 ajustes diferentes ✔ Acceso práctico: puertas correderas eléctricas ✔ Confort: techo panorámico y gran espacio interior',\n",
       " '✘ El maletero se reduce mucho con las 7 plazas en uso ✘ Algunos materiales interiores podrían mejorar',\n",
       " 'El SEAT Alhambra es ideal para familias que priorizan el espacio, la practicidad y la comodidad en cada trayecto.',\n",
       " 'Aventuras familiares, escapadas de fin de semana o el día a día: el SEAT Alhambra responde siempre con seguridad y amplitud.',\n",
       " 'SEAT Alhambra',\n",
       " 'Peugeot 5008 combina un diseño moderno con tecnología avanzada, siendo una opción ideal para familias que buscan un monovolumen de 7 plazas con estilo. Con 4,79 metros de largo, 1,90 de ancho y 1,69 de alto, ofrece un interior espacioso y versátil.',\n",
       " 'El maletero tiene 259 litros de capacidad con las 7 plazas en uso y llega hasta 1.815 litros si abates los asientos, adaptándose a tus necesidades de espacio.',\n",
       " '✔ Eficiencia híbrida: motor de 136 CV y etiqueta ECO ✔ Tecnología avanzada: i-Cockpit innovador ✔ Confort: climatización en todas las filas',\n",
       " '✘ La tercera fila es limitada para adultos ✘ Maletero pequeño con las 7 plazas en uso',\n",
       " 'Porque es perfecto si buscas eficiencia, tecnología y un diseño atractivo en un monovolumen familiar.',\n",
       " 'Siete plazas, un diseño moderno y toda la tecnología que imaginas. El Peugeot 5008 es el SUV que lo tiene todo.',\n",
       " 'Peugeot 5008',\n",
       " 'Škoda Kodiaq es una opción equilibrada que combina tecnología, espacio y un toque de refinamiento. Con 4,76 metros de largo, 1,86 de ancho y 1,68 de alto, es un vehículo ideal para familias modernas que buscan un SUV de 7 plazas versátil y cómodo.',\n",
       " 'El maletero ofrece 340 litros con las 7 plazas en uso y hasta 725 litros con 5 plazas, ampliables a 910 litros en configuraciones óptimas, para que puedas adaptar el espacio según tus necesidades.',\n",
       " '✔ Interior flexible: configuración ajustable de asientos ✔ Calidad premium: materiales interiores de alta gama ✔ Tecnología: pantalla táctil de 12,9 pulgadas y conectividad avanzada',\n",
       " '✘ La tercera fila es más adecuada para niños ✘ Maletero limitado con las 7 plazas en uso',\n",
       " 'Porque es ideal para familias que buscan espacio, funcionalidad y acabados de calidad en un SUV moderno y bien equipado.',\n",
       " '¿Buscas robustez y espacio? El Škoda Kodiaq sorprende por su comodidad y su capacidad para adaptarse a cualquier plan.',\n",
       " 'Škoda Kodiaq',\n",
       " 'Citroën Grand C4 SpaceTourer destaca por su diseño innovador y su enfoque en el confort familiar. Con 4,60 metros de largo, 1,83 de ancho y 1,64 de alto, es un monovolumen espacioso y funcional, ideal para familias que buscan comodidad y versatilidad.',\n",
       " 'El maletero varía desde 170 litros con las 7 plazas en uso hasta 1.843 litros si abates los asientos, adaptándose a cualquier necesidad de espacio.',\n",
       " '✔ Confort excepcional: asientos delanteros con masaje y reposacabezas ergonómicos ✔ Tecnología: conectividad avanzada y navegación 3D ✔ Visibilidad: parabrisas panorámico para mayor luminosidad interior',\n",
       " '✘ La tercera fila es algo justa para adultos ✘ El sistema de infoentretenimiento podría ser más intuitivo',\n",
       " 'Porque es perfecto para familias que valoran el confort, la tecnología y un diseño innovador en su día a día.',\n",
       " 'Cada asiento es un lugar especial. El Citroën Grand C4 SpaceTourer transforma los viajes familiares en momentos inolvidables.',\n",
       " 'Citroën Grand C4 SpaceTourer',\n",
       " 'Ford S-Max es un monovolumen que combina el espacio de un vehículo familiar con la eficiencia de un sistema híbrido. Con 4,80 metros de largo, 1,92 de ancho y 1,66 de alto, es ideal para familias que buscan sostenibilidad y funcionalidad en su día a día.',\n",
       " 'El maletero ofrece 185 litros con las 7 plazas en uso y hasta 2.020 litros si abates los asientos, adaptándose a tus necesidades de espacio en cada momento.',\n",
       " '✔ Eficiencia híbrida: motor de gasolina 2.5L con etiqueta ECO ✔ Confort: suspensión optimizada y asientos versátiles ✔ Tecnología avanzada: sistema SYNC 3 con comandos por voz',\n",
       " '✘ La transmisión CVT puede no ser atractiva para algunos ✘ Maletero reducido con las 7 plazas en uso',\n",
       " 'Porque es ideal si buscas un monovolumen híbrido con tecnología, espacio y comodidad para toda la familia.',\n",
       " 'Deportivo por fuera, amplio por dentro. El Ford S-Max demuestra que la familia y la emoción pueden ir de la mano.',\n",
       " 'Ford S-Max',\n",
       " 'Opel Zafira Tourer es un monovolumen que combina espacio y funcionalidad, pensado para adaptarse a las necesidades de familias y viajeros frecuentes. Con 4,66 metros de largo, 1,88 de ancho y 1,69 de alto, ofrece un interior espacioso y cómodo para todos los ocupantes.',\n",
       " 'El maletero tiene 152 litros de capacidad con las 7 plazas en uso, 710 litros con 5 plazas y hasta 1.860 litros si abates los asientos. Su diseño modular lo convierte en una opción perfecta tanto para viajes familiares como para transportar objetos voluminosos.',\n",
       " '✔ Espacio bien aprovechado: interior modular con gran capacidad de carga ✔ Confort: asientos ergonómicos ideales para trayectos largos ✔ Practicidad: acceso fácil gracias a las puertas amplias y sistemas de plegado rápido de asientos',\n",
       " '✘ Maletero limitado con las 7 plazas en uso ✘ El diseño interior es menos moderno comparado con otros modelos recientes',\n",
       " 'Porque es una opción ideal para familias que buscan un monovolumen práctico y cómodo, con un interior espacioso y flexible para adaptarse a diferentes necesidades.',\n",
       " 'Flexibilidad, confort y estilo en cada trayecto: el Opel Zafira Tourer es el monovolumen que se adapta a tu ritmo de vida.',\n",
       " 'Opel Zafira Tourer',\n",
       " 'Elegir el mejor monovolumen de 7 plazas puede parecer complicado, pero con esta guía te ayudamos a encontrar el modelo que encaja con tu familia y tu presupuesto. Desde el lujo y el confort del Mercedes-Benz Clase V hasta la practicidad y el precio ajustado del Dacia Lodgy, tienes opciones para todos los gustos y necesidades.',\n",
       " 'Si valoras la tecnología y la eficiencia, modelos como el Ford S-Max o el Škoda Kodiaq destacan por sus versiones híbridas y sistemas avanzados de asistencia. Si prefieres un diseño moderno y un interior pensado para el día a día, el Peugeot 5008 o el Citroën Grand C4 SpaceTourer son apuestas seguras.',\n",
       " 'Antes de decidirte, ten en cuenta aspectos clave como el espacio interior, la capacidad del maletero, el consumo y las posibilidades de personalización. El monovolumen perfecto es aquel que se adapta a tu estilo de vida y a las necesidades de tu familia, tanto para el día a día como para los viajes largos.',\n",
       " 'Explora todas las opciones y encuentra el monovolumen de 7 plazas ideal para tus próximos viajes en familia.',\n",
       " 'Ver monovolúmenes 7 plazas']"
      ]
     },
     "execution_count": 141,
     "metadata": {},
     "output_type": "execute_result"
    }
   ],
   "source": [
    "lista_a_favor_url_6"
   ]
  },
  {
   "cell_type": "code",
   "execution_count": 142,
   "metadata": {},
   "outputs": [
    {
     "data": {
      "text/plain": [
       "107"
      ]
     },
     "execution_count": 142,
     "metadata": {},
     "output_type": "execute_result"
    }
   ],
   "source": [
    "# En el listado están tanto las cosas a favor como en contra y algunas que no me interesan\n",
    "lista_favor = []\n",
    "lista_favor.append(agregar_un_parrafo(lista_a_favor_url_6, 8))\n",
    "lista_favor.append(agregar_un_parrafo(lista_a_favor_url_6, 8))\n",
    "lista_favor.append(agregar_un_parrafo(lista_a_favor_url_6, 19))\n",
    "lista_favor.append(agregar_un_parrafo(lista_a_favor_url_6, 26))\n",
    "lista_favor.append(agregar_un_parrafo(lista_a_favor_url_6, 33))\n",
    "lista_favor.append(agregar_un_parrafo(lista_a_favor_url_6, 40))\n",
    "lista_favor.append(agregar_un_parrafo(lista_a_favor_url_6, 47))\n",
    "lista_favor.append(agregar_un_parrafo(lista_a_favor_url_6, 54))\n",
    "lista_favor.append(agregar_un_parrafo(lista_a_favor_url_6, 61))\n",
    "lista_favor.append(agregar_un_parrafo(lista_a_favor_url_6, 68))\n",
    "\n",
    "lista_contra = []\n",
    "lista_contra.append(agregar_un_parrafo(lista_a_favor_url_6, 9))\n",
    "lista_contra.append(agregar_un_parrafo(lista_a_favor_url_6, 9))\n",
    "lista_contra.append(agregar_un_parrafo(lista_a_favor_url_6, 20))\n",
    "lista_contra.append(agregar_un_parrafo(lista_a_favor_url_6, 27))\n",
    "lista_contra.append(agregar_un_parrafo(lista_a_favor_url_6, 34))\n",
    "lista_contra.append(agregar_un_parrafo(lista_a_favor_url_6, 41))\n",
    "lista_contra.append(agregar_un_parrafo(lista_a_favor_url_6, 48))\n",
    "lista_contra.append(agregar_un_parrafo(lista_a_favor_url_6, 55))\n",
    "lista_contra.append(agregar_un_parrafo(lista_a_favor_url_6, 62))\n",
    "lista_contra.append(agregar_un_parrafo(lista_a_favor_url_6, 69)) \n",
    "lista_a_favor_DF.extend(lista_favor)\n",
    "lista_en_contra_DF.extend(lista_contra)\n",
    "len(lista_en_contra_DF)"
   ]
  },
  {
   "cell_type": "code",
   "execution_count": 143,
   "metadata": {},
   "outputs": [
    {
     "data": {
      "text/plain": [
       "['Última actualización: 02.04.2025',\n",
       " '¿Estás pensando en comprar un monovolumen de 7 plazas? Puede ser una decisión muy acertada si necesitas más espacio, comodidad y versatilidad en tu día a día. Estos vehículos están diseñados para adaptarse a las necesidades de familias numerosas o personas que viajan con frecuencia en grupo, ofreciendo una solución práctica y funcional.',\n",
       " 'Los monovolúmenes de 7 plazas destacan por su capacidad de adaptarse a las necesidades de familias numerosas o quienes viajan en grupo con frecuencia. Su diseño ofrece un equilibrio perfecto entre espacio, comodidad y funcionalidad, siendo una alternativa práctica frente a otros tipos de vehículos como los SUV grandes.',\n",
       " 'Algunas de las ventajas principales de estos coches incluyen:',\n",
       " 'Los monovolúmenes familiares, como la Volkswagen Transporter y la Mercedes Clase V, destacan por su alta retención de valor en el mercado de segunda mano, gracias a su popularidad y versatilidad.Lutz Grunwald - Experto en calidad de Autohero',\n",
       " 'Hemos seleccionado los mejores monovolúmenes de 7 plazas para 2025, analizando sus características, ventajas y desventajas, para ayudarte a encontrar el modelo que mejor se adapte a tus necesidades.',\n",
       " 'Si buscas espacio y lujo en un vehículo, el Mercedes-Benz Clase V es difícil de superar. Este monovolumen no solo es amplio, sino que también lleva el confort a otro nivel. Con una longitud de entre 4,90 y 5,37 metros, es perfecto para familias grandes o para quienes quieren viajar con estilo y comodidad.',\n",
       " 'El maletero ofrece 610 litros con 7 plazas y hasta 1.410 litros si lo configuras con 6. Además, puedes elegir entre versiones de 6, 7 u 8 plazas según lo que necesites en cada momento.',\n",
       " '✔ Confort premium: asientos con masaje y calefacción ✔ Tecnología avanzada: sistema MBUX intuitivo ✔ Acceso cómodo: puertas correderas eléctricas ✔ Silencio absoluto: excelente insonorización',\n",
       " '✘ Complicado de maniobrar en ciudad ✘ El portón trasero requiere mucho espacio para abrirse',\n",
       " 'Porque es ideal si priorizas el lujo, el confort y la versatilidad para viajar en familia o en grupo, sin renunciar a la calidad y la tecnología de Mercedes.',\n",
       " 'Viajar en grupo nunca fue tan cómodo: el Mercedes-Benz Clase V combina lujo, tecnología y amplitud en cada trayecto.',\n",
       " 'Mercedes-Benz Clase V',\n",
       " 'Si buscas espacio y lujo en un vehículo, el Mercedes-Benz Clase V es difícil de superar. Este monovolumen no solo es amplio, sino que también lleva el confort a otro nivel. Con una longitud de 4.900 a 5.370 mm, es perfecto para familias grandes o quienes buscan viajar con estilo.',\n",
       " 'El maletero tiene una capacidad de 610 litros con 7 plazas y hasta 1.410 litros configurado con 6. Además, puedes elegir entre configuraciones de 6, 7 u 8 plazas según tus necesidades.',\n",
       " '¿Por qué lo recomendamos?Ideal para quienes priorizan el lujo y el confort.',\n",
       " 'Mercedes-Benz Clase V',\n",
       " 'Renault Grand Scénic es un monovolumen de 7 plazas pensado para familias que buscan espacio, practicidad y un diseño moderno. Con sus 4,63 metros de largo, 1,87 de ancho y 1,66 de alto, ofrece un tamaño equilibrado para moverse con facilidad y disfrutar de un interior espacioso.',\n",
       " 'El maletero tiene 189 litros de capacidad con las 7 plazas ocupadas y llega hasta 533 litros si solo usas 5 asientos. Además, gracias al sistema One Touch, puedes plegar los asientos de forma rápida y sencilla con solo pulsar un botón, adaptando el espacio según tus necesidades.',\n",
       " '✔ Asientos modulares: segunda fila ajustable ✔ Consumo eficiente: solo 5,3 L/100 km ✔ Confort en marcha: suspensión adaptada para trayectos largos ✔ Tecnología práctica: pantalla táctil de 8,7 pulgadas',\n",
       " '✘ La tercera fila es justa para adultos ✘ El maletero se reduce mucho con las 7 plazas en uso',\n",
       " 'Deberías elegir el Renault Grand Scénic si buscas eficiencia, confort y un interior versátil para toda la familia. Su modularidad y bajo consumo lo convierten en una opción práctica y cómoda para el día a día y para los viajes largos.',\n",
       " '¿Familia numerosa? El Renault Grand Scénic te ofrece innovación, confort y un diseño pensado para todos.',\n",
       " 'Renault Grand Scénic',\n",
       " 'Dacia Lodgy es una opción económica y práctica si buscas un monovolumen de 7 plazas. Con 4,50 metros de largo, 1,75 de ancho y 1,68 de alto, ofrece una buena habitabilidad incluso en la tercera fila, algo poco habitual en este segmento.',\n",
       " 'El maletero varía desde 207 litros con las 7 plazas en uso hasta 2.617 litros si abates todos los asientos, lo que te da mucha flexibilidad para adaptarlo a tus necesidades.',\n",
       " '✔ Espacio amplio: tercera fila cómoda incluso para adultos ✔ Versatilidad: configurable de 2 a 7 plazas ✔ Practicidad: compartimentos bien distribuidos',\n",
       " '✘ Materiales interiores básicos ✘ El maletero es limitado con las 7 plazas en uso',\n",
       " 'Porque es perfecto si buscas funcionalidad y mucho espacio a un precio accesible, ideal para familias que quieren aprovechar cada euro sin renunciar a la versatilidad.',\n",
       " 'Más plazas, menos complicaciones. El Dacia Lodgy es práctico, económico y perfecto para quienes quieren mucho espacio sin gastar de más.',\n",
       " 'Dacia Lodgy',\n",
       " 'SEAT Alhambra es todo un clásico entre los monovolúmenes de 7 plazas. Con 4,85 metros de largo, 1,90 de ancho y 1,74 de alto, destaca por su amplitud y funcionalidad, siendo una opción perfecta para familias numerosas o para quienes buscan mucho espacio.',\n",
       " 'El maletero varía entre 267 litros con las 7 plazas en uso y hasta 2.430 litros si abates los asientos, lo que te permite adaptar el espacio según tus necesidades.',\n",
       " '✔ Configuración versátil: hasta 32 ajustes diferentes ✔ Acceso práctico: puertas correderas eléctricas ✔ Confort: techo panorámico y gran espacio interior',\n",
       " '✘ El maletero se reduce mucho con las 7 plazas en uso ✘ Algunos materiales interiores podrían mejorar',\n",
       " 'El SEAT Alhambra es ideal para familias que priorizan el espacio, la practicidad y la comodidad en cada trayecto.',\n",
       " 'Aventuras familiares, escapadas de fin de semana o el día a día: el SEAT Alhambra responde siempre con seguridad y amplitud.',\n",
       " 'SEAT Alhambra',\n",
       " 'Peugeot 5008 combina un diseño moderno con tecnología avanzada, siendo una opción ideal para familias que buscan un monovolumen de 7 plazas con estilo. Con 4,79 metros de largo, 1,90 de ancho y 1,69 de alto, ofrece un interior espacioso y versátil.',\n",
       " 'El maletero tiene 259 litros de capacidad con las 7 plazas en uso y llega hasta 1.815 litros si abates los asientos, adaptándose a tus necesidades de espacio.',\n",
       " '✔ Eficiencia híbrida: motor de 136 CV y etiqueta ECO ✔ Tecnología avanzada: i-Cockpit innovador ✔ Confort: climatización en todas las filas',\n",
       " '✘ La tercera fila es limitada para adultos ✘ Maletero pequeño con las 7 plazas en uso',\n",
       " 'Porque es perfecto si buscas eficiencia, tecnología y un diseño atractivo en un monovolumen familiar.',\n",
       " 'Siete plazas, un diseño moderno y toda la tecnología que imaginas. El Peugeot 5008 es el SUV que lo tiene todo.',\n",
       " 'Peugeot 5008',\n",
       " 'Škoda Kodiaq es una opción equilibrada que combina tecnología, espacio y un toque de refinamiento. Con 4,76 metros de largo, 1,86 de ancho y 1,68 de alto, es un vehículo ideal para familias modernas que buscan un SUV de 7 plazas versátil y cómodo.',\n",
       " 'El maletero ofrece 340 litros con las 7 plazas en uso y hasta 725 litros con 5 plazas, ampliables a 910 litros en configuraciones óptimas, para que puedas adaptar el espacio según tus necesidades.',\n",
       " '✔ Interior flexible: configuración ajustable de asientos ✔ Calidad premium: materiales interiores de alta gama ✔ Tecnología: pantalla táctil de 12,9 pulgadas y conectividad avanzada',\n",
       " '✘ La tercera fila es más adecuada para niños ✘ Maletero limitado con las 7 plazas en uso',\n",
       " 'Porque es ideal para familias que buscan espacio, funcionalidad y acabados de calidad en un SUV moderno y bien equipado.',\n",
       " '¿Buscas robustez y espacio? El Škoda Kodiaq sorprende por su comodidad y su capacidad para adaptarse a cualquier plan.',\n",
       " 'Škoda Kodiaq',\n",
       " 'Citroën Grand C4 SpaceTourer destaca por su diseño innovador y su enfoque en el confort familiar. Con 4,60 metros de largo, 1,83 de ancho y 1,64 de alto, es un monovolumen espacioso y funcional, ideal para familias que buscan comodidad y versatilidad.',\n",
       " 'El maletero varía desde 170 litros con las 7 plazas en uso hasta 1.843 litros si abates los asientos, adaptándose a cualquier necesidad de espacio.',\n",
       " '✔ Confort excepcional: asientos delanteros con masaje y reposacabezas ergonómicos ✔ Tecnología: conectividad avanzada y navegación 3D ✔ Visibilidad: parabrisas panorámico para mayor luminosidad interior',\n",
       " '✘ La tercera fila es algo justa para adultos ✘ El sistema de infoentretenimiento podría ser más intuitivo',\n",
       " 'Porque es perfecto para familias que valoran el confort, la tecnología y un diseño innovador en su día a día.',\n",
       " 'Cada asiento es un lugar especial. El Citroën Grand C4 SpaceTourer transforma los viajes familiares en momentos inolvidables.',\n",
       " 'Citroën Grand C4 SpaceTourer',\n",
       " 'Ford S-Max es un monovolumen que combina el espacio de un vehículo familiar con la eficiencia de un sistema híbrido. Con 4,80 metros de largo, 1,92 de ancho y 1,66 de alto, es ideal para familias que buscan sostenibilidad y funcionalidad en su día a día.',\n",
       " 'El maletero ofrece 185 litros con las 7 plazas en uso y hasta 2.020 litros si abates los asientos, adaptándose a tus necesidades de espacio en cada momento.',\n",
       " '✔ Eficiencia híbrida: motor de gasolina 2.5L con etiqueta ECO ✔ Confort: suspensión optimizada y asientos versátiles ✔ Tecnología avanzada: sistema SYNC 3 con comandos por voz',\n",
       " '✘ La transmisión CVT puede no ser atractiva para algunos ✘ Maletero reducido con las 7 plazas en uso',\n",
       " 'Porque es ideal si buscas un monovolumen híbrido con tecnología, espacio y comodidad para toda la familia.',\n",
       " 'Deportivo por fuera, amplio por dentro. El Ford S-Max demuestra que la familia y la emoción pueden ir de la mano.',\n",
       " 'Ford S-Max',\n",
       " 'Opel Zafira Tourer es un monovolumen que combina espacio y funcionalidad, pensado para adaptarse a las necesidades de familias y viajeros frecuentes. Con 4,66 metros de largo, 1,88 de ancho y 1,69 de alto, ofrece un interior espacioso y cómodo para todos los ocupantes.',\n",
       " 'El maletero tiene 152 litros de capacidad con las 7 plazas en uso, 710 litros con 5 plazas y hasta 1.860 litros si abates los asientos. Su diseño modular lo convierte en una opción perfecta tanto para viajes familiares como para transportar objetos voluminosos.',\n",
       " '✔ Espacio bien aprovechado: interior modular con gran capacidad de carga ✔ Confort: asientos ergonómicos ideales para trayectos largos ✔ Practicidad: acceso fácil gracias a las puertas amplias y sistemas de plegado rápido de asientos',\n",
       " '✘ Maletero limitado con las 7 plazas en uso ✘ El diseño interior es menos moderno comparado con otros modelos recientes',\n",
       " 'Porque es una opción ideal para familias que buscan un monovolumen práctico y cómodo, con un interior espacioso y flexible para adaptarse a diferentes necesidades.',\n",
       " 'Flexibilidad, confort y estilo en cada trayecto: el Opel Zafira Tourer es el monovolumen que se adapta a tu ritmo de vida.',\n",
       " 'Opel Zafira Tourer',\n",
       " 'Elegir el mejor monovolumen de 7 plazas puede parecer complicado, pero con esta guía te ayudamos a encontrar el modelo que encaja con tu familia y tu presupuesto. Desde el lujo y el confort del Mercedes-Benz Clase V hasta la practicidad y el precio ajustado del Dacia Lodgy, tienes opciones para todos los gustos y necesidades.',\n",
       " 'Si valoras la tecnología y la eficiencia, modelos como el Ford S-Max o el Škoda Kodiaq destacan por sus versiones híbridas y sistemas avanzados de asistencia. Si prefieres un diseño moderno y un interior pensado para el día a día, el Peugeot 5008 o el Citroën Grand C4 SpaceTourer son apuestas seguras.',\n",
       " 'Antes de decidirte, ten en cuenta aspectos clave como el espacio interior, la capacidad del maletero, el consumo y las posibilidades de personalización. El monovolumen perfecto es aquel que se adapta a tu estilo de vida y a las necesidades de tu familia, tanto para el día a día como para los viajes largos.',\n",
       " 'Explora todas las opciones y encuentra el monovolumen de 7 plazas ideal para tus próximos viajes en familia.',\n",
       " 'Ver monovolúmenes 7 plazas']"
      ]
     },
     "execution_count": 143,
     "metadata": {},
     "output_type": "execute_result"
    }
   ],
   "source": [
    "# Lista opiniones (extraer y añadir los datos a la lista del DF)\n",
    "lista_opiniones_url_6 = opiniones(url_6, 'p', None)\n",
    "lista_opiniones_url_6"
   ]
  },
  {
   "cell_type": "code",
   "execution_count": 144,
   "metadata": {},
   "outputs": [
    {
     "data": {
      "text/plain": [
       "[['El maletero ofrece 610 litros con 7 plazas y hasta 1.410 litros si lo configuras con 6. Además, puedes elegir entre versiones de 6, 7 u 8 plazas según lo que necesites en cada momento.'],\n",
       " ['Porque es ideal si priorizas el lujo, el confort y la versatilidad para viajar en familia o en grupo, sin renunciar a la calidad y la tecnología de Mercedes.'],\n",
       " ['El maletero tiene 189 litros de capacidad con las 7 plazas ocupadas y llega hasta 533 litros si solo usas 5 asientos. Además, gracias al sistema One Touch, puedes plegar los asientos de forma rápida y sencilla con solo pulsar un botón, adaptando el espacio según tus necesidades.'],\n",
       " ['El maletero varía desde 207 litros con las 7 plazas en uso hasta 2.617 litros si abates todos los asientos, lo que te da mucha flexibilidad para adaptarlo a tus necesidades.'],\n",
       " ['El maletero varía entre 267 litros con las 7 plazas en uso y hasta 2.430 litros si abates los asientos, lo que te permite adaptar el espacio según tus necesidades.'],\n",
       " ['El maletero tiene 259 litros de capacidad con las 7 plazas en uso y llega hasta 1.815 litros si abates los asientos, adaptándose a tus necesidades de espacio.'],\n",
       " ['El maletero ofrece 340 litros con las 7 plazas en uso y hasta 725 litros con 5 plazas, ampliables a 910 litros en configuraciones óptimas, para que puedas adaptar el espacio según tus necesidades.'],\n",
       " ['El maletero varía desde 170 litros con las 7 plazas en uso hasta 1.843 litros si abates los asientos, adaptándose a cualquier necesidad de espacio.'],\n",
       " ['El maletero ofrece 185 litros con las 7 plazas en uso y hasta 2.020 litros si abates los asientos, adaptándose a tus necesidades de espacio en cada momento.'],\n",
       " ['El maletero tiene 152 litros de capacidad con las 7 plazas en uso, 710 litros con 5 plazas y hasta 1.860 litros si abates los asientos. Su diseño modular lo convierte en una opción perfecta tanto para viajes familiares como para transportar objetos voluminosos.']]"
      ]
     },
     "execution_count": 144,
     "metadata": {},
     "output_type": "execute_result"
    }
   ],
   "source": [
    "# Salen todos los párrafos. Me quedo con: 8,12,16,20,24,28,32,36,40,44(posiciones python)\n",
    "lista_opiniones_url_6_corregida = []\n",
    "lista_opiniones_url_6_corregida.append(agregar_un_parrafo(lista_opiniones_url_6, 7))\n",
    "lista_opiniones_url_6_corregida.append(agregar_un_parrafo(lista_opiniones_url_6, 10))\n",
    "lista_opiniones_url_6_corregida.append(agregar_un_parrafo(lista_opiniones_url_6, 18))\n",
    "lista_opiniones_url_6_corregida.append(agregar_un_parrafo(lista_opiniones_url_6, 25))\n",
    "lista_opiniones_url_6_corregida.append(agregar_un_parrafo(lista_opiniones_url_6, 32))\n",
    "lista_opiniones_url_6_corregida.append(agregar_un_parrafo(lista_opiniones_url_6, 39))\n",
    "lista_opiniones_url_6_corregida.append(agregar_un_parrafo(lista_opiniones_url_6, 46))\n",
    "lista_opiniones_url_6_corregida.append(agregar_un_parrafo(lista_opiniones_url_6, 53))\n",
    "lista_opiniones_url_6_corregida.append(agregar_un_parrafo(lista_opiniones_url_6, 60))\n",
    "lista_opiniones_url_6_corregida.append(agregar_un_parrafo(lista_opiniones_url_6, 67))\n",
    "lista_opiniones_url_6_corregida"
   ]
  },
  {
   "cell_type": "code",
   "execution_count": 145,
   "metadata": {},
   "outputs": [
    {
     "data": {
      "text/plain": [
       "107"
      ]
     },
     "execution_count": 145,
     "metadata": {},
     "output_type": "execute_result"
    }
   ],
   "source": [
    "# Lo añadimos a la lista del DF\n",
    "lista_opinion_DF.extend(lista_opiniones_url_6_corregida)\n",
    "len(lista_opinion_DF)"
   ]
  },
  {
   "cell_type": "code",
   "execution_count": 146,
   "metadata": {},
   "outputs": [
    {
     "data": {
      "text/plain": [
       "107"
      ]
     },
     "execution_count": 146,
     "metadata": {},
     "output_type": "execute_result"
    }
   ],
   "source": [
    "# Lista Precios (no hay en la web)\n",
    "lista_precios_url_6 = crear_lista_none(10)\n",
    "lista_precios_DF.extend(lista_precios_url_6)\n",
    "len(lista_precios_DF)"
   ]
  },
  {
   "cell_type": "code",
   "execution_count": 147,
   "metadata": {},
   "outputs": [
    {
     "data": {
      "text/plain": [
       "[[['Si buscas espacio y lujo en un vehículo, el Mercedes-Benz Clase V es difícil de superar. Este monovolumen no solo es amplio, sino que también lleva el confort a otro nivel. Con una longitud de entre 4,90 y 5,37 metros, es perfecto para familias grandes o para quienes quieren viajar con estilo y comodidad.El maletero ofrece 610 litros con 7 plazas y hasta 1.410 litros si lo configuras con 6. Además, puedes elegir entre versiones de 6, 7 u 8 plazas según lo que necesites en cada momento.']],\n",
       " [['Porque es ideal si priorizas el lujo, el confort y la versatilidad para viajar en familia o en grupo, sin renunciar a la calidad y la tecnología de Mercedes.Viajar en grupo nunca fue tan cómodo: el Mercedes-Benz Clase V combina lujo, tecnología y amplitud en cada trayecto.']],\n",
       " [['El maletero tiene una capacidad de 610 litros con 7 plazas y hasta 1.410 litros configurado con 6. Además, puedes elegir entre configuraciones de 6, 7 u 8 plazas según tus necesidades.¿Por qué lo recomendamos?Ideal para quienes priorizan el lujo y el confort.']],\n",
       " [['El maletero tiene 189 litros de capacidad con las 7 plazas ocupadas y llega hasta 533 litros si solo usas 5 asientos. Además, gracias al sistema One Touch, puedes plegar los asientos de forma rápida y sencilla con solo pulsar un botón, adaptando el espacio según tus necesidades.✔ Asientos modulares: segunda fila ajustable ✔ Consumo eficiente: solo 5,3 L/100 km ✔ Confort en marcha: suspensión adaptada para trayectos largos ✔ Tecnología práctica: pantalla táctil de 8,7 pulgadas']],\n",
       " [['¿Familia numerosa? El Renault Grand Scénic te ofrece innovación, confort y un diseño pensado para todos.Renault Grand Scénic']],\n",
       " [['✔ Espacio amplio: tercera fila cómoda incluso para adultos ✔ Versatilidad: configurable de 2 a 7 plazas ✔ Practicidad: compartimentos bien distribuidos✘ Materiales interiores básicos ✘ El maletero es limitado con las 7 plazas en uso']],\n",
       " [['Dacia LodgySEAT Alhambra es todo un clásico entre los monovolúmenes de 7 plazas. Con 4,85 metros de largo, 1,90 de ancho y 1,74 de alto, destaca por su amplitud y funcionalidad, siendo una opción perfecta para familias numerosas o para quienes buscan mucho espacio.']],\n",
       " [['✘ El maletero se reduce mucho con las 7 plazas en uso ✘ Algunos materiales interiores podrían mejorarEl SEAT Alhambra es ideal para familias que priorizan el espacio, la practicidad y la comodidad en cada trayecto.']],\n",
       " [['Peugeot 5008 combina un diseño moderno con tecnología avanzada, siendo una opción ideal para familias que buscan un monovolumen de 7 plazas con estilo. Con 4,79 metros de largo, 1,90 de ancho y 1,69 de alto, ofrece un interior espacioso y versátil.El maletero tiene 259 litros de capacidad con las 7 plazas en uso y llega hasta 1.815 litros si abates los asientos, adaptándose a tus necesidades de espacio.']],\n",
       " [['Porque es perfecto si buscas eficiencia, tecnología y un diseño atractivo en un monovolumen familiar.Siete plazas, un diseño moderno y toda la tecnología que imaginas. El Peugeot 5008 es el SUV que lo tiene todo.']]]"
      ]
     },
     "execution_count": 147,
     "metadata": {},
     "output_type": "execute_result"
    }
   ],
   "source": [
    "# Lista características (extraer y añadir los datos a la lista del DF)\n",
    "lista_caracteristicas_url_6 = caracteristicas(url_6, 'p', None)\n",
    "# Me tengo que quedar con los párrafos que  me interesan : 6-7, 10-11, 14-15, 18-19, 22-23, 26-27, 30-31, 34-35, 38-39, 42-43\n",
    "lista_caracteristicas_url_6_corregida = []\n",
    "lista_caracteristicas_url_6_corregida.append(agregar_dos_parrafos(lista_opiniones_url_6, 6, 7))\n",
    "lista_caracteristicas_url_6_corregida.append(agregar_dos_parrafos(lista_opiniones_url_6, 10, 11))\n",
    "lista_caracteristicas_url_6_corregida.append(agregar_dos_parrafos(lista_opiniones_url_6, 14, 15))\n",
    "lista_caracteristicas_url_6_corregida.append(agregar_dos_parrafos(lista_opiniones_url_6, 18, 19))\n",
    "lista_caracteristicas_url_6_corregida.append(agregar_dos_parrafos(lista_opiniones_url_6, 22, 23))\n",
    "lista_caracteristicas_url_6_corregida.append(agregar_dos_parrafos(lista_opiniones_url_6, 26, 27))\n",
    "lista_caracteristicas_url_6_corregida.append(agregar_dos_parrafos(lista_opiniones_url_6, 30, 31))\n",
    "lista_caracteristicas_url_6_corregida.append(agregar_dos_parrafos(lista_opiniones_url_6, 34, 35))\n",
    "lista_caracteristicas_url_6_corregida.append(agregar_dos_parrafos(lista_opiniones_url_6, 38, 39))\n",
    "lista_caracteristicas_url_6_corregida.append(agregar_dos_parrafos(lista_opiniones_url_6, 42, 43))\n",
    "lista_caracteristicas_url_6_corregida"
   ]
  },
  {
   "cell_type": "code",
   "execution_count": 148,
   "metadata": {},
   "outputs": [
    {
     "data": {
      "text/plain": [
       "107"
      ]
     },
     "execution_count": 148,
     "metadata": {},
     "output_type": "execute_result"
    }
   ],
   "source": [
    "# Lo añado a la lista del DF\n",
    "lista_caracteristicas_DF.extend(lista_caracteristicas_url_6_corregida)\n",
    "len(lista_caracteristicas_DF)"
   ]
  },
  {
   "cell_type": "code",
   "execution_count": 149,
   "metadata": {},
   "outputs": [
    {
     "name": "stdout",
     "output_type": "stream",
     "text": [
      "200 OK\n"
     ]
    }
   ],
   "source": [
    "# Otra página con monovolúmenes\n",
    "url_7 = 'https://www.carwow.es/furgonetas/familiar#gref'\n",
    "accesibilidad(url_7)"
   ]
  },
  {
   "cell_type": "code",
   "execution_count": 150,
   "metadata": {},
   "outputs": [
    {
     "data": {
      "text/plain": [
       "112"
      ]
     },
     "execution_count": 150,
     "metadata": {},
     "output_type": "execute_result"
    }
   ],
   "source": [
    "#Lista vehiculos\n",
    "lista_coches_url_7 = lista_coches(url_7, 'h3', class_=\"deal-review-highlight-automated-ctas__title\")\n",
    "lista_coches_DF.extend(lista_coches_url_7)\n",
    "len(lista_coches_DF)"
   ]
  },
  {
   "cell_type": "code",
   "execution_count": 151,
   "metadata": {},
   "outputs": [
    {
     "data": {
      "text/plain": [
       "112"
      ]
     },
     "execution_count": 151,
     "metadata": {},
     "output_type": "execute_result"
    }
   ],
   "source": [
    "# Lista valoraciones\n",
    "lista_valoraciones_url_7 = valoraciones(url_7, 'div', class_=\"wowscore-pill\")\n",
    "lista_valoraciones_DF.extend(lista_valoraciones_url_7)\n",
    "len(lista_valoraciones_DF)"
   ]
  },
  {
   "cell_type": "code",
   "execution_count": 152,
   "metadata": {},
   "outputs": [
    {
     "data": {
      "text/plain": [
       "112"
      ]
     },
     "execution_count": 152,
     "metadata": {},
     "output_type": "execute_result"
    }
   ],
   "source": [
    "# Lista a favor\n",
    "lista_lo_mejor_url_7 = lo_mejor(url_7, 'li', class_=\"list-icon__item list-icon__item--positive\")\n",
    "lista_a_favor_url_7 = agrupar_de_tres(lista_lo_mejor_url_7) # agrupo de tres en tres\n",
    "lista_a_favor_url_7_corregida = [lista_a_favor_url_7[i] for i in range(0, len(lista_a_favor_url_7), 2)] # para quedarme sólo con una copia\n",
    "lista_a_favor_DF.extend(lista_a_favor_url_7_corregida)\n",
    "len(lista_a_favor_DF)"
   ]
  },
  {
   "cell_type": "code",
   "execution_count": 153,
   "metadata": {},
   "outputs": [
    {
     "data": {
      "text/plain": [
       "112"
      ]
     },
     "execution_count": 153,
     "metadata": {},
     "output_type": "execute_result"
    }
   ],
   "source": [
    "# Lista en contra\n",
    "lista_lo_peor_url_7 = lo_mejor(url_7, 'li', class_=\"list-icon__item list-icon__item--negative\")\n",
    "lista_en_contra_url_7 = agrupar_de_tres(lista_lo_peor_url_7) # agrupo de tres en tres\n",
    "lista_en_contra_url_7_corregida = [lista_en_contra_url_7[i] for i in range(0, len(lista_en_contra_url_7), 2)] # para quedarme sólo con una copia\n",
    "lista_en_contra_DF.extend(lista_en_contra_url_7_corregida)\n",
    "len(lista_en_contra_DF)"
   ]
  },
  {
   "cell_type": "code",
   "execution_count": 154,
   "metadata": {},
   "outputs": [
    {
     "data": {
      "text/plain": [
       "112"
      ]
     },
     "execution_count": 154,
     "metadata": {},
     "output_type": "execute_result"
    }
   ],
   "source": [
    "# Lista opinion\n",
    "lista_opiniones_url_7 = opiniones(url_7, 'div', class_=\"deal-review-highlight-automated-ctas__body--no-read-more\")\n",
    "lista_opinion_DF.extend(lista_opiniones_url_7)\n",
    "len(lista_opinion_DF)"
   ]
  },
  {
   "cell_type": "code",
   "execution_count": 155,
   "metadata": {},
   "outputs": [
    {
     "data": {
      "text/plain": [
       "112"
      ]
     },
     "execution_count": 155,
     "metadata": {},
     "output_type": "execute_result"
    }
   ],
   "source": [
    "# Lista precios\n",
    "lista_precios_url_7= lista_precios(url_7, 'div', class_=\"div tile-button__subtitle\")\n",
    "lista_precios_url_7_corregida = [lista_precios_url_7[i] for i in range(0, len(lista_precios_url_7), 2)] # para quedarme sólo con una copia\n",
    "lista_precios_DF.extend(lista_precios_url_7_corregida)\n",
    "len(lista_precios_DF)"
   ]
  },
  {
   "cell_type": "code",
   "execution_count": 156,
   "metadata": {},
   "outputs": [
    {
     "data": {
      "text/plain": [
       "112"
      ]
     },
     "execution_count": 156,
     "metadata": {},
     "output_type": "execute_result"
    }
   ],
   "source": [
    "# Lista características (no tiene la web)\n",
    "lista_caracteristicas_url_7 = crear_lista_none(5)\n",
    "lista_caracteristicas_DF.extend(lista_caracteristicas_url_7)\n",
    "len(lista_caracteristicas_DF)"
   ]
  },
  {
   "cell_type": "code",
   "execution_count": 157,
   "metadata": {},
   "outputs": [
    {
     "name": "stdout",
     "output_type": "stream",
     "text": [
      "200 OK\n"
     ]
    }
   ],
   "source": [
    "# Octava url\n",
    "url_8 = 'https://rentingcoches.com/mejores-coches-7-plazas'\n",
    "accesibilidad(url_8)"
   ]
  },
  {
   "cell_type": "code",
   "execution_count": 158,
   "metadata": {},
   "outputs": [
    {
     "data": {
      "text/plain": [
       "120"
      ]
     },
     "execution_count": 158,
     "metadata": {},
     "output_type": "execute_result"
    }
   ],
   "source": [
    "# Lista coches\n",
    "lista_coches_url_8 = lista_coches(url_8, 'h3', None)\n",
    "lista_coches_DF.extend(lista_coches_url_8)\n",
    "len(lista_coches_DF)"
   ]
  },
  {
   "cell_type": "code",
   "execution_count": 159,
   "metadata": {},
   "outputs": [
    {
     "data": {
      "text/plain": [
       "120"
      ]
     },
     "execution_count": 159,
     "metadata": {},
     "output_type": "execute_result"
    }
   ],
   "source": [
    "# Lista valoraciones\n",
    "lista_valoraciones_url_8 = crear_lista_none(8)\n",
    "lista_valoraciones_DF.extend(lista_valoraciones_url_8)\n",
    "len(lista_valoraciones_DF)"
   ]
  },
  {
   "cell_type": "code",
   "execution_count": 160,
   "metadata": {},
   "outputs": [
    {
     "data": {
      "text/plain": [
       "['Lo mejorVersatilidad con siete plazas y diseño moderno',\n",
       " 'Lo mejorableAsistencia eléctrica limitada',\n",
       " 'Lo mejorTecnología e-POWER para una conducción suave y eficiente',\n",
       " 'Lo mejorablePrecio inicial elevado en comparación con la competencia',\n",
       " 'Lo mejorAmplio espacio interior y eficiencia en consumo',\n",
       " 'Lo mejorablePrestaciones dinámicas que podrían ser más deportivas',\n",
       " 'Lo mejorAmplio espacio interior y opciones de motorización eficientes',\n",
       " 'Lo mejorableEl precio de la versión híbrida puede ser elevado',\n",
       " 'Lo mejorAmplio espacio interior y eficiencia en consumo',\n",
       " 'Lo mejorablePrestaciones dinámicas que podrían ser más deportivas',\n",
       " 'Lo mejorConfort de marcha y equipamiento tecnológico avanzado',\n",
       " 'Lo mejorableConsumo algo elevado',\n",
       " 'Lo mejorVersatilidad en la configuración de asientos',\n",
       " 'Lo mejorablePuede resultar menos manejable en entornos urbanos',\n",
       " 'Lo mejorRelación calidad-precio excepcional',\n",
       " 'Lo mejorableAcabados interiores demasiado sencillos']"
      ]
     },
     "execution_count": 160,
     "metadata": {},
     "output_type": "execute_result"
    }
   ],
   "source": [
    "# Lista a favor\n",
    "lista_a_favor_url_8 = lo_mejor (url_8, 'div', class_=\"highlighted-box\") \n",
    "lista_a_favor_url_8 "
   ]
  },
  {
   "cell_type": "code",
   "execution_count": 161,
   "metadata": {},
   "outputs": [
    {
     "data": {
      "text/plain": [
       "120"
      ]
     },
     "execution_count": 161,
     "metadata": {},
     "output_type": "execute_result"
    }
   ],
   "source": [
    "# Aparecen todos los valores positivos y negativos\n",
    "# Me quedo con los de valor positivo \n",
    "lista_lo_mejor_url_8 = [lista_a_favor_url_8[i] for i in range(0, len(lista_a_favor_url_8), 2)]\n",
    "lista_a_favor_DF.extend(lista_lo_mejor_url_8)\n",
    "len(lista_a_favor_DF)"
   ]
  },
  {
   "cell_type": "code",
   "execution_count": 162,
   "metadata": {},
   "outputs": [
    {
     "data": {
      "text/plain": [
       "120"
      ]
     },
     "execution_count": 162,
     "metadata": {},
     "output_type": "execute_result"
    }
   ],
   "source": [
    "# Lista en contra\n",
    "# Aprovecho el listado obtenido anteriormente \n",
    "# Me quedo con los de valor negativo\n",
    "lista_lo_peor_url_8 = [lista_a_favor_url_8[i] for i in range(1, len(lista_a_favor_url_8), 2)]\n",
    "lista_en_contra_DF.extend(lista_lo_peor_url_8)\n",
    "len(lista_en_contra_DF)"
   ]
  },
  {
   "cell_type": "code",
   "execution_count": 163,
   "metadata": {},
   "outputs": [
    {
     "data": {
      "text/plain": [
       "120"
      ]
     },
     "execution_count": 163,
     "metadata": {},
     "output_type": "execute_result"
    }
   ],
   "source": [
    "# Lista opiniones\n",
    "lista_opninones_url_8 = opiniones (url_8,'p', class_=\"mb-0\") \n",
    "lista_opinion_DF.extend(lista_opninones_url_8)\n",
    "len(lista_opinion_DF)"
   ]
  },
  {
   "cell_type": "code",
   "execution_count": 164,
   "metadata": {},
   "outputs": [
    {
     "data": {
      "text/plain": [
       "120"
      ]
     },
     "execution_count": 164,
     "metadata": {},
     "output_type": "execute_result"
    }
   ],
   "source": [
    "# Lista precios\n",
    "lista_precios_url_8 = lista_precios(url_8, 'p', class_=\"info\")\n",
    "lista_precios_DF.extend(lista_precios_url_8)\n",
    "len(lista_precios_DF)"
   ]
  },
  {
   "cell_type": "code",
   "execution_count": 165,
   "metadata": {},
   "outputs": [
    {
     "data": {
      "text/plain": [
       "120"
      ]
     },
     "execution_count": 165,
     "metadata": {},
     "output_type": "execute_result"
    }
   ],
   "source": [
    "# Lista característcas\n",
    "lista_caracteristicas_url_8 = caracteristicas(url_8, 'div', class_=\"d-flex flex-wrap\")\n",
    "lista_caracteristicas_DF.extend(lista_caracteristicas_url_8)\n",
    "len(lista_caracteristicas_DF)"
   ]
  },
  {
   "cell_type": "code",
   "execution_count": 166,
   "metadata": {},
   "outputs": [
    {
     "name": "stdout",
     "output_type": "stream",
     "text": [
      "200 OK\n"
     ]
    }
   ],
   "source": [
    "# Novena página (misma que antes pero con otras informaciones)\n",
    "url_9 = 'https://rentingcoches.com/mejores-coches-hibridos/7-plazas'\n",
    "accesibilidad(url_9)"
   ]
  },
  {
   "cell_type": "code",
   "execution_count": 167,
   "metadata": {},
   "outputs": [
    {
     "name": "stdout",
     "output_type": "stream",
     "text": [
      "127\n",
      "127\n",
      "127\n",
      "127\n",
      "127\n",
      "127\n",
      "127\n"
     ]
    }
   ],
   "source": [
    "# Lista coches\n",
    "lista_coches_url_9 = lista_coches(url_9, 'h3', None)\n",
    "lista_coches_DF.extend(lista_coches_url_9)\n",
    "print(len(lista_coches_DF))\n",
    "\n",
    "# Lista valoraciones\n",
    "lista_valoraciones_url_9 = crear_lista_none(7)\n",
    "lista_valoraciones_DF.extend(lista_valoraciones_url_9)\n",
    "print(len(lista_valoraciones_DF))\n",
    "\n",
    "# Lista a favor\n",
    "lista_a_favor_url_9 = lo_mejor (url_9, 'div', class_=\"highlighted-box\") \n",
    "# Aparecen positivo y negativo\n",
    "lista_lo_mejor_url_9 = [lista_a_favor_url_9[i] for i in range(0, len(lista_a_favor_url_9), 2)]\n",
    "lista_a_favor_DF.extend(lista_lo_mejor_url_9)\n",
    "print(len(lista_a_favor_DF))\n",
    "\n",
    "# Lista en contra\n",
    "# Aprovecho el listado obtenido anteriormente \n",
    "# Me quedo con los de valor positivo \n",
    "lista_lo_peor_url_9 = [lista_a_favor_url_9[i] for i in range(1, len(lista_a_favor_url_9), 2)]\n",
    "lista_en_contra_DF.extend(lista_lo_peor_url_9)\n",
    "print(len(lista_en_contra_DF))\n",
    "\n",
    "# Lista opiniones\n",
    "lista_opninones_url_9 = opiniones (url_9,'p', class_=\"mb-0\") \n",
    "lista_opinion_DF.extend(lista_opninones_url_9)\n",
    "print(len(lista_opinion_DF))\n",
    "\n",
    "# Lista precios\n",
    "lista_precios_url_9 = lista_precios(url_9, 'p', class_=\"info\")\n",
    "lista_precios_DF.extend(lista_precios_url_9)\n",
    "print(len(lista_precios_DF))\n",
    "\n",
    "# Lista característcas\n",
    "lista_caracteristicas_url_9 = caracteristicas(url_9, 'div', class_=\"d-flex flex-wrap\")\n",
    "lista_caracteristicas_DF.extend(lista_caracteristicas_url_9)\n",
    "print(len(lista_caracteristicas_DF))"
   ]
  },
  {
   "cell_type": "code",
   "execution_count": 168,
   "metadata": {},
   "outputs": [
    {
     "name": "stdout",
     "output_type": "stream",
     "text": [
      "200 OK\n"
     ]
    }
   ],
   "source": [
    "# Url 10\n",
    "url_10 = 'https://rentingcoches.com/mejores-coches-electricos/7-plazas'\n",
    "accesibilidad(url_10)"
   ]
  },
  {
   "cell_type": "code",
   "execution_count": 169,
   "metadata": {},
   "outputs": [
    {
     "name": "stdout",
     "output_type": "stream",
     "text": [
      "132\n",
      "132\n",
      "132\n",
      "132\n",
      "132\n",
      "132\n",
      "132\n"
     ]
    }
   ],
   "source": [
    "# Lista coches\n",
    "lista_coches_url_10 = lista_coches(url_10, 'h3', None)\n",
    "lista_coches_DF.extend(lista_coches_url_10)\n",
    "print(len(lista_coches_DF))\n",
    "\n",
    "# Lista valoraciones\n",
    "lista_valoraciones_url_10 = crear_lista_none(5)\n",
    "lista_valoraciones_DF.extend(lista_valoraciones_url_10)\n",
    "print(len(lista_valoraciones_DF))\n",
    "\n",
    "# Lista a favor\n",
    "lista_a_favor_url_10 = lo_mejor (url_10, 'div', class_=\"highlighted-box\") \n",
    "# Aparecen positivo y negativo\n",
    "lista_lo_mejor_url_10 = [lista_a_favor_url_10[i] for i in range(0, len(lista_a_favor_url_10), 2)]\n",
    "lista_a_favor_DF.extend(lista_lo_mejor_url_10)\n",
    "print(len(lista_a_favor_DF))\n",
    "\n",
    "# Lista en contra\n",
    "# Aprovecho el listado obtenido anteriormente \n",
    "# Me quedo con los de valor positivo \n",
    "lista_lo_peor_url_10 = [lista_a_favor_url_10[i] for i in range(1, len(lista_a_favor_url_10), 2)]\n",
    "lista_en_contra_DF.extend(lista_lo_peor_url_10)\n",
    "print(len(lista_en_contra_DF))\n",
    "\n",
    "# Lista opiniones\n",
    "lista_opninones_url_10 = opiniones (url_10,'p', class_=\"mb-0\") \n",
    "lista_opinion_DF.extend(lista_opninones_url_10)\n",
    "print(len(lista_opinion_DF))\n",
    "\n",
    "# Lista precios\n",
    "lista_precios_url_10 = lista_precios(url_10, 'p', class_=\"info\")\n",
    "lista_precios_DF.extend(lista_precios_url_10)\n",
    "print(len(lista_precios_DF))\n",
    "\n",
    "# Lista característcas\n",
    "lista_caracteristicas_url_10 = caracteristicas(url_10, 'div', class_=\"d-flex flex-wrap\")\n",
    "lista_caracteristicas_DF.extend(lista_caracteristicas_url_10)\n",
    "print(len(lista_caracteristicas_DF))"
   ]
  },
  {
   "cell_type": "code",
   "execution_count": 170,
   "metadata": {},
   "outputs": [
    {
     "name": "stdout",
     "output_type": "stream",
     "text": [
      "200 OK\n"
     ]
    }
   ],
   "source": [
    "# Url 11\n",
    "url_11= 'https://www.carwow.es/coches-7-plazas#gref'\n",
    "accesibilidad(url_11)"
   ]
  },
  {
   "cell_type": "code",
   "execution_count": 171,
   "metadata": {},
   "outputs": [
    {
     "name": "stdout",
     "output_type": "stream",
     "text": [
      "142\n",
      "142\n",
      "142\n",
      "142\n",
      "142\n",
      "142\n",
      "142\n"
     ]
    }
   ],
   "source": [
    "#Lista vehiculos\n",
    "lista_coches_url_11 = lista_coches(url_11, 'h3', class_=\"deal-review-highlight-automated-ctas__title\")\n",
    "lista_coches_DF.extend(lista_coches_url_11)\n",
    "print(len(lista_coches_DF))\n",
    "\n",
    "# Lista valoraciones\n",
    "lista_valoraciones_url_11 = valoraciones(url_11, 'div', class_=\"wowscore-pill\")\n",
    "lista_valoraciones_DF.extend(lista_valoraciones_url_11)\n",
    "print(len(lista_valoraciones_DF))\n",
    "\n",
    "# Lista a favor\n",
    "lista_lo_mejor_url_11 = lo_mejor(url_11, 'li', class_=\"list-icon__item list-icon__item--positive\")\n",
    "lista_a_favor_url_11 = agrupar_de_tres(lista_lo_mejor_url_11) # agrupo de tres en tres\n",
    "lista_a_favor_url_11_corregida = [lista_a_favor_url_11[i] for i in range(0, len(lista_a_favor_url_11), 2)] # para quedarme sólo con una copia\n",
    "lista_a_favor_DF.extend(lista_a_favor_url_11_corregida)\n",
    "print(len(lista_a_favor_DF))\n",
    "\n",
    "# Lista en contra\n",
    "lista_lo_peor_url_11 = lo_mejor(url_11, 'li', class_=\"list-icon__item list-icon__item--negative\")\n",
    "lista_en_contra_url_11 = agrupar_de_tres(lista_lo_peor_url_11) # agrupo de tres en tres\n",
    "lista_en_contra_url_11_corregida = [lista_en_contra_url_11[i] for i in range(0, len(lista_en_contra_url_11), 2)] # para quedarme sólo con una copia\n",
    "lista_en_contra_DF.extend(lista_en_contra_url_11_corregida)\n",
    "print(len(lista_en_contra_DF))\n",
    "\n",
    "# Lista opinion\n",
    "lista_opiniones_url_11 = opiniones(url_11, 'div', class_=\"deal-review-highlight-automated-ctas__body--no-read-more\")\n",
    "lista_opinion_DF.extend(lista_opiniones_url_11)\n",
    "print(len(lista_opinion_DF))\n",
    "\n",
    "#Lista precios\n",
    "lista_precios_url_11= lista_precios(url_11, 'div', class_=\"div tile-button__subtitle\")\n",
    "lista_precios_url_11_corregida = [lista_precios_url_11[i] for i in range(0, len(lista_precios_url_11), 2)] # para quedarme sólo con una copia\n",
    "lista_precios_DF.extend(lista_precios_url_11_corregida)\n",
    "print(len(lista_precios_DF))\n",
    "\n",
    "# Lista características (no tiene la web)\n",
    "lista_caracteristicas_url_11 = crear_lista_none(10)\n",
    "lista_caracteristicas_DF.extend(lista_caracteristicas_url_11)\n",
    "print(len(lista_caracteristicas_DF))"
   ]
  },
  {
   "cell_type": "code",
   "execution_count": 172,
   "metadata": {},
   "outputs": [
    {
     "name": "stdout",
     "output_type": "stream",
     "text": [
      "200 OK\n"
     ]
    }
   ],
   "source": [
    "# Url 12\n",
    "url_12 ='https://www.diariomotor.com/guias-compra/coches-7-plazas-mas-baratos/'\n",
    "accesibilidad(url_12)"
   ]
  },
  {
   "cell_type": "code",
   "execution_count": 173,
   "metadata": {},
   "outputs": [
    {
     "name": "stdout",
     "output_type": "stream",
     "text": [
      "152\n",
      "152\n",
      "152\n",
      "152\n",
      "152\n",
      "152\n",
      "[['Potencia 110 CV', 'Consumo 7.20-7.20 l/100Km', 'Maletero', 'Etiqueta ambiental C'], ['Potencia 100-110 CV', 'Consumo 5.80-7.70 l/100Km', 'Maletero 595', ['Etiqueta ambiental CEtiqueta ambiental ECO']], ['Potencia CV', 'Consumo l/100Km', 'Maletero 460', ''], ['Potencia 100-145 CV', 'Consumo 5.30-6.20 l/100Km', 'Maletero 460', ['Etiqueta ambiental CEtiqueta ambiental ECO']], ['Potencia 139 CV', 'Consumo 8.50-8.50 l/100Km', 'Maletero', 'Etiqueta ambiental C'], ['Potencia 102-122 CV', 'Consumo 5.40-7.00 l/100Km', 'Maletero', 'Etiqueta ambiental C'], ['Potencia 110-146 CV', 'Consumo 5.20-5.20 l/100Km', 'Maletero 460', 'Etiqueta ambiental ECO'], ['Potencia 149 CV', 'Consumo 9.90-9.90 l/100Km', 'Maletero', 'Etiqueta ambiental C'], ['Potencia 140 CV', 'Consumo 4.80-4.90 l/100Km', 'Maletero 595', 'Etiqueta ambiental ECO'], ['Potencia 177 CV', 'Consumo l/100Km', 'Maletero 375', 'Etiqueta ambiental C']]\n"
     ]
    },
    {
     "data": {
      "text/plain": [
       "152"
      ]
     },
     "execution_count": 173,
     "metadata": {},
     "output_type": "execute_result"
    }
   ],
   "source": [
    "# Lista de coches (extraigo e inserto a la lista del DF)\n",
    "lista_coches_url_12 = lista_coches(url_12, 'h2', class_=\"m-0 text-3xl leading-none -tracking-xs md:-tracking-s md:text-4xl\")\n",
    "lista_coches_DF.extend(lista_coches_url_12)\n",
    "print(len(lista_coches_DF)) \n",
    "\n",
    "# Lista Valoraciones (extraigo e inserto en la lista del DF)\n",
    "lista_valoraciones_url_12 = valoraciones(url_12, 'div', class_=\"mt-1 leading-7 numero\")\n",
    "lista_valoraciones_DF.extend(lista_valoraciones_url_12)\n",
    "print(len(lista_valoraciones_DF))\n",
    "\n",
    "# Lista a favor (no hay datos en esta página)\n",
    "# Genero una lista con valores nulos\n",
    "lista_a_favor_url_12 = crear_lista_none(10)\n",
    "lista_a_favor_DF.extend(lista_a_favor_url_12)\n",
    "print(len(lista_a_favor_DF))\n",
    "\n",
    "# Lista en contra (no hay datos en esta página)\n",
    "# Genero una lista con valores nulos\n",
    "lista_en_contra_url_12 = crear_lista_none(10)   \n",
    "lista_en_contra_DF.extend(lista_en_contra_url_12)\n",
    "print(len(lista_en_contra_DF))\n",
    "\n",
    "# Opiniones (extraigo datos y agrego a la lista del DF)\n",
    "lista_opiniones_url_12 = opiniones(url_12, 'div',  class_=\"py-4 border-b border-gray-100 cuerpo\")\n",
    "lista_opinion_DF.extend(lista_opiniones_url_12)\n",
    "print(len(lista_opinion_DF))\n",
    "\n",
    "# Precios (extraigo datos y agrego a la lista del DF)\n",
    "lista_precios_url_12 = lista_precios(url_12, 'div', class_=\"flex flex-col text-3xl font-semibold leading-7 text-main md:text-4xl -tracking-xs md:mt-0 md:mr-2\")\n",
    "lista_precios_DF.extend(lista_precios_url_12)\n",
    "print(len(lista_precios_DF))\n",
    "\n",
    "# Características\n",
    "# En esta ocasión se hace en dos partes: extraemos etiquetas y resto características\n",
    "etiquetas_url_12 = lista_etiquetas(url_12)\n",
    "lista_etiquetas_url_12 = etiquetas_url_12[0]\n",
    "lista_etiquetas_url_12_corregida = []\n",
    "lista_etiquetas_url_12_corregida.append(agregar_un_parrafo(lista_etiquetas_url_12, 0))\n",
    "lista_etiquetas_url_12_corregida.append(agregar_dos_parrafos(lista_etiquetas_url_12, 1,2))\n",
    "lista_etiquetas_url_12_corregida.append(agregar_dos_parrafos(lista_etiquetas_url_12, 3,4))\n",
    "lista_etiquetas_url_12_corregida.append(agregar_un_parrafo(lista_etiquetas_url_12, 5))\n",
    "lista_etiquetas_url_12_corregida.append(agregar_un_parrafo(lista_etiquetas_url_12, 6))\n",
    "lista_etiquetas_url_12_corregida.append(agregar_un_parrafo(lista_etiquetas_url_12, 7))\n",
    "lista_etiquetas_url_12_corregida.append(agregar_un_parrafo(lista_etiquetas_url_12, 8))\n",
    "lista_etiquetas_url_12_corregida.append(agregar_un_parrafo(lista_etiquetas_url_12, 9))\n",
    "lista_etiquetas_url_12_corregida.append(agregar_un_parrafo(lista_etiquetas_url_12, 10))\n",
    "lista_etiquetas_url_12_corregida.insert(2,['']) # Introduzco el valor Nulo que falta\n",
    "# Extraigo resto de características\n",
    "lista_caracteristicas_url_12 = caracteristicas (url_12, 'div', class_=\"flex flex-col text-base font-semibold leading-4 text-gray-700 uppercase texto -tracking-xs\")\n",
    "lista_caracteristicas_url_12_corregida = agrupar_de_tres(lista_caracteristicas_url_12)\n",
    "# A continuación debo unir las dos listas, pero que se combinen, para que generen una sola todos los elementos\n",
    "lista_caracteristicas_url_12_completa = []\n",
    "for indice, item in enumerate(lista_caracteristicas_url_12_corregida):\n",
    "    lista_caracteristicas_url_12_completa.append(item+lista_etiquetas_url_12_corregida[indice])\n",
    "print(lista_caracteristicas_url_12_completa)\n",
    "# Finalmente la añado a la lista del DF\n",
    "lista_caracteristicas_DF.extend(lista_caracteristicas_url_12_completa)\n",
    "len(lista_caracteristicas_DF)"
   ]
  },
  {
   "cell_type": "code",
   "execution_count": 174,
   "metadata": {},
   "outputs": [
    {
     "name": "stdout",
     "output_type": "stream",
     "text": [
      "200 OK\n"
     ]
    }
   ],
   "source": [
    "# Url 13 (no tiene demasiada información, pero me interesan nombres y opiniones)\n",
    "url_13 = 'https://www.coches.com/noticias/informes/guia-de-compra-monovolumenes-grandes/119443'\n",
    "accesibilidad (url_13)"
   ]
  },
  {
   "cell_type": "code",
   "execution_count": 175,
   "metadata": {},
   "outputs": [
    {
     "name": "stdout",
     "output_type": "stream",
     "text": [
      "165\n",
      "165\n",
      "165\n",
      "165\n",
      "['El Citroën SpaceTourer se actualizó en 2024 y recuperó una versión de combustión, que la marca había descatalogado en los últimos compases en que estuvo en venta el anterior modelo. Se ofrece con dos longitudes de carrocería (4,98 o 5,33 metros). Puede diferenciarse por los cambios en el diseño de la parte frontal y, sobre todo, ganó equipamiento.', 'Este monovolumen cuenta con un amplio habitáculo en el que pueden viajar hasta nueve pasajeros puede elegirse con diversas cofiguraciuones interiores. De serie cuenta con ocho plazas distribuidas en una configuración 2+3+3 pero es posible elegir una versión muy lujosa con la segunda fila de asientos mira hacia atrás y capacidad reducida a siete personas.', 'En lo que respecta al apartado mecánico, la versión elegida es el 2.0 BlueHDI diésel de 180 CV, asociado a la caja de cambios automática EAT8 de ocho velocidades y un sistema de tracción delantera. Es un conjunto con el que realizamos una prueba a fondo en la anterior versión.', 'Se ofrece con dos niveles de equipamiento al inicio de su vida comercial. El más sencillo Business está más pensado para flotas, pero puede ser bastante completo para una familia al contar con faro LED, cristales posteriores tintados, cuadro de instrumentos digital de 10 pulgadas y pantalla multimedia táctil del mismo tamaño y bastantes ayudas a la conducción. Por encima se ubica el Lounge, con llantas de aleación, tapicería de cuero, asientos delanteros calefactables, regulables eléctricamente y con función de masaje o el climatizador automático bizona, navegador o las puertas laterales con apertura eléctrica, entre otros.', '[vc_button title=»Ofertas Citroën SpaceTourer» target=»_self» color=»default» size=»size_large» href=»Ofertas Citroën SpaceTourer]', '', 'El Citroën Holidays es una furgoneta camper basada en el Citroën Spacetourer cuyas primeras entregas a clientes se realizan en 2025, con todas las homologaciones pertinentes. Como el modelo del que parte, mide 4,98 m de longitud, por lo que resulta más compacto y manejable que una autocaravana. Tiene un precio de partida menor que el de otras alternativas.', 'Cuenta con todo lo necesario para que cuatro personas realicen escapadas y puedan dormir en el vehículo: cama superior de 1,20 metros de ancho, otra en el piso de debajo de 1,15 metros, cocina con dos placas de gas, fregadero y frigorífico de 15 litros, mesa desmontable, techo retráctil del color de la carrocería y asientos delanteros pivotantes. El portón trasero cuenta con una ventana practicable y tanto el parabrisas como las ventanillas laterales disponen de persianas para asegurar el mejor descanso.', 'Se ofrece con una gama formada por dos motorizaciones (BlueHDi 145 CV con cambio manual de 6 velocidades y BlueHDi 180 CV con caja automática EAT8) y dos acabados (Plus y Pack Max).', 'Las dos puertas laterales correderas permiten tanto cocinar desde fuera del vehículo como comer al aire libre, gracias a los asientos y la mesa desmontables. No falta una barandilla lateral a la que se puede acoplar un toldo enrollable para proporcionar sombra o resguardarse de la lluvia.', 'Ofertas Citroën Holidays', '', 'El Fiat Ulysse es un monovolumen grande que se actualizó en 2024 junto con el resto de modelos de Stellantis Pro One, en una ofensiva de producto sin precedentes. Una de las mayores novedades fue que sumó una variante con motor de combustión, inédita en el lanzamiento del modelo en 2023.', 'Hubo muy pocos cambios estéticos entre ambos, más allá de parrilla, paragolpes y faros de LED. Dentro estrenó volante y pantalla multimedia de 10 pulgadas, que cambió ligeramente de ubicación. puede elegirse con dos longitudes de carrocería, de\\xa04.956 mm la corta (Talla M) y de 5.306 mm la larga (Talla L). Su capacidad del maletero oscila entre los 900 y los 1.500 litros en función de la carrocería (entre 4.200 y 4.900 litros con sólo dos asientos en uso, la última fila puede desmontarse por completo).', 'El Fiat E-Ulysse se mueve con el motor eléctrico de\\xa0100 kW (136 CV) de potencia\\xa0y 260 Nm de par máximo (ver prueba) y en el apartado de combustión se eligió el 2.0 BlueHDI diésel de 180 CV, asociado a la caja de cambios automática EAT8 de ocho velocidades y un sistema de tracción delantera.', 'Posiblemente sea el equipamiento el apartado con mayores mejoras. Anuncia hasta 18 sistemas de asistencia al conductor de última generación. Con el acabado Lounge más completo tienes asientos delanteros con reposabrazos, tapizados en piel y con accionamiento eléctrico, calefacción y masaje. La segunda fila tiene dos butacas individuales con una consola central que se desliza por raíles y se convierte en mesa. Puedes elegirla con dos baquetas de tres asientos, para que en lugar de seis plazas tener hasta ocho en el acabado de acceso, que lleva llantas de aleación de 17 pulgadas o climatizador de tres zonas.', 'Ofertas Fiat Ulysse', '', 'El Ford Tourneo Custom llegó al mercado en 2023 como versión de pasajeros de la furgoneta Transit Custom. Conservó los 4,97 metros de longitud de su prececesor en su versión más corta (la larga se llama Gran Tourneo) y ganó una imagen más afilada y moderno. El interior puede ser configurado con siete, ocho o incluso nueve asientos.', 'Mejoró los acabados interiores, que eran ya muy buenos y ofrece tecnología a la altura, como un cuadro de instrumentos digital o una pantalla central de hasta 13 pulgadas que integra mandos de la climatizació. La palanca del selector del cambio pasó a la columna de la dirección para liberar espacio.', 'En el apartado mecánico se ofrecen motores diésel EcoBlue de 136, 150 y 170 CV, asociados a un cambio manual de seis velocidades o uno automático de ocho que envían el par a las ruedas delanteras, pero es posible elegirla con tracción total y algunas versiones ofrecen diferencial autoblocante. Hay variantes electrificadas, como una híbrida enchufable de 225 CV, con el sistema de Kuga PHEV y el eléctrico E-Tourneo Custom, con 214 CV y que homologa 370 km de autonomía.', 'La gama diferencia entre una versión de aspecto más deportivo (Sport), una más lujosa (Titanium) y una Active (con imagen más aventurera). La marca además ofrece los servicios conectados de Ford Pro.', 'Ofertas Ford Tourneo Custom', '', 'El Hyundai Staria cambió de sistema de propulsión de cara a 2025. Continúa siendo un monovolumen grande de 5,25 metros de longitud (algo más de lo habitual) con nueve asientos, pero abandonó el propulsor diésel para apostar por un sistema híbrido convencional, no enchufable.', 'La parte motriz la forma un motor de gasolina turboalimentado, un 1.6 de 160 CV con uno eléctrico de 73 CV de potencia que dan como resultado 224 CV de potencia total combinada y un consumo medio homologado de 7,6 l/100 km. Es menos de lo registrado por el diésel según el ciclo WLTP y tiene mejores prestaciones, ya que acelera de 0 a 100 km/h en 10,2 segundos (la velocidad punta es más reducida, se queda en 167 km/h. Otra ventaja es que obtiene la etiqueta ECO con las ventajas que ello supone. Eso sí, pierde la posibilidad de contar con tracción total (ver prueba).', 'No varió su peculiar diseño, con cierta inspiración en el Ioniq 5, líneas limpias y perfiladas y mucha superficie acristalada. Esto último aporta sensación de mayor amplitud. Y no es que en este apartado se quede escueto, ya que la Staria acoge tres filas de asientos, que pueden deslizarse longitudinalmente por raíles. Esto nos deja con una capacidad de maletero, con todas las plazas en uso, entre 117 y 831 litros', 'Está disponible al inicio de su comercialización con el nivel de equipamiento Maxx, con un sistema de infoentretenimiento de 10,25 pulgadas o un cuadro de instrumentos digital adjunto. El conjunto de asistencias de seguridad incluye ayudas que ya están presentes en el resto de la gama del fabricante.', 'Ofertas Hyundai Staria', '', 'El Lexus LM que llegó a los concesionarios de España casi en 2024 (las reservas comenzaron a mediados de 2023) es un monovolumen de lujo. Se trata de la segunda generación, si bien es la primera vez que se vende en el mercado español. Su nombre significa Luxury Mover (algo así como desplazador de lujo) y destaca por tratar a los ocupantes como la primera clase de las aerolíneas selectas.', 'Es bastante largo, con 5,13 metros de longitud, de los que tres corresponden a su distancia entre ejes. Su diseño es muy polarizante, sobre todo el frontal, pero es un modelo diseñado desde dentro hacia fuera. Puede elegirse con una versión de cuatro plazas, con dos traseras que pueden reclinarse casi como una cama y cuenta con mampara de separación y la gran pantalla panorámica de 48 pulgadas. Es el culmen del lujo dentro de los monovolúmenes. También puede elegirse con siete asientos (el central trasero puede convertirse en un apoyabrazos), con un sistema multimedia a través de una pantalla que cuelga del techo. Hay en las plazas traseras botones desde el que controlar muchos parámetros del interior.', 'El Lexus LM llegó a Europa con un único motor híbrido, compartico con los NX y RX 350h. Entrega 250 CV de potencia y 239 Nm par al combinar un motor 2.5 litros de gasolina con dos eléctricos, que se nutren de la energía almacenada bajo la fila de asientos delantera. Uno de los propulsores eléctricos se monta en el eje trasero, por lo que cuenta con tracción total E-Four. No busca tanto capacidades offroad como estabilidad en curvas, pues puede enviar desde el 100% delante al 80% detrás.', 'Se ofrece con un único nivel de equipamiento, muy completo y que trata de jsutificar su precio. Incluye la última generación de los sistemas de seguridad Lexus Safety System + y todas las ayudas a la conducción actuales, como un control de crucero activo, asistencia de cambio de carril o la alerta de tráfico cruzado frontal. La única opción que altera el precio es el número de asientos y configuración interior.', 'Ofertas Lexus LM', '', 'El Mercedes Clase V es el monovolumen grande de la firma alemana y uno de los más lujosos del mercado. En 2024 recibió una puesta al día en la que renovó imagen y ganó un interior más tecnológico que nunca. Puede distinguirse del modelo precedente en detalles como los faros adaptativos, con diseño interno distinto, la firma lumínica\\xa0 o los remozados paragolpes y parrilla, así como los nuevos juegos de llantas de entre 17 y 19 pulgadas y cinco colores para la carrocería.', 'Se ofrece dos tamaños, de 5,14 ó 5,37 metros de longitud, y configuraciones de asientos que van entre seis y ocho plazas. El maletero puede llegar a contar con más de 1.000 litros de capacidad sin restar espacio a los pasajeros. Lo más destacado, la última versión del sistema multimedia MBUX, en la clásica forma de dos pantallas gemelas de 12,3 pulgadas dispuestas en una única pieza horizontal colocada sobre el salpicadero. Conservó el touchpad en la consola central para controlarlo. Estrenó volante multifunción de tres brazos, con controles hápticos.', 'La gama mecánica inicial la formaron motores diésel de 1.7, 2.0 y 2.2 litros con 163, 190 y 239 CV respectivamente. Se anunció también durante la presentación una motorización de gasolina con tecnología EQ Boost de 48 voltios. Todos se acompañan de un cambio automático de 9 velocidades. En las más potentes es opcional el sistema de tracción total 4MATIC. Hay también dos versiones eléctricas, el EQV 250 y el EQV 300, con una batería de 90 kWh con la que puede alcanzar hasta 418 km de autonomía.', 'Ya destacaba en el segmento por su tecnología, pero experimentó un salto notable en asistentes a la conducción. Introdujo de serie sistemas como el control de crucero inteligente, detectores de ángulo muerto o el monitor de fatiga del conductor. En la misma línea, el Active Brake Assist amplió sus posibilidades y evita colisiones en intersecciones con vehículos que se aproximen por el lateral de cuya presencia no te hayas percatado.', 'Ofertas Mercedes Clase V', '', 'El Opel Zafira es el monovolumen grande que en 2024 actualizó al modelo que la marca había lanzado en 2019 con el apellido Life. Pueden distinguirse fácilmente viéndolos de frente, ya que el nuevo modelo estrenó el Opel Vizor, una franja oscura que recorre toda la anchura del vehículo y que iguala la apariencia con otros modelos de la firma. Este elemento une los faros matriciales IntelliLux Led adaptativo.', 'Puede elegirse en dos longitudes diferentes, de 4,98 ó 5,33 metros, con hasta nueve asientos, si bien esa zona trasera puede configurarse con cuatro asientos independientes y con un techo panorámico de cristal. Cuenta con puertas laterales correderas, que pueden contar con accionamiento. En el interior estrenó doble pantalla de 10 pulgadas, una para la instrumentación (opcional) y otra para el sistema de infoentretenimiento y navegación compatible con Apple Carplay y Android Auto. Con nueve plazas en uso anuncia 1.500 litros de capacidad, que alcanzan los 4.900 litros con dos o tres personas a bordo.', 'Además del Opel Zafira Electric, propulsado por un motor eléctrico de 100 kW (136 CV), la marca ofreció en esta puesta al día el motor 2.0 BlueHDI de 180 CV asociado al cambio automático de ocho relaciones que había estado descontinuado al final de la vida útil del anterior modelo.', 'La seguridad es parte vital en el equipamiento Anuncia hasta 18 sistemas de asistencia al conductor de última generación. Desde el control de crucero adaptativo con función stop & go, cámara de visión trasera de alta resolución de 180 grados o el sistema Intelli-Grip con control de descenso de pendientes, que mejora el agarre en nieve, barro o arena. En España su gama inicial se estructuró en dos acabados. El Base es bastante completo para una familia y el GS aporta más diferenciación estética y equipamiento de confort.', 'Ofertas Opel Zafira', None, 'El Peugeot Traveller es un gran monovolumen de hasta nueve plazas. Se actualizó en 2024. Como el modelo precedente, puede elegirse con dos longitudes, ambas con la misma altura de 1,90 metros, la Standard con 4,98 metros de longitud y la Long de 5,33 metros. Los cambios exteriores fueron someros, reduciéndose a un nuevo frontal , con un nuevo logotipo y remozados faros Full LED', 'Destaca por su gran espacio de carga. Con 9 pasajeros todavía existe un maletero de hasta 1.500 litros. Si se reduce el aforo a cinco asientos hay nada menos que 3.000 litros. El habitáculo mejoró, pues de serie cuenta con la instrumentación digital en una pantalla de 10 pulgadas y otra pantalla táctil en el centro del salpicadero del mismo tamaño para el sistema multimedia. Cambió el volante e incluye el control e-Toggle para el selector de marcha.', 'Además del E-Traveller eléctrico de\\xa0100 kW (136 CV) y 260 Nm, la marca rescató la versión de combustión interna de la que el modelo precedente había prescindido al final de su vida comercial. Se trata de un bloque diésel de cuatro cilindros, el 2.0 BlueHDi con\\xa0180 CV\\xa0de potencia, asociado a una caja de cambios automática EAT8 de ocho velocidades.', 'Respecto al modelo saliente, el equipamiento de serie mejoró notablemente. Se incluye el sistema\\xa0Advanced Grip Control\\xa0con control de descenso de pendientes, para mejorar la tracción, asistente de voz OK Peugeot, conectividad inalámbrica con Android Auto y Apple CarPlay, base de recarga por inducción y mejoras en los asistentes a la conducción. La gama española inicial se estructura en base a dos niveles de terminación. La Business busca maximizar el número de personas a bordo y en la Business VIP, segunda y tercera fila están compuestas por cuatro asientos independientes enfrentados.', 'Ofertas Peugeot Traveller', '', 'El Toyota Proace Verso es una furgoneta de la marca destinada al transporte de pasajeros y familias. Lanzada originalmente en 2016, fruto de la colaboración de la marca con Stellantis, recibió una puesta al día en 2024 junto a la variante comercial.', 'Disponible en dos longitudes, Media y Larga, tiene un aspecto más refinado y sofisticado que el modelo anterior, sobre todo en el frontal donde tomó rasgos de turismos de la marca. En el interior renovó volante y tras él una instrumentación digital, así como un sistema de infoentretenimiento con una pantalla de 10 pulgadas que mejora la anterior. Hay una doble banqueta de tres plazas en la segunda fila de asientos y una tercera similar, si bien puede elegirse en el acabado superior con una configuración 2+2+3, con mesa auxiliar en la segunda fila, sistema de audio premium y tapicería de piel.', 'Además de la versión eléctrica de 136 CV, Toyota mantiene dos versiones de combustión, con motores\\xa02.0D de 145 CV y 2.0D de 180 CV (esta última ligada a la transmisión automática de ocho velocidades, la sencilla al cambio manual de seis velocidades). Puede contar con el Toyota Traction Select que mejora el agarre en diferentes superficies.', 'El equipamiento sobresale, con una amplia variedad de configuraciones y elementos como los faros LED, techo panorámico yo el sistema Toyota Safety Sense que engloba diferentes ayudas a la conducción.', 'Ofertas Toyota Proace Verso', None, 'La Volkswagen California que comenzó a venderse en 2020 es la variante de la Volkswagen Transporter 6.1 pensada para viajar.. y hacer vida en ella. Tiene un precio superior al de la mayoría de sus alternativas, si bien los acabados interiores también están por encima de la media. Respecto al modelo que sustituyó ganó sobre todo tecnología, seguridad y soluciones prácticas.', 'Los cambios exteriores fueron comunes al resto de la gama, con una parrilla de mayores dimensiones,\\xa0 ópticas LED y un nuevo paragolpes. Es posible contar con una carrocería bicolor y una oferta de llantas con las que personalizar la estética.', 'En el interior cambió el salpicadero, que puede contar con una instrumentación digital con pantalla de 10,25 pulgadas. También se ofrecen acabados de madera, equipo de infoentretenimiento de hasta 9,2 pulgadas, o el panel de control cenital con pantalla para controlar la iluminación interior o la apertura de la cama superior. Ganó también botones de pulsador para abrir los armarios de la cocina, la nevera o el fregadero, armarios (con puerta corredera los traseros), más puertos USB y comodidades para dormir\\xa0 para recargar dispositivos electrónicos.', 'En el apartado mecánico, puede elegirse entre el 2.0 TDI de 150 CV y 204 CV, con opción de contar con la caja de cambios automática DSG de siete relaciones e incluso tracción total para los más aventureros (ver prueba). Estrenó dirección electromecánica, con lo que se ofertan sistemas de asistencia a la conducción como asistente de centrado en el carril, asistente de viento lateral o asistente automático de aparcamiento. La gama se estructuró en los acabados Beach y Ocean (este realmente completo).', 'Ofertas Volkswagen California', None, 'La Volkswagen Caravelle es la variante para llevar pasajeros de la Transporter, una opción más que aconsejable si se busca un monovolumen grande. Al igual que el modelo del que derivó, la Transporter 6.1, en 2020 recibió una actualización, pero en lo básico es un vehículo muy similar a la Caravelle 2015. Además de los detalles estéticos exteriores que cambiaron, similares a los estrenados en la Multivan 2020, hubo mejoras en el interior, con mejores materiales y acabados –que ya eran buenos–.', 'Está disponible en dos longitudes, la corta de 4,90 metros y la de batalla larga, con 5,30. Ambas ofrecen hasta 9 plazas, si bien el espacio de carga es mayor en la segunda, pues alcanza los 6,7metros cúbicos (por 5,8 del primero).', 'Para moverse se apuesta por el 2.0 TDI con 110 CV (antes 102) y el 2.0 TDI de 150 CV. El cambio es manual o automático de doble embrague y la tracción se envía a las ruedas delanteras, si bien el más potente pueden tener tracción total 4Motion.', 'En la puesta al día aumentó mucho la dotación de serie del acabado Origin. Ahora contamos con elevalunas eléctricos, cierre centralizado, mejores ópticas, espejos retrovisores exteriores eléctricos y calefactables, radio Composition Audio, dispositivo manos libres Bluetooth... En el acabado superior, que la marca denomina Premium, hay detalles poco habituales en vehículos comerciales, como el cuadro de instrumentos digital Volkswagen Digital Cockpit, la pantalla táctil de 8 pulgadas con navegador, conectividad con el móvil más completa o servicios digitales.', 'Ofertas Volkswagen Caravelle', None, 'En 2022 llegó al mercado la séptima iteración del la Volkswagen Multivan (Multivan T7), basada en la plataforma MQB del Grupo que emplean muchos turismos. Su predecesora aún se basaba en la plataforma estrenada en 2003 para vehículos comerciales. La popular furgoneta rutera es más ligera y rígida, y llegó al mercado con trenes motrices tradicionales y una versión híbrida enchufable (PHEV), e incluso dos longitudes de carrocería (4.973 mm o 5.173 mm).', 'A bordo, la tecnología puede llegar a dominar la cabina, con dos generosas pantallas presidiendo el salpicadero: una de 10 pulgadas en el cuadro de instrumentos y otra de 10,25 para el sistema multimedia. Con esta última se maneja también el sistema de climatización, ya que no hay diales físicos. Por lo demás, la Multivan T7 ofrece la misma versatilidad de siempre, con espacio para alojar hasta siete pasajeros y multitud de huecos portaobjetos. Asimismo, la capacidad de carga oscila entre los 380 y 4.005 litros.', 'Nueva generación y nuevas mecánicas. Mantuvo el 2.0 TDI de 150 CV para para quienes prefieran el diése y también se ofrecen bien un 1.5 TSI de 136 CV, o un 2.0 TSI de 204 CV. Todos los motores se asocian a una caja de cambios automática de doble embrague (DSG) de siete relaciones que entrega la energía al eje delantero. La vertiente híbrida enchufable (eHybrid) combina un propulsor de gasolina 1.4 TSI de 150 CV con uno eléctrico de 85 KW para erogar un total de 218 CV.', 'A nivel de equipamiento, la Volkswagen Multivan T7 puede equipar Head-Up Display, un cuadro de instrumentos digital (analógico en las versiones de acceso), doble techo panorámico, asientos calefactables con regulación eléctrica o un equipo de sonido Harman Kardon de y 14 altavoces y 840 W. También disfruta de servicios conectados y el sistema Car2X, que perite a la Multivan comunicarse con otros coches equipados este protocolo. Y en cuanto a ayudas a la conducción, Volkswagen cita hasta 34 disponibles.', 'Ofertas Volkswagen Multivan', None]\n",
      "165\n",
      "165\n",
      "165\n"
     ]
    }
   ],
   "source": [
    "# Lista de coches (extraigo e inserto a la lista del DF)\n",
    "lista_coches_url_13 = lista_coches(url_13, 'h2', None)\n",
    "del lista_coches_url_13 [:2] # Borro entradas que no me interesan\n",
    "del lista_coches_url_13 [-3:]\n",
    "lista_coches_DF.extend(lista_coches_url_13)\n",
    "print(len(lista_coches_DF)) \n",
    "\n",
    "# Lista Valoraciones (no tiene esta web)\n",
    "lista_valoraciones_url_13 = crear_lista_none(13)\n",
    "lista_valoraciones_DF.extend(lista_valoraciones_url_13)\n",
    "print(len(lista_valoraciones_DF))\n",
    "\n",
    "# Lista a favor (no tiene esta web)\n",
    "lista_a_favor_url_13 = crear_lista_none(13)\n",
    "lista_a_favor_DF.extend(lista_a_favor_url_13)\n",
    "print(len(lista_a_favor_DF))\n",
    "\n",
    "# Lista a favor (no tiene esta web)\n",
    "lista_en_contra_url_13 = crear_lista_none(13)\n",
    "lista_en_contra_DF.extend(lista_en_contra_url_13)\n",
    "print(len(lista_en_contra_DF))\n",
    "\n",
    "# Opiniones (extraigo datos y agrego a la lista del DF)\n",
    "lista_opiniones_url_13 = opiniones(url_13, 'p', None)\n",
    "del lista_opiniones_url_13 [:13]\n",
    "del lista_opiniones_url_13 [-7:]\n",
    "introducir_nulos(lista_opiniones_url_13, (47,59,65,71,77))\n",
    "lista_opiniones_url_13_agrupada =[lista_opiniones_url_13[i:i+6] for i in range(0, len(lista_opiniones_url_13), 6)]\n",
    "lista_opinion_DF.extend(lista_opiniones_url_13_agrupada)\n",
    "print(len(lista_opinion_DF))\n",
    "\n",
    "# Precios (no vienen precios)\n",
    "lista_precios_url_13 = crear_lista_none(13)\n",
    "lista_precios_DF.extend(lista_precios_url_13)\n",
    "print(len(lista_precios_DF))\n",
    "\n",
    "# Características (no vienen precios)\n",
    "lista_caracteristicas_url_13 = crear_lista_none(13)\n",
    "lista_caracteristicas_DF.extend(lista_caracteristicas_url_13)\n",
    "print(len(lista_caracteristicas_DF))"
   ]
  },
  {
   "cell_type": "code",
   "execution_count": 176,
   "metadata": {},
   "outputs": [
    {
     "name": "stdout",
     "output_type": "stream",
     "text": [
      "200 OK\n"
     ]
    }
   ],
   "source": [
    "# Url 14 (no tiene mucha informacion pero me interesan los nombres y las caracteristicas)\n",
    "url_14 = 'https://carnovo.com/es/guias/mejores-furgonetas/'\n",
    "accesibilidad(url_14)"
   ]
  },
  {
   "cell_type": "code",
   "execution_count": 177,
   "metadata": {},
   "outputs": [
    {
     "name": "stdout",
     "output_type": "stream",
     "text": [
      "172\n",
      "172\n",
      "172\n",
      "172\n",
      "172\n",
      "172\n",
      "172\n"
     ]
    }
   ],
   "source": [
    "# Lista de coches\n",
    "lista_coches_url_14 = lista_coches(url_14, 'h3', None)\n",
    "del lista_coches_url_14[6]\n",
    "del lista_coches_url_14[-2:]\n",
    "lista_coches_DF.extend(lista_coches_url_14)\n",
    "print(len(lista_coches_DF))\n",
    "\n",
    "# Lista Valoraciones (no tiene esta web)\n",
    "lista_valoraciones_url_14 = crear_lista_none(7)\n",
    "lista_valoraciones_DF.extend(lista_valoraciones_url_14)\n",
    "print(len(lista_valoraciones_DF))\n",
    "\n",
    "# Lista a favor (no tiene esta web)\n",
    "lista_a_favor_url_14 = crear_lista_none(7)\n",
    "lista_a_favor_DF.extend(lista_a_favor_url_14)\n",
    "print(len(lista_a_favor_DF))\n",
    "\n",
    "# Lista a favor (no tiene esta web)\n",
    "lista_en_contra_url_14 = crear_lista_none(7)\n",
    "lista_en_contra_DF.extend(lista_en_contra_url_14)\n",
    "print(len(lista_en_contra_DF))\n",
    "\n",
    "# Opiniones (extraigo datos y agrego a la lista del DF)\n",
    "lista_opiniones_url_14 = crear_lista_none(7)\n",
    "lista_opinion_DF.extend(lista_opiniones_url_14)\n",
    "print(len(lista_opinion_DF))\n",
    "\n",
    "# Precios (no vienen precios)\n",
    "lista_precios_url_14 = crear_lista_none(7)\n",
    "lista_precios_DF.extend(lista_precios_url_14)\n",
    "print(len(lista_precios_DF))\n",
    "\n",
    "# Características (no vienen precios)\n",
    "lista_caracteristicas_url_14 = opiniones(url_14, 'p', None)\n",
    "lista_caracteristicas_url_14_corregida = []\n",
    "lista_caracteristicas_url_14_corregida.append(agregar_un_parrafo(lista_caracteristicas_url_14, 2))\n",
    "lista_caracteristicas_url_14_corregida.append(agregar_un_parrafo(lista_caracteristicas_url_14, 4))\n",
    "lista_caracteristicas_url_14_corregida.append(agregar_un_parrafo(lista_caracteristicas_url_14, 6))\n",
    "lista_caracteristicas_url_14_corregida.append(agregar_un_parrafo(lista_caracteristicas_url_14, 8))\n",
    "lista_caracteristicas_url_14_corregida.append(agregar_un_parrafo(lista_caracteristicas_url_14, 10))\n",
    "lista_caracteristicas_url_14_corregida.append(agregar_un_parrafo(lista_caracteristicas_url_14, 12))\n",
    "lista_caracteristicas_url_14_corregida.append(agregar_un_parrafo(lista_caracteristicas_url_14, 14))\n",
    "lista_caracteristicas_DF.extend(lista_caracteristicas_url_14_corregida)\n",
    "print(len(lista_caracteristicas_DF))"
   ]
  },
  {
   "cell_type": "code",
   "execution_count": 178,
   "metadata": {},
   "outputs": [
    {
     "data": {
      "text/html": [
       "<div>\n",
       "<style scoped>\n",
       "    .dataframe tbody tr th:only-of-type {\n",
       "        vertical-align: middle;\n",
       "    }\n",
       "\n",
       "    .dataframe tbody tr th {\n",
       "        vertical-align: top;\n",
       "    }\n",
       "\n",
       "    .dataframe thead th {\n",
       "        text-align: right;\n",
       "    }\n",
       "</style>\n",
       "<table border=\"1\" class=\"dataframe\">\n",
       "  <thead>\n",
       "    <tr style=\"text-align: right;\">\n",
       "      <th></th>\n",
       "      <th>Nombre</th>\n",
       "      <th>Valoraciones</th>\n",
       "      <th>A favor</th>\n",
       "      <th>En contra</th>\n",
       "      <th>Opiniones</th>\n",
       "      <th>Precio</th>\n",
       "      <th>Características</th>\n",
       "    </tr>\n",
       "  </thead>\n",
       "  <tbody>\n",
       "    <tr>\n",
       "      <th>0</th>\n",
       "      <td>1. Mazda CX-80</td>\n",
       "      <td>9/10</td>\n",
       "      <td>[Excelente eficiencia tanto en el PHEV como en...</td>\n",
       "      <td>[La suspensión puede sentirse algo seca en cie...</td>\n",
       "      <td>El CX-80 usa la misma plataforma y motores que...</td>\n",
       "      <td>Desde 54.668 €</td>\n",
       "      <td>None</td>\n",
       "    </tr>\n",
       "    <tr>\n",
       "      <th>1</th>\n",
       "      <td>2. Renault Espace</td>\n",
       "      <td>9/10</td>\n",
       "      <td>[Consumo, Equipamiento disponible, Opción de s...</td>\n",
       "      <td>[Funcionamiento poco refinado en ocasiones, Ga...</td>\n",
       "      <td>El nuevo Renault Espace es ahora un SUV con un...</td>\n",
       "      <td>Desde 38.280 €</td>\n",
       "      <td>None</td>\n",
       "    </tr>\n",
       "    <tr>\n",
       "      <th>2</th>\n",
       "      <td>3. Hyundai Santa Fe</td>\n",
       "      <td>8/10</td>\n",
       "      <td>[Equipamiento y tecnología propios de coches d...</td>\n",
       "      <td>[Precio elevado, Escasa autonomía eléctrica de...</td>\n",
       "      <td>El Santa Fe dispone de motorizaciones híbrida ...</td>\n",
       "      <td>Desde 51.478 €</td>\n",
       "      <td>None</td>\n",
       "    </tr>\n",
       "    <tr>\n",
       "      <th>3</th>\n",
       "      <td>4. Skoda Kodiaq</td>\n",
       "      <td>8/10</td>\n",
       "      <td>[Practicidad y espacio disponible, Oferta mecá...</td>\n",
       "      <td>[Ergonomía de algunos mandos, Plazas de la ter...</td>\n",
       "      <td>El Skoda Kodiaq es mucho más barato que el Q7,...</td>\n",
       "      <td>Desde 40.001 €</td>\n",
       "      <td>None</td>\n",
       "    </tr>\n",
       "    <tr>\n",
       "      <th>4</th>\n",
       "      <td>5. Peugeot 5008</td>\n",
       "      <td>8/10</td>\n",
       "      <td>[Amplio interior con 7 plazas de serie, Comodi...</td>\n",
       "      <td>[La calidad del sistema multimedia podría mejo...</td>\n",
       "      <td>El Peugeot 5008 es un coche muy redondo y cohe...</td>\n",
       "      <td>Desde 34.885 €</td>\n",
       "      <td>None</td>\n",
       "    </tr>\n",
       "    <tr>\n",
       "      <th>...</th>\n",
       "      <td>...</td>\n",
       "      <td>...</td>\n",
       "      <td>...</td>\n",
       "      <td>...</td>\n",
       "      <td>...</td>\n",
       "      <td>...</td>\n",
       "      <td>...</td>\n",
       "    </tr>\n",
       "    <tr>\n",
       "      <th>167</th>\n",
       "      <td>Opel Combo e-life</td>\n",
       "      <td>None</td>\n",
       "      <td>None</td>\n",
       "      <td>None</td>\n",
       "      <td>None</td>\n",
       "      <td>None</td>\n",
       "      <td>[Disponible en dos tallas: Talla L y Talla XL,...</td>\n",
       "    </tr>\n",
       "    <tr>\n",
       "      <th>168</th>\n",
       "      <td>Mercedes Clase T</td>\n",
       "      <td>None</td>\n",
       "      <td>None</td>\n",
       "      <td>None</td>\n",
       "      <td>None</td>\n",
       "      <td>None</td>\n",
       "      <td>[El Mercedes Clase T es un monovolumen compact...</td>\n",
       "    </tr>\n",
       "    <tr>\n",
       "      <th>169</th>\n",
       "      <td>Nissan Townstar</td>\n",
       "      <td>None</td>\n",
       "      <td>None</td>\n",
       "      <td>None</td>\n",
       "      <td>None</td>\n",
       "      <td>None</td>\n",
       "      <td>[El Nissan Townstar es una furgoneta ligera qu...</td>\n",
       "    </tr>\n",
       "    <tr>\n",
       "      <th>170</th>\n",
       "      <td>Peugeot e-rifter</td>\n",
       "      <td>None</td>\n",
       "      <td>None</td>\n",
       "      <td>None</td>\n",
       "      <td>None</td>\n",
       "      <td>None</td>\n",
       "      <td>[Disponible con los acabados Active Pack, Allu...</td>\n",
       "    </tr>\n",
       "    <tr>\n",
       "      <th>171</th>\n",
       "      <td>Renault Kangoo Combi E-Tech</td>\n",
       "      <td>None</td>\n",
       "      <td>None</td>\n",
       "      <td>None</td>\n",
       "      <td>None</td>\n",
       "      <td>None</td>\n",
       "      <td>[El Renault Kangoo Combi E-Tech es una furgone...</td>\n",
       "    </tr>\n",
       "  </tbody>\n",
       "</table>\n",
       "<p>172 rows × 7 columns</p>\n",
       "</div>"
      ],
      "text/plain": [
       "                          Nombre Valoraciones  \\\n",
       "0                 1. Mazda CX-80         9/10   \n",
       "1              2. Renault Espace         9/10   \n",
       "2            3. Hyundai Santa Fe         8/10   \n",
       "3                4. Skoda Kodiaq         8/10   \n",
       "4                5. Peugeot 5008         8/10   \n",
       "..                           ...          ...   \n",
       "167            Opel Combo e-life         None   \n",
       "168             Mercedes Clase T         None   \n",
       "169              Nissan Townstar         None   \n",
       "170             Peugeot e-rifter         None   \n",
       "171  Renault Kangoo Combi E-Tech         None   \n",
       "\n",
       "                                               A favor  \\\n",
       "0    [Excelente eficiencia tanto en el PHEV como en...   \n",
       "1    [Consumo, Equipamiento disponible, Opción de s...   \n",
       "2    [Equipamiento y tecnología propios de coches d...   \n",
       "3    [Practicidad y espacio disponible, Oferta mecá...   \n",
       "4    [Amplio interior con 7 plazas de serie, Comodi...   \n",
       "..                                                 ...   \n",
       "167                                               None   \n",
       "168                                               None   \n",
       "169                                               None   \n",
       "170                                               None   \n",
       "171                                               None   \n",
       "\n",
       "                                             En contra  \\\n",
       "0    [La suspensión puede sentirse algo seca en cie...   \n",
       "1    [Funcionamiento poco refinado en ocasiones, Ga...   \n",
       "2    [Precio elevado, Escasa autonomía eléctrica de...   \n",
       "3    [Ergonomía de algunos mandos, Plazas de la ter...   \n",
       "4    [La calidad del sistema multimedia podría mejo...   \n",
       "..                                                 ...   \n",
       "167                                               None   \n",
       "168                                               None   \n",
       "169                                               None   \n",
       "170                                               None   \n",
       "171                                               None   \n",
       "\n",
       "                                             Opiniones          Precio  \\\n",
       "0    El CX-80 usa la misma plataforma y motores que...  Desde 54.668 €   \n",
       "1    El nuevo Renault Espace es ahora un SUV con un...  Desde 38.280 €   \n",
       "2    El Santa Fe dispone de motorizaciones híbrida ...  Desde 51.478 €   \n",
       "3    El Skoda Kodiaq es mucho más barato que el Q7,...  Desde 40.001 €   \n",
       "4    El Peugeot 5008 es un coche muy redondo y cohe...  Desde 34.885 €   \n",
       "..                                                 ...             ...   \n",
       "167                                               None            None   \n",
       "168                                               None            None   \n",
       "169                                               None            None   \n",
       "170                                               None            None   \n",
       "171                                               None            None   \n",
       "\n",
       "                                       Características  \n",
       "0                                                 None  \n",
       "1                                                 None  \n",
       "2                                                 None  \n",
       "3                                                 None  \n",
       "4                                                 None  \n",
       "..                                                 ...  \n",
       "167  [Disponible en dos tallas: Talla L y Talla XL,...  \n",
       "168  [El Mercedes Clase T es un monovolumen compact...  \n",
       "169  [El Nissan Townstar es una furgoneta ligera qu...  \n",
       "170  [Disponible con los acabados Active Pack, Allu...  \n",
       "171  [El Renault Kangoo Combi E-Tech es una furgone...  \n",
       "\n",
       "[172 rows x 7 columns]"
      ]
     },
     "execution_count": 178,
     "metadata": {},
     "output_type": "execute_result"
    }
   ],
   "source": [
    "df_extraccion = pd.DataFrame.from_dict(diccionario_coches)\n",
    "df_extraccion"
   ]
  },
  {
   "cell_type": "code",
   "execution_count": 179,
   "metadata": {},
   "outputs": [],
   "source": [
    "# Lo guardo e formato csv para poder trabajar con él en otro notebbok\n",
    "df_extraccion.to_csv('DF_extraccion.csv', index=False)"
   ]
  },
  {
   "cell_type": "code",
   "execution_count": 180,
   "metadata": {},
   "outputs": [
    {
     "data": {
      "text/plain": [
       "['https://www.carwow.es/suvs/7-plazas?utm_source=google&utm_medium=cpc&utm_account=1067952725&utm_campaign=16616870776&utm_group=140354601048&utm_keyword=&device=c&campaignid=16616870776&adgroupid=140354601048&gad_source=1&gbraid=0AAAAADkNbBUPhyVGM4sZxbLeGiQKHZ1nw&gclid=CjwKCAjwq7fABhB2EiwAwk-YbDwojWaxN2WG0_cnvz9JYpB20AtA5WJy8TP3udES_xm-XQdCLAp3QRoCxhMQAvD_BwE',\n",
       " 'https://www.autohero.com/es/consejos/elegir/mejor-coche/suv-7-plazas/',\n",
       " 'http://quecochemecompro.com/blog/comparativa-suv-7-plazas-guia-de-compra/',\n",
       " 'https://www.diariomotor.com/guias-compra/mejores-suv-7-plazas/',\n",
       " 'https://www.quecochemecompro.com/blog/coches-de-7-plazas-todos-los-modelos/',\n",
       " 'https://www.autohero.com/es/consejos/elegir/mejor-coche/monovolumen-7-plazas/',\n",
       " 'https://www.carwow.es/furgonetas/familiar#gref',\n",
       " 'https://rentingcoches.com/mejores-coches-7-plazas',\n",
       " 'https://rentingcoches.com/mejores-coches-hibridos/7-plazas',\n",
       " 'https://rentingcoches.com/mejores-coches-electricos/7-plazas',\n",
       " 'https://www.carwow.es/coches-7-plazas#gref',\n",
       " 'https://www.diariomotor.com/guias-compra/coches-7-plazas-mas-baratos/',\n",
       " 'https://www.coches.com/noticias/informes/guia-de-compra-monovolumenes-grandes/119443',\n",
       " 'https://carnovo.com/es/guias/mejores-furgonetas/']"
      ]
     },
     "execution_count": 180,
     "metadata": {},
     "output_type": "execute_result"
    }
   ],
   "source": [
    "lista_urls = [] # Convertirlo a diccionario\n",
    "lista_urls.append(url_1)\n",
    "lista_urls.append(url_2)\n",
    "lista_urls.append(url_3)\n",
    "lista_urls.append(url_4)\n",
    "lista_urls.append(url_5)\n",
    "lista_urls.append(url_6)\n",
    "lista_urls.append(url_7)\n",
    "lista_urls.append(url_8)\n",
    "lista_urls.append(url_9)\n",
    "lista_urls.append(url_10)\n",
    "lista_urls.append(url_11)\n",
    "lista_urls.append(url_12)\n",
    "lista_urls.append(url_13)\n",
    "lista_urls.append(url_14)\n",
    "lista_urls\n",
    "\n"
   ]
  }
 ],
 "metadata": {
  "kernelspec": {
   "display_name": "Python 3 (ipykernel)",
   "language": "python",
   "name": "python3"
  },
  "language_info": {
   "codemirror_mode": {
    "name": "ipython",
    "version": 3
   },
   "file_extension": ".py",
   "mimetype": "text/x-python",
   "name": "python",
   "nbconvert_exporter": "python",
   "pygments_lexer": "ipython3",
   "version": "3.12.2"
  }
 },
 "nbformat": 4,
 "nbformat_minor": 2
}
